{
 "cells": [
  {
   "cell_type": "code",
   "execution_count": 6,
   "metadata": {},
   "outputs": [],
   "source": [
    "import sys  \n",
    "import os\n",
    "import pandas as pd\n",
    "import io\n",
    "sys.path.insert(0, '../../../../scripts/')\n",
    "sys.path.insert(0, '../../../../dataset/')\n",
    "import ngrams_scikitlearn\n",
    "from sklearn.model_selection import train_test_split\n",
    "from sklearn.metrics import accuracy_score\n",
    "from sklearn.metrics import classification_report\n",
    "from sklearn.metrics import f1_score\n",
    "from sklearn.linear_model import LogisticRegression"
   ]
  },
  {
   "cell_type": "code",
   "execution_count": 7,
   "metadata": {},
   "outputs": [],
   "source": [
    "dataframe = pd.read_csv('../../../../dataset/HateBR.csv')\n",
    "instagram_comments =  dataframe['instagram_comments']\n",
    "y = dataframe['offensive_language']"
   ]
  },
  {
   "cell_type": "code",
   "execution_count": 8,
   "metadata": {},
   "outputs": [],
   "source": [
    "x = ngrams_scikitlearn.get_vector(instagram_comments)"
   ]
  },
  {
   "cell_type": "code",
   "execution_count": 9,
   "metadata": {},
   "outputs": [],
   "source": [
    "x_train, x_test, y_train, y_test = train_test_split(x, y, train_size=0.8, test_size=0.1)"
   ]
  },
  {
   "cell_type": "code",
   "execution_count": 10,
   "metadata": {},
   "outputs": [
    {
     "name": "stdout",
     "output_type": "stream",
     "text": [
      "F1 score 1: 0.8424242424242423\n",
      "F1 score 0: 0.8594594594594595\n",
      "F1 score todos: 0.8509418509418509\n"
     ]
    }
   ],
   "source": [
    "model = LogisticRegression(max_iter=300).fit(x_train, y_train)\n",
    "model.predict_proba(x_test.toarray())\n",
    "y_pred = model.predict(x_test.toarray())\n",
    "print('F1 score 1:', f1_score(y_test, y_pred, labels=[0,1], pos_label=1))\n",
    "print('F1 score 0:', f1_score(y_test, y_pred, labels=[0,1], pos_label=0))\n",
    "print('F1 score todos:', f1_score(y_test, y_pred, labels=[0,1], average='macro'))"
   ]
  },
  {
   "cell_type": "code",
   "execution_count": null,
   "metadata": {},
   "outputs": [],
   "source": [
    "import joblib\n",
    "\n",
    "model_filename = '../../../models/generated-models-base-paper/lr_tfidf_model.pkl'\n",
    "joblib.dump(model, model_filename)"
   ]
  }
 ],
 "metadata": {
  "kernelspec": {
   "display_name": "Python 3 (ipykernel)",
   "language": "python",
   "name": "python3"
  },
  "language_info": {
   "codemirror_mode": {
    "name": "ipython",
    "version": 3
   },
   "file_extension": ".py",
   "mimetype": "text/x-python",
   "name": "python",
   "nbconvert_exporter": "python",
   "pygments_lexer": "ipython3",
   "version": "3.10.4"
  },
  "orig_nbformat": 4
 },
 "nbformat": 4,
 "nbformat_minor": 2
}
