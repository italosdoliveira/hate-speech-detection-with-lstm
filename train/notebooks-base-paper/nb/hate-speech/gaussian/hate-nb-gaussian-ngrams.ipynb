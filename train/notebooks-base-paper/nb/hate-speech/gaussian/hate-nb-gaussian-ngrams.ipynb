{
 "cells": [
  {
   "cell_type": "code",
   "execution_count": 1,
   "metadata": {},
   "outputs": [],
   "source": [
    "import sys  \n",
    "import os\n",
    "import pandas as pd\n",
    "import io\n",
    "sys.path.insert(0, '../../../../../scripts/')\n",
    "sys.path.insert(0, '../../../../../dataset/')\n",
    "import ngrams_scikitlearn\n",
    "import hate_column_converter\n",
    "from sklearn.model_selection import train_test_split\n",
    "from sklearn.metrics import accuracy_score\n",
    "from sklearn.metrics import classification_report\n",
    "from sklearn.metrics import f1_score\n",
    "from sklearn.metrics import precision_score\n",
    "from sklearn.naive_bayes import GaussianNB\n",
    "from imblearn.under_sampling import RandomUnderSampler"
   ]
  },
  {
   "cell_type": "code",
   "execution_count": 2,
   "metadata": {},
   "outputs": [
    {
     "name": "stderr",
     "output_type": "stream",
     "text": [
      "/workspaces/hate-speech-detection-python/train/notebooks-base-paper/nb/hate-speech/gaussian/../../../../../scripts/hate_column_converter.py:8: SettingWithCopyWarning: \n",
      "A value is trying to be set on a copy of a slice from a DataFrame.\n",
      "Try using .loc[row_indexer,col_indexer] = value instead\n",
      "\n",
      "See the caveats in the documentation: https://pandas.pydata.org/pandas-docs/stable/user_guide/indexing.html#returning-a-view-versus-a-copy\n",
      "  lines_with_two_numbers_in_hate_speech[['col1', 'col2']] = lines_with_two_numbers_in_hate_speech['hate_speech'].str.split(',', expand=True)\n",
      "/workspaces/hate-speech-detection-python/train/notebooks-base-paper/nb/hate-speech/gaussian/../../../../../scripts/hate_column_converter.py:8: SettingWithCopyWarning: \n",
      "A value is trying to be set on a copy of a slice from a DataFrame.\n",
      "Try using .loc[row_indexer,col_indexer] = value instead\n",
      "\n",
      "See the caveats in the documentation: https://pandas.pydata.org/pandas-docs/stable/user_guide/indexing.html#returning-a-view-versus-a-copy\n",
      "  lines_with_two_numbers_in_hate_speech[['col1', 'col2']] = lines_with_two_numbers_in_hate_speech['hate_speech'].str.split(',', expand=True)\n"
     ]
    }
   ],
   "source": [
    "dataframe = pd.read_csv('../../../../../dataset/HateBR.csv')\n",
    "new_dataframe = hate_column_converter.convert_to_binary(dataframe)\n",
    "instagram_comments = new_dataframe['instagram_comments']\n",
    "y = new_dataframe['hate_speech']\n",
    "ndf = new_dataframe[new_dataframe['hate_speech'] > 0]"
   ]
  },
  {
   "cell_type": "code",
   "execution_count": 3,
   "metadata": {},
   "outputs": [],
   "source": [
    "X = ngrams_scikitlearn.get_vector(instagram_comments)\n",
    "\n",
    "undersample = RandomUnderSampler(sampling_strategy='majority')\n",
    "x_over, y_over = undersample.fit_resample(X, y)"
   ]
  },
  {
   "cell_type": "code",
   "execution_count": 4,
   "metadata": {},
   "outputs": [],
   "source": [
    "x_train, x_test, y_train, y_test = train_test_split(x_over, y_over, train_size=0.8, test_size=0.1)"
   ]
  },
  {
   "cell_type": "code",
   "execution_count": 5,
   "metadata": {},
   "outputs": [
    {
     "name": "stdout",
     "output_type": "stream",
     "text": [
      "F1 score 1: 0.6993006993006994\n",
      "F1 score 0: 0.7114093959731544\n",
      "F1 score todos: 0.7053550476369269\n"
     ]
    }
   ],
   "source": [
    "mnb = GaussianNB()\n",
    "model = mnb.fit(x_train.toarray(), y_train)\n",
    "y_pred = model.predict(x_test.toarray())\n",
    "\n",
    "print('F1 score 1:', f1_score(y_test, y_pred, labels=[0,1], pos_label=1))\n",
    "print('F1 score 0:', f1_score(y_test, y_pred, labels=[0,1], pos_label=0))\n",
    "print('F1 score todos:', f1_score(y_test, y_pred, labels=[0,1], average='macro'))"
   ]
  },
  {
   "cell_type": "code",
   "execution_count": 7,
   "metadata": {},
   "outputs": [
    {
     "data": {
      "text/plain": [
       "['../../../../../models/generated-models-base-paper/offensive_nb_gaussian_tfidf.pkl']"
      ]
     },
     "execution_count": 7,
     "metadata": {},
     "output_type": "execute_result"
    }
   ],
   "source": [
    "import joblib\n",
    "\n",
    "model_filename = '../../../../../models/generated-models-base-paper/offensive_nb_gaussian_tfidf.pkl'\n",
    "joblib.dump(model, model_filename)"
   ]
  }
 ],
 "metadata": {
  "kernelspec": {
   "display_name": "Python 3 (ipykernel)",
   "language": "python",
   "name": "python3"
  },
  "orig_nbformat": 4
 },
 "nbformat": 4,
 "nbformat_minor": 2
}
