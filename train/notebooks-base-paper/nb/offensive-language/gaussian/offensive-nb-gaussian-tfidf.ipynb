{
 "cells": [
  {
   "cell_type": "code",
   "execution_count": 1,
   "metadata": {},
   "outputs": [],
   "source": [
    "import sys  \n",
    "import os\n",
    "import pandas as pd\n",
    "import io\n",
    "sys.path.insert(0, '../../../../../scripts/')\n",
    "sys.path.insert(0, '../../../../../dataset/')\n",
    "import tfidf_scikitlearn\n",
    "from sklearn.model_selection import train_test_split\n",
    "from sklearn.metrics import accuracy_score\n",
    "from sklearn.metrics import classification_report\n",
    "from sklearn.metrics import f1_score\n",
    "from sklearn.metrics import precision_score\n",
    "from sklearn.naive_bayes import GaussianNB"
   ]
  },
  {
   "cell_type": "code",
   "execution_count": 2,
   "metadata": {},
   "outputs": [],
   "source": [
    "dataframe = pd.read_csv('../../../../../dataset/HateBR.csv')\n",
    "instagram_comments =  dataframe['instagram_comments']\n",
    "y = dataframe['offensive_language']"
   ]
  },
  {
   "cell_type": "code",
   "execution_count": 3,
   "metadata": {},
   "outputs": [],
   "source": [
    "x = tfidf_scikitlearn.get_vector(instagram_comments)"
   ]
  },
  {
   "cell_type": "code",
   "execution_count": 4,
   "metadata": {},
   "outputs": [],
   "source": [
    "x_train, x_test, y_train, y_test = train_test_split(x, y, train_size=0.8, test_size=0.1)"
   ]
  },
  {
   "cell_type": "code",
   "execution_count": 5,
   "metadata": {},
   "outputs": [
    {
     "name": "stdout",
     "output_type": "stream",
     "text": [
      "F1 score 1: 0.7712\n",
      "F1 score 0: 0.8154838709677419\n",
      "F1 score todos: 0.7933419354838709\n"
     ]
    }
   ],
   "source": [
    "mnb = GaussianNB()\n",
    "model = mnb.fit(x_train.toarray(), y_train)\n",
    "y_pred = model.predict(x_test.toarray())\n",
    "\n",
    "print('F1 score 1:', f1_score(y_test, y_pred, labels=[0,1], pos_label=1))\n",
    "print('F1 score 0:', f1_score(y_test, y_pred, labels=[0,1], pos_label=0))\n",
    "print('F1 score todos:', f1_score(y_test, y_pred, labels=[0,1], average='macro'))"
   ]
  },
  {
   "cell_type": "code",
   "execution_count": 7,
   "metadata": {},
   "outputs": [
    {
     "data": {
      "text/plain": [
       "['../../../../../models/generated-models-base-paper/offensive_nb_gaussian_tfidf.pkl']"
      ]
     },
     "execution_count": 7,
     "metadata": {},
     "output_type": "execute_result"
    }
   ],
   "source": [
    "import joblib\n",
    "\n",
    "model_filename = '../../../../../models/generated-models-base-paper/offensive_nb_gaussian_tfidf.pkl'\n",
    "joblib.dump(model, model_filename)"
   ]
  }
 ],
 "metadata": {
  "kernelspec": {
   "display_name": "Python 3 (ipykernel)",
   "language": "python",
   "name": "python3"
  },
  "orig_nbformat": 4
 },
 "nbformat": 4,
 "nbformat_minor": 2
}
