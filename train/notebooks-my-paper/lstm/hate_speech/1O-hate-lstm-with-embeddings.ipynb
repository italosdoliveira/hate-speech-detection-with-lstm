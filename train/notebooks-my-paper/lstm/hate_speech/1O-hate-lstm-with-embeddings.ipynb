{
 "cells": [
  {
   "cell_type": "code",
   "execution_count": 1,
   "metadata": {},
   "outputs": [
    {
     "name": "stderr",
     "output_type": "stream",
     "text": [
      "2023-10-29 00:13:27.220385: W tensorflow/stream_executor/platform/default/dso_loader.cc:64] Could not load dynamic library 'libcudart.so.11.0'; dlerror: libcudart.so.11.0: cannot open shared object file: No such file or directory\n",
      "2023-10-29 00:13:27.220419: I tensorflow/stream_executor/cuda/cudart_stub.cc:29] Ignore above cudart dlerror if you do not have a GPU set up on your machine.\n"
     ]
    }
   ],
   "source": [
    "import sys  \n",
    "import os\n",
    "import pandas as pd\n",
    "import io\n",
    "sys.path.insert(0, '../../../../scripts/')\n",
    "sys.path.insert(0, '../../../../dataset/')\n",
    "import hate_column_converter\n",
    "import embedding_reader\n",
    "import custom_keras_metrics\n",
    "import tensorflow as tf\n",
    "import keras.backend as K\n",
    "import os\n",
    "import time\n",
    "import gc\n",
    "import glob\n",
    "import wget\n",
    "import zipfile\n",
    "import numpy as np\n",
    "from sklearn.model_selection import train_test_split\n",
    "from keras.preprocessing.text import Tokenizer\n",
    "from keras.preprocessing.sequence import pad_sequences\n",
    "from tensorflow.keras.layers import LSTM\n",
    "from tensorflow.keras.preprocessing import text, sequence\n",
    "from keras.layers import Reshape, Flatten, Concatenate, Dropout, SpatialDropout1D\n",
    "from tensorflow.keras.optimizers import Adam\n",
    "from keras.models import Model\n",
    "from keras import backend as K\n",
    "from tensorflow.keras.layers import Layer\n",
    "from keras import initializers, regularizers, constraints, optimizers, layers\n",
    "from tensorflow.keras.utils import to_categorical\n",
    "from sklearn.preprocessing import LabelEncoder\n",
    "from keras.layers import *\n",
    "from keras.models import *\n",
    "from keras import initializers, regularizers, constraints, optimizers, layers\n",
    "from keras.initializers import *\n",
    "from keras.optimizers import *\n",
    "from keras.callbacks import *\n",
    "from keras import metrics\n",
    "from tqdm import tqdm"
   ]
  },
  {
   "cell_type": "code",
   "execution_count": null,
   "metadata": {},
   "outputs": [],
   "source": [
    "#wget.download(\"http://143.107.183.175:22980/download.php?file=embeddings/glove/glove_s300.zip\", out=\"../../../../embeddings/\")"
   ]
  },
  {
   "cell_type": "code",
   "execution_count": null,
   "metadata": {},
   "outputs": [],
   "source": [
    "#with zipfile.ZipFile(\"../../../../embeddings/glove_s300.zip\", 'r') as zip_ref:\n",
    "    #zip_ref.extractall(\"../../../../embeddings/\")"
   ]
  },
  {
   "cell_type": "code",
   "execution_count": 2,
   "metadata": {},
   "outputs": [
    {
     "name": "stderr",
     "output_type": "stream",
     "text": [
      "/workspaces/hate-speech-detection-python/train/notebooks-my-paper/lstm/hate_speech/../../../../scripts/hate_column_converter.py:8: SettingWithCopyWarning: \n",
      "A value is trying to be set on a copy of a slice from a DataFrame.\n",
      "Try using .loc[row_indexer,col_indexer] = value instead\n",
      "\n",
      "See the caveats in the documentation: https://pandas.pydata.org/pandas-docs/stable/user_guide/indexing.html#returning-a-view-versus-a-copy\n",
      "  lines_with_two_numbers_in_hate_speech[['col1', 'col2']] = lines_with_two_numbers_in_hate_speech['hate_speech'].str.split(',', expand=True)\n",
      "/workspaces/hate-speech-detection-python/train/notebooks-my-paper/lstm/hate_speech/../../../../scripts/hate_column_converter.py:8: SettingWithCopyWarning: \n",
      "A value is trying to be set on a copy of a slice from a DataFrame.\n",
      "Try using .loc[row_indexer,col_indexer] = value instead\n",
      "\n",
      "See the caveats in the documentation: https://pandas.pydata.org/pandas-docs/stable/user_guide/indexing.html#returning-a-view-versus-a-copy\n",
      "  lines_with_two_numbers_in_hate_speech[['col1', 'col2']] = lines_with_two_numbers_in_hate_speech['hate_speech'].str.split(',', expand=True)\n"
     ]
    }
   ],
   "source": [
    "MAX_LENGTH = 300\n",
    "dataframe = pd.read_csv('../../../../dataset/HateBR.csv')\n",
    "new_dataframe = hate_column_converter.convert_to_binary(dataframe)\n",
    "classes_zero = new_dataframe[new_dataframe['hate_speech'] == 0]\n",
    "classes_one = new_dataframe[new_dataframe['hate_speech'] == 1]\n",
    "classes_one_oversampled = classes_one.sample(len(classes_zero), replace=True)\n",
    "dataframe_oversampled = pd.concat([classes_zero, classes_one_oversampled]) \n",
    "instagram_comments = dataframe_oversampled['instagram_comments']\n",
    "y = dataframe_oversampled['hate_speech']"
   ]
  },
  {
   "cell_type": "code",
   "execution_count": 3,
   "metadata": {},
   "outputs": [],
   "source": [
    "x = dataframe_oversampled['instagram_comments']"
   ]
  },
  {
   "cell_type": "code",
   "execution_count": 4,
   "metadata": {},
   "outputs": [],
   "source": [
    "token = Tokenizer()\n",
    "token.fit_on_texts(x)\n",
    "sequences = token.texts_to_sequences(x)\n",
    "x = pad_sequences(sequences,maxlen=MAX_LENGTH)\n",
    "vocabulary_size = len(token.word_index)+1"
   ]
  },
  {
   "cell_type": "code",
   "execution_count": 5,
   "metadata": {},
   "outputs": [
    {
     "name": "stderr",
     "output_type": "stream",
     "text": [
      "100%|██████████| 11530/11530 [00:00<00:00, 390024.64it/s]\n"
     ]
    }
   ],
   "source": [
    "embedding_vector = embedding_reader.read_glove_file()\n",
    "embedding_matrix = np.zeros((vocabulary_size,MAX_LENGTH))\n",
    "for word,i in tqdm(token.word_index.items()):\n",
    "    embedding_value = embedding_vector.get(word)\n",
    "    if embedding_value is not None:\n",
    "        embedding_matrix[i] = embedding_value"
   ]
  },
  {
   "cell_type": "code",
   "execution_count": 6,
   "metadata": {},
   "outputs": [],
   "source": [
    "x_train, x_test, y_train, y_test = train_test_split(x, y, train_size=0.8, test_size=0.2)"
   ]
  },
  {
   "cell_type": "code",
   "execution_count": 7,
   "metadata": {},
   "outputs": [
    {
     "name": "stderr",
     "output_type": "stream",
     "text": [
      "2023-10-29 00:14:59.652822: W tensorflow/stream_executor/platform/default/dso_loader.cc:64] Could not load dynamic library 'libcuda.so.1'; dlerror: libcuda.so.1: cannot open shared object file: No such file or directory\n",
      "2023-10-29 00:14:59.652861: W tensorflow/stream_executor/cuda/cuda_driver.cc:269] failed call to cuInit: UNKNOWN ERROR (303)\n",
      "2023-10-29 00:14:59.652889: I tensorflow/stream_executor/cuda/cuda_diagnostics.cc:156] kernel driver does not appear to be running on this host (codespaces-fbf4a0): /proc/driver/nvidia/version does not exist\n",
      "2023-10-29 00:14:59.702878: I tensorflow/core/platform/cpu_feature_guard.cc:151] This TensorFlow binary is optimized with oneAPI Deep Neural Network Library (oneDNN) to use the following CPU instructions in performance-critical operations:  AVX2 FMA\n",
      "To enable them in other operations, rebuild TensorFlow with the appropriate compiler flags.\n",
      "2023-10-29 00:15:00.161528: W tensorflow/core/framework/cpu_allocator_impl.cc:82] Allocation of 13837200 exceeds 10% of free system memory.\n",
      "2023-10-29 00:15:00.327509: W tensorflow/core/framework/cpu_allocator_impl.cc:82] Allocation of 13837200 exceeds 10% of free system memory.\n",
      "2023-10-29 00:15:00.341434: W tensorflow/core/framework/cpu_allocator_impl.cc:82] Allocation of 13837200 exceeds 10% of free system memory.\n"
     ]
    }
   ],
   "source": [
    "lstm_model = Sequential()\n",
    "lstm_model.add(Embedding(vocabulary_size,MAX_LENGTH,weights=[embedding_matrix],input_length=x.shape[1],trainable=False))\n",
    "lstm_model.add(Dropout(0.25))\n",
    "lstm_model.add(LSTM(64))\n",
    "lstm_model.add(Dropout(0.5))\n",
    "lstm_model.add(Dense(1))\n",
    "lstm_model.add(Activation('sigmoid'))\n",
    "lstm_model.compile(loss='binary_crossentropy', optimizer='adam', metrics=['accuracy', 'binary_accuracy', custom_keras_metrics.f1_score])"
   ]
  },
  {
   "cell_type": "code",
   "execution_count": 8,
   "metadata": {},
   "outputs": [
    {
     "name": "stdout",
     "output_type": "stream",
     "text": [
      "Epoch 1/10\n"
     ]
    },
    {
     "name": "stderr",
     "output_type": "stream",
     "text": [
      "2023-10-29 00:15:07.077827: W tensorflow/core/framework/cpu_allocator_impl.cc:82] Allocation of 13837200 exceeds 10% of free system memory.\n",
      "2023-10-29 00:15:07.082300: W tensorflow/core/framework/cpu_allocator_impl.cc:82] Allocation of 46080000 exceeds 10% of free system memory.\n"
     ]
    },
    {
     "name": "stdout",
     "output_type": "stream",
     "text": [
      "79/79 [==============================] - 41s 485ms/step - loss: 0.5650 - accuracy: 0.7074 - binary_accuracy: 0.7074 - f1_score: 0.7111 - val_loss: 0.4786 - val_accuracy: 0.7718 - val_binary_accuracy: 0.7718 - val_f1_score: 0.7285\n",
      "Epoch 2/10\n",
      "79/79 [==============================] - 37s 473ms/step - loss: 0.4462 - accuracy: 0.7966 - binary_accuracy: 0.7966 - f1_score: 0.7935 - val_loss: 0.3866 - val_accuracy: 0.8325 - val_binary_accuracy: 0.8325 - val_f1_score: 0.8231\n",
      "Epoch 3/10\n",
      "79/79 [==============================] - 37s 471ms/step - loss: 0.3849 - accuracy: 0.8295 - binary_accuracy: 0.8295 - f1_score: 0.8278 - val_loss: 0.3522 - val_accuracy: 0.8516 - val_binary_accuracy: 0.8516 - val_f1_score: 0.8379\n",
      "Epoch 4/10\n",
      "79/79 [==============================] - 38s 477ms/step - loss: 0.3426 - accuracy: 0.8510 - binary_accuracy: 0.8510 - f1_score: 0.8506 - val_loss: 0.2991 - val_accuracy: 0.8770 - val_binary_accuracy: 0.8770 - val_f1_score: 0.8713\n",
      "Epoch 5/10\n",
      "79/79 [==============================] - 38s 478ms/step - loss: 0.3030 - accuracy: 0.8709 - binary_accuracy: 0.8709 - f1_score: 0.8705 - val_loss: 0.2680 - val_accuracy: 0.8869 - val_binary_accuracy: 0.8869 - val_f1_score: 0.8808\n",
      "Epoch 6/10\n",
      "79/79 [==============================] - 38s 476ms/step - loss: 0.2798 - accuracy: 0.8847 - binary_accuracy: 0.8847 - f1_score: 0.8836 - val_loss: 0.2296 - val_accuracy: 0.9139 - val_binary_accuracy: 0.9139 - val_f1_score: 0.9093\n",
      "Epoch 7/10\n",
      "79/79 [==============================] - 37s 473ms/step - loss: 0.2377 - accuracy: 0.9028 - binary_accuracy: 0.9028 - f1_score: 0.9023 - val_loss: 0.2118 - val_accuracy: 0.9143 - val_binary_accuracy: 0.9143 - val_f1_score: 0.9113\n",
      "Epoch 8/10\n",
      "79/79 [==============================] - 38s 483ms/step - loss: 0.2156 - accuracy: 0.9115 - binary_accuracy: 0.9115 - f1_score: 0.9111 - val_loss: 0.2097 - val_accuracy: 0.9194 - val_binary_accuracy: 0.9194 - val_f1_score: 0.9182\n",
      "Epoch 9/10\n",
      "79/79 [==============================] - 38s 481ms/step - loss: 0.1864 - accuracy: 0.9233 - binary_accuracy: 0.9233 - f1_score: 0.9223 - val_loss: 0.1716 - val_accuracy: 0.9377 - val_binary_accuracy: 0.9377 - val_f1_score: 0.9358\n",
      "Epoch 10/10\n",
      "79/79 [==============================] - 38s 484ms/step - loss: 0.1688 - accuracy: 0.9339 - binary_accuracy: 0.9339 - f1_score: 0.9335 - val_loss: 0.1774 - val_accuracy: 0.9286 - val_binary_accuracy: 0.9286 - val_f1_score: 0.9267\n"
     ]
    }
   ],
   "source": [
    "model = lstm_model.fit(x_train, y_train, epochs=10, batch_size=128, validation_data=(x_test, y_test))"
   ]
  },
  {
   "cell_type": "code",
   "execution_count": 9,
   "metadata": {},
   "outputs": [
    {
     "name": "stdout",
     "output_type": "stream",
     "text": [
      "20/20 [==============================] - 3s 163ms/step - loss: 0.1774 - accuracy: 0.9286 - binary_accuracy: 0.9286 - f1_score: 0.9267\n",
      "loss :  0.17736592888832092\n",
      "accuracy :  0.9285714030265808\n",
      "binary_accuracy :  0.9285714030265808\n",
      "f1_score :  0.9267287254333496\n",
      "\n"
     ]
    },
    {
     "ename": "",
     "evalue": "",
     "output_type": "error",
     "traceback": [
      "\u001b[1;31mThe Kernel crashed while executing code in the the current cell or a previous cell. Please review the code in the cell(s) to identify a possible cause of the failure. Click <a href='https://aka.ms/vscodeJupyterKernelCrash'>here</a> for more info. View Jupyter <a href='command:jupyter.viewOutput'>log</a> for further details."
     ]
    }
   ],
   "source": [
    "results = lstm_model.evaluate(x_test, y_test, batch_size=128)\n",
    "\n",
    "for name, value in zip(lstm_model.metrics_names, results):\n",
    "  print(name, ': ', value)\n",
    "print()"
   ]
  },
  {
   "cell_type": "code",
   "execution_count": null,
   "metadata": {},
   "outputs": [],
   "source": [
    "#import joblib\n",
    "\n",
    "#model_filename = '../../../models/generated-models-base-paper/offensive_lstm_embeddings_model.pkl'\n",
    "#joblib.dump(model, model_filename)"
   ]
  }
 ],
 "metadata": {
  "kernelspec": {
   "display_name": "Python 3 (ipykernel)",
   "language": "python",
   "name": "python3"
  },
  "language_info": {
   "codemirror_mode": {
    "name": "ipython",
    "version": 3
   },
   "file_extension": ".py",
   "mimetype": "text/x-python",
   "name": "python",
   "nbconvert_exporter": "python",
   "pygments_lexer": "ipython3",
   "version": "3.10.4"
  },
  "orig_nbformat": 4
 },
 "nbformat": 4,
 "nbformat_minor": 2
}
