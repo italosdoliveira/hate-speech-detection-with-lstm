{
 "cells": [
  {
   "cell_type": "code",
   "execution_count": 1,
   "metadata": {},
   "outputs": [
    {
     "name": "stderr",
     "output_type": "stream",
     "text": [
      "2023-10-24 11:46:12.521126: W tensorflow/stream_executor/platform/default/dso_loader.cc:64] Could not load dynamic library 'libcudart.so.11.0'; dlerror: libcudart.so.11.0: cannot open shared object file: No such file or directory\n",
      "2023-10-24 11:46:12.521161: I tensorflow/stream_executor/cuda/cudart_stub.cc:29] Ignore above cudart dlerror if you do not have a GPU set up on your machine.\n"
     ]
    }
   ],
   "source": [
    "import sys  \n",
    "import os\n",
    "import pandas as pd\n",
    "import io\n",
    "sys.path.insert(0, '../../../../scripts/')\n",
    "sys.path.insert(0, '../../../../dataset/')\n",
    "import hate_column_converter\n",
    "import embedding_reader\n",
    "import custom_keras_metrics\n",
    "import tensorflow as tf\n",
    "import keras.backend as K\n",
    "import os\n",
    "import time\n",
    "import gc\n",
    "import glob\n",
    "import wget\n",
    "import zipfile\n",
    "import numpy as np\n",
    "from sklearn.model_selection import train_test_split\n",
    "from keras.preprocessing.text import Tokenizer\n",
    "from keras.preprocessing.sequence import pad_sequences\n",
    "from tensorflow.keras.layers import LSTM\n",
    "from tensorflow.keras.preprocessing import text, sequence\n",
    "from keras.layers import Reshape, Flatten, Concatenate, Dropout, SpatialDropout1D\n",
    "from tensorflow.keras.optimizers import Adam\n",
    "from keras.models import Model\n",
    "from keras import backend as K\n",
    "from tensorflow.keras.layers import Layer\n",
    "from keras import initializers, regularizers, constraints, optimizers, layers\n",
    "from tensorflow.keras.utils import to_categorical\n",
    "from sklearn.preprocessing import LabelEncoder\n",
    "from keras.layers import *\n",
    "from keras.models import *\n",
    "from keras import initializers, regularizers, constraints, optimizers, layers\n",
    "from keras.initializers import *\n",
    "from keras.optimizers import *\n",
    "from keras.callbacks import *\n",
    "from keras import metrics\n",
    "from tqdm import tqdm"
   ]
  },
  {
   "cell_type": "code",
   "execution_count": null,
   "metadata": {},
   "outputs": [],
   "source": [
    "#wget.download(\"http://143.107.183.175:22980/download.php?file=embeddings/glove/glove_s300.zip\", out=\"../../../../embeddings/\")"
   ]
  },
  {
   "cell_type": "code",
   "execution_count": null,
   "metadata": {},
   "outputs": [],
   "source": [
    "#with zipfile.ZipFile(\"../../../../embeddings/glove_s300.zip\", 'r') as zip_ref:\n",
    "    #zip_ref.extractall(\"../../../../embeddings/\")"
   ]
  },
  {
   "cell_type": "code",
   "execution_count": 6,
   "metadata": {},
   "outputs": [
    {
     "name": "stdout",
     "output_type": "stream",
     "text": [
      "727\n",
      "727\n",
      "1454\n"
     ]
    },
    {
     "name": "stderr",
     "output_type": "stream",
     "text": [
      "/workspaces/hate-speech-detection-python/train/notebooks-my-paper/lstm/hate_speech/../../../../scripts/hate_column_converter.py:8: SettingWithCopyWarning: \n",
      "A value is trying to be set on a copy of a slice from a DataFrame.\n",
      "Try using .loc[row_indexer,col_indexer] = value instead\n",
      "\n",
      "See the caveats in the documentation: https://pandas.pydata.org/pandas-docs/stable/user_guide/indexing.html#returning-a-view-versus-a-copy\n",
      "  lines_with_two_numbers_in_hate_speech[['col1', 'col2']] = lines_with_two_numbers_in_hate_speech['hate_speech'].str.split(',', expand=True)\n",
      "/workspaces/hate-speech-detection-python/train/notebooks-my-paper/lstm/hate_speech/../../../../scripts/hate_column_converter.py:8: SettingWithCopyWarning: \n",
      "A value is trying to be set on a copy of a slice from a DataFrame.\n",
      "Try using .loc[row_indexer,col_indexer] = value instead\n",
      "\n",
      "See the caveats in the documentation: https://pandas.pydata.org/pandas-docs/stable/user_guide/indexing.html#returning-a-view-versus-a-copy\n",
      "  lines_with_two_numbers_in_hate_speech[['col1', 'col2']] = lines_with_two_numbers_in_hate_speech['hate_speech'].str.split(',', expand=True)\n"
     ]
    }
   ],
   "source": [
    "MAX_LENGTH = 300\n",
    "dataframe = pd.read_csv('../../../../dataset/HateBR.csv')\n",
    "new_dataframe = hate_column_converter.convert_to_binary(dataframe)\n",
    "classes_zero = new_dataframe[new_dataframe['hate_speech'] == 0]\n",
    "classes_one = new_dataframe[new_dataframe['hate_speech'] == 1]\n",
    "classes_zero_undersampled = classes_zero.sample(len(classes_one))\n",
    "dataframe_undersampled = pd.concat([classes_zero_undersampled, classes_one]) \n",
    "instagram_comments = dataframe_undersampled['instagram_comments']\n",
    "y = dataframe_undersampled['hate_speech']"
   ]
  },
  {
   "cell_type": "code",
   "execution_count": 7,
   "metadata": {},
   "outputs": [],
   "source": [
    "x = dataframe_undersampled['instagram_comments']"
   ]
  },
  {
   "cell_type": "code",
   "execution_count": 8,
   "metadata": {},
   "outputs": [],
   "source": [
    "token = Tokenizer()\n",
    "token.fit_on_texts(x)\n",
    "sequences = token.texts_to_sequences(x)\n",
    "x = pad_sequences(sequences,maxlen=MAX_LENGTH)\n",
    "vocabulary_size = len(token.word_index)+1"
   ]
  },
  {
   "cell_type": "code",
   "execution_count": 9,
   "metadata": {},
   "outputs": [
    {
     "name": "stderr",
     "output_type": "stream",
     "text": [
      "100%|██████████| 4775/4775 [00:00<00:00, 132724.10it/s]\n"
     ]
    }
   ],
   "source": [
    "embedding_vector = embedding_reader.read_glove_file()\n",
    "embedding_matrix = np.zeros((vocabulary_size,MAX_LENGTH))\n",
    "for word,i in tqdm(token.word_index.items()):\n",
    "    embedding_value = embedding_vector.get(word)\n",
    "    if embedding_value is not None:\n",
    "        embedding_matrix[i] = embedding_value"
   ]
  },
  {
   "cell_type": "code",
   "execution_count": 10,
   "metadata": {},
   "outputs": [],
   "source": [
    "x_train, x_test, y_train, y_test = train_test_split(x, y, train_size=0.8, test_size=0.2)"
   ]
  },
  {
   "cell_type": "code",
   "execution_count": 11,
   "metadata": {},
   "outputs": [
    {
     "name": "stderr",
     "output_type": "stream",
     "text": [
      "2023-10-24 11:49:08.283567: W tensorflow/stream_executor/platform/default/dso_loader.cc:64] Could not load dynamic library 'libcuda.so.1'; dlerror: libcuda.so.1: cannot open shared object file: No such file or directory\n",
      "2023-10-24 11:49:08.283607: W tensorflow/stream_executor/cuda/cuda_driver.cc:269] failed call to cuInit: UNKNOWN ERROR (303)\n",
      "2023-10-24 11:49:08.283637: I tensorflow/stream_executor/cuda/cuda_diagnostics.cc:156] kernel driver does not appear to be running on this host (codespaces-fbf4a0): /proc/driver/nvidia/version does not exist\n",
      "2023-10-24 11:49:08.318382: I tensorflow/core/platform/cpu_feature_guard.cc:151] This TensorFlow binary is optimized with oneAPI Deep Neural Network Library (oneDNN) to use the following CPU instructions in performance-critical operations:  AVX2 FMA\n",
      "To enable them in other operations, rebuild TensorFlow with the appropriate compiler flags.\n"
     ]
    }
   ],
   "source": [
    "lstm_model = Sequential()\n",
    "lstm_model.add(Embedding(vocabulary_size,MAX_LENGTH,weights=[embedding_matrix],input_length=x.shape[1],trainable=False))\n",
    "lstm_model.add(Dropout(0.25))\n",
    "lstm_model.add(LSTM(64))\n",
    "lstm_model.add(Dropout(0.5))\n",
    "lstm_model.add(Dense(1))\n",
    "lstm_model.add(Activation('sigmoid'))\n",
    "lstm_model.compile(loss='binary_crossentropy', optimizer='adam', metrics=['accuracy', 'binary_accuracy', custom_keras_metrics.f1_score])"
   ]
  },
  {
   "cell_type": "code",
   "execution_count": 12,
   "metadata": {},
   "outputs": [
    {
     "name": "stdout",
     "output_type": "stream",
     "text": [
      "Epoch 1/10\n"
     ]
    },
    {
     "name": "stderr",
     "output_type": "stream",
     "text": [
      "2023-10-24 11:49:16.932065: W tensorflow/core/framework/cpu_allocator_impl.cc:82] Allocation of 46080000 exceeds 10% of free system memory.\n",
      "2023-10-24 11:49:16.948134: W tensorflow/core/framework/cpu_allocator_impl.cc:82] Allocation of 46080000 exceeds 10% of free system memory.\n",
      "2023-10-24 11:49:17.036416: W tensorflow/core/framework/cpu_allocator_impl.cc:82] Allocation of 46080000 exceeds 10% of free system memory.\n",
      "2023-10-24 11:49:17.190722: W tensorflow/core/framework/cpu_allocator_impl.cc:82] Allocation of 46080000 exceeds 10% of free system memory.\n"
     ]
    },
    {
     "name": "stdout",
     "output_type": "stream",
     "text": [
      " 1/10 [==>...........................] - ETA: 31s - loss: 0.6894 - accuracy: 0.5469 - binary_accuracy: 0.5469 - f1_score: 0.6184"
     ]
    },
    {
     "name": "stderr",
     "output_type": "stream",
     "text": [
      "2023-10-24 11:49:18.380839: W tensorflow/core/framework/cpu_allocator_impl.cc:82] Allocation of 46080000 exceeds 10% of free system memory.\n"
     ]
    },
    {
     "name": "stdout",
     "output_type": "stream",
     "text": [
      "10/10 [==============================] - 8s 515ms/step - loss: 0.6803 - accuracy: 0.5555 - binary_accuracy: 0.5555 - f1_score: 0.6336 - val_loss: 0.6251 - val_accuracy: 0.6701 - val_binary_accuracy: 0.6701 - val_f1_score: 0.7406\n",
      "Epoch 2/10\n",
      "10/10 [==============================] - 4s 429ms/step - loss: 0.6287 - accuracy: 0.6638 - binary_accuracy: 0.6638 - f1_score: 0.6956 - val_loss: 0.5810 - val_accuracy: 0.7079 - val_binary_accuracy: 0.7079 - val_f1_score: 0.7091\n",
      "Epoch 3/10\n",
      "10/10 [==============================] - 5s 480ms/step - loss: 0.5940 - accuracy: 0.7051 - binary_accuracy: 0.7051 - f1_score: 0.6897 - val_loss: 0.5418 - val_accuracy: 0.7182 - val_binary_accuracy: 0.7182 - val_f1_score: 0.7317\n",
      "Epoch 4/10\n",
      "10/10 [==============================] - 5s 458ms/step - loss: 0.5555 - accuracy: 0.7266 - binary_accuracy: 0.7266 - f1_score: 0.7485 - val_loss: 0.5326 - val_accuracy: 0.7148 - val_binary_accuracy: 0.7148 - val_f1_score: 0.6510\n",
      "Epoch 5/10\n",
      "10/10 [==============================] - 5s 483ms/step - loss: 0.5033 - accuracy: 0.7670 - binary_accuracy: 0.7670 - f1_score: 0.7773 - val_loss: 0.4957 - val_accuracy: 0.7423 - val_binary_accuracy: 0.7423 - val_f1_score: 0.7313\n",
      "Epoch 6/10\n",
      "10/10 [==============================] - 5s 481ms/step - loss: 0.4799 - accuracy: 0.7885 - binary_accuracy: 0.7885 - f1_score: 0.7750 - val_loss: 0.5058 - val_accuracy: 0.7423 - val_binary_accuracy: 0.7423 - val_f1_score: 0.7453\n",
      "Epoch 7/10\n",
      "10/10 [==============================] - 5s 458ms/step - loss: 0.4647 - accuracy: 0.7911 - binary_accuracy: 0.7911 - f1_score: 0.7654 - val_loss: 0.4809 - val_accuracy: 0.7457 - val_binary_accuracy: 0.7457 - val_f1_score: 0.7517\n",
      "Epoch 8/10\n",
      "10/10 [==============================] - 5s 457ms/step - loss: 0.4492 - accuracy: 0.7971 - binary_accuracy: 0.7971 - f1_score: 0.7979 - val_loss: 0.4637 - val_accuracy: 0.7595 - val_binary_accuracy: 0.7595 - val_f1_score: 0.7484\n",
      "Epoch 9/10\n",
      "10/10 [==============================] - 5s 458ms/step - loss: 0.4328 - accuracy: 0.8117 - binary_accuracy: 0.8117 - f1_score: 0.7871 - val_loss: 0.5080 - val_accuracy: 0.7526 - val_binary_accuracy: 0.7526 - val_f1_score: 0.6887\n",
      "Epoch 10/10\n",
      "10/10 [==============================] - 5s 465ms/step - loss: 0.4155 - accuracy: 0.8169 - binary_accuracy: 0.8169 - f1_score: 0.8044 - val_loss: 0.4726 - val_accuracy: 0.7560 - val_binary_accuracy: 0.7560 - val_f1_score: 0.7568\n"
     ]
    }
   ],
   "source": [
    "model = lstm_model.fit(x_train, y_train, epochs=10, batch_size=128, validation_data=(x_test, y_test))"
   ]
  },
  {
   "cell_type": "code",
   "execution_count": 13,
   "metadata": {},
   "outputs": [
    {
     "name": "stdout",
     "output_type": "stream",
     "text": [
      "3/3 [==============================] - 0s 104ms/step - loss: 0.4726 - accuracy: 0.7560 - binary_accuracy: 0.7560 - f1_score: 0.7568\n",
      "loss :  0.47261032462120056\n",
      "accuracy :  0.7560137510299683\n",
      "binary_accuracy :  0.7560137510299683\n",
      "f1_score :  0.7568013072013855\n",
      "\n"
     ]
    }
   ],
   "source": [
    "results = lstm_model.evaluate(x_test, y_test, batch_size=128)\n",
    "\n",
    "for name, value in zip(lstm_model.metrics_names, results):\n",
    "  print(name, ': ', value)\n",
    "print()"
   ]
  },
  {
   "cell_type": "code",
   "execution_count": null,
   "metadata": {},
   "outputs": [],
   "source": [
    "#import joblib\n",
    "\n",
    "#model_filename = '../../../models/generated-models-base-paper/offensive_lstm_embeddings_model.pkl'\n",
    "#joblib.dump(model, model_filename)"
   ]
  }
 ],
 "metadata": {
  "kernelspec": {
   "display_name": "Python 3 (ipykernel)",
   "language": "python",
   "name": "python3"
  },
  "orig_nbformat": 4
 },
 "nbformat": 4,
 "nbformat_minor": 2
}
