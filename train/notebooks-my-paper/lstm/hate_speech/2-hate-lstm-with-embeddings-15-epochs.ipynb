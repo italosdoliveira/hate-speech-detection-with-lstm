{
 "cells": [
  {
   "cell_type": "code",
   "execution_count": 1,
   "metadata": {},
   "outputs": [
    {
     "name": "stderr",
     "output_type": "stream",
     "text": [
      "2023-10-23 22:44:31.150630: W tensorflow/stream_executor/platform/default/dso_loader.cc:64] Could not load dynamic library 'libcudart.so.11.0'; dlerror: libcudart.so.11.0: cannot open shared object file: No such file or directory\n",
      "2023-10-23 22:44:31.150668: I tensorflow/stream_executor/cuda/cudart_stub.cc:29] Ignore above cudart dlerror if you do not have a GPU set up on your machine.\n"
     ]
    }
   ],
   "source": [
    "import sys  \n",
    "import os\n",
    "import pandas as pd\n",
    "import io\n",
    "sys.path.insert(0, '../../../../scripts/')\n",
    "sys.path.insert(0, '../../../../dataset/')\n",
    "import hate_column_converter\n",
    "import embedding_reader\n",
    "import custom_keras_metrics\n",
    "import tensorflow as tf\n",
    "import keras.backend as K\n",
    "import os\n",
    "import time\n",
    "import gc\n",
    "import glob\n",
    "import wget\n",
    "import zipfile\n",
    "import numpy as np\n",
    "from sklearn.model_selection import train_test_split\n",
    "from keras.preprocessing.text import Tokenizer\n",
    "from keras.preprocessing.sequence import pad_sequences\n",
    "from tensorflow.keras.layers import LSTM\n",
    "from tensorflow.keras.preprocessing import text, sequence\n",
    "from keras.layers import Reshape, Flatten, Concatenate, Dropout, SpatialDropout1D\n",
    "from tensorflow.keras.optimizers import Adam\n",
    "from keras.models import Model\n",
    "from keras import backend as K\n",
    "from tensorflow.keras.layers import Layer\n",
    "from keras import initializers, regularizers, constraints, optimizers, layers\n",
    "from tensorflow.keras.utils import to_categorical\n",
    "from sklearn.preprocessing import LabelEncoder\n",
    "from keras.layers import *\n",
    "from keras.models import *\n",
    "from keras import initializers, regularizers, constraints, optimizers, layers\n",
    "from keras.initializers import *\n",
    "from keras.optimizers import *\n",
    "from keras.callbacks import *\n",
    "from keras import metrics\n",
    "from tqdm import tqdm"
   ]
  },
  {
   "cell_type": "code",
   "execution_count": 2,
   "metadata": {},
   "outputs": [],
   "source": [
    "#wget.download(\"http://143.107.183.175:22980/download.php?file=embeddings/glove/glove_s300.zip\", out=\"../../../../embeddings/\")"
   ]
  },
  {
   "cell_type": "code",
   "execution_count": 3,
   "metadata": {},
   "outputs": [],
   "source": [
    "#with zipfile.ZipFile(\"../../../../embeddings/glove_s300.zip\", 'r') as zip_ref:\n",
    "    #zip_ref.extractall(\"../../../../embeddings/\")"
   ]
  },
  {
   "cell_type": "code",
   "execution_count": 2,
   "metadata": {},
   "outputs": [
    {
     "name": "stderr",
     "output_type": "stream",
     "text": [
      "/workspaces/hate-speech-detection-python/train/notebooks-my-paper/lstm/hate_speech/../../../../scripts/hate_column_converter.py:8: SettingWithCopyWarning: \n",
      "A value is trying to be set on a copy of a slice from a DataFrame.\n",
      "Try using .loc[row_indexer,col_indexer] = value instead\n",
      "\n",
      "See the caveats in the documentation: https://pandas.pydata.org/pandas-docs/stable/user_guide/indexing.html#returning-a-view-versus-a-copy\n",
      "  lines_with_two_numbers_in_hate_speech[['col1', 'col2']] = lines_with_two_numbers_in_hate_speech['hate_speech'].str.split(',', expand=True)\n",
      "/workspaces/hate-speech-detection-python/train/notebooks-my-paper/lstm/hate_speech/../../../../scripts/hate_column_converter.py:8: SettingWithCopyWarning: \n",
      "A value is trying to be set on a copy of a slice from a DataFrame.\n",
      "Try using .loc[row_indexer,col_indexer] = value instead\n",
      "\n",
      "See the caveats in the documentation: https://pandas.pydata.org/pandas-docs/stable/user_guide/indexing.html#returning-a-view-versus-a-copy\n",
      "  lines_with_two_numbers_in_hate_speech[['col1', 'col2']] = lines_with_two_numbers_in_hate_speech['hate_speech'].str.split(',', expand=True)\n"
     ]
    }
   ],
   "source": [
    "MAX_LENGTH = 300\n",
    "dataframe = pd.read_csv('../../../../dataset/HateBR.csv')\n",
    "new_dataframe = hate_column_converter.convert_to_binary(dataframe)\n",
    "y = new_dataframe['hate_speech']"
   ]
  },
  {
   "cell_type": "code",
   "execution_count": 3,
   "metadata": {},
   "outputs": [],
   "source": [
    "x = new_dataframe['instagram_comments']"
   ]
  },
  {
   "cell_type": "code",
   "execution_count": 4,
   "metadata": {},
   "outputs": [],
   "source": [
    "token = Tokenizer()\n",
    "token.fit_on_texts(x)\n",
    "sequences = token.texts_to_sequences(x)\n",
    "x = pad_sequences(sequences,maxlen=MAX_LENGTH)\n",
    "vocabulary_size = len(token.word_index)+1"
   ]
  },
  {
   "cell_type": "code",
   "execution_count": 5,
   "metadata": {},
   "outputs": [
    {
     "name": "stderr",
     "output_type": "stream",
     "text": [
      "100%|██████████| 11530/11530 [00:00<00:00, 392013.27it/s]\n"
     ]
    }
   ],
   "source": [
    "embedding_vector = embedding_reader.read_glove_file()\n",
    "embedding_matrix = np.zeros((vocabulary_size,MAX_LENGTH))\n",
    "for word,i in tqdm(token.word_index.items()):\n",
    "    embedding_value = embedding_vector.get(word)\n",
    "    if embedding_value is not None:\n",
    "        embedding_matrix[i] = embedding_value"
   ]
  },
  {
   "cell_type": "code",
   "execution_count": 6,
   "metadata": {},
   "outputs": [],
   "source": [
    "x_train, x_test, y_train, y_test = train_test_split(x, y, train_size=0.8, test_size=0.2)"
   ]
  },
  {
   "cell_type": "code",
   "execution_count": 7,
   "metadata": {},
   "outputs": [
    {
     "name": "stderr",
     "output_type": "stream",
     "text": [
      "2023-10-23 22:46:26.605664: W tensorflow/stream_executor/platform/default/dso_loader.cc:64] Could not load dynamic library 'libcuda.so.1'; dlerror: libcuda.so.1: cannot open shared object file: No such file or directory\n",
      "2023-10-23 22:46:26.605703: W tensorflow/stream_executor/cuda/cuda_driver.cc:269] failed call to cuInit: UNKNOWN ERROR (303)\n",
      "2023-10-23 22:46:26.605736: I tensorflow/stream_executor/cuda/cuda_diagnostics.cc:156] kernel driver does not appear to be running on this host (codespaces-fbf4a0): /proc/driver/nvidia/version does not exist\n",
      "2023-10-23 22:46:26.640565: I tensorflow/core/platform/cpu_feature_guard.cc:151] This TensorFlow binary is optimized with oneAPI Deep Neural Network Library (oneDNN) to use the following CPU instructions in performance-critical operations:  AVX2 FMA\n",
      "To enable them in other operations, rebuild TensorFlow with the appropriate compiler flags.\n"
     ]
    }
   ],
   "source": [
    "lstm_model = Sequential()\n",
    "lstm_model.add(Embedding(vocabulary_size,MAX_LENGTH,weights=[embedding_matrix],input_length=x.shape[1],trainable=False))\n",
    "lstm_model.add(Dropout(0.25))\n",
    "lstm_model.add(LSTM(64))\n",
    "lstm_model.add(Dropout(0.5))\n",
    "lstm_model.add(Dense(1))\n",
    "lstm_model.add(Activation('sigmoid'))\n",
    "lstm_model.compile(loss='binary_crossentropy', optimizer='adam', metrics=['accuracy', 'binary_accuracy', custom_keras_metrics.f1_score])"
   ]
  },
  {
   "cell_type": "code",
   "execution_count": 8,
   "metadata": {},
   "outputs": [
    {
     "name": "stdout",
     "output_type": "stream",
     "text": [
      "Epoch 1/15\n"
     ]
    },
    {
     "name": "stderr",
     "output_type": "stream",
     "text": [
      "2023-10-23 22:46:38.951869: W tensorflow/core/framework/cpu_allocator_impl.cc:82] Allocation of 46080000 exceeds 10% of free system memory.\n",
      "2023-10-23 22:46:38.970425: W tensorflow/core/framework/cpu_allocator_impl.cc:82] Allocation of 46080000 exceeds 10% of free system memory.\n",
      "2023-10-23 22:46:39.060557: W tensorflow/core/framework/cpu_allocator_impl.cc:82] Allocation of 46080000 exceeds 10% of free system memory.\n",
      "2023-10-23 22:46:39.215343: W tensorflow/core/framework/cpu_allocator_impl.cc:82] Allocation of 46080000 exceeds 10% of free system memory.\n"
     ]
    },
    {
     "name": "stdout",
     "output_type": "stream",
     "text": [
      " 1/44 [..............................] - ETA: 2:28 - loss: 0.6150 - accuracy: 0.7734 - binary_accuracy: 0.7734 - f1_score: 0.2162"
     ]
    },
    {
     "name": "stderr",
     "output_type": "stream",
     "text": [
      "2023-10-23 22:46:40.275976: W tensorflow/core/framework/cpu_allocator_impl.cc:82] Allocation of 46080000 exceeds 10% of free system memory.\n"
     ]
    },
    {
     "name": "stdout",
     "output_type": "stream",
     "text": [
      "44/44 [==============================] - 26s 530ms/step - loss: 0.3946 - accuracy: 0.8870 - binary_accuracy: 0.8870 - f1_score: 0.0103 - val_loss: 0.3465 - val_accuracy: 0.8890 - val_binary_accuracy: 0.8890 - val_f1_score: 0.0000e+00\n",
      "Epoch 2/15\n",
      "44/44 [==============================] - 22s 504ms/step - loss: 0.3044 - accuracy: 0.8984 - binary_accuracy: 0.8984 - f1_score: 0.0105 - val_loss: 0.3054 - val_accuracy: 0.8904 - val_binary_accuracy: 0.8904 - val_f1_score: 0.0236\n",
      "Epoch 3/15\n",
      "44/44 [==============================] - 22s 498ms/step - loss: 0.2707 - accuracy: 0.8995 - binary_accuracy: 0.8995 - f1_score: 0.0708 - val_loss: 0.2794 - val_accuracy: 0.8954 - val_binary_accuracy: 0.8954 - val_f1_score: 0.1661\n",
      "Epoch 4/15\n",
      "44/44 [==============================] - 22s 502ms/step - loss: 0.2536 - accuracy: 0.9064 - binary_accuracy: 0.9064 - f1_score: 0.2122 - val_loss: 0.2698 - val_accuracy: 0.8975 - val_binary_accuracy: 0.8975 - val_f1_score: 0.3116\n",
      "Epoch 5/15\n",
      "44/44 [==============================] - 21s 484ms/step - loss: 0.2341 - accuracy: 0.9141 - binary_accuracy: 0.9141 - f1_score: 0.3924 - val_loss: 0.2649 - val_accuracy: 0.9068 - val_binary_accuracy: 0.9068 - val_f1_score: 0.3714\n",
      "Epoch 6/15\n",
      "44/44 [==============================] - 21s 486ms/step - loss: 0.2239 - accuracy: 0.9149 - binary_accuracy: 0.9149 - f1_score: 0.4260 - val_loss: 0.2592 - val_accuracy: 0.9110 - val_binary_accuracy: 0.9110 - val_f1_score: 0.4402\n",
      "Epoch 7/15\n",
      "44/44 [==============================] - 21s 487ms/step - loss: 0.2081 - accuracy: 0.9246 - binary_accuracy: 0.9246 - f1_score: 0.5250 - val_loss: 0.2511 - val_accuracy: 0.9089 - val_binary_accuracy: 0.9089 - val_f1_score: 0.4630\n",
      "Epoch 8/15\n",
      "44/44 [==============================] - 21s 484ms/step - loss: 0.1981 - accuracy: 0.9231 - binary_accuracy: 0.9231 - f1_score: 0.5010 - val_loss: 0.2548 - val_accuracy: 0.9125 - val_binary_accuracy: 0.9125 - val_f1_score: 0.4775\n",
      "Epoch 9/15\n",
      "44/44 [==============================] - 21s 479ms/step - loss: 0.1930 - accuracy: 0.9285 - binary_accuracy: 0.9285 - f1_score: 0.5610 - val_loss: 0.2637 - val_accuracy: 0.9110 - val_binary_accuracy: 0.9110 - val_f1_score: 0.4480\n",
      "Epoch 10/15\n",
      "44/44 [==============================] - 21s 486ms/step - loss: 0.1869 - accuracy: 0.9327 - binary_accuracy: 0.9327 - f1_score: 0.5960 - val_loss: 0.2526 - val_accuracy: 0.9181 - val_binary_accuracy: 0.9181 - val_f1_score: 0.5078\n",
      "Epoch 11/15\n",
      "44/44 [==============================] - 21s 485ms/step - loss: 0.1738 - accuracy: 0.9375 - binary_accuracy: 0.9375 - f1_score: 0.6210 - val_loss: 0.2670 - val_accuracy: 0.9153 - val_binary_accuracy: 0.9153 - val_f1_score: 0.5021\n",
      "Epoch 12/15\n",
      "44/44 [==============================] - 21s 480ms/step - loss: 0.1699 - accuracy: 0.9399 - binary_accuracy: 0.9399 - f1_score: 0.6355 - val_loss: 0.2649 - val_accuracy: 0.9167 - val_binary_accuracy: 0.9167 - val_f1_score: 0.5275\n",
      "Epoch 13/15\n",
      "44/44 [==============================] - 21s 489ms/step - loss: 0.1631 - accuracy: 0.9413 - binary_accuracy: 0.9413 - f1_score: 0.6533 - val_loss: 0.2602 - val_accuracy: 0.9089 - val_binary_accuracy: 0.9089 - val_f1_score: 0.5177\n",
      "Epoch 14/15\n",
      "44/44 [==============================] - 21s 486ms/step - loss: 0.1565 - accuracy: 0.9454 - binary_accuracy: 0.9454 - f1_score: 0.6703 - val_loss: 0.2619 - val_accuracy: 0.9203 - val_binary_accuracy: 0.9203 - val_f1_score: 0.5498\n",
      "Epoch 15/15\n",
      "44/44 [==============================] - 22s 500ms/step - loss: 0.1431 - accuracy: 0.9502 - binary_accuracy: 0.9502 - f1_score: 0.7148 - val_loss: 0.2729 - val_accuracy: 0.9160 - val_binary_accuracy: 0.9160 - val_f1_score: 0.5020\n"
     ]
    }
   ],
   "source": [
    "model = lstm_model.fit(x_train, y_train, epochs=15, batch_size=128, validation_data=(x_test, y_test))"
   ]
  },
  {
   "cell_type": "code",
   "execution_count": 9,
   "metadata": {},
   "outputs": [
    {
     "name": "stdout",
     "output_type": "stream",
     "text": [
      " 2/11 [====>.........................] - ETA: 1s - loss: 0.2417 - accuracy: 0.9258 - binary_accuracy: 0.9258 - f1_score: 0.5000"
     ]
    },
    {
     "name": "stdout",
     "output_type": "stream",
     "text": [
      "11/11 [==============================] - 2s 161ms/step - loss: 0.2729 - accuracy: 0.9160 - binary_accuracy: 0.9160 - f1_score: 0.5020\n",
      "loss :  0.27293476462364197\n",
      "accuracy :  0.9160142540931702\n",
      "binary_accuracy :  0.9160142540931702\n",
      "f1_score :  0.5019952654838562\n",
      "\n"
     ]
    }
   ],
   "source": [
    "results = lstm_model.evaluate(x_test, y_test, batch_size=128)\n",
    "\n",
    "for name, value in zip(lstm_model.metrics_names, results):\n",
    "  print(name, ': ', value)\n",
    "print()"
   ]
  },
  {
   "cell_type": "code",
   "execution_count": 12,
   "metadata": {},
   "outputs": [
    {
     "ename": "",
     "evalue": "",
     "output_type": "error",
     "traceback": [
      "\u001b[1;31mThe Kernel crashed while executing code in the the current cell or a previous cell. Please review the code in the cell(s) to identify a possible cause of the failure. Click <a href='https://aka.ms/vscodeJupyterKernelCrash'>here</a> for more info. View Jupyter <a href='command:jupyter.viewOutput'>log</a> for further details."
     ]
    }
   ],
   "source": [
    "#import joblib\n",
    "\n",
    "#model_filename = '../../../models/generated-models-base-paper/offensive_lstm_embeddings_model.pkl'\n",
    "#joblib.dump(model, model_filename)"
   ]
  }
 ],
 "metadata": {
  "kernelspec": {
   "display_name": "Python 3 (ipykernel)",
   "language": "python",
   "name": "python3"
  },
  "language_info": {
   "codemirror_mode": {
    "name": "ipython",
    "version": 3
   },
   "file_extension": ".py",
   "mimetype": "text/x-python",
   "name": "python",
   "nbconvert_exporter": "python",
   "pygments_lexer": "ipython3",
   "version": "3.10.4"
  },
  "orig_nbformat": 4
 },
 "nbformat": 4,
 "nbformat_minor": 2
}
