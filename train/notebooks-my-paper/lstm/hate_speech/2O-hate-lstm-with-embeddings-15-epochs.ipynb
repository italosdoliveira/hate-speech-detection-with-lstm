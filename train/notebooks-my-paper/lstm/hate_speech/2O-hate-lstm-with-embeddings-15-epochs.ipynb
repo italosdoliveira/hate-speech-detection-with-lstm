{
 "cells": [
  {
   "cell_type": "code",
   "execution_count": 1,
   "metadata": {},
   "outputs": [
    {
     "name": "stderr",
     "output_type": "stream",
     "text": [
      "2023-10-29 00:22:35.143129: W tensorflow/stream_executor/platform/default/dso_loader.cc:64] Could not load dynamic library 'libcudart.so.11.0'; dlerror: libcudart.so.11.0: cannot open shared object file: No such file or directory\n",
      "2023-10-29 00:22:35.143165: I tensorflow/stream_executor/cuda/cudart_stub.cc:29] Ignore above cudart dlerror if you do not have a GPU set up on your machine.\n"
     ]
    }
   ],
   "source": [
    "import sys  \n",
    "import os\n",
    "import pandas as pd\n",
    "import io\n",
    "sys.path.insert(0, '../../../../scripts/')\n",
    "sys.path.insert(0, '../../../../dataset/')\n",
    "import hate_column_converter\n",
    "import embedding_reader\n",
    "import custom_keras_metrics\n",
    "import tensorflow as tf\n",
    "import keras.backend as K\n",
    "import os\n",
    "import time\n",
    "import gc\n",
    "import glob\n",
    "import wget\n",
    "import zipfile\n",
    "import numpy as np\n",
    "from sklearn.model_selection import train_test_split\n",
    "from keras.preprocessing.text import Tokenizer\n",
    "from keras.preprocessing.sequence import pad_sequences\n",
    "from tensorflow.keras.layers import LSTM\n",
    "from tensorflow.keras.preprocessing import text, sequence\n",
    "from keras.layers import Reshape, Flatten, Concatenate, Dropout, SpatialDropout1D\n",
    "from tensorflow.keras.optimizers import Adam\n",
    "from keras.models import Model\n",
    "from keras import backend as K\n",
    "from tensorflow.keras.layers import Layer\n",
    "from keras import initializers, regularizers, constraints, optimizers, layers\n",
    "from tensorflow.keras.utils import to_categorical\n",
    "from sklearn.preprocessing import LabelEncoder\n",
    "from keras.layers import *\n",
    "from keras.models import *\n",
    "from keras import initializers, regularizers, constraints, optimizers, layers\n",
    "from keras.initializers import *\n",
    "from keras.optimizers import *\n",
    "from keras.callbacks import *\n",
    "from keras import metrics\n",
    "from tqdm import tqdm"
   ]
  },
  {
   "cell_type": "code",
   "execution_count": 2,
   "metadata": {},
   "outputs": [],
   "source": [
    "#wget.download(\"http://143.107.183.175:22980/download.php?file=embeddings/glove/glove_s300.zip\", out=\"../../../../embeddings/\")"
   ]
  },
  {
   "cell_type": "code",
   "execution_count": 3,
   "metadata": {},
   "outputs": [],
   "source": [
    "#with zipfile.ZipFile(\"../../../../embeddings/glove_s300.zip\", 'r') as zip_ref:\n",
    "    #zip_ref.extractall(\"../../../../embeddings/\")"
   ]
  },
  {
   "cell_type": "code",
   "execution_count": 2,
   "metadata": {},
   "outputs": [
    {
     "name": "stderr",
     "output_type": "stream",
     "text": [
      "/workspaces/hate-speech-detection-python/train/notebooks-my-paper/lstm/hate_speech/../../../../scripts/hate_column_converter.py:8: SettingWithCopyWarning: \n",
      "A value is trying to be set on a copy of a slice from a DataFrame.\n",
      "Try using .loc[row_indexer,col_indexer] = value instead\n",
      "\n",
      "See the caveats in the documentation: https://pandas.pydata.org/pandas-docs/stable/user_guide/indexing.html#returning-a-view-versus-a-copy\n",
      "  lines_with_two_numbers_in_hate_speech[['col1', 'col2']] = lines_with_two_numbers_in_hate_speech['hate_speech'].str.split(',', expand=True)\n",
      "/workspaces/hate-speech-detection-python/train/notebooks-my-paper/lstm/hate_speech/../../../../scripts/hate_column_converter.py:8: SettingWithCopyWarning: \n",
      "A value is trying to be set on a copy of a slice from a DataFrame.\n",
      "Try using .loc[row_indexer,col_indexer] = value instead\n",
      "\n",
      "See the caveats in the documentation: https://pandas.pydata.org/pandas-docs/stable/user_guide/indexing.html#returning-a-view-versus-a-copy\n",
      "  lines_with_two_numbers_in_hate_speech[['col1', 'col2']] = lines_with_two_numbers_in_hate_speech['hate_speech'].str.split(',', expand=True)\n"
     ]
    }
   ],
   "source": [
    "MAX_LENGTH = 300\n",
    "dataframe = pd.read_csv('../../../../dataset/HateBR.csv')\n",
    "new_dataframe = hate_column_converter.convert_to_binary(dataframe)\n",
    "classes_zero = new_dataframe[new_dataframe['hate_speech'] == 0]\n",
    "classes_one = new_dataframe[new_dataframe['hate_speech'] == 1]\n",
    "classes_one_oversampled = classes_one.sample(len(classes_zero), replace=True)\n",
    "dataframe_oversampled = pd.concat([classes_zero, classes_one_oversampled]) \n",
    "instagram_comments = dataframe_oversampled['instagram_comments']\n",
    "y = dataframe_oversampled['hate_speech']"
   ]
  },
  {
   "cell_type": "code",
   "execution_count": 3,
   "metadata": {},
   "outputs": [],
   "source": [
    "x = dataframe_oversampled['instagram_comments']"
   ]
  },
  {
   "cell_type": "code",
   "execution_count": 4,
   "metadata": {},
   "outputs": [],
   "source": [
    "token = Tokenizer()\n",
    "token.fit_on_texts(x)\n",
    "sequences = token.texts_to_sequences(x)\n",
    "x = pad_sequences(sequences,maxlen=MAX_LENGTH)\n",
    "vocabulary_size = len(token.word_index)+1"
   ]
  },
  {
   "cell_type": "code",
   "execution_count": 5,
   "metadata": {},
   "outputs": [
    {
     "name": "stderr",
     "output_type": "stream",
     "text": [
      "100%|██████████| 11530/11530 [00:00<00:00, 391489.65it/s]\n"
     ]
    }
   ],
   "source": [
    "embedding_vector = embedding_reader.read_glove_file()\n",
    "embedding_matrix = np.zeros((vocabulary_size,MAX_LENGTH))\n",
    "for word,i in tqdm(token.word_index.items()):\n",
    "    embedding_value = embedding_vector.get(word)\n",
    "    if embedding_value is not None:\n",
    "        embedding_matrix[i] = embedding_value"
   ]
  },
  {
   "cell_type": "code",
   "execution_count": 6,
   "metadata": {},
   "outputs": [],
   "source": [
    "x_train, x_test, y_train, y_test = train_test_split(x, y, train_size=0.8, test_size=0.2)"
   ]
  },
  {
   "cell_type": "code",
   "execution_count": 7,
   "metadata": {},
   "outputs": [
    {
     "name": "stderr",
     "output_type": "stream",
     "text": [
      "2023-10-29 00:24:16.479063: W tensorflow/stream_executor/platform/default/dso_loader.cc:64] Could not load dynamic library 'libcuda.so.1'; dlerror: libcuda.so.1: cannot open shared object file: No such file or directory\n",
      "2023-10-29 00:24:16.479131: W tensorflow/stream_executor/cuda/cuda_driver.cc:269] failed call to cuInit: UNKNOWN ERROR (303)\n",
      "2023-10-29 00:24:16.479168: I tensorflow/stream_executor/cuda/cuda_diagnostics.cc:156] kernel driver does not appear to be running on this host (codespaces-fbf4a0): /proc/driver/nvidia/version does not exist\n",
      "2023-10-29 00:24:16.479735: I tensorflow/core/platform/cpu_feature_guard.cc:151] This TensorFlow binary is optimized with oneAPI Deep Neural Network Library (oneDNN) to use the following CPU instructions in performance-critical operations:  AVX2 FMA\n",
      "To enable them in other operations, rebuild TensorFlow with the appropriate compiler flags.\n"
     ]
    }
   ],
   "source": [
    "lstm_model = Sequential()\n",
    "lstm_model.add(Embedding(vocabulary_size,MAX_LENGTH,weights=[embedding_matrix],input_length=x.shape[1],trainable=False))\n",
    "lstm_model.add(Dropout(0.25))\n",
    "lstm_model.add(LSTM(64))\n",
    "lstm_model.add(Dropout(0.5))\n",
    "lstm_model.add(Dense(1))\n",
    "lstm_model.add(Activation('sigmoid'))\n",
    "lstm_model.compile(loss='binary_crossentropy', optimizer='adam', metrics=['accuracy', 'binary_accuracy', custom_keras_metrics.f1_score])"
   ]
  },
  {
   "cell_type": "code",
   "execution_count": 8,
   "metadata": {},
   "outputs": [
    {
     "name": "stdout",
     "output_type": "stream",
     "text": [
      "Epoch 1/15\n"
     ]
    },
    {
     "name": "stderr",
     "output_type": "stream",
     "text": [
      "2023-10-29 00:24:22.373039: W tensorflow/core/framework/cpu_allocator_impl.cc:82] Allocation of 46080000 exceeds 10% of free system memory.\n",
      "2023-10-29 00:24:22.389977: W tensorflow/core/framework/cpu_allocator_impl.cc:82] Allocation of 46080000 exceeds 10% of free system memory.\n",
      "2023-10-29 00:24:22.465769: W tensorflow/core/framework/cpu_allocator_impl.cc:82] Allocation of 46080000 exceeds 10% of free system memory.\n",
      "2023-10-29 00:24:22.561403: W tensorflow/core/framework/cpu_allocator_impl.cc:82] Allocation of 46080000 exceeds 10% of free system memory.\n"
     ]
    },
    {
     "name": "stdout",
     "output_type": "stream",
     "text": [
      " 1/79 [..............................] - ETA: 3:02 - loss: 0.6829 - accuracy: 0.5391 - binary_accuracy: 0.5391 - f1_score: 0.4587"
     ]
    },
    {
     "name": "stderr",
     "output_type": "stream",
     "text": [
      "2023-10-29 00:24:23.109732: W tensorflow/core/framework/cpu_allocator_impl.cc:82] Allocation of 46080000 exceeds 10% of free system memory.\n"
     ]
    },
    {
     "name": "stdout",
     "output_type": "stream",
     "text": [
      "79/79 [==============================] - 42s 508ms/step - loss: 0.5650 - accuracy: 0.7065 - binary_accuracy: 0.7065 - f1_score: 0.7064 - val_loss: 0.4592 - val_accuracy: 0.7825 - val_binary_accuracy: 0.7825 - val_f1_score: 0.7706\n",
      "Epoch 2/15\n",
      "79/79 [==============================] - 41s 519ms/step - loss: 0.4571 - accuracy: 0.7881 - binary_accuracy: 0.7881 - f1_score: 0.7811 - val_loss: 0.4061 - val_accuracy: 0.8115 - val_binary_accuracy: 0.8115 - val_f1_score: 0.7941\n",
      "Epoch 3/15\n",
      "79/79 [==============================] - 42s 537ms/step - loss: 0.3957 - accuracy: 0.8229 - binary_accuracy: 0.8229 - f1_score: 0.8198 - val_loss: 0.3505 - val_accuracy: 0.8440 - val_binary_accuracy: 0.8440 - val_f1_score: 0.8429\n",
      "Epoch 4/15\n",
      "79/79 [==============================] - 42s 538ms/step - loss: 0.3518 - accuracy: 0.8467 - binary_accuracy: 0.8467 - f1_score: 0.8431 - val_loss: 0.3159 - val_accuracy: 0.8718 - val_binary_accuracy: 0.8718 - val_f1_score: 0.8754\n",
      "Epoch 5/15\n",
      "79/79 [==============================] - 40s 508ms/step - loss: 0.3124 - accuracy: 0.8660 - binary_accuracy: 0.8660 - f1_score: 0.8648 - val_loss: 0.2743 - val_accuracy: 0.8909 - val_binary_accuracy: 0.8909 - val_f1_score: 0.8920\n",
      "Epoch 6/15\n",
      "79/79 [==============================] - 40s 511ms/step - loss: 0.2685 - accuracy: 0.8872 - binary_accuracy: 0.8872 - f1_score: 0.8859 - val_loss: 0.2456 - val_accuracy: 0.8956 - val_binary_accuracy: 0.8956 - val_f1_score: 0.8922\n",
      "Epoch 7/15\n",
      "79/79 [==============================] - 40s 513ms/step - loss: 0.2308 - accuracy: 0.9062 - binary_accuracy: 0.9062 - f1_score: 0.9049 - val_loss: 0.2263 - val_accuracy: 0.9079 - val_binary_accuracy: 0.9079 - val_f1_score: 0.9058\n",
      "Epoch 8/15\n",
      "79/79 [==============================] - 38s 486ms/step - loss: 0.2083 - accuracy: 0.9156 - binary_accuracy: 0.9156 - f1_score: 0.9149 - val_loss: 0.2537 - val_accuracy: 0.9052 - val_binary_accuracy: 0.9052 - val_f1_score: 0.9087\n",
      "Epoch 9/15\n",
      "79/79 [==============================] - 38s 486ms/step - loss: 0.1898 - accuracy: 0.9212 - binary_accuracy: 0.9212 - f1_score: 0.9205 - val_loss: 0.1911 - val_accuracy: 0.9250 - val_binary_accuracy: 0.9250 - val_f1_score: 0.9259\n",
      "Epoch 10/15\n",
      "79/79 [==============================] - 39s 493ms/step - loss: 0.1750 - accuracy: 0.9306 - binary_accuracy: 0.9306 - f1_score: 0.9296 - val_loss: 0.1755 - val_accuracy: 0.9345 - val_binary_accuracy: 0.9345 - val_f1_score: 0.9355\n",
      "Epoch 11/15\n",
      "79/79 [==============================] - 38s 485ms/step - loss: 0.1416 - accuracy: 0.9419 - binary_accuracy: 0.9419 - f1_score: 0.9413 - val_loss: 0.1941 - val_accuracy: 0.9278 - val_binary_accuracy: 0.9278 - val_f1_score: 0.9287\n",
      "Epoch 12/15\n",
      "79/79 [==============================] - 38s 481ms/step - loss: 0.1304 - accuracy: 0.9439 - binary_accuracy: 0.9439 - f1_score: 0.9432 - val_loss: 0.1630 - val_accuracy: 0.9397 - val_binary_accuracy: 0.9397 - val_f1_score: 0.9402\n",
      "Epoch 13/15\n",
      "79/79 [==============================] - 38s 479ms/step - loss: 0.1260 - accuracy: 0.9483 - binary_accuracy: 0.9483 - f1_score: 0.9473 - val_loss: 0.1813 - val_accuracy: 0.9345 - val_binary_accuracy: 0.9345 - val_f1_score: 0.9355\n",
      "Epoch 14/15\n",
      "79/79 [==============================] - 39s 487ms/step - loss: 0.1133 - accuracy: 0.9534 - binary_accuracy: 0.9534 - f1_score: 0.9531 - val_loss: 0.1662 - val_accuracy: 0.9361 - val_binary_accuracy: 0.9361 - val_f1_score: 0.9369\n",
      "Epoch 15/15\n",
      "79/79 [==============================] - 38s 487ms/step - loss: 0.1036 - accuracy: 0.9588 - binary_accuracy: 0.9588 - f1_score: 0.9582 - val_loss: 0.1732 - val_accuracy: 0.9345 - val_binary_accuracy: 0.9345 - val_f1_score: 0.9356\n"
     ]
    }
   ],
   "source": [
    "model = lstm_model.fit(x_train, y_train, epochs=15, batch_size=128, validation_data=(x_test, y_test))"
   ]
  },
  {
   "cell_type": "code",
   "execution_count": 9,
   "metadata": {},
   "outputs": [
    {
     "name": "stdout",
     "output_type": "stream",
     "text": [
      " 1/20 [>.............................] - ETA: 3s - loss: 0.2472 - accuracy: 0.9141 - binary_accuracy: 0.9141 - f1_score: 0.9160"
     ]
    },
    {
     "name": "stdout",
     "output_type": "stream",
     "text": [
      "20/20 [==============================] - 3s 173ms/step - loss: 0.1732 - accuracy: 0.9345 - binary_accuracy: 0.9345 - f1_score: 0.9356\n",
      "loss :  0.17322368919849396\n",
      "accuracy :  0.9345238208770752\n",
      "binary_accuracy :  0.9345238208770752\n",
      "f1_score :  0.935581386089325\n",
      "\n"
     ]
    },
    {
     "ename": "",
     "evalue": "",
     "output_type": "error",
     "traceback": [
      "\u001b[1;31mThe Kernel crashed while executing code in the the current cell or a previous cell. Please review the code in the cell(s) to identify a possible cause of the failure. Click <a href='https://aka.ms/vscodeJupyterKernelCrash'>here</a> for more info. View Jupyter <a href='command:jupyter.viewOutput'>log</a> for further details."
     ]
    }
   ],
   "source": [
    "results = lstm_model.evaluate(x_test, y_test, batch_size=128)\n",
    "\n",
    "for name, value in zip(lstm_model.metrics_names, results):\n",
    "  print(name, ': ', value)\n",
    "print()"
   ]
  },
  {
   "cell_type": "code",
   "execution_count": 12,
   "metadata": {},
   "outputs": [
    {
     "ename": "",
     "evalue": "",
     "output_type": "error",
     "traceback": [
      "\u001b[1;31mThe Kernel crashed while executing code in the the current cell or a previous cell. Please review the code in the cell(s) to identify a possible cause of the failure. Click <a href='https://aka.ms/vscodeJupyterKernelCrash'>here</a> for more info. View Jupyter <a href='command:jupyter.viewOutput'>log</a> for further details."
     ]
    }
   ],
   "source": [
    "#import joblib\n",
    "\n",
    "#model_filename = '../../../models/generated-models-base-paper/offensive_lstm_embeddings_model.pkl'\n",
    "#joblib.dump(model, model_filename)"
   ]
  }
 ],
 "metadata": {
  "kernelspec": {
   "display_name": "Python 3 (ipykernel)",
   "language": "python",
   "name": "python3"
  },
  "language_info": {
   "codemirror_mode": {
    "name": "ipython",
    "version": 3
   },
   "file_extension": ".py",
   "mimetype": "text/x-python",
   "name": "python",
   "nbconvert_exporter": "python",
   "pygments_lexer": "ipython3",
   "version": "3.10.4"
  },
  "orig_nbformat": 4
 },
 "nbformat": 4,
 "nbformat_minor": 2
}
