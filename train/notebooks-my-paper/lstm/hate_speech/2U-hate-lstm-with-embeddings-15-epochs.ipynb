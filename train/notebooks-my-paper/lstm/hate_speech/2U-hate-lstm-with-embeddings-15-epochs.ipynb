{
 "cells": [
  {
   "cell_type": "code",
   "execution_count": 1,
   "metadata": {},
   "outputs": [
    {
     "name": "stderr",
     "output_type": "stream",
     "text": [
      "2023-10-24 11:51:47.734972: W tensorflow/stream_executor/platform/default/dso_loader.cc:64] Could not load dynamic library 'libcudart.so.11.0'; dlerror: libcudart.so.11.0: cannot open shared object file: No such file or directory\n",
      "2023-10-24 11:51:47.735008: I tensorflow/stream_executor/cuda/cudart_stub.cc:29] Ignore above cudart dlerror if you do not have a GPU set up on your machine.\n"
     ]
    }
   ],
   "source": [
    "import sys  \n",
    "import os\n",
    "import pandas as pd\n",
    "import io\n",
    "sys.path.insert(0, '../../../../scripts/')\n",
    "sys.path.insert(0, '../../../../dataset/')\n",
    "import hate_column_converter\n",
    "import embedding_reader\n",
    "import custom_keras_metrics\n",
    "import tensorflow as tf\n",
    "import keras.backend as K\n",
    "import os\n",
    "import time\n",
    "import gc\n",
    "import glob\n",
    "import wget\n",
    "import zipfile\n",
    "import numpy as np\n",
    "from sklearn.model_selection import train_test_split\n",
    "from keras.preprocessing.text import Tokenizer\n",
    "from keras.preprocessing.sequence import pad_sequences\n",
    "from tensorflow.keras.layers import LSTM\n",
    "from tensorflow.keras.preprocessing import text, sequence\n",
    "from keras.layers import Reshape, Flatten, Concatenate, Dropout, SpatialDropout1D\n",
    "from tensorflow.keras.optimizers import Adam\n",
    "from keras.models import Model\n",
    "from keras import backend as K\n",
    "from tensorflow.keras.layers import Layer\n",
    "from keras import initializers, regularizers, constraints, optimizers, layers\n",
    "from tensorflow.keras.utils import to_categorical\n",
    "from sklearn.preprocessing import LabelEncoder\n",
    "from keras.layers import *\n",
    "from keras.models import *\n",
    "from keras import initializers, regularizers, constraints, optimizers, layers\n",
    "from keras.initializers import *\n",
    "from keras.optimizers import *\n",
    "from keras.callbacks import *\n",
    "from keras import metrics\n",
    "from tqdm import tqdm"
   ]
  },
  {
   "cell_type": "code",
   "execution_count": 2,
   "metadata": {},
   "outputs": [],
   "source": [
    "#wget.download(\"http://143.107.183.175:22980/download.php?file=embeddings/glove/glove_s300.zip\", out=\"../../../../embeddings/\")"
   ]
  },
  {
   "cell_type": "code",
   "execution_count": 3,
   "metadata": {},
   "outputs": [],
   "source": [
    "#with zipfile.ZipFile(\"../../../../embeddings/glove_s300.zip\", 'r') as zip_ref:\n",
    "    #zip_ref.extractall(\"../../../../embeddings/\")"
   ]
  },
  {
   "cell_type": "code",
   "execution_count": 2,
   "metadata": {},
   "outputs": [
    {
     "name": "stderr",
     "output_type": "stream",
     "text": [
      "/workspaces/hate-speech-detection-python/train/notebooks-my-paper/lstm/hate_speech/../../../../scripts/hate_column_converter.py:8: SettingWithCopyWarning: \n",
      "A value is trying to be set on a copy of a slice from a DataFrame.\n",
      "Try using .loc[row_indexer,col_indexer] = value instead\n",
      "\n",
      "See the caveats in the documentation: https://pandas.pydata.org/pandas-docs/stable/user_guide/indexing.html#returning-a-view-versus-a-copy\n",
      "  lines_with_two_numbers_in_hate_speech[['col1', 'col2']] = lines_with_two_numbers_in_hate_speech['hate_speech'].str.split(',', expand=True)\n",
      "/workspaces/hate-speech-detection-python/train/notebooks-my-paper/lstm/hate_speech/../../../../scripts/hate_column_converter.py:8: SettingWithCopyWarning: \n",
      "A value is trying to be set on a copy of a slice from a DataFrame.\n",
      "Try using .loc[row_indexer,col_indexer] = value instead\n",
      "\n",
      "See the caveats in the documentation: https://pandas.pydata.org/pandas-docs/stable/user_guide/indexing.html#returning-a-view-versus-a-copy\n",
      "  lines_with_two_numbers_in_hate_speech[['col1', 'col2']] = lines_with_two_numbers_in_hate_speech['hate_speech'].str.split(',', expand=True)\n"
     ]
    }
   ],
   "source": [
    "MAX_LENGTH = 300\n",
    "dataframe = pd.read_csv('../../../../dataset/HateBR.csv')\n",
    "new_dataframe = hate_column_converter.convert_to_binary(dataframe)\n",
    "classes_zero = new_dataframe[new_dataframe['hate_speech'] == 0]\n",
    "classes_one = new_dataframe[new_dataframe['hate_speech'] == 1]\n",
    "classes_zero_undersampled = classes_zero.sample(len(classes_one))\n",
    "dataframe_undersampled = pd.concat([classes_zero_undersampled, classes_one]) \n",
    "instagram_comments = dataframe_undersampled['instagram_comments']\n",
    "y = dataframe_undersampled['hate_speech']"
   ]
  },
  {
   "cell_type": "code",
   "execution_count": 3,
   "metadata": {},
   "outputs": [],
   "source": [
    "x = dataframe_undersampled['instagram_comments']"
   ]
  },
  {
   "cell_type": "code",
   "execution_count": 4,
   "metadata": {},
   "outputs": [],
   "source": [
    "token = Tokenizer()\n",
    "token.fit_on_texts(x)\n",
    "sequences = token.texts_to_sequences(x)\n",
    "x = pad_sequences(sequences,maxlen=MAX_LENGTH)\n",
    "vocabulary_size = len(token.word_index)+1"
   ]
  },
  {
   "cell_type": "code",
   "execution_count": 5,
   "metadata": {},
   "outputs": [
    {
     "name": "stderr",
     "output_type": "stream",
     "text": [
      "100%|██████████| 4928/4928 [00:00<00:00, 470232.28it/s]\n"
     ]
    }
   ],
   "source": [
    "embedding_vector = embedding_reader.read_glove_file()\n",
    "embedding_matrix = np.zeros((vocabulary_size,MAX_LENGTH))\n",
    "for word,i in tqdm(token.word_index.items()):\n",
    "    embedding_value = embedding_vector.get(word)\n",
    "    if embedding_value is not None:\n",
    "        embedding_matrix[i] = embedding_value"
   ]
  },
  {
   "cell_type": "code",
   "execution_count": 6,
   "metadata": {},
   "outputs": [],
   "source": [
    "x_train, x_test, y_train, y_test = train_test_split(x, y, train_size=0.8, test_size=0.2)"
   ]
  },
  {
   "cell_type": "code",
   "execution_count": 8,
   "metadata": {},
   "outputs": [],
   "source": [
    "lstm_model = Sequential()\n",
    "lstm_model.add(Embedding(vocabulary_size,MAX_LENGTH,weights=[embedding_matrix],input_length=x.shape[1],trainable=False))\n",
    "lstm_model.add(Dropout(0.25))\n",
    "lstm_model.add(LSTM(64))\n",
    "lstm_model.add(Dropout(0.5))\n",
    "lstm_model.add(Dense(1))\n",
    "lstm_model.add(Activation('sigmoid'))\n",
    "lstm_model.compile(loss='binary_crossentropy', optimizer='adam', metrics=['accuracy', 'binary_accuracy', custom_keras_metrics.f1_score])"
   ]
  },
  {
   "cell_type": "code",
   "execution_count": 9,
   "metadata": {},
   "outputs": [
    {
     "name": "stdout",
     "output_type": "stream",
     "text": [
      "Epoch 1/15\n"
     ]
    },
    {
     "name": "stderr",
     "output_type": "stream",
     "text": [
      "2023-10-24 11:56:49.808443: W tensorflow/core/framework/cpu_allocator_impl.cc:82] Allocation of 46080000 exceeds 10% of free system memory.\n",
      "2023-10-24 11:56:49.837359: W tensorflow/core/framework/cpu_allocator_impl.cc:82] Allocation of 46080000 exceeds 10% of free system memory.\n",
      "2023-10-24 11:56:49.926823: W tensorflow/core/framework/cpu_allocator_impl.cc:82] Allocation of 46080000 exceeds 10% of free system memory.\n",
      "2023-10-24 11:56:50.086661: W tensorflow/core/framework/cpu_allocator_impl.cc:82] Allocation of 46080000 exceeds 10% of free system memory.\n"
     ]
    },
    {
     "name": "stdout",
     "output_type": "stream",
     "text": [
      " 1/10 [==>...........................] - ETA: 34s - loss: 0.7068 - accuracy: 0.6016 - binary_accuracy: 0.6016 - f1_score: 0.7018"
     ]
    },
    {
     "name": "stderr",
     "output_type": "stream",
     "text": [
      "2023-10-24 11:56:51.423955: W tensorflow/core/framework/cpu_allocator_impl.cc:82] Allocation of 46080000 exceeds 10% of free system memory.\n"
     ]
    },
    {
     "name": "stdout",
     "output_type": "stream",
     "text": [
      "10/10 [==============================] - 9s 530ms/step - loss: 0.6832 - accuracy: 0.5666 - binary_accuracy: 0.5666 - f1_score: 0.6002 - val_loss: 0.6546 - val_accuracy: 0.6426 - val_binary_accuracy: 0.6426 - val_f1_score: 0.6349\n",
      "Epoch 2/15\n",
      "10/10 [==============================] - 5s 475ms/step - loss: 0.6360 - accuracy: 0.6629 - binary_accuracy: 0.6629 - f1_score: 0.6646 - val_loss: 0.6163 - val_accuracy: 0.6804 - val_binary_accuracy: 0.6804 - val_f1_score: 0.6898\n",
      "Epoch 3/15\n",
      "10/10 [==============================] - 5s 476ms/step - loss: 0.5942 - accuracy: 0.6913 - binary_accuracy: 0.6913 - f1_score: 0.7226 - val_loss: 0.5638 - val_accuracy: 0.7148 - val_binary_accuracy: 0.7148 - val_f1_score: 0.7083\n",
      "Epoch 4/15\n",
      "10/10 [==============================] - 5s 467ms/step - loss: 0.5531 - accuracy: 0.7300 - binary_accuracy: 0.7300 - f1_score: 0.7278 - val_loss: 0.5142 - val_accuracy: 0.7663 - val_binary_accuracy: 0.7663 - val_f1_score: 0.7527\n",
      "Epoch 5/15\n",
      "10/10 [==============================] - 5s 490ms/step - loss: 0.5087 - accuracy: 0.7584 - binary_accuracy: 0.7584 - f1_score: 0.7516 - val_loss: 0.4913 - val_accuracy: 0.7560 - val_binary_accuracy: 0.7560 - val_f1_score: 0.7397\n",
      "Epoch 6/15\n",
      "10/10 [==============================] - 5s 471ms/step - loss: 0.4863 - accuracy: 0.7764 - binary_accuracy: 0.7764 - f1_score: 0.7715 - val_loss: 0.4671 - val_accuracy: 0.7801 - val_binary_accuracy: 0.7801 - val_f1_score: 0.7901\n",
      "Epoch 7/15\n",
      "10/10 [==============================] - 5s 487ms/step - loss: 0.4681 - accuracy: 0.7833 - binary_accuracy: 0.7833 - f1_score: 0.7947 - val_loss: 0.4795 - val_accuracy: 0.7732 - val_binary_accuracy: 0.7732 - val_f1_score: 0.7592\n",
      "Epoch 8/15\n",
      "10/10 [==============================] - 5s 486ms/step - loss: 0.4461 - accuracy: 0.8100 - binary_accuracy: 0.8100 - f1_score: 0.7908 - val_loss: 0.4992 - val_accuracy: 0.7595 - val_binary_accuracy: 0.7595 - val_f1_score: 0.7509\n",
      "Epoch 9/15\n",
      "10/10 [==============================] - 5s 473ms/step - loss: 0.4410 - accuracy: 0.8074 - binary_accuracy: 0.8074 - f1_score: 0.7869 - val_loss: 0.4552 - val_accuracy: 0.7766 - val_binary_accuracy: 0.7766 - val_f1_score: 0.7850\n",
      "Epoch 10/15\n",
      "10/10 [==============================] - 5s 468ms/step - loss: 0.4226 - accuracy: 0.8177 - binary_accuracy: 0.8177 - f1_score: 0.8127 - val_loss: 0.4465 - val_accuracy: 0.7766 - val_binary_accuracy: 0.7766 - val_f1_score: 0.7834\n",
      "Epoch 11/15\n",
      "10/10 [==============================] - 5s 477ms/step - loss: 0.3904 - accuracy: 0.8340 - binary_accuracy: 0.8340 - f1_score: 0.7918 - val_loss: 0.4365 - val_accuracy: 0.7973 - val_binary_accuracy: 0.7973 - val_f1_score: 0.8022\n",
      "Epoch 12/15\n",
      "10/10 [==============================] - 5s 461ms/step - loss: 0.3854 - accuracy: 0.8340 - binary_accuracy: 0.8340 - f1_score: 0.8241 - val_loss: 0.4356 - val_accuracy: 0.7938 - val_binary_accuracy: 0.7938 - val_f1_score: 0.7842\n",
      "Epoch 13/15\n",
      "10/10 [==============================] - 5s 456ms/step - loss: 0.3673 - accuracy: 0.8401 - binary_accuracy: 0.8401 - f1_score: 0.8399 - val_loss: 0.4472 - val_accuracy: 0.7904 - val_binary_accuracy: 0.7904 - val_f1_score: 0.7835\n",
      "Epoch 14/15\n",
      "10/10 [==============================] - 5s 460ms/step - loss: 0.3437 - accuracy: 0.8581 - binary_accuracy: 0.8581 - f1_score: 0.8313 - val_loss: 0.4713 - val_accuracy: 0.7973 - val_binary_accuracy: 0.7973 - val_f1_score: 0.7959\n",
      "Epoch 15/15\n",
      "10/10 [==============================] - 5s 462ms/step - loss: 0.3515 - accuracy: 0.8478 - binary_accuracy: 0.8478 - f1_score: 0.8430 - val_loss: 0.4908 - val_accuracy: 0.7629 - val_binary_accuracy: 0.7629 - val_f1_score: 0.7820\n"
     ]
    }
   ],
   "source": [
    "model = lstm_model.fit(x_train, y_train, epochs=15, batch_size=128, validation_data=(x_test, y_test))"
   ]
  },
  {
   "cell_type": "code",
   "execution_count": 10,
   "metadata": {},
   "outputs": [
    {
     "name": "stdout",
     "output_type": "stream",
     "text": [
      "3/3 [==============================] - 0s 108ms/step - loss: 0.4908 - accuracy: 0.7629 - binary_accuracy: 0.7629 - f1_score: 0.7820\n",
      "loss :  0.49081966280937195\n",
      "accuracy :  0.7628865838050842\n",
      "binary_accuracy :  0.7628865838050842\n",
      "f1_score :  0.7820364832878113\n",
      "\n"
     ]
    },
    {
     "ename": "",
     "evalue": "",
     "output_type": "error",
     "traceback": [
      "\u001b[1;31mThe Kernel crashed while executing code in the the current cell or a previous cell. Please review the code in the cell(s) to identify a possible cause of the failure. Click <a href='https://aka.ms/vscodeJupyterKernelCrash'>here</a> for more info. View Jupyter <a href='command:jupyter.viewOutput'>log</a> for further details."
     ]
    }
   ],
   "source": [
    "results = lstm_model.evaluate(x_test, y_test, batch_size=128)\n",
    "\n",
    "for name, value in zip(lstm_model.metrics_names, results):\n",
    "  print(name, ': ', value)\n",
    "print()"
   ]
  },
  {
   "cell_type": "code",
   "execution_count": 12,
   "metadata": {},
   "outputs": [
    {
     "ename": "",
     "evalue": "",
     "output_type": "error",
     "traceback": [
      "\u001b[1;31mThe Kernel crashed while executing code in the the current cell or a previous cell. Please review the code in the cell(s) to identify a possible cause of the failure. Click <a href='https://aka.ms/vscodeJupyterKernelCrash'>here</a> for more info. View Jupyter <a href='command:jupyter.viewOutput'>log</a> for further details."
     ]
    }
   ],
   "source": [
    "#import joblib\n",
    "\n",
    "#model_filename = '../../../models/generated-models-base-paper/offensive_lstm_embeddings_model.pkl'\n",
    "#joblib.dump(model, model_filename)"
   ]
  }
 ],
 "metadata": {
  "kernelspec": {
   "display_name": "Python 3 (ipykernel)",
   "language": "python",
   "name": "python3"
  },
  "language_info": {
   "codemirror_mode": {
    "name": "ipython",
    "version": 3
   },
   "file_extension": ".py",
   "mimetype": "text/x-python",
   "name": "python",
   "nbconvert_exporter": "python",
   "pygments_lexer": "ipython3",
   "version": "3.10.4"
  },
  "orig_nbformat": 4
 },
 "nbformat": 4,
 "nbformat_minor": 2
}
