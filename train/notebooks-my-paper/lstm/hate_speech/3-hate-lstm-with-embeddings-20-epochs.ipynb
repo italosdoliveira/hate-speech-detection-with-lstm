{
 "cells": [
  {
   "cell_type": "code",
   "execution_count": 1,
   "metadata": {},
   "outputs": [
    {
     "name": "stderr",
     "output_type": "stream",
     "text": [
      "2023-10-29 02:30:18.882181: W tensorflow/stream_executor/platform/default/dso_loader.cc:64] Could not load dynamic library 'libcudart.so.11.0'; dlerror: libcudart.so.11.0: cannot open shared object file: No such file or directory\n",
      "2023-10-29 02:30:18.882216: I tensorflow/stream_executor/cuda/cudart_stub.cc:29] Ignore above cudart dlerror if you do not have a GPU set up on your machine.\n"
     ]
    }
   ],
   "source": [
    "import sys  \n",
    "import os\n",
    "import pandas as pd\n",
    "import io\n",
    "sys.path.insert(0, '../../../../scripts/')\n",
    "sys.path.insert(0, '../../../../dataset/')\n",
    "import hate_column_converter\n",
    "import embedding_reader\n",
    "import custom_keras_metrics\n",
    "import tensorflow as tf\n",
    "import keras.backend as K\n",
    "import os\n",
    "import time\n",
    "import gc\n",
    "import glob\n",
    "import wget\n",
    "import zipfile\n",
    "import numpy as np\n",
    "from sklearn.model_selection import train_test_split\n",
    "from keras.preprocessing.text import Tokenizer\n",
    "from keras.preprocessing.sequence import pad_sequences\n",
    "from tensorflow.keras.layers import LSTM\n",
    "from tensorflow.keras.preprocessing import text, sequence\n",
    "from keras.layers import Reshape, Flatten, Concatenate, Dropout, SpatialDropout1D\n",
    "from tensorflow.keras.optimizers import Adam\n",
    "from keras.models import Model\n",
    "from keras import backend as K\n",
    "from tensorflow.keras.layers import Layer\n",
    "from keras import initializers, regularizers, constraints, optimizers, layers\n",
    "from tensorflow.keras.utils import to_categorical\n",
    "from sklearn.preprocessing import LabelEncoder\n",
    "from keras.layers import *\n",
    "from keras.models import *\n",
    "from keras import initializers, regularizers, constraints, optimizers, layers\n",
    "from keras.initializers import *\n",
    "from keras.optimizers import *\n",
    "from keras.callbacks import *\n",
    "from keras import metrics\n",
    "from tqdm import tqdm"
   ]
  },
  {
   "cell_type": "code",
   "execution_count": null,
   "metadata": {},
   "outputs": [],
   "source": [
    "#wget.download(\"http://143.107.183.175:22980/download.php?file=embeddings/glove/glove_s300.zip\", out=\"../../../../embeddings/\")"
   ]
  },
  {
   "cell_type": "code",
   "execution_count": null,
   "metadata": {},
   "outputs": [],
   "source": [
    "#with zipfile.ZipFile(\"../../../../embeddings/glove_s300.zip\", 'r') as zip_ref:\n",
    "    #zip_ref.extractall(\"../../../../embeddings/\")"
   ]
  },
  {
   "cell_type": "code",
   "execution_count": 2,
   "metadata": {},
   "outputs": [
    {
     "name": "stderr",
     "output_type": "stream",
     "text": [
      "/workspaces/hate-speech-detection-python/train/notebooks-my-paper/lstm/hate_speech/../../../../scripts/hate_column_converter.py:8: SettingWithCopyWarning: \n",
      "A value is trying to be set on a copy of a slice from a DataFrame.\n",
      "Try using .loc[row_indexer,col_indexer] = value instead\n",
      "\n",
      "See the caveats in the documentation: https://pandas.pydata.org/pandas-docs/stable/user_guide/indexing.html#returning-a-view-versus-a-copy\n",
      "  lines_with_two_numbers_in_hate_speech[['col1', 'col2']] = lines_with_two_numbers_in_hate_speech['hate_speech'].str.split(',', expand=True)\n",
      "/workspaces/hate-speech-detection-python/train/notebooks-my-paper/lstm/hate_speech/../../../../scripts/hate_column_converter.py:8: SettingWithCopyWarning: \n",
      "A value is trying to be set on a copy of a slice from a DataFrame.\n",
      "Try using .loc[row_indexer,col_indexer] = value instead\n",
      "\n",
      "See the caveats in the documentation: https://pandas.pydata.org/pandas-docs/stable/user_guide/indexing.html#returning-a-view-versus-a-copy\n",
      "  lines_with_two_numbers_in_hate_speech[['col1', 'col2']] = lines_with_two_numbers_in_hate_speech['hate_speech'].str.split(',', expand=True)\n"
     ]
    }
   ],
   "source": [
    "MAX_LENGTH = 300\n",
    "dataframe = pd.read_csv('../../../../dataset/HateBR.csv')\n",
    "new_dataframe = hate_column_converter.convert_to_binary(dataframe)\n",
    "y = new_dataframe['hate_speech']"
   ]
  },
  {
   "cell_type": "code",
   "execution_count": 3,
   "metadata": {},
   "outputs": [],
   "source": [
    "x = new_dataframe['instagram_comments']"
   ]
  },
  {
   "cell_type": "code",
   "execution_count": 4,
   "metadata": {},
   "outputs": [],
   "source": [
    "token = Tokenizer()\n",
    "token.fit_on_texts(x)\n",
    "sequences = token.texts_to_sequences(x)\n",
    "x = pad_sequences(sequences,maxlen=MAX_LENGTH)\n",
    "vocabulary_size = len(token.word_index)+1"
   ]
  },
  {
   "cell_type": "code",
   "execution_count": 5,
   "metadata": {},
   "outputs": [
    {
     "name": "stderr",
     "output_type": "stream",
     "text": [
      "100%|██████████| 11530/11530 [00:00<00:00, 235347.23it/s]\n"
     ]
    }
   ],
   "source": [
    "embedding_vector = embedding_reader.read_glove_file()\n",
    "embedding_matrix = np.zeros((vocabulary_size,MAX_LENGTH))\n",
    "for word,i in tqdm(token.word_index.items()):\n",
    "    embedding_value = embedding_vector.get(word)\n",
    "    if embedding_value is not None:\n",
    "        embedding_matrix[i] = embedding_value"
   ]
  },
  {
   "cell_type": "code",
   "execution_count": 6,
   "metadata": {},
   "outputs": [],
   "source": [
    "x_train, x_test, y_train, y_test = train_test_split(x, y, train_size=0.8, test_size=0.2)"
   ]
  },
  {
   "cell_type": "code",
   "execution_count": 7,
   "metadata": {},
   "outputs": [
    {
     "name": "stderr",
     "output_type": "stream",
     "text": [
      "2023-10-29 02:31:40.971599: W tensorflow/stream_executor/platform/default/dso_loader.cc:64] Could not load dynamic library 'libcuda.so.1'; dlerror: libcuda.so.1: cannot open shared object file: No such file or directory\n",
      "2023-10-29 02:31:40.971639: W tensorflow/stream_executor/cuda/cuda_driver.cc:269] failed call to cuInit: UNKNOWN ERROR (303)\n",
      "2023-10-29 02:31:40.971666: I tensorflow/stream_executor/cuda/cuda_diagnostics.cc:156] kernel driver does not appear to be running on this host (codespaces-fbf4a0): /proc/driver/nvidia/version does not exist\n",
      "2023-10-29 02:31:40.971864: I tensorflow/core/platform/cpu_feature_guard.cc:151] This TensorFlow binary is optimized with oneAPI Deep Neural Network Library (oneDNN) to use the following CPU instructions in performance-critical operations:  AVX2 FMA\n",
      "To enable them in other operations, rebuild TensorFlow with the appropriate compiler flags.\n"
     ]
    }
   ],
   "source": [
    "lstm_model = Sequential()\n",
    "lstm_model.add(Embedding(vocabulary_size,MAX_LENGTH,weights=[embedding_matrix],input_length=x.shape[1],trainable=False))\n",
    "lstm_model.add(Dropout(0.25))\n",
    "lstm_model.add(LSTM(64))\n",
    "lstm_model.add(Dropout(0.5))\n",
    "lstm_model.add(Dense(1))\n",
    "lstm_model.add(Activation('sigmoid'))\n",
    "lstm_model.compile(loss='binary_crossentropy', optimizer='adam', metrics=['accuracy', 'binary_accuracy', custom_keras_metrics.f1_score])"
   ]
  },
  {
   "cell_type": "code",
   "execution_count": 8,
   "metadata": {},
   "outputs": [
    {
     "name": "stdout",
     "output_type": "stream",
     "text": [
      "Epoch 1/20\n"
     ]
    },
    {
     "name": "stderr",
     "output_type": "stream",
     "text": [
      "2023-10-29 02:31:45.678984: W tensorflow/core/framework/cpu_allocator_impl.cc:82] Allocation of 46080000 exceeds 10% of free system memory.\n",
      "2023-10-29 02:31:45.693852: W tensorflow/core/framework/cpu_allocator_impl.cc:82] Allocation of 46080000 exceeds 10% of free system memory.\n",
      "2023-10-29 02:31:45.793453: W tensorflow/core/framework/cpu_allocator_impl.cc:82] Allocation of 46080000 exceeds 10% of free system memory.\n",
      "2023-10-29 02:31:45.883698: W tensorflow/core/framework/cpu_allocator_impl.cc:82] Allocation of 46080000 exceeds 10% of free system memory.\n"
     ]
    },
    {
     "name": "stdout",
     "output_type": "stream",
     "text": [
      " 1/44 [..............................] - ETA: 1:29 - loss: 0.7111 - accuracy: 0.5000 - binary_accuracy: 0.5000 - f1_score: 0.2000"
     ]
    },
    {
     "name": "stderr",
     "output_type": "stream",
     "text": [
      "2023-10-29 02:31:46.373056: W tensorflow/core/framework/cpu_allocator_impl.cc:82] Allocation of 46080000 exceeds 10% of free system memory.\n"
     ]
    },
    {
     "name": "stdout",
     "output_type": "stream",
     "text": [
      "44/44 [==============================] - 25s 544ms/step - loss: 0.4011 - accuracy: 0.8738 - binary_accuracy: 0.8738 - f1_score: 0.0163 - val_loss: 0.3107 - val_accuracy: 0.9011 - val_binary_accuracy: 0.9011 - val_f1_score: 0.0000e+00\n",
      "Epoch 2/20\n",
      "44/44 [==============================] - 22s 510ms/step - loss: 0.3163 - accuracy: 0.8954 - binary_accuracy: 0.8954 - f1_score: 0.0000e+00 - val_loss: 0.2760 - val_accuracy: 0.9004 - val_binary_accuracy: 0.9004 - val_f1_score: 0.0000e+00\n",
      "Epoch 3/20\n",
      "44/44 [==============================] - 22s 501ms/step - loss: 0.2840 - accuracy: 0.8973 - binary_accuracy: 0.8973 - f1_score: 0.0620 - val_loss: 0.2462 - val_accuracy: 0.9103 - val_binary_accuracy: 0.9103 - val_f1_score: 0.1825\n",
      "Epoch 4/20\n",
      "44/44 [==============================] - 21s 482ms/step - loss: 0.2573 - accuracy: 0.9055 - binary_accuracy: 0.9055 - f1_score: 0.2979 - val_loss: 0.2360 - val_accuracy: 0.9146 - val_binary_accuracy: 0.9146 - val_f1_score: 0.4102\n",
      "Epoch 5/20\n",
      "44/44 [==============================] - 21s 482ms/step - loss: 0.2397 - accuracy: 0.9109 - binary_accuracy: 0.9109 - f1_score: 0.3730 - val_loss: 0.2257 - val_accuracy: 0.9203 - val_binary_accuracy: 0.9203 - val_f1_score: 0.4308\n",
      "Epoch 6/20\n",
      "44/44 [==============================] - 22s 505ms/step - loss: 0.2215 - accuracy: 0.9162 - binary_accuracy: 0.9162 - f1_score: 0.4096 - val_loss: 0.2199 - val_accuracy: 0.9210 - val_binary_accuracy: 0.9210 - val_f1_score: 0.4534\n",
      "Epoch 7/20\n",
      "44/44 [==============================] - 23s 523ms/step - loss: 0.2175 - accuracy: 0.9219 - binary_accuracy: 0.9219 - f1_score: 0.5109 - val_loss: 0.2216 - val_accuracy: 0.9210 - val_binary_accuracy: 0.9210 - val_f1_score: 0.5233\n",
      "Epoch 8/20\n",
      "44/44 [==============================] - 22s 511ms/step - loss: 0.2156 - accuracy: 0.9214 - binary_accuracy: 0.9214 - f1_score: 0.5183 - val_loss: 0.2113 - val_accuracy: 0.9246 - val_binary_accuracy: 0.9246 - val_f1_score: 0.4978\n",
      "Epoch 9/20\n",
      "44/44 [==============================] - 22s 492ms/step - loss: 0.1971 - accuracy: 0.9272 - binary_accuracy: 0.9272 - f1_score: 0.5476 - val_loss: 0.2118 - val_accuracy: 0.9210 - val_binary_accuracy: 0.9210 - val_f1_score: 0.5169\n",
      "Epoch 10/20\n",
      "44/44 [==============================] - 21s 477ms/step - loss: 0.1929 - accuracy: 0.9267 - binary_accuracy: 0.9267 - f1_score: 0.5669 - val_loss: 0.2079 - val_accuracy: 0.9288 - val_binary_accuracy: 0.9288 - val_f1_score: 0.5533\n",
      "Epoch 11/20\n",
      "44/44 [==============================] - 21s 476ms/step - loss: 0.1827 - accuracy: 0.9351 - binary_accuracy: 0.9351 - f1_score: 0.6104 - val_loss: 0.2103 - val_accuracy: 0.9302 - val_binary_accuracy: 0.9302 - val_f1_score: 0.5643\n",
      "Epoch 12/20\n",
      "44/44 [==============================] - 21s 477ms/step - loss: 0.1734 - accuracy: 0.9386 - binary_accuracy: 0.9386 - f1_score: 0.6366 - val_loss: 0.2143 - val_accuracy: 0.9310 - val_binary_accuracy: 0.9310 - val_f1_score: 0.5656\n",
      "Epoch 13/20\n",
      "44/44 [==============================] - 21s 470ms/step - loss: 0.1693 - accuracy: 0.9411 - binary_accuracy: 0.9411 - f1_score: 0.6556 - val_loss: 0.2126 - val_accuracy: 0.9267 - val_binary_accuracy: 0.9267 - val_f1_score: 0.5603\n",
      "Epoch 14/20\n",
      "44/44 [==============================] - 21s 475ms/step - loss: 0.1584 - accuracy: 0.9431 - binary_accuracy: 0.9431 - f1_score: 0.6674 - val_loss: 0.2229 - val_accuracy: 0.9274 - val_binary_accuracy: 0.9274 - val_f1_score: 0.5121\n",
      "Epoch 15/20\n",
      "44/44 [==============================] - 21s 474ms/step - loss: 0.1571 - accuracy: 0.9432 - binary_accuracy: 0.9432 - f1_score: 0.6796 - val_loss: 0.2230 - val_accuracy: 0.9139 - val_binary_accuracy: 0.9139 - val_f1_score: 0.5712\n",
      "Epoch 16/20\n",
      "44/44 [==============================] - 21s 473ms/step - loss: 0.1447 - accuracy: 0.9509 - binary_accuracy: 0.9509 - f1_score: 0.7219 - val_loss: 0.2327 - val_accuracy: 0.9089 - val_binary_accuracy: 0.9089 - val_f1_score: 0.5431\n",
      "Epoch 17/20\n",
      "44/44 [==============================] - 21s 485ms/step - loss: 0.1306 - accuracy: 0.9553 - binary_accuracy: 0.9553 - f1_score: 0.7452 - val_loss: 0.2222 - val_accuracy: 0.9274 - val_binary_accuracy: 0.9274 - val_f1_score: 0.5822\n",
      "Epoch 18/20\n",
      "44/44 [==============================] - 21s 487ms/step - loss: 0.1333 - accuracy: 0.9514 - binary_accuracy: 0.9514 - f1_score: 0.7364 - val_loss: 0.2278 - val_accuracy: 0.9181 - val_binary_accuracy: 0.9181 - val_f1_score: 0.5794\n",
      "Epoch 19/20\n",
      "44/44 [==============================] - 21s 485ms/step - loss: 0.1261 - accuracy: 0.9582 - binary_accuracy: 0.9582 - f1_score: 0.7668 - val_loss: 0.2268 - val_accuracy: 0.9260 - val_binary_accuracy: 0.9260 - val_f1_score: 0.5738\n",
      "Epoch 20/20\n",
      "44/44 [==============================] - 21s 477ms/step - loss: 0.1119 - accuracy: 0.9607 - binary_accuracy: 0.9607 - f1_score: 0.7872 - val_loss: 0.2436 - val_accuracy: 0.9295 - val_binary_accuracy: 0.9295 - val_f1_score: 0.5815\n"
     ]
    }
   ],
   "source": [
    "model = lstm_model.fit(x_train, y_train, epochs=20, batch_size=128, validation_data=(x_test, y_test))"
   ]
  },
  {
   "cell_type": "code",
   "execution_count": 9,
   "metadata": {},
   "outputs": [
    {
     "name": "stdout",
     "output_type": "stream",
     "text": [
      "11/11 [==============================] - 2s 152ms/step - loss: 0.2436 - accuracy: 0.9295 - binary_accuracy: 0.9295 - f1_score: 0.5815\n",
      "loss :  0.24363566935062408\n",
      "accuracy :  0.9295373558998108\n",
      "binary_accuracy :  0.9295373558998108\n",
      "f1_score :  0.581535279750824\n",
      "\n"
     ]
    }
   ],
   "source": [
    "results = lstm_model.evaluate(x_test, y_test, batch_size=128)\n",
    "\n",
    "for name, value in zip(lstm_model.metrics_names, results):\n",
    "  print(name, ': ', value)\n",
    "print()"
   ]
  },
  {
   "cell_type": "code",
   "execution_count": null,
   "metadata": {},
   "outputs": [],
   "source": [
    "#import joblib\n",
    "\n",
    "#model_filename = '../../../models/generated-models-base-paper/offensive_lstm_embeddings_model.pkl'\n",
    "#joblib.dump(model, model_filename)"
   ]
  }
 ],
 "metadata": {
  "kernelspec": {
   "display_name": "Python 3 (ipykernel)",
   "language": "python",
   "name": "python3"
  },
  "language_info": {
   "codemirror_mode": {
    "name": "ipython",
    "version": 3
   },
   "file_extension": ".py",
   "mimetype": "text/x-python",
   "name": "python",
   "nbconvert_exporter": "python",
   "pygments_lexer": "ipython3",
   "version": "3.10.4"
  },
  "orig_nbformat": 4
 },
 "nbformat": 4,
 "nbformat_minor": 2
}
