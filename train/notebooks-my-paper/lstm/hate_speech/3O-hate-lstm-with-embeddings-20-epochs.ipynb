{
 "cells": [
  {
   "cell_type": "code",
   "execution_count": 1,
   "metadata": {},
   "outputs": [
    {
     "name": "stderr",
     "output_type": "stream",
     "text": [
      "2023-10-29 00:35:11.892449: W tensorflow/stream_executor/platform/default/dso_loader.cc:64] Could not load dynamic library 'libcudart.so.11.0'; dlerror: libcudart.so.11.0: cannot open shared object file: No such file or directory\n",
      "2023-10-29 00:35:11.892483: I tensorflow/stream_executor/cuda/cudart_stub.cc:29] Ignore above cudart dlerror if you do not have a GPU set up on your machine.\n"
     ]
    }
   ],
   "source": [
    "import sys  \n",
    "import os\n",
    "import pandas as pd\n",
    "import io\n",
    "sys.path.insert(0, '../../../../scripts/')\n",
    "sys.path.insert(0, '../../../../dataset/')\n",
    "import hate_column_converter\n",
    "import embedding_reader\n",
    "import custom_keras_metrics\n",
    "import tensorflow as tf\n",
    "import keras.backend as K\n",
    "import os\n",
    "import time\n",
    "import gc\n",
    "import glob\n",
    "import wget\n",
    "import zipfile\n",
    "import numpy as np\n",
    "from sklearn.model_selection import train_test_split\n",
    "from keras.preprocessing.text import Tokenizer\n",
    "from keras.preprocessing.sequence import pad_sequences\n",
    "from tensorflow.keras.layers import LSTM\n",
    "from tensorflow.keras.preprocessing import text, sequence\n",
    "from keras.layers import Reshape, Flatten, Concatenate, Dropout, SpatialDropout1D\n",
    "from tensorflow.keras.optimizers import Adam\n",
    "from keras.models import Model\n",
    "from keras import backend as K\n",
    "from tensorflow.keras.layers import Layer\n",
    "from keras import initializers, regularizers, constraints, optimizers, layers\n",
    "from tensorflow.keras.utils import to_categorical\n",
    "from sklearn.preprocessing import LabelEncoder\n",
    "from keras.layers import *\n",
    "from keras.models import *\n",
    "from keras import initializers, regularizers, constraints, optimizers, layers\n",
    "from keras.initializers import *\n",
    "from keras.optimizers import *\n",
    "from keras.callbacks import *\n",
    "from keras import metrics\n",
    "from tqdm import tqdm"
   ]
  },
  {
   "cell_type": "code",
   "execution_count": 2,
   "metadata": {},
   "outputs": [],
   "source": [
    "#wget.download(\"http://143.107.183.175:22980/download.php?file=embeddings/glove/glove_s300.zip\", out=\"../../../../embeddings/\")"
   ]
  },
  {
   "cell_type": "code",
   "execution_count": 3,
   "metadata": {},
   "outputs": [],
   "source": [
    "#with zipfile.ZipFile(\"../../../../embeddings/glove_s300.zip\", 'r') as zip_ref:\n",
    "    #zip_ref.extractall(\"../../../../embeddings/\")"
   ]
  },
  {
   "cell_type": "code",
   "execution_count": 2,
   "metadata": {},
   "outputs": [
    {
     "name": "stderr",
     "output_type": "stream",
     "text": [
      "/workspaces/hate-speech-detection-python/train/notebooks-my-paper/lstm/hate_speech/../../../../scripts/hate_column_converter.py:8: SettingWithCopyWarning: \n",
      "A value is trying to be set on a copy of a slice from a DataFrame.\n",
      "Try using .loc[row_indexer,col_indexer] = value instead\n",
      "\n",
      "See the caveats in the documentation: https://pandas.pydata.org/pandas-docs/stable/user_guide/indexing.html#returning-a-view-versus-a-copy\n",
      "  lines_with_two_numbers_in_hate_speech[['col1', 'col2']] = lines_with_two_numbers_in_hate_speech['hate_speech'].str.split(',', expand=True)\n",
      "/workspaces/hate-speech-detection-python/train/notebooks-my-paper/lstm/hate_speech/../../../../scripts/hate_column_converter.py:8: SettingWithCopyWarning: \n",
      "A value is trying to be set on a copy of a slice from a DataFrame.\n",
      "Try using .loc[row_indexer,col_indexer] = value instead\n",
      "\n",
      "See the caveats in the documentation: https://pandas.pydata.org/pandas-docs/stable/user_guide/indexing.html#returning-a-view-versus-a-copy\n",
      "  lines_with_two_numbers_in_hate_speech[['col1', 'col2']] = lines_with_two_numbers_in_hate_speech['hate_speech'].str.split(',', expand=True)\n"
     ]
    }
   ],
   "source": [
    "MAX_LENGTH = 300\n",
    "dataframe = pd.read_csv('../../../../dataset/HateBR.csv')\n",
    "new_dataframe = hate_column_converter.convert_to_binary(dataframe)\n",
    "classes_zero = new_dataframe[new_dataframe['hate_speech'] == 0]\n",
    "classes_one = new_dataframe[new_dataframe['hate_speech'] == 1]\n",
    "classes_one_oversampled = classes_one.sample(len(classes_zero), replace=True)\n",
    "dataframe_oversampled = pd.concat([classes_zero, classes_one_oversampled]) \n",
    "instagram_comments = dataframe_oversampled['instagram_comments']\n",
    "y = dataframe_oversampled['hate_speech']"
   ]
  },
  {
   "cell_type": "code",
   "execution_count": 3,
   "metadata": {},
   "outputs": [],
   "source": [
    "x = dataframe_oversampled['instagram_comments']"
   ]
  },
  {
   "cell_type": "code",
   "execution_count": 4,
   "metadata": {},
   "outputs": [],
   "source": [
    "token = Tokenizer()\n",
    "token.fit_on_texts(x)\n",
    "sequences = token.texts_to_sequences(x)\n",
    "x = pad_sequences(sequences,maxlen=MAX_LENGTH)\n",
    "vocabulary_size = len(token.word_index)+1"
   ]
  },
  {
   "cell_type": "code",
   "execution_count": 5,
   "metadata": {},
   "outputs": [
    {
     "name": "stderr",
     "output_type": "stream",
     "text": [
      "100%|██████████| 11530/11530 [00:00<00:00, 211881.80it/s]\n"
     ]
    }
   ],
   "source": [
    "embedding_vector = embedding_reader.read_glove_file()\n",
    "embedding_matrix = np.zeros((vocabulary_size,MAX_LENGTH))\n",
    "for word,i in tqdm(token.word_index.items()):\n",
    "    embedding_value = embedding_vector.get(word)\n",
    "    if embedding_value is not None:\n",
    "        embedding_matrix[i] = embedding_value"
   ]
  },
  {
   "cell_type": "code",
   "execution_count": 6,
   "metadata": {},
   "outputs": [],
   "source": [
    "x_train, x_test, y_train, y_test = train_test_split(x, y, train_size=0.8, test_size=0.2)"
   ]
  },
  {
   "cell_type": "code",
   "execution_count": 7,
   "metadata": {},
   "outputs": [
    {
     "name": "stderr",
     "output_type": "stream",
     "text": [
      "2023-10-29 00:37:07.979654: W tensorflow/stream_executor/platform/default/dso_loader.cc:64] Could not load dynamic library 'libcuda.so.1'; dlerror: libcuda.so.1: cannot open shared object file: No such file or directory\n",
      "2023-10-29 00:37:07.979706: W tensorflow/stream_executor/cuda/cuda_driver.cc:269] failed call to cuInit: UNKNOWN ERROR (303)\n",
      "2023-10-29 00:37:07.979745: I tensorflow/stream_executor/cuda/cuda_diagnostics.cc:156] kernel driver does not appear to be running on this host (codespaces-fbf4a0): /proc/driver/nvidia/version does not exist\n",
      "2023-10-29 00:37:07.980112: I tensorflow/core/platform/cpu_feature_guard.cc:151] This TensorFlow binary is optimized with oneAPI Deep Neural Network Library (oneDNN) to use the following CPU instructions in performance-critical operations:  AVX2 FMA\n",
      "To enable them in other operations, rebuild TensorFlow with the appropriate compiler flags.\n"
     ]
    }
   ],
   "source": [
    "lstm_model = Sequential()\n",
    "lstm_model.add(Embedding(vocabulary_size,MAX_LENGTH,weights=[embedding_matrix],input_length=x.shape[1],trainable=False))\n",
    "lstm_model.add(Dropout(0.25))\n",
    "lstm_model.add(LSTM(64))\n",
    "lstm_model.add(Dropout(0.5))\n",
    "lstm_model.add(Dense(1))\n",
    "lstm_model.add(Activation('sigmoid'))\n",
    "lstm_model.compile(loss='binary_crossentropy', optimizer='adam', metrics=['accuracy', 'binary_accuracy', custom_keras_metrics.f1_score])"
   ]
  },
  {
   "cell_type": "code",
   "execution_count": 8,
   "metadata": {},
   "outputs": [
    {
     "name": "stdout",
     "output_type": "stream",
     "text": [
      "Epoch 1/20\n"
     ]
    },
    {
     "name": "stdout",
     "output_type": "stream",
     "text": [
      "79/79 [==============================] - 41s 493ms/step - loss: 0.5561 - accuracy: 0.7137 - binary_accuracy: 0.7137 - f1_score: 0.7162 - val_loss: 0.4766 - val_accuracy: 0.7718 - val_binary_accuracy: 0.7718 - val_f1_score: 0.7417\n",
      "Epoch 2/20\n",
      "79/79 [==============================] - 37s 472ms/step - loss: 0.4392 - accuracy: 0.8048 - binary_accuracy: 0.8048 - f1_score: 0.7977 - val_loss: 0.3854 - val_accuracy: 0.8306 - val_binary_accuracy: 0.8306 - val_f1_score: 0.8299\n",
      "Epoch 3/20\n",
      "79/79 [==============================] - 38s 477ms/step - loss: 0.3834 - accuracy: 0.8338 - binary_accuracy: 0.8338 - f1_score: 0.8292 - val_loss: 0.3420 - val_accuracy: 0.8413 - val_binary_accuracy: 0.8413 - val_f1_score: 0.8333\n",
      "Epoch 4/20\n",
      "79/79 [==============================] - 37s 471ms/step - loss: 0.3383 - accuracy: 0.8546 - binary_accuracy: 0.8546 - f1_score: 0.8519 - val_loss: 0.3423 - val_accuracy: 0.8687 - val_binary_accuracy: 0.8687 - val_f1_score: 0.8780\n",
      "Epoch 5/20\n",
      "79/79 [==============================] - 37s 471ms/step - loss: 0.2996 - accuracy: 0.8720 - binary_accuracy: 0.8720 - f1_score: 0.8689 - val_loss: 0.2571 - val_accuracy: 0.8964 - val_binary_accuracy: 0.8964 - val_f1_score: 0.8977\n",
      "Epoch 6/20\n",
      "79/79 [==============================] - 37s 470ms/step - loss: 0.2592 - accuracy: 0.8947 - binary_accuracy: 0.8947 - f1_score: 0.8927 - val_loss: 0.2285 - val_accuracy: 0.9087 - val_binary_accuracy: 0.9087 - val_f1_score: 0.9087\n",
      "Epoch 7/20\n",
      "79/79 [==============================] - 37s 473ms/step - loss: 0.2347 - accuracy: 0.9055 - binary_accuracy: 0.9055 - f1_score: 0.9040 - val_loss: 0.2071 - val_accuracy: 0.9210 - val_binary_accuracy: 0.9210 - val_f1_score: 0.9221\n",
      "Epoch 8/20\n",
      "79/79 [==============================] - 37s 472ms/step - loss: 0.1993 - accuracy: 0.9202 - binary_accuracy: 0.9202 - f1_score: 0.9188 - val_loss: 0.1814 - val_accuracy: 0.9282 - val_binary_accuracy: 0.9282 - val_f1_score: 0.9295\n",
      "Epoch 9/20\n",
      "79/79 [==============================] - 37s 470ms/step - loss: 0.1772 - accuracy: 0.9316 - binary_accuracy: 0.9316 - f1_score: 0.9304 - val_loss: 0.1729 - val_accuracy: 0.9345 - val_binary_accuracy: 0.9345 - val_f1_score: 0.9365\n",
      "Epoch 10/20\n",
      "79/79 [==============================] - 37s 470ms/step - loss: 0.1684 - accuracy: 0.9360 - binary_accuracy: 0.9360 - f1_score: 0.9351 - val_loss: 0.1655 - val_accuracy: 0.9369 - val_binary_accuracy: 0.9369 - val_f1_score: 0.9386\n",
      "Epoch 11/20\n",
      "79/79 [==============================] - 37s 474ms/step - loss: 0.1405 - accuracy: 0.9451 - binary_accuracy: 0.9451 - f1_score: 0.9438 - val_loss: 0.1547 - val_accuracy: 0.9361 - val_binary_accuracy: 0.9361 - val_f1_score: 0.9379\n",
      "Epoch 12/20\n",
      "79/79 [==============================] - 37s 467ms/step - loss: 0.1253 - accuracy: 0.9510 - binary_accuracy: 0.9510 - f1_score: 0.9501 - val_loss: 0.2400 - val_accuracy: 0.9127 - val_binary_accuracy: 0.9127 - val_f1_score: 0.9180\n",
      "Epoch 13/20\n",
      "79/79 [==============================] - 37s 473ms/step - loss: 0.1158 - accuracy: 0.9554 - binary_accuracy: 0.9554 - f1_score: 0.9546 - val_loss: 0.1347 - val_accuracy: 0.9456 - val_binary_accuracy: 0.9456 - val_f1_score: 0.9472\n",
      "Epoch 14/20\n",
      "79/79 [==============================] - 37s 472ms/step - loss: 0.1008 - accuracy: 0.9590 - binary_accuracy: 0.9590 - f1_score: 0.9581 - val_loss: 0.1156 - val_accuracy: 0.9516 - val_binary_accuracy: 0.9516 - val_f1_score: 0.9524\n",
      "Epoch 15/20\n",
      "79/79 [==============================] - 37s 471ms/step - loss: 0.0976 - accuracy: 0.9582 - binary_accuracy: 0.9582 - f1_score: 0.9573 - val_loss: 0.1301 - val_accuracy: 0.9464 - val_binary_accuracy: 0.9464 - val_f1_score: 0.9479\n",
      "Epoch 16/20\n",
      "79/79 [==============================] - 37s 473ms/step - loss: 0.0895 - accuracy: 0.9629 - binary_accuracy: 0.9629 - f1_score: 0.9618 - val_loss: 0.1410 - val_accuracy: 0.9488 - val_binary_accuracy: 0.9488 - val_f1_score: 0.9499\n",
      "Epoch 17/20\n",
      "79/79 [==============================] - 37s 469ms/step - loss: 0.1129 - accuracy: 0.9545 - binary_accuracy: 0.9545 - f1_score: 0.9536 - val_loss: 0.1289 - val_accuracy: 0.9520 - val_binary_accuracy: 0.9520 - val_f1_score: 0.9528\n",
      "Epoch 18/20\n",
      "79/79 [==============================] - 37s 474ms/step - loss: 0.0949 - accuracy: 0.9628 - binary_accuracy: 0.9628 - f1_score: 0.9621 - val_loss: 0.1344 - val_accuracy: 0.9488 - val_binary_accuracy: 0.9488 - val_f1_score: 0.9502\n",
      "Epoch 19/20\n",
      "79/79 [==============================] - 37s 471ms/step - loss: 0.0817 - accuracy: 0.9675 - binary_accuracy: 0.9675 - f1_score: 0.9669 - val_loss: 0.1304 - val_accuracy: 0.9516 - val_binary_accuracy: 0.9516 - val_f1_score: 0.9529\n",
      "Epoch 20/20\n",
      "79/79 [==============================] - 37s 473ms/step - loss: 0.0721 - accuracy: 0.9696 - binary_accuracy: 0.9696 - f1_score: 0.9686 - val_loss: 0.1055 - val_accuracy: 0.9571 - val_binary_accuracy: 0.9571 - val_f1_score: 0.9581\n"
     ]
    }
   ],
   "source": [
    "model = lstm_model.fit(x_train, y_train, epochs=20, batch_size=128, validation_data=(x_test, y_test))"
   ]
  },
  {
   "cell_type": "code",
   "execution_count": 9,
   "metadata": {},
   "outputs": [
    {
     "name": "stdout",
     "output_type": "stream",
     "text": [
      " 1/20 [>.............................] - ETA: 4s - loss: 0.0652 - accuracy: 0.9688 - binary_accuracy: 0.9688 - f1_score: 0.9714"
     ]
    },
    {
     "name": "stdout",
     "output_type": "stream",
     "text": [
      "20/20 [==============================] - 3s 149ms/step - loss: 0.1055 - accuracy: 0.9571 - binary_accuracy: 0.9571 - f1_score: 0.9581\n",
      "loss :  0.10545351356267929\n",
      "accuracy :  0.9571428298950195\n",
      "binary_accuracy :  0.9571428298950195\n",
      "f1_score :  0.9580553770065308\n",
      "\n"
     ]
    },
    {
     "ename": "",
     "evalue": "",
     "output_type": "error",
     "traceback": [
      "\u001b[1;31mThe Kernel crashed while executing code in the the current cell or a previous cell. Please review the code in the cell(s) to identify a possible cause of the failure. Click <a href='https://aka.ms/vscodeJupyterKernelCrash'>here</a> for more info. View Jupyter <a href='command:jupyter.viewOutput'>log</a> for further details."
     ]
    }
   ],
   "source": [
    "results = lstm_model.evaluate(x_test, y_test, batch_size=128)\n",
    "\n",
    "for name, value in zip(lstm_model.metrics_names, results):\n",
    "  print(name, ': ', value)\n",
    "print()"
   ]
  },
  {
   "cell_type": "code",
   "execution_count": 12,
   "metadata": {},
   "outputs": [
    {
     "ename": "",
     "evalue": "",
     "output_type": "error",
     "traceback": [
      "\u001b[1;31mThe Kernel crashed while executing code in the the current cell or a previous cell. Please review the code in the cell(s) to identify a possible cause of the failure. Click <a href='https://aka.ms/vscodeJupyterKernelCrash'>here</a> for more info. View Jupyter <a href='command:jupyter.viewOutput'>log</a> for further details."
     ]
    }
   ],
   "source": [
    "#import joblib\n",
    "\n",
    "#model_filename = '../../../models/generated-models-base-paper/offensive_lstm_embeddings_model.pkl'\n",
    "#joblib.dump(model, model_filename)"
   ]
  }
 ],
 "metadata": {
  "kernelspec": {
   "display_name": "Python 3 (ipykernel)",
   "language": "python",
   "name": "python3"
  },
  "language_info": {
   "codemirror_mode": {
    "name": "ipython",
    "version": 3
   },
   "file_extension": ".py",
   "mimetype": "text/x-python",
   "name": "python",
   "nbconvert_exporter": "python",
   "pygments_lexer": "ipython3",
   "version": "3.10.4"
  },
  "orig_nbformat": 4
 },
 "nbformat": 4,
 "nbformat_minor": 2
}
