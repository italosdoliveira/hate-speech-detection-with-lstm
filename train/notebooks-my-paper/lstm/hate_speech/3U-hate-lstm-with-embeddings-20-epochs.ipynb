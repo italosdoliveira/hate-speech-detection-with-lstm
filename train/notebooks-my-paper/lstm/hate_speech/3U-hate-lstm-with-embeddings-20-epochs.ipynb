{
 "cells": [
  {
   "cell_type": "code",
   "execution_count": 1,
   "metadata": {},
   "outputs": [
    {
     "name": "stderr",
     "output_type": "stream",
     "text": [
      "2023-10-24 12:00:21.841549: W tensorflow/stream_executor/platform/default/dso_loader.cc:64] Could not load dynamic library 'libcudart.so.11.0'; dlerror: libcudart.so.11.0: cannot open shared object file: No such file or directory\n",
      "2023-10-24 12:00:21.841582: I tensorflow/stream_executor/cuda/cudart_stub.cc:29] Ignore above cudart dlerror if you do not have a GPU set up on your machine.\n"
     ]
    }
   ],
   "source": [
    "import sys  \n",
    "import os\n",
    "import pandas as pd\n",
    "import io\n",
    "sys.path.insert(0, '../../../../scripts/')\n",
    "sys.path.insert(0, '../../../../dataset/')\n",
    "import hate_column_converter\n",
    "import embedding_reader\n",
    "import custom_keras_metrics\n",
    "import tensorflow as tf\n",
    "import keras.backend as K\n",
    "import os\n",
    "import time\n",
    "import gc\n",
    "import glob\n",
    "import wget\n",
    "import zipfile\n",
    "import numpy as np\n",
    "from sklearn.model_selection import train_test_split\n",
    "from keras.preprocessing.text import Tokenizer\n",
    "from keras.preprocessing.sequence import pad_sequences\n",
    "from tensorflow.keras.layers import LSTM\n",
    "from tensorflow.keras.preprocessing import text, sequence\n",
    "from keras.layers import Reshape, Flatten, Concatenate, Dropout, SpatialDropout1D\n",
    "from tensorflow.keras.optimizers import Adam\n",
    "from keras.models import Model\n",
    "from keras import backend as K\n",
    "from tensorflow.keras.layers import Layer\n",
    "from keras import initializers, regularizers, constraints, optimizers, layers\n",
    "from tensorflow.keras.utils import to_categorical\n",
    "from sklearn.preprocessing import LabelEncoder\n",
    "from keras.layers import *\n",
    "from keras.models import *\n",
    "from keras import initializers, regularizers, constraints, optimizers, layers\n",
    "from keras.initializers import *\n",
    "from keras.optimizers import *\n",
    "from keras.callbacks import *\n",
    "from keras import metrics\n",
    "from tqdm import tqdm"
   ]
  },
  {
   "cell_type": "code",
   "execution_count": 2,
   "metadata": {},
   "outputs": [],
   "source": [
    "#wget.download(\"http://143.107.183.175:22980/download.php?file=embeddings/glove/glove_s300.zip\", out=\"../../../../embeddings/\")"
   ]
  },
  {
   "cell_type": "code",
   "execution_count": 3,
   "metadata": {},
   "outputs": [],
   "source": [
    "#with zipfile.ZipFile(\"../../../../embeddings/glove_s300.zip\", 'r') as zip_ref:\n",
    "    #zip_ref.extractall(\"../../../../embeddings/\")"
   ]
  },
  {
   "cell_type": "code",
   "execution_count": 2,
   "metadata": {},
   "outputs": [
    {
     "name": "stderr",
     "output_type": "stream",
     "text": [
      "/workspaces/hate-speech-detection-python/train/notebooks-my-paper/lstm/hate_speech/../../../../scripts/hate_column_converter.py:8: SettingWithCopyWarning: \n",
      "A value is trying to be set on a copy of a slice from a DataFrame.\n",
      "Try using .loc[row_indexer,col_indexer] = value instead\n",
      "\n",
      "See the caveats in the documentation: https://pandas.pydata.org/pandas-docs/stable/user_guide/indexing.html#returning-a-view-versus-a-copy\n",
      "  lines_with_two_numbers_in_hate_speech[['col1', 'col2']] = lines_with_two_numbers_in_hate_speech['hate_speech'].str.split(',', expand=True)\n",
      "/workspaces/hate-speech-detection-python/train/notebooks-my-paper/lstm/hate_speech/../../../../scripts/hate_column_converter.py:8: SettingWithCopyWarning: \n",
      "A value is trying to be set on a copy of a slice from a DataFrame.\n",
      "Try using .loc[row_indexer,col_indexer] = value instead\n",
      "\n",
      "See the caveats in the documentation: https://pandas.pydata.org/pandas-docs/stable/user_guide/indexing.html#returning-a-view-versus-a-copy\n",
      "  lines_with_two_numbers_in_hate_speech[['col1', 'col2']] = lines_with_two_numbers_in_hate_speech['hate_speech'].str.split(',', expand=True)\n"
     ]
    }
   ],
   "source": [
    "MAX_LENGTH = 300\n",
    "dataframe = pd.read_csv('../../../../dataset/HateBR.csv')\n",
    "new_dataframe = hate_column_converter.convert_to_binary(dataframe)\n",
    "classes_zero = new_dataframe[new_dataframe['hate_speech'] == 0]\n",
    "classes_one = new_dataframe[new_dataframe['hate_speech'] == 1]\n",
    "classes_zero_undersampled = classes_zero.sample(len(classes_one))\n",
    "dataframe_undersampled = pd.concat([classes_zero_undersampled, classes_one]) \n",
    "instagram_comments = dataframe_undersampled['instagram_comments']\n",
    "y = dataframe_undersampled['hate_speech']"
   ]
  },
  {
   "cell_type": "code",
   "execution_count": 3,
   "metadata": {},
   "outputs": [],
   "source": [
    "x = dataframe_undersampled['instagram_comments']"
   ]
  },
  {
   "cell_type": "code",
   "execution_count": 4,
   "metadata": {},
   "outputs": [],
   "source": [
    "token = Tokenizer()\n",
    "token.fit_on_texts(x)\n",
    "sequences = token.texts_to_sequences(x)\n",
    "x = pad_sequences(sequences,maxlen=MAX_LENGTH)\n",
    "vocabulary_size = len(token.word_index)+1"
   ]
  },
  {
   "cell_type": "code",
   "execution_count": 5,
   "metadata": {},
   "outputs": [
    {
     "name": "stderr",
     "output_type": "stream",
     "text": [
      "100%|██████████| 4830/4830 [00:00<00:00, 380984.85it/s]\n"
     ]
    }
   ],
   "source": [
    "embedding_vector = embedding_reader.read_glove_file()\n",
    "embedding_matrix = np.zeros((vocabulary_size,MAX_LENGTH))\n",
    "for word,i in tqdm(token.word_index.items()):\n",
    "    embedding_value = embedding_vector.get(word)\n",
    "    if embedding_value is not None:\n",
    "        embedding_matrix[i] = embedding_value"
   ]
  },
  {
   "cell_type": "code",
   "execution_count": 6,
   "metadata": {},
   "outputs": [],
   "source": [
    "x_train, x_test, y_train, y_test = train_test_split(x, y, train_size=0.8, test_size=0.2)"
   ]
  },
  {
   "cell_type": "code",
   "execution_count": 7,
   "metadata": {},
   "outputs": [
    {
     "name": "stderr",
     "output_type": "stream",
     "text": [
      "2023-10-24 12:02:14.953405: W tensorflow/stream_executor/platform/default/dso_loader.cc:64] Could not load dynamic library 'libcuda.so.1'; dlerror: libcuda.so.1: cannot open shared object file: No such file or directory\n",
      "2023-10-24 12:02:14.953441: W tensorflow/stream_executor/cuda/cuda_driver.cc:269] failed call to cuInit: UNKNOWN ERROR (303)\n",
      "2023-10-24 12:02:14.953468: I tensorflow/stream_executor/cuda/cuda_diagnostics.cc:156] kernel driver does not appear to be running on this host (codespaces-fbf4a0): /proc/driver/nvidia/version does not exist\n",
      "2023-10-24 12:02:14.953665: I tensorflow/core/platform/cpu_feature_guard.cc:151] This TensorFlow binary is optimized with oneAPI Deep Neural Network Library (oneDNN) to use the following CPU instructions in performance-critical operations:  AVX2 FMA\n",
      "To enable them in other operations, rebuild TensorFlow with the appropriate compiler flags.\n"
     ]
    }
   ],
   "source": [
    "lstm_model = Sequential()\n",
    "lstm_model.add(Embedding(vocabulary_size,MAX_LENGTH,weights=[embedding_matrix],input_length=x.shape[1],trainable=False))\n",
    "lstm_model.add(Dropout(0.25))\n",
    "lstm_model.add(LSTM(64))\n",
    "lstm_model.add(Dropout(0.5))\n",
    "lstm_model.add(Dense(1))\n",
    "lstm_model.add(Activation('sigmoid'))\n",
    "lstm_model.compile(loss='binary_crossentropy', optimizer='adam', metrics=['accuracy', 'binary_accuracy', custom_keras_metrics.f1_score])"
   ]
  },
  {
   "cell_type": "code",
   "execution_count": 8,
   "metadata": {},
   "outputs": [
    {
     "name": "stdout",
     "output_type": "stream",
     "text": [
      "Epoch 1/20\n"
     ]
    },
    {
     "name": "stderr",
     "output_type": "stream",
     "text": [
      "2023-10-24 12:02:20.455522: W tensorflow/core/framework/cpu_allocator_impl.cc:82] Allocation of 46080000 exceeds 10% of free system memory.\n",
      "2023-10-24 12:02:20.479799: W tensorflow/core/framework/cpu_allocator_impl.cc:82] Allocation of 46080000 exceeds 10% of free system memory.\n",
      "2023-10-24 12:02:20.588980: W tensorflow/core/framework/cpu_allocator_impl.cc:82] Allocation of 46080000 exceeds 10% of free system memory.\n",
      "2023-10-24 12:02:20.728182: W tensorflow/core/framework/cpu_allocator_impl.cc:82] Allocation of 46080000 exceeds 10% of free system memory.\n"
     ]
    },
    {
     "name": "stdout",
     "output_type": "stream",
     "text": [
      " 1/10 [==>...........................] - ETA: 21s - loss: 0.7542 - accuracy: 0.5000 - binary_accuracy: 0.5000 - f1_score: 0.1579"
     ]
    },
    {
     "name": "stderr",
     "output_type": "stream",
     "text": [
      "2023-10-24 12:02:21.299910: W tensorflow/core/framework/cpu_allocator_impl.cc:82] Allocation of 46080000 exceeds 10% of free system memory.\n"
     ]
    },
    {
     "name": "stdout",
     "output_type": "stream",
     "text": [
      "10/10 [==============================] - 8s 576ms/step - loss: 0.6895 - accuracy: 0.5623 - binary_accuracy: 0.5623 - f1_score: 0.4972 - val_loss: 0.6479 - val_accuracy: 0.6392 - val_binary_accuracy: 0.6392 - val_f1_score: 0.7185\n",
      "Epoch 2/20\n",
      "10/10 [==============================] - 5s 511ms/step - loss: 0.6426 - accuracy: 0.6423 - binary_accuracy: 0.6423 - f1_score: 0.6422 - val_loss: 0.6219 - val_accuracy: 0.6942 - val_binary_accuracy: 0.6942 - val_f1_score: 0.6813\n",
      "Epoch 3/20\n",
      "10/10 [==============================] - 5s 484ms/step - loss: 0.6118 - accuracy: 0.6870 - binary_accuracy: 0.6870 - f1_score: 0.6904 - val_loss: 0.5966 - val_accuracy: 0.6907 - val_binary_accuracy: 0.6907 - val_f1_score: 0.7137\n",
      "Epoch 4/20\n",
      "10/10 [==============================] - 6s 557ms/step - loss: 0.5717 - accuracy: 0.7145 - binary_accuracy: 0.7145 - f1_score: 0.7268 - val_loss: 0.5600 - val_accuracy: 0.7560 - val_binary_accuracy: 0.7560 - val_f1_score: 0.7512\n",
      "Epoch 5/20\n",
      "10/10 [==============================] - 5s 485ms/step - loss: 0.5333 - accuracy: 0.7524 - binary_accuracy: 0.7524 - f1_score: 0.7629 - val_loss: 0.5474 - val_accuracy: 0.7491 - val_binary_accuracy: 0.7491 - val_f1_score: 0.7079\n",
      "Epoch 6/20\n",
      "10/10 [==============================] - 5s 494ms/step - loss: 0.5173 - accuracy: 0.7575 - binary_accuracy: 0.7575 - f1_score: 0.7530 - val_loss: 0.5179 - val_accuracy: 0.7595 - val_binary_accuracy: 0.7595 - val_f1_score: 0.7675\n",
      "Epoch 7/20\n",
      "10/10 [==============================] - 5s 483ms/step - loss: 0.5146 - accuracy: 0.7481 - binary_accuracy: 0.7481 - f1_score: 0.7469 - val_loss: 0.5301 - val_accuracy: 0.7457 - val_binary_accuracy: 0.7457 - val_f1_score: 0.7770\n",
      "Epoch 8/20\n",
      "10/10 [==============================] - 5s 485ms/step - loss: 0.4718 - accuracy: 0.7833 - binary_accuracy: 0.7833 - f1_score: 0.7804 - val_loss: 0.4969 - val_accuracy: 0.7835 - val_binary_accuracy: 0.7835 - val_f1_score: 0.7729\n",
      "Epoch 9/20\n",
      "10/10 [==============================] - 5s 453ms/step - loss: 0.4472 - accuracy: 0.7997 - binary_accuracy: 0.7997 - f1_score: 0.8024 - val_loss: 0.5274 - val_accuracy: 0.7595 - val_binary_accuracy: 0.7595 - val_f1_score: 0.7826\n",
      "Epoch 10/20\n",
      "10/10 [==============================] - 4s 444ms/step - loss: 0.4514 - accuracy: 0.7954 - binary_accuracy: 0.7954 - f1_score: 0.8011 - val_loss: 0.5043 - val_accuracy: 0.7698 - val_binary_accuracy: 0.7698 - val_f1_score: 0.7924\n",
      "Epoch 11/20\n",
      "10/10 [==============================] - 5s 471ms/step - loss: 0.4143 - accuracy: 0.8220 - binary_accuracy: 0.8220 - f1_score: 0.8348 - val_loss: 0.5185 - val_accuracy: 0.7698 - val_binary_accuracy: 0.7698 - val_f1_score: 0.7900\n",
      "Epoch 12/20\n",
      "10/10 [==============================] - 4s 444ms/step - loss: 0.4179 - accuracy: 0.8151 - binary_accuracy: 0.8151 - f1_score: 0.8161 - val_loss: 0.5506 - val_accuracy: 0.7491 - val_binary_accuracy: 0.7491 - val_f1_score: 0.7739\n",
      "Epoch 13/20\n",
      "10/10 [==============================] - 5s 464ms/step - loss: 0.4465 - accuracy: 0.7997 - binary_accuracy: 0.7997 - f1_score: 0.8033 - val_loss: 0.5157 - val_accuracy: 0.7320 - val_binary_accuracy: 0.7320 - val_f1_score: 0.7054\n",
      "Epoch 14/20\n",
      "10/10 [==============================] - 4s 453ms/step - loss: 0.3910 - accuracy: 0.8272 - binary_accuracy: 0.8272 - f1_score: 0.8425 - val_loss: 0.5263 - val_accuracy: 0.7801 - val_binary_accuracy: 0.7801 - val_f1_score: 0.7932\n",
      "Epoch 15/20\n",
      "10/10 [==============================] - 5s 452ms/step - loss: 0.3673 - accuracy: 0.8426 - binary_accuracy: 0.8426 - f1_score: 0.8421 - val_loss: 0.5181 - val_accuracy: 0.7595 - val_binary_accuracy: 0.7595 - val_f1_score: 0.7721\n",
      "Epoch 16/20\n",
      "10/10 [==============================] - 5s 451ms/step - loss: 0.3654 - accuracy: 0.8444 - binary_accuracy: 0.8444 - f1_score: 0.8506 - val_loss: 0.5582 - val_accuracy: 0.7491 - val_binary_accuracy: 0.7491 - val_f1_score: 0.7580\n",
      "Epoch 17/20\n",
      "10/10 [==============================] - 5s 451ms/step - loss: 0.3677 - accuracy: 0.8401 - binary_accuracy: 0.8401 - f1_score: 0.8292 - val_loss: 0.5285 - val_accuracy: 0.7629 - val_binary_accuracy: 0.7629 - val_f1_score: 0.7682\n",
      "Epoch 18/20\n",
      "10/10 [==============================] - 5s 458ms/step - loss: 0.3578 - accuracy: 0.8452 - binary_accuracy: 0.8452 - f1_score: 0.8498 - val_loss: 0.5119 - val_accuracy: 0.7629 - val_binary_accuracy: 0.7629 - val_f1_score: 0.7562\n",
      "Epoch 19/20\n",
      "10/10 [==============================] - 4s 441ms/step - loss: 0.3429 - accuracy: 0.8530 - binary_accuracy: 0.8530 - f1_score: 0.8538 - val_loss: 0.5373 - val_accuracy: 0.7698 - val_binary_accuracy: 0.7698 - val_f1_score: 0.7680\n",
      "Epoch 20/20\n",
      "10/10 [==============================] - 5s 458ms/step - loss: 0.3010 - accuracy: 0.8865 - binary_accuracy: 0.8865 - f1_score: 0.8900 - val_loss: 0.5335 - val_accuracy: 0.7698 - val_binary_accuracy: 0.7698 - val_f1_score: 0.7732\n"
     ]
    }
   ],
   "source": [
    "model = lstm_model.fit(x_train, y_train, epochs=20, batch_size=128, validation_data=(x_test, y_test))"
   ]
  },
  {
   "cell_type": "code",
   "execution_count": 9,
   "metadata": {},
   "outputs": [
    {
     "name": "stdout",
     "output_type": "stream",
     "text": [
      "1/3 [=========>....................] - ETA: 0s - loss: 0.4912 - accuracy: 0.8047 - binary_accuracy: 0.8047 - f1_score: 0.8031"
     ]
    },
    {
     "name": "stdout",
     "output_type": "stream",
     "text": [
      "3/3 [==============================] - 0s 113ms/step - loss: 0.5335 - accuracy: 0.7698 - binary_accuracy: 0.7698 - f1_score: 0.7732\n",
      "loss :  0.5334723591804504\n",
      "accuracy :  0.769759476184845\n",
      "binary_accuracy :  0.769759476184845\n",
      "f1_score :  0.7732367515563965\n",
      "\n"
     ]
    }
   ],
   "source": [
    "results = lstm_model.evaluate(x_test, y_test, batch_size=128)\n",
    "\n",
    "for name, value in zip(lstm_model.metrics_names, results):\n",
    "  print(name, ': ', value)\n",
    "print()"
   ]
  },
  {
   "cell_type": "code",
   "execution_count": 12,
   "metadata": {},
   "outputs": [
    {
     "ename": "",
     "evalue": "",
     "output_type": "error",
     "traceback": [
      "\u001b[1;31mThe Kernel crashed while executing code in the the current cell or a previous cell. Please review the code in the cell(s) to identify a possible cause of the failure. Click <a href='https://aka.ms/vscodeJupyterKernelCrash'>here</a> for more info. View Jupyter <a href='command:jupyter.viewOutput'>log</a> for further details."
     ]
    }
   ],
   "source": [
    "#import joblib\n",
    "\n",
    "#model_filename = '../../../models/generated-models-base-paper/offensive_lstm_embeddings_model.pkl'\n",
    "#joblib.dump(model, model_filename)"
   ]
  }
 ],
 "metadata": {
  "kernelspec": {
   "display_name": "Python 3 (ipykernel)",
   "language": "python",
   "name": "python3"
  },
  "orig_nbformat": 4
 },
 "nbformat": 4,
 "nbformat_minor": 2
}
