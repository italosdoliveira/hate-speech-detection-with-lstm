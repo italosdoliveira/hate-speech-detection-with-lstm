{
 "cells": [
  {
   "cell_type": "code",
   "execution_count": 1,
   "metadata": {},
   "outputs": [
    {
     "name": "stderr",
     "output_type": "stream",
     "text": [
      "2023-10-29 02:40:13.206418: W tensorflow/stream_executor/platform/default/dso_loader.cc:64] Could not load dynamic library 'libcudart.so.11.0'; dlerror: libcudart.so.11.0: cannot open shared object file: No such file or directory\n",
      "2023-10-29 02:40:13.206456: I tensorflow/stream_executor/cuda/cudart_stub.cc:29] Ignore above cudart dlerror if you do not have a GPU set up on your machine.\n"
     ]
    }
   ],
   "source": [
    "import sys  \n",
    "import os\n",
    "import pandas as pd\n",
    "import io\n",
    "sys.path.insert(0, '../../../../scripts/')\n",
    "sys.path.insert(0, '../../../../dataset/')\n",
    "import hate_column_converter\n",
    "import embedding_reader\n",
    "import custom_keras_metrics\n",
    "import tensorflow as tf\n",
    "import keras.backend as K\n",
    "import os\n",
    "import time\n",
    "import gc\n",
    "import glob\n",
    "import wget\n",
    "import zipfile\n",
    "import numpy as np\n",
    "from sklearn.model_selection import train_test_split\n",
    "from keras.preprocessing.text import Tokenizer\n",
    "from keras.preprocessing.sequence import pad_sequences\n",
    "from tensorflow.keras.layers import LSTM\n",
    "from tensorflow.keras.preprocessing import text, sequence\n",
    "from keras.layers import Reshape, Flatten, Concatenate, Dropout, SpatialDropout1D\n",
    "from tensorflow.keras.optimizers import Adam\n",
    "from keras.models import Model\n",
    "from keras import backend as K\n",
    "from tensorflow.keras.layers import Layer\n",
    "from keras import initializers, regularizers, constraints, optimizers, layers\n",
    "from tensorflow.keras.utils import to_categorical\n",
    "from sklearn.preprocessing import LabelEncoder\n",
    "from keras.layers import *\n",
    "from keras.models import *\n",
    "from keras import initializers, regularizers, constraints, optimizers, layers\n",
    "from keras.initializers import *\n",
    "from keras.optimizers import *\n",
    "from keras.callbacks import *\n",
    "from keras import metrics\n",
    "from tqdm import tqdm"
   ]
  },
  {
   "cell_type": "code",
   "execution_count": 2,
   "metadata": {},
   "outputs": [],
   "source": [
    "#wget.download(\"http://143.107.183.175:22980/download.php?file=embeddings/glove/glove_s300.zip\", out=\"../../../../embeddings/\")"
   ]
  },
  {
   "cell_type": "code",
   "execution_count": 3,
   "metadata": {},
   "outputs": [],
   "source": [
    "#with zipfile.ZipFile(\"../../../../embeddings/glove_s300.zip\", 'r') as zip_ref:\n",
    " #   zip_ref.extractall(\"../../../../embeddings/\")"
   ]
  },
  {
   "cell_type": "code",
   "execution_count": 2,
   "metadata": {},
   "outputs": [
    {
     "name": "stderr",
     "output_type": "stream",
     "text": [
      "/workspaces/hate-speech-detection-python/train/notebooks-my-paper/lstm/hate_speech/../../../../scripts/hate_column_converter.py:8: SettingWithCopyWarning: \n",
      "A value is trying to be set on a copy of a slice from a DataFrame.\n",
      "Try using .loc[row_indexer,col_indexer] = value instead\n",
      "\n",
      "See the caveats in the documentation: https://pandas.pydata.org/pandas-docs/stable/user_guide/indexing.html#returning-a-view-versus-a-copy\n",
      "  lines_with_two_numbers_in_hate_speech[['col1', 'col2']] = lines_with_two_numbers_in_hate_speech['hate_speech'].str.split(',', expand=True)\n",
      "/workspaces/hate-speech-detection-python/train/notebooks-my-paper/lstm/hate_speech/../../../../scripts/hate_column_converter.py:8: SettingWithCopyWarning: \n",
      "A value is trying to be set on a copy of a slice from a DataFrame.\n",
      "Try using .loc[row_indexer,col_indexer] = value instead\n",
      "\n",
      "See the caveats in the documentation: https://pandas.pydata.org/pandas-docs/stable/user_guide/indexing.html#returning-a-view-versus-a-copy\n",
      "  lines_with_two_numbers_in_hate_speech[['col1', 'col2']] = lines_with_two_numbers_in_hate_speech['hate_speech'].str.split(',', expand=True)\n"
     ]
    }
   ],
   "source": [
    "MAX_LENGTH = 300\n",
    "dataframe = pd.read_csv('../../../../dataset/HateBR.csv')\n",
    "new_dataframe = hate_column_converter.convert_to_binary(dataframe)\n",
    "y = new_dataframe['hate_speech']"
   ]
  },
  {
   "cell_type": "code",
   "execution_count": 3,
   "metadata": {},
   "outputs": [],
   "source": [
    "x = new_dataframe['instagram_comments']"
   ]
  },
  {
   "cell_type": "code",
   "execution_count": 4,
   "metadata": {},
   "outputs": [],
   "source": [
    "token = Tokenizer()\n",
    "token.fit_on_texts(x)\n",
    "sequences = token.texts_to_sequences(x)\n",
    "x = pad_sequences(sequences,maxlen=MAX_LENGTH)\n",
    "vocabulary_size = len(token.word_index)+1"
   ]
  },
  {
   "cell_type": "code",
   "execution_count": 5,
   "metadata": {},
   "outputs": [
    {
     "name": "stderr",
     "output_type": "stream",
     "text": [
      "100%|██████████| 11530/11530 [00:00<00:00, 282739.47it/s]\n"
     ]
    }
   ],
   "source": [
    "embedding_vector = embedding_reader.read_glove_file()\n",
    "embedding_matrix = np.zeros((vocabulary_size,MAX_LENGTH))\n",
    "for word,i in tqdm(token.word_index.items()):\n",
    "    embedding_value = embedding_vector.get(word)\n",
    "    if embedding_value is not None:\n",
    "        embedding_matrix[i] = embedding_value"
   ]
  },
  {
   "cell_type": "code",
   "execution_count": 6,
   "metadata": {},
   "outputs": [],
   "source": [
    "x_train, x_test, y_train, y_test = train_test_split(x, y, train_size=0.8, test_size=0.2)"
   ]
  },
  {
   "cell_type": "code",
   "execution_count": 7,
   "metadata": {},
   "outputs": [
    {
     "name": "stderr",
     "output_type": "stream",
     "text": [
      "2023-10-29 02:41:38.883750: W tensorflow/stream_executor/platform/default/dso_loader.cc:64] Could not load dynamic library 'libcuda.so.1'; dlerror: libcuda.so.1: cannot open shared object file: No such file or directory\n",
      "2023-10-29 02:41:38.883807: W tensorflow/stream_executor/cuda/cuda_driver.cc:269] failed call to cuInit: UNKNOWN ERROR (303)\n",
      "2023-10-29 02:41:38.883840: I tensorflow/stream_executor/cuda/cuda_diagnostics.cc:156] kernel driver does not appear to be running on this host (codespaces-fbf4a0): /proc/driver/nvidia/version does not exist\n",
      "2023-10-29 02:41:38.884189: I tensorflow/core/platform/cpu_feature_guard.cc:151] This TensorFlow binary is optimized with oneAPI Deep Neural Network Library (oneDNN) to use the following CPU instructions in performance-critical operations:  AVX2 FMA\n",
      "To enable them in other operations, rebuild TensorFlow with the appropriate compiler flags.\n"
     ]
    }
   ],
   "source": [
    "lstm_model = Sequential()\n",
    "lstm_model.add(Embedding(vocabulary_size,MAX_LENGTH,weights=[embedding_matrix],input_length=x.shape[1],trainable=False))\n",
    "lstm_model.add(Dense(128))\n",
    "lstm_model.add(Dropout(0.25))\n",
    "lstm_model.add(LSTM(64))\n",
    "lstm_model.add(Dropout(0.5))\n",
    "lstm_model.add(Dense(1))\n",
    "lstm_model.add(Activation('sigmoid'))\n",
    "lstm_model.compile(loss='binary_crossentropy', optimizer='adam', metrics=['accuracy', 'binary_accuracy', custom_keras_metrics.f1_score])"
   ]
  },
  {
   "cell_type": "code",
   "execution_count": 8,
   "metadata": {},
   "outputs": [
    {
     "name": "stdout",
     "output_type": "stream",
     "text": [
      "Epoch 1/20\n"
     ]
    },
    {
     "name": "stderr",
     "output_type": "stream",
     "text": [
      "2023-10-29 02:41:47.453671: W tensorflow/core/framework/cpu_allocator_impl.cc:82] Allocation of 46080000 exceeds 10% of free system memory.\n",
      "2023-10-29 02:41:47.472133: W tensorflow/core/framework/cpu_allocator_impl.cc:82] Allocation of 19660800 exceeds 10% of free system memory.\n",
      "2023-10-29 02:41:47.531143: W tensorflow/core/framework/cpu_allocator_impl.cc:82] Allocation of 19660800 exceeds 10% of free system memory.\n",
      "2023-10-29 02:41:47.563463: W tensorflow/core/framework/cpu_allocator_impl.cc:82] Allocation of 19660800 exceeds 10% of free system memory.\n",
      "2023-10-29 02:41:47.640952: W tensorflow/core/framework/cpu_allocator_impl.cc:82] Allocation of 19660800 exceeds 10% of free system memory.\n"
     ]
    },
    {
     "name": "stdout",
     "output_type": "stream",
     "text": [
      "44/44 [==============================] - 25s 529ms/step - loss: 0.3806 - accuracy: 0.8840 - binary_accuracy: 0.8840 - f1_score: 0.0058 - val_loss: 0.3460 - val_accuracy: 0.8826 - val_binary_accuracy: 0.8826 - val_f1_score: 0.0000e+00\n",
      "Epoch 2/20\n",
      "44/44 [==============================] - 21s 489ms/step - loss: 0.2881 - accuracy: 0.9012 - binary_accuracy: 0.9012 - f1_score: 0.0411 - val_loss: 0.3330 - val_accuracy: 0.8883 - val_binary_accuracy: 0.8883 - val_f1_score: 0.0897\n",
      "Epoch 3/20\n",
      "44/44 [==============================] - 22s 490ms/step - loss: 0.2467 - accuracy: 0.9114 - binary_accuracy: 0.9114 - f1_score: 0.2997 - val_loss: 0.2709 - val_accuracy: 0.8940 - val_binary_accuracy: 0.8940 - val_f1_score: 0.2539\n",
      "Epoch 4/20\n",
      "44/44 [==============================] - 21s 486ms/step - loss: 0.2251 - accuracy: 0.9210 - binary_accuracy: 0.9210 - f1_score: 0.4420 - val_loss: 0.2566 - val_accuracy: 0.9068 - val_binary_accuracy: 0.9068 - val_f1_score: 0.4739\n",
      "Epoch 5/20\n",
      "44/44 [==============================] - 21s 488ms/step - loss: 0.2165 - accuracy: 0.9247 - binary_accuracy: 0.9247 - f1_score: 0.5018 - val_loss: 0.2545 - val_accuracy: 0.9046 - val_binary_accuracy: 0.9046 - val_f1_score: 0.3911\n",
      "Epoch 6/20\n",
      "44/44 [==============================] - 22s 495ms/step - loss: 0.1990 - accuracy: 0.9285 - binary_accuracy: 0.9285 - f1_score: 0.5245 - val_loss: 0.2493 - val_accuracy: 0.9125 - val_binary_accuracy: 0.9125 - val_f1_score: 0.5114\n",
      "Epoch 7/20\n",
      "44/44 [==============================] - 22s 495ms/step - loss: 0.1919 - accuracy: 0.9299 - binary_accuracy: 0.9299 - f1_score: 0.5586 - val_loss: 0.2381 - val_accuracy: 0.9096 - val_binary_accuracy: 0.9096 - val_f1_score: 0.5216\n",
      "Epoch 8/20\n",
      "44/44 [==============================] - 21s 486ms/step - loss: 0.1832 - accuracy: 0.9352 - binary_accuracy: 0.9352 - f1_score: 0.6009 - val_loss: 0.2410 - val_accuracy: 0.9132 - val_binary_accuracy: 0.9132 - val_f1_score: 0.5559\n",
      "Epoch 9/20\n",
      "44/44 [==============================] - 22s 491ms/step - loss: 0.1726 - accuracy: 0.9365 - binary_accuracy: 0.9365 - f1_score: 0.5933 - val_loss: 0.2309 - val_accuracy: 0.9132 - val_binary_accuracy: 0.9132 - val_f1_score: 0.5601\n",
      "Epoch 10/20\n",
      "44/44 [==============================] - 21s 487ms/step - loss: 0.1702 - accuracy: 0.9418 - binary_accuracy: 0.9418 - f1_score: 0.6562 - val_loss: 0.2358 - val_accuracy: 0.9160 - val_binary_accuracy: 0.9160 - val_f1_score: 0.5622\n",
      "Epoch 11/20\n",
      "44/44 [==============================] - 22s 494ms/step - loss: 0.1604 - accuracy: 0.9431 - binary_accuracy: 0.9431 - f1_score: 0.6579 - val_loss: 0.2590 - val_accuracy: 0.9075 - val_binary_accuracy: 0.9075 - val_f1_score: 0.4681\n",
      "Epoch 12/20\n",
      "44/44 [==============================] - 22s 500ms/step - loss: 0.1535 - accuracy: 0.9450 - binary_accuracy: 0.9450 - f1_score: 0.6767 - val_loss: 0.2619 - val_accuracy: 0.9146 - val_binary_accuracy: 0.9146 - val_f1_score: 0.5211\n",
      "Epoch 13/20\n",
      "44/44 [==============================] - 22s 491ms/step - loss: 0.1470 - accuracy: 0.9489 - binary_accuracy: 0.9489 - f1_score: 0.6944 - val_loss: 0.2389 - val_accuracy: 0.9132 - val_binary_accuracy: 0.9132 - val_f1_score: 0.5810\n",
      "Epoch 14/20\n",
      "44/44 [==============================] - 22s 498ms/step - loss: 0.1408 - accuracy: 0.9518 - binary_accuracy: 0.9518 - f1_score: 0.7213 - val_loss: 0.2607 - val_accuracy: 0.9160 - val_binary_accuracy: 0.9160 - val_f1_score: 0.5453\n",
      "Epoch 15/20\n",
      "44/44 [==============================] - 22s 496ms/step - loss: 0.1314 - accuracy: 0.9546 - binary_accuracy: 0.9546 - f1_score: 0.7352 - val_loss: 0.2616 - val_accuracy: 0.9125 - val_binary_accuracy: 0.9125 - val_f1_score: 0.5730\n",
      "Epoch 16/20\n",
      "44/44 [==============================] - 22s 491ms/step - loss: 0.1276 - accuracy: 0.9544 - binary_accuracy: 0.9544 - f1_score: 0.7367 - val_loss: 0.2574 - val_accuracy: 0.9075 - val_binary_accuracy: 0.9075 - val_f1_score: 0.5781\n",
      "Epoch 17/20\n",
      "44/44 [==============================] - 21s 489ms/step - loss: 0.1217 - accuracy: 0.9569 - binary_accuracy: 0.9569 - f1_score: 0.7503 - val_loss: 0.2984 - val_accuracy: 0.9139 - val_binary_accuracy: 0.9139 - val_f1_score: 0.5595\n",
      "Epoch 18/20\n",
      "44/44 [==============================] - 22s 495ms/step - loss: 0.1159 - accuracy: 0.9598 - binary_accuracy: 0.9598 - f1_score: 0.7697 - val_loss: 0.3087 - val_accuracy: 0.9139 - val_binary_accuracy: 0.9139 - val_f1_score: 0.5725\n",
      "Epoch 19/20\n",
      "44/44 [==============================] - 22s 493ms/step - loss: 0.1090 - accuracy: 0.9617 - binary_accuracy: 0.9617 - f1_score: 0.7817 - val_loss: 0.2841 - val_accuracy: 0.9160 - val_binary_accuracy: 0.9160 - val_f1_score: 0.5928\n",
      "Epoch 20/20\n",
      "44/44 [==============================] - 22s 494ms/step - loss: 0.0978 - accuracy: 0.9657 - binary_accuracy: 0.9657 - f1_score: 0.8012 - val_loss: 0.2972 - val_accuracy: 0.9053 - val_binary_accuracy: 0.9053 - val_f1_score: 0.5737\n"
     ]
    }
   ],
   "source": [
    "model = lstm_model.fit(x_train, y_train, epochs=20, batch_size=128, validation_data=(x_test, y_test))"
   ]
  },
  {
   "cell_type": "code",
   "execution_count": 9,
   "metadata": {},
   "outputs": [
    {
     "name": "stdout",
     "output_type": "stream",
     "text": [
      "11/11 [==============================] - 2s 149ms/step - loss: 0.2972 - accuracy: 0.9053 - binary_accuracy: 0.9053 - f1_score: 0.5737\n",
      "loss :  0.2971701920032501\n",
      "accuracy :  0.9053380489349365\n",
      "binary_accuracy :  0.9053380489349365\n",
      "f1_score :  0.5736935138702393\n",
      "\n"
     ]
    }
   ],
   "source": [
    "results = lstm_model.evaluate(x_test, y_test, batch_size=128)\n",
    "\n",
    "for name, value in zip(lstm_model.metrics_names, results):\n",
    "  print(name, ': ', value)\n",
    "print()"
   ]
  },
  {
   "cell_type": "code",
   "execution_count": 12,
   "metadata": {},
   "outputs": [
    {
     "ename": "",
     "evalue": "",
     "output_type": "error",
     "traceback": [
      "\u001b[1;31mThe Kernel crashed while executing code in the the current cell or a previous cell. Please review the code in the cell(s) to identify a possible cause of the failure. Click <a href='https://aka.ms/vscodeJupyterKernelCrash'>here</a> for more info. View Jupyter <a href='command:jupyter.viewOutput'>log</a> for further details."
     ]
    }
   ],
   "source": [
    "#import joblib\n",
    "\n",
    "#model_filename = '../../../models/generated-models-base-paper/offensive_lstm_embeddings_model.pkl'\n",
    "#joblib.dump(model, model_filename)"
   ]
  }
 ],
 "metadata": {
  "kernelspec": {
   "display_name": "Python 3 (ipykernel)",
   "language": "python",
   "name": "python3"
  },
  "language_info": {
   "codemirror_mode": {
    "name": "ipython",
    "version": 3
   },
   "file_extension": ".py",
   "mimetype": "text/x-python",
   "name": "python",
   "nbconvert_exporter": "python",
   "pygments_lexer": "ipython3",
   "version": "3.10.4"
  },
  "orig_nbformat": 4
 },
 "nbformat": 4,
 "nbformat_minor": 2
}
