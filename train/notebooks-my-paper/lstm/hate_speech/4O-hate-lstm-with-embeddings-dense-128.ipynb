{
 "cells": [
  {
   "cell_type": "code",
   "execution_count": 1,
   "metadata": {},
   "outputs": [
    {
     "name": "stderr",
     "output_type": "stream",
     "text": [
      "2023-10-29 00:55:53.144597: W tensorflow/stream_executor/platform/default/dso_loader.cc:64] Could not load dynamic library 'libcudart.so.11.0'; dlerror: libcudart.so.11.0: cannot open shared object file: No such file or directory\n",
      "2023-10-29 00:55:53.144632: I tensorflow/stream_executor/cuda/cudart_stub.cc:29] Ignore above cudart dlerror if you do not have a GPU set up on your machine.\n"
     ]
    }
   ],
   "source": [
    "import sys  \n",
    "import os\n",
    "import pandas as pd\n",
    "import io\n",
    "sys.path.insert(0, '../../../../scripts/')\n",
    "sys.path.insert(0, '../../../../dataset/')\n",
    "import hate_column_converter\n",
    "import embedding_reader\n",
    "import custom_keras_metrics\n",
    "import tensorflow as tf\n",
    "import keras.backend as K\n",
    "import os\n",
    "import time\n",
    "import gc\n",
    "import glob\n",
    "import wget\n",
    "import zipfile\n",
    "import numpy as np\n",
    "from sklearn.model_selection import train_test_split\n",
    "from keras.preprocessing.text import Tokenizer\n",
    "from keras.preprocessing.sequence import pad_sequences\n",
    "from tensorflow.keras.layers import LSTM\n",
    "from tensorflow.keras.preprocessing import text, sequence\n",
    "from keras.layers import Reshape, Flatten, Concatenate, Dropout, SpatialDropout1D\n",
    "from tensorflow.keras.optimizers import Adam\n",
    "from keras.models import Model\n",
    "from keras import backend as K\n",
    "from tensorflow.keras.layers import Layer\n",
    "from keras import initializers, regularizers, constraints, optimizers, layers\n",
    "from tensorflow.keras.utils import to_categorical\n",
    "from sklearn.preprocessing import LabelEncoder\n",
    "from keras.layers import *\n",
    "from keras.models import *\n",
    "from keras import initializers, regularizers, constraints, optimizers, layers\n",
    "from keras.initializers import *\n",
    "from keras.optimizers import *\n",
    "from keras.callbacks import *\n",
    "from keras import metrics\n",
    "from tqdm import tqdm"
   ]
  },
  {
   "cell_type": "code",
   "execution_count": 2,
   "metadata": {},
   "outputs": [],
   "source": [
    "#wget.download(\"http://143.107.183.175:22980/download.php?file=embeddings/glove/glove_s300.zip\", out=\"../../../../embeddings/\")"
   ]
  },
  {
   "cell_type": "code",
   "execution_count": 3,
   "metadata": {},
   "outputs": [],
   "source": [
    "#with zipfile.ZipFile(\"../../../../embeddings/glove_s300.zip\", 'r') as zip_ref:\n",
    " #   zip_ref.extractall(\"../../../../embeddings/\")"
   ]
  },
  {
   "cell_type": "code",
   "execution_count": 2,
   "metadata": {},
   "outputs": [
    {
     "name": "stderr",
     "output_type": "stream",
     "text": [
      "/workspaces/hate-speech-detection-python/train/notebooks-my-paper/lstm/hate_speech/../../../../scripts/hate_column_converter.py:8: SettingWithCopyWarning: \n",
      "A value is trying to be set on a copy of a slice from a DataFrame.\n",
      "Try using .loc[row_indexer,col_indexer] = value instead\n",
      "\n",
      "See the caveats in the documentation: https://pandas.pydata.org/pandas-docs/stable/user_guide/indexing.html#returning-a-view-versus-a-copy\n",
      "  lines_with_two_numbers_in_hate_speech[['col1', 'col2']] = lines_with_two_numbers_in_hate_speech['hate_speech'].str.split(',', expand=True)\n",
      "/workspaces/hate-speech-detection-python/train/notebooks-my-paper/lstm/hate_speech/../../../../scripts/hate_column_converter.py:8: SettingWithCopyWarning: \n",
      "A value is trying to be set on a copy of a slice from a DataFrame.\n",
      "Try using .loc[row_indexer,col_indexer] = value instead\n",
      "\n",
      "See the caveats in the documentation: https://pandas.pydata.org/pandas-docs/stable/user_guide/indexing.html#returning-a-view-versus-a-copy\n",
      "  lines_with_two_numbers_in_hate_speech[['col1', 'col2']] = lines_with_two_numbers_in_hate_speech['hate_speech'].str.split(',', expand=True)\n"
     ]
    }
   ],
   "source": [
    "MAX_LENGTH = 300\n",
    "dataframe = pd.read_csv('../../../../dataset/HateBR.csv')\n",
    "new_dataframe = hate_column_converter.convert_to_binary(dataframe)\n",
    "classes_zero = new_dataframe[new_dataframe['hate_speech'] == 0]\n",
    "classes_one = new_dataframe[new_dataframe['hate_speech'] == 1]\n",
    "classes_one_oversampled = classes_one.sample(len(classes_zero), replace=True)\n",
    "dataframe_oversampled = pd.concat([classes_zero, classes_one_oversampled]) \n",
    "instagram_comments = dataframe_oversampled['instagram_comments']\n",
    "y = dataframe_oversampled['hate_speech']"
   ]
  },
  {
   "cell_type": "code",
   "execution_count": 3,
   "metadata": {},
   "outputs": [],
   "source": [
    "x = dataframe_oversampled['instagram_comments']"
   ]
  },
  {
   "cell_type": "code",
   "execution_count": 4,
   "metadata": {},
   "outputs": [],
   "source": [
    "token = Tokenizer()\n",
    "token.fit_on_texts(x)\n",
    "sequences = token.texts_to_sequences(x)\n",
    "x = pad_sequences(sequences,maxlen=MAX_LENGTH)\n",
    "vocabulary_size = len(token.word_index)+1"
   ]
  },
  {
   "cell_type": "code",
   "execution_count": 5,
   "metadata": {},
   "outputs": [
    {
     "name": "stderr",
     "output_type": "stream",
     "text": [
      "100%|██████████| 11530/11530 [00:00<00:00, 565194.77it/s]\n"
     ]
    }
   ],
   "source": [
    "embedding_vector = embedding_reader.read_glove_file()\n",
    "embedding_matrix = np.zeros((vocabulary_size,MAX_LENGTH))\n",
    "for word,i in tqdm(token.word_index.items()):\n",
    "    embedding_value = embedding_vector.get(word)\n",
    "    if embedding_value is not None:\n",
    "        embedding_matrix[i] = embedding_value"
   ]
  },
  {
   "cell_type": "code",
   "execution_count": 6,
   "metadata": {},
   "outputs": [],
   "source": [
    "x_train, x_test, y_train, y_test = train_test_split(x, y, train_size=0.8, test_size=0.2)"
   ]
  },
  {
   "cell_type": "code",
   "execution_count": 7,
   "metadata": {},
   "outputs": [
    {
     "name": "stderr",
     "output_type": "stream",
     "text": [
      "2023-10-29 00:57:22.802969: W tensorflow/stream_executor/platform/default/dso_loader.cc:64] Could not load dynamic library 'libcuda.so.1'; dlerror: libcuda.so.1: cannot open shared object file: No such file or directory\n",
      "2023-10-29 00:57:22.803009: W tensorflow/stream_executor/cuda/cuda_driver.cc:269] failed call to cuInit: UNKNOWN ERROR (303)\n",
      "2023-10-29 00:57:22.803043: I tensorflow/stream_executor/cuda/cuda_diagnostics.cc:156] kernel driver does not appear to be running on this host (codespaces-fbf4a0): /proc/driver/nvidia/version does not exist\n",
      "2023-10-29 00:57:22.803275: I tensorflow/core/platform/cpu_feature_guard.cc:151] This TensorFlow binary is optimized with oneAPI Deep Neural Network Library (oneDNN) to use the following CPU instructions in performance-critical operations:  AVX2 FMA\n",
      "To enable them in other operations, rebuild TensorFlow with the appropriate compiler flags.\n"
     ]
    }
   ],
   "source": [
    "lstm_model = Sequential()\n",
    "lstm_model.add(Embedding(vocabulary_size,MAX_LENGTH,weights=[embedding_matrix],input_length=x.shape[1],trainable=False))\n",
    "lstm_model.add(Dense(128))\n",
    "lstm_model.add(Dropout(0.25))\n",
    "lstm_model.add(LSTM(64))\n",
    "lstm_model.add(Dropout(0.5))\n",
    "lstm_model.add(Dense(1))\n",
    "lstm_model.add(Activation('sigmoid'))\n",
    "lstm_model.compile(loss='binary_crossentropy', optimizer='adam', metrics=['accuracy', 'binary_accuracy', custom_keras_metrics.f1_score])"
   ]
  },
  {
   "cell_type": "code",
   "execution_count": 8,
   "metadata": {},
   "outputs": [
    {
     "name": "stdout",
     "output_type": "stream",
     "text": [
      "Epoch 1/20\n"
     ]
    },
    {
     "name": "stdout",
     "output_type": "stream",
     "text": [
      "79/79 [==============================] - 41s 499ms/step - loss: 0.5594 - accuracy: 0.7104 - binary_accuracy: 0.7104 - f1_score: 0.7089 - val_loss: 0.4557 - val_accuracy: 0.7885 - val_binary_accuracy: 0.7885 - val_f1_score: 0.7949\n",
      "Epoch 2/20\n",
      "79/79 [==============================] - 38s 480ms/step - loss: 0.4285 - accuracy: 0.8088 - binary_accuracy: 0.8088 - f1_score: 0.8082 - val_loss: 0.3802 - val_accuracy: 0.8321 - val_binary_accuracy: 0.8321 - val_f1_score: 0.8275\n",
      "Epoch 3/20\n",
      "79/79 [==============================] - 39s 490ms/step - loss: 0.3521 - accuracy: 0.8457 - binary_accuracy: 0.8457 - f1_score: 0.8452 - val_loss: 0.3271 - val_accuracy: 0.8607 - val_binary_accuracy: 0.8607 - val_f1_score: 0.8597\n",
      "Epoch 4/20\n",
      "79/79 [==============================] - 38s 483ms/step - loss: 0.3008 - accuracy: 0.8755 - binary_accuracy: 0.8755 - f1_score: 0.8755 - val_loss: 0.2926 - val_accuracy: 0.8794 - val_binary_accuracy: 0.8794 - val_f1_score: 0.8748\n",
      "Epoch 5/20\n",
      "79/79 [==============================] - 38s 487ms/step - loss: 0.2580 - accuracy: 0.8952 - binary_accuracy: 0.8952 - f1_score: 0.8957 - val_loss: 0.2682 - val_accuracy: 0.8921 - val_binary_accuracy: 0.8921 - val_f1_score: 0.8945\n",
      "Epoch 6/20\n",
      "79/79 [==============================] - 38s 486ms/step - loss: 0.2245 - accuracy: 0.9121 - binary_accuracy: 0.9121 - f1_score: 0.9126 - val_loss: 0.2479 - val_accuracy: 0.9012 - val_binary_accuracy: 0.9012 - val_f1_score: 0.9035\n",
      "Epoch 7/20\n",
      "79/79 [==============================] - 38s 487ms/step - loss: 0.1975 - accuracy: 0.9219 - binary_accuracy: 0.9219 - f1_score: 0.9220 - val_loss: 0.2053 - val_accuracy: 0.9254 - val_binary_accuracy: 0.9254 - val_f1_score: 0.9259\n",
      "Epoch 8/20\n",
      "79/79 [==============================] - 38s 484ms/step - loss: 0.1734 - accuracy: 0.9331 - binary_accuracy: 0.9331 - f1_score: 0.9331 - val_loss: 0.2265 - val_accuracy: 0.9091 - val_binary_accuracy: 0.9091 - val_f1_score: 0.9117\n",
      "Epoch 9/20\n",
      "79/79 [==============================] - 38s 482ms/step - loss: 0.1483 - accuracy: 0.9424 - binary_accuracy: 0.9424 - f1_score: 0.9424 - val_loss: 0.2226 - val_accuracy: 0.9198 - val_binary_accuracy: 0.9198 - val_f1_score: 0.9219\n",
      "Epoch 10/20\n",
      "79/79 [==============================] - 38s 481ms/step - loss: 0.1375 - accuracy: 0.9452 - binary_accuracy: 0.9452 - f1_score: 0.9452 - val_loss: 0.1657 - val_accuracy: 0.9365 - val_binary_accuracy: 0.9365 - val_f1_score: 0.9373\n",
      "Epoch 11/20\n",
      "79/79 [==============================] - 38s 478ms/step - loss: 0.1148 - accuracy: 0.9550 - binary_accuracy: 0.9550 - f1_score: 0.9548 - val_loss: 0.1602 - val_accuracy: 0.9421 - val_binary_accuracy: 0.9421 - val_f1_score: 0.9425\n",
      "Epoch 12/20\n",
      "79/79 [==============================] - 38s 478ms/step - loss: 0.1099 - accuracy: 0.9559 - binary_accuracy: 0.9559 - f1_score: 0.9558 - val_loss: 0.1901 - val_accuracy: 0.9337 - val_binary_accuracy: 0.9337 - val_f1_score: 0.9350\n",
      "Epoch 13/20\n",
      "79/79 [==============================] - 38s 477ms/step - loss: 0.0985 - accuracy: 0.9603 - binary_accuracy: 0.9603 - f1_score: 0.9600 - val_loss: 0.1790 - val_accuracy: 0.9365 - val_binary_accuracy: 0.9365 - val_f1_score: 0.9374\n",
      "Epoch 14/20\n",
      "79/79 [==============================] - 38s 482ms/step - loss: 0.1369 - accuracy: 0.9453 - binary_accuracy: 0.9453 - f1_score: 0.9456 - val_loss: 0.1822 - val_accuracy: 0.9298 - val_binary_accuracy: 0.9298 - val_f1_score: 0.9310\n",
      "Epoch 15/20\n",
      "79/79 [==============================] - 38s 479ms/step - loss: 0.0928 - accuracy: 0.9618 - binary_accuracy: 0.9618 - f1_score: 0.9620 - val_loss: 0.1499 - val_accuracy: 0.9500 - val_binary_accuracy: 0.9500 - val_f1_score: 0.9499\n",
      "Epoch 16/20\n",
      "79/79 [==============================] - 38s 481ms/step - loss: 0.0786 - accuracy: 0.9681 - binary_accuracy: 0.9681 - f1_score: 0.9681 - val_loss: 0.1666 - val_accuracy: 0.9464 - val_binary_accuracy: 0.9464 - val_f1_score: 0.9465\n",
      "Epoch 17/20\n",
      "79/79 [==============================] - 38s 478ms/step - loss: 0.0721 - accuracy: 0.9694 - binary_accuracy: 0.9694 - f1_score: 0.9691 - val_loss: 0.1859 - val_accuracy: 0.9385 - val_binary_accuracy: 0.9385 - val_f1_score: 0.9396\n",
      "Epoch 18/20\n",
      "79/79 [==============================] - 38s 477ms/step - loss: 0.0744 - accuracy: 0.9678 - binary_accuracy: 0.9678 - f1_score: 0.9681 - val_loss: 0.1527 - val_accuracy: 0.9516 - val_binary_accuracy: 0.9516 - val_f1_score: 0.9514\n",
      "Epoch 19/20\n",
      "79/79 [==============================] - 38s 478ms/step - loss: 0.0753 - accuracy: 0.9671 - binary_accuracy: 0.9671 - f1_score: 0.9668 - val_loss: 0.1597 - val_accuracy: 0.9464 - val_binary_accuracy: 0.9464 - val_f1_score: 0.9466\n",
      "Epoch 20/20\n",
      "79/79 [==============================] - 38s 480ms/step - loss: 0.0582 - accuracy: 0.9733 - binary_accuracy: 0.9733 - f1_score: 0.9730 - val_loss: 0.1612 - val_accuracy: 0.9448 - val_binary_accuracy: 0.9448 - val_f1_score: 0.9451\n"
     ]
    }
   ],
   "source": [
    "model = lstm_model.fit(x_train, y_train, epochs=20, batch_size=128, validation_data=(x_test, y_test))"
   ]
  },
  {
   "cell_type": "code",
   "execution_count": 9,
   "metadata": {},
   "outputs": [
    {
     "name": "stdout",
     "output_type": "stream",
     "text": [
      "20/20 [==============================] - 3s 139ms/step - loss: 0.1612 - accuracy: 0.9448 - binary_accuracy: 0.9448 - f1_score: 0.9451\n",
      "loss :  0.16116401553153992\n",
      "accuracy :  0.9448412656784058\n",
      "binary_accuracy :  0.9448412656784058\n",
      "f1_score :  0.9451349973678589\n",
      "\n"
     ]
    },
    {
     "ename": "",
     "evalue": "",
     "output_type": "error",
     "traceback": [
      "\u001b[1;31mThe Kernel crashed while executing code in the the current cell or a previous cell. Please review the code in the cell(s) to identify a possible cause of the failure. Click <a href='https://aka.ms/vscodeJupyterKernelCrash'>here</a> for more info. View Jupyter <a href='command:jupyter.viewOutput'>log</a> for further details."
     ]
    }
   ],
   "source": [
    "results = lstm_model.evaluate(x_test, y_test, batch_size=128)\n",
    "\n",
    "for name, value in zip(lstm_model.metrics_names, results):\n",
    "  print(name, ': ', value)\n",
    "print()"
   ]
  },
  {
   "cell_type": "code",
   "execution_count": 12,
   "metadata": {},
   "outputs": [
    {
     "ename": "",
     "evalue": "",
     "output_type": "error",
     "traceback": [
      "\u001b[1;31mThe Kernel crashed while executing code in the the current cell or a previous cell. Please review the code in the cell(s) to identify a possible cause of the failure. Click <a href='https://aka.ms/vscodeJupyterKernelCrash'>here</a> for more info. View Jupyter <a href='command:jupyter.viewOutput'>log</a> for further details."
     ]
    }
   ],
   "source": [
    "#import joblib\n",
    "\n",
    "#model_filename = '../../../models/generated-models-base-paper/offensive_lstm_embeddings_model.pkl'\n",
    "#joblib.dump(model, model_filename)"
   ]
  }
 ],
 "metadata": {
  "kernelspec": {
   "display_name": "Python 3 (ipykernel)",
   "language": "python",
   "name": "python3"
  },
  "language_info": {
   "codemirror_mode": {
    "name": "ipython",
    "version": 3
   },
   "file_extension": ".py",
   "mimetype": "text/x-python",
   "name": "python",
   "nbconvert_exporter": "python",
   "pygments_lexer": "ipython3",
   "version": "3.10.4"
  },
  "orig_nbformat": 4
 },
 "nbformat": 4,
 "nbformat_minor": 2
}
