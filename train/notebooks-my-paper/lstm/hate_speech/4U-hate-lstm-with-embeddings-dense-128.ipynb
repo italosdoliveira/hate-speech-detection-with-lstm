{
 "cells": [
  {
   "cell_type": "code",
   "execution_count": 1,
   "metadata": {},
   "outputs": [
    {
     "name": "stderr",
     "output_type": "stream",
     "text": [
      "2023-10-24 12:04:59.430737: W tensorflow/stream_executor/platform/default/dso_loader.cc:64] Could not load dynamic library 'libcudart.so.11.0'; dlerror: libcudart.so.11.0: cannot open shared object file: No such file or directory\n",
      "2023-10-24 12:04:59.430772: I tensorflow/stream_executor/cuda/cudart_stub.cc:29] Ignore above cudart dlerror if you do not have a GPU set up on your machine.\n"
     ]
    }
   ],
   "source": [
    "import sys  \n",
    "import os\n",
    "import pandas as pd\n",
    "import io\n",
    "sys.path.insert(0, '../../../../scripts/')\n",
    "sys.path.insert(0, '../../../../dataset/')\n",
    "import hate_column_converter\n",
    "import embedding_reader\n",
    "import custom_keras_metrics\n",
    "import tensorflow as tf\n",
    "import keras.backend as K\n",
    "import os\n",
    "import time\n",
    "import gc\n",
    "import glob\n",
    "import wget\n",
    "import zipfile\n",
    "import numpy as np\n",
    "from sklearn.model_selection import train_test_split\n",
    "from keras.preprocessing.text import Tokenizer\n",
    "from keras.preprocessing.sequence import pad_sequences\n",
    "from tensorflow.keras.layers import LSTM\n",
    "from tensorflow.keras.preprocessing import text, sequence\n",
    "from keras.layers import Reshape, Flatten, Concatenate, Dropout, SpatialDropout1D\n",
    "from tensorflow.keras.optimizers import Adam\n",
    "from keras.models import Model\n",
    "from keras import backend as K\n",
    "from tensorflow.keras.layers import Layer\n",
    "from keras import initializers, regularizers, constraints, optimizers, layers\n",
    "from tensorflow.keras.utils import to_categorical\n",
    "from sklearn.preprocessing import LabelEncoder\n",
    "from keras.layers import *\n",
    "from keras.models import *\n",
    "from keras import initializers, regularizers, constraints, optimizers, layers\n",
    "from keras.initializers import *\n",
    "from keras.optimizers import *\n",
    "from keras.callbacks import *\n",
    "from keras import metrics\n",
    "from tqdm import tqdm"
   ]
  },
  {
   "cell_type": "code",
   "execution_count": 2,
   "metadata": {},
   "outputs": [],
   "source": [
    "#wget.download(\"http://143.107.183.175:22980/download.php?file=embeddings/glove/glove_s300.zip\", out=\"../../../../embeddings/\")"
   ]
  },
  {
   "cell_type": "code",
   "execution_count": 3,
   "metadata": {},
   "outputs": [],
   "source": [
    "#with zipfile.ZipFile(\"../../../../embeddings/glove_s300.zip\", 'r') as zip_ref:\n",
    " #   zip_ref.extractall(\"../../../../embeddings/\")"
   ]
  },
  {
   "cell_type": "code",
   "execution_count": 2,
   "metadata": {},
   "outputs": [
    {
     "name": "stderr",
     "output_type": "stream",
     "text": [
      "/workspaces/hate-speech-detection-python/train/notebooks-my-paper/lstm/hate_speech/../../../../scripts/hate_column_converter.py:8: SettingWithCopyWarning: \n",
      "A value is trying to be set on a copy of a slice from a DataFrame.\n",
      "Try using .loc[row_indexer,col_indexer] = value instead\n",
      "\n",
      "See the caveats in the documentation: https://pandas.pydata.org/pandas-docs/stable/user_guide/indexing.html#returning-a-view-versus-a-copy\n",
      "  lines_with_two_numbers_in_hate_speech[['col1', 'col2']] = lines_with_two_numbers_in_hate_speech['hate_speech'].str.split(',', expand=True)\n",
      "/workspaces/hate-speech-detection-python/train/notebooks-my-paper/lstm/hate_speech/../../../../scripts/hate_column_converter.py:8: SettingWithCopyWarning: \n",
      "A value is trying to be set on a copy of a slice from a DataFrame.\n",
      "Try using .loc[row_indexer,col_indexer] = value instead\n",
      "\n",
      "See the caveats in the documentation: https://pandas.pydata.org/pandas-docs/stable/user_guide/indexing.html#returning-a-view-versus-a-copy\n",
      "  lines_with_two_numbers_in_hate_speech[['col1', 'col2']] = lines_with_two_numbers_in_hate_speech['hate_speech'].str.split(',', expand=True)\n"
     ]
    }
   ],
   "source": [
    "MAX_LENGTH = 300\n",
    "dataframe = pd.read_csv('../../../../dataset/HateBR.csv')\n",
    "new_dataframe = hate_column_converter.convert_to_binary(dataframe)\n",
    "classes_zero = new_dataframe[new_dataframe['hate_speech'] == 0]\n",
    "classes_one = new_dataframe[new_dataframe['hate_speech'] == 1]\n",
    "classes_zero_undersampled = classes_zero.sample(len(classes_one))\n",
    "dataframe_undersampled = pd.concat([classes_zero_undersampled, classes_one]) \n",
    "instagram_comments = dataframe_undersampled['instagram_comments']\n",
    "y = dataframe_undersampled['hate_speech']"
   ]
  },
  {
   "cell_type": "code",
   "execution_count": 3,
   "metadata": {},
   "outputs": [],
   "source": [
    "x = dataframe_undersampled['instagram_comments']"
   ]
  },
  {
   "cell_type": "code",
   "execution_count": 4,
   "metadata": {},
   "outputs": [],
   "source": [
    "token = Tokenizer()\n",
    "token.fit_on_texts(x)\n",
    "sequences = token.texts_to_sequences(x)\n",
    "x = pad_sequences(sequences,maxlen=MAX_LENGTH)\n",
    "vocabulary_size = len(token.word_index)+1"
   ]
  },
  {
   "cell_type": "code",
   "execution_count": 5,
   "metadata": {},
   "outputs": [
    {
     "name": "stderr",
     "output_type": "stream",
     "text": [
      "100%|██████████| 4679/4679 [00:00<00:00, 108511.96it/s]\n"
     ]
    }
   ],
   "source": [
    "embedding_vector = embedding_reader.read_glove_file()\n",
    "embedding_matrix = np.zeros((vocabulary_size,MAX_LENGTH))\n",
    "for word,i in tqdm(token.word_index.items()):\n",
    "    embedding_value = embedding_vector.get(word)\n",
    "    if embedding_value is not None:\n",
    "        embedding_matrix[i] = embedding_value"
   ]
  },
  {
   "cell_type": "code",
   "execution_count": 6,
   "metadata": {},
   "outputs": [],
   "source": [
    "x_train, x_test, y_train, y_test = train_test_split(x, y, train_size=0.8, test_size=0.2)"
   ]
  },
  {
   "cell_type": "code",
   "execution_count": 7,
   "metadata": {},
   "outputs": [
    {
     "name": "stderr",
     "output_type": "stream",
     "text": [
      "2023-10-24 12:06:34.953788: W tensorflow/stream_executor/platform/default/dso_loader.cc:64] Could not load dynamic library 'libcuda.so.1'; dlerror: libcuda.so.1: cannot open shared object file: No such file or directory\n",
      "2023-10-24 12:06:34.953856: W tensorflow/stream_executor/cuda/cuda_driver.cc:269] failed call to cuInit: UNKNOWN ERROR (303)\n",
      "2023-10-24 12:06:34.953889: I tensorflow/stream_executor/cuda/cuda_diagnostics.cc:156] kernel driver does not appear to be running on this host (codespaces-fbf4a0): /proc/driver/nvidia/version does not exist\n",
      "2023-10-24 12:06:34.954332: I tensorflow/core/platform/cpu_feature_guard.cc:151] This TensorFlow binary is optimized with oneAPI Deep Neural Network Library (oneDNN) to use the following CPU instructions in performance-critical operations:  AVX2 FMA\n",
      "To enable them in other operations, rebuild TensorFlow with the appropriate compiler flags.\n"
     ]
    }
   ],
   "source": [
    "lstm_model = Sequential()\n",
    "lstm_model.add(Embedding(vocabulary_size,MAX_LENGTH,weights=[embedding_matrix],input_length=x.shape[1],trainable=False))\n",
    "lstm_model.add(Dense(128))\n",
    "lstm_model.add(Dropout(0.25))\n",
    "lstm_model.add(LSTM(64))\n",
    "lstm_model.add(Dropout(0.5))\n",
    "lstm_model.add(Dense(1))\n",
    "lstm_model.add(Activation('sigmoid'))\n",
    "lstm_model.compile(loss='binary_crossentropy', optimizer='adam', metrics=['accuracy', 'binary_accuracy', custom_keras_metrics.f1_score])"
   ]
  },
  {
   "cell_type": "code",
   "execution_count": 8,
   "metadata": {},
   "outputs": [
    {
     "name": "stdout",
     "output_type": "stream",
     "text": [
      "Epoch 1/20\n"
     ]
    },
    {
     "name": "stderr",
     "output_type": "stream",
     "text": [
      "2023-10-24 12:06:44.296409: W tensorflow/core/framework/cpu_allocator_impl.cc:82] Allocation of 46080000 exceeds 10% of free system memory.\n",
      "2023-10-24 12:06:44.326900: W tensorflow/core/framework/cpu_allocator_impl.cc:82] Allocation of 19660800 exceeds 10% of free system memory.\n",
      "2023-10-24 12:06:44.386620: W tensorflow/core/framework/cpu_allocator_impl.cc:82] Allocation of 19660800 exceeds 10% of free system memory.\n",
      "2023-10-24 12:06:44.420298: W tensorflow/core/framework/cpu_allocator_impl.cc:82] Allocation of 19660800 exceeds 10% of free system memory.\n",
      "2023-10-24 12:06:44.493700: W tensorflow/core/framework/cpu_allocator_impl.cc:82] Allocation of 19660800 exceeds 10% of free system memory.\n"
     ]
    },
    {
     "name": "stdout",
     "output_type": "stream",
     "text": [
      "10/10 [==============================] - 7s 514ms/step - loss: 0.6761 - accuracy: 0.5666 - binary_accuracy: 0.5666 - f1_score: 0.5892 - val_loss: 0.6523 - val_accuracy: 0.6357 - val_binary_accuracy: 0.6357 - val_f1_score: 0.5416\n",
      "Epoch 2/20\n",
      "10/10 [==============================] - 5s 451ms/step - loss: 0.6262 - accuracy: 0.6707 - binary_accuracy: 0.6707 - f1_score: 0.6604 - val_loss: 0.6139 - val_accuracy: 0.6564 - val_binary_accuracy: 0.6564 - val_f1_score: 0.7011\n",
      "Epoch 3/20\n",
      "10/10 [==============================] - 5s 459ms/step - loss: 0.5712 - accuracy: 0.7197 - binary_accuracy: 0.7197 - f1_score: 0.6827 - val_loss: 0.5876 - val_accuracy: 0.6667 - val_binary_accuracy: 0.6667 - val_f1_score: 0.6539\n",
      "Epoch 4/20\n",
      "10/10 [==============================] - 5s 442ms/step - loss: 0.5148 - accuracy: 0.7635 - binary_accuracy: 0.7635 - f1_score: 0.7575 - val_loss: 0.5862 - val_accuracy: 0.7045 - val_binary_accuracy: 0.7045 - val_f1_score: 0.7233\n",
      "Epoch 5/20\n",
      "10/10 [==============================] - 4s 443ms/step - loss: 0.5032 - accuracy: 0.7592 - binary_accuracy: 0.7592 - f1_score: 0.7449 - val_loss: 0.5506 - val_accuracy: 0.7182 - val_binary_accuracy: 0.7182 - val_f1_score: 0.7265\n",
      "Epoch 6/20\n",
      "10/10 [==============================] - 4s 448ms/step - loss: 0.4746 - accuracy: 0.7911 - binary_accuracy: 0.7911 - f1_score: 0.7821 - val_loss: 0.6012 - val_accuracy: 0.6873 - val_binary_accuracy: 0.6873 - val_f1_score: 0.6564\n",
      "Epoch 7/20\n",
      "10/10 [==============================] - 5s 449ms/step - loss: 0.4980 - accuracy: 0.7807 - binary_accuracy: 0.7807 - f1_score: 0.7736 - val_loss: 0.5709 - val_accuracy: 0.7182 - val_binary_accuracy: 0.7182 - val_f1_score: 0.7453\n",
      "Epoch 8/20\n",
      "10/10 [==============================] - 5s 458ms/step - loss: 0.4571 - accuracy: 0.7911 - binary_accuracy: 0.7911 - f1_score: 0.7795 - val_loss: 0.5527 - val_accuracy: 0.7216 - val_binary_accuracy: 0.7216 - val_f1_score: 0.7365\n",
      "Epoch 9/20\n",
      "10/10 [==============================] - 4s 448ms/step - loss: 0.4319 - accuracy: 0.8160 - binary_accuracy: 0.8160 - f1_score: 0.8199 - val_loss: 0.5548 - val_accuracy: 0.7251 - val_binary_accuracy: 0.7251 - val_f1_score: 0.7339\n",
      "Epoch 10/20\n",
      "10/10 [==============================] - 5s 474ms/step - loss: 0.4182 - accuracy: 0.8203 - binary_accuracy: 0.8203 - f1_score: 0.8110 - val_loss: 0.5708 - val_accuracy: 0.7423 - val_binary_accuracy: 0.7423 - val_f1_score: 0.7736\n",
      "Epoch 11/20\n",
      "10/10 [==============================] - 4s 448ms/step - loss: 0.4263 - accuracy: 0.7997 - binary_accuracy: 0.7997 - f1_score: 0.8075 - val_loss: 0.5695 - val_accuracy: 0.7216 - val_binary_accuracy: 0.7216 - val_f1_score: 0.7123\n",
      "Epoch 12/20\n",
      "10/10 [==============================] - 5s 453ms/step - loss: 0.4142 - accuracy: 0.8237 - binary_accuracy: 0.8237 - f1_score: 0.7960 - val_loss: 0.5389 - val_accuracy: 0.7388 - val_binary_accuracy: 0.7388 - val_f1_score: 0.7548\n",
      "Epoch 13/20\n",
      "10/10 [==============================] - 5s 473ms/step - loss: 0.3821 - accuracy: 0.8375 - binary_accuracy: 0.8375 - f1_score: 0.8365 - val_loss: 0.5568 - val_accuracy: 0.7320 - val_binary_accuracy: 0.7320 - val_f1_score: 0.7697\n",
      "Epoch 14/20\n",
      "10/10 [==============================] - 4s 445ms/step - loss: 0.3855 - accuracy: 0.8298 - binary_accuracy: 0.8298 - f1_score: 0.8326 - val_loss: 0.5865 - val_accuracy: 0.7388 - val_binary_accuracy: 0.7388 - val_f1_score: 0.7320\n",
      "Epoch 15/20\n",
      "10/10 [==============================] - 5s 458ms/step - loss: 0.3787 - accuracy: 0.8383 - binary_accuracy: 0.8383 - f1_score: 0.8318 - val_loss: 0.5477 - val_accuracy: 0.7388 - val_binary_accuracy: 0.7388 - val_f1_score: 0.7579\n",
      "Epoch 16/20\n",
      "10/10 [==============================] - 4s 446ms/step - loss: 0.3770 - accuracy: 0.8392 - binary_accuracy: 0.8392 - f1_score: 0.8382 - val_loss: 0.5581 - val_accuracy: 0.7491 - val_binary_accuracy: 0.7491 - val_f1_score: 0.7893\n",
      "Epoch 17/20\n",
      "10/10 [==============================] - 5s 469ms/step - loss: 0.3756 - accuracy: 0.8392 - binary_accuracy: 0.8392 - f1_score: 0.8435 - val_loss: 0.5722 - val_accuracy: 0.7320 - val_binary_accuracy: 0.7320 - val_f1_score: 0.7171\n",
      "Epoch 18/20\n",
      "10/10 [==============================] - 4s 445ms/step - loss: 0.3356 - accuracy: 0.8633 - binary_accuracy: 0.8633 - f1_score: 0.8655 - val_loss: 0.5463 - val_accuracy: 0.7388 - val_binary_accuracy: 0.7388 - val_f1_score: 0.7545\n",
      "Epoch 19/20\n",
      "10/10 [==============================] - 5s 458ms/step - loss: 0.3208 - accuracy: 0.8684 - binary_accuracy: 0.8684 - f1_score: 0.8600 - val_loss: 0.5666 - val_accuracy: 0.7457 - val_binary_accuracy: 0.7457 - val_f1_score: 0.7666\n",
      "Epoch 20/20\n",
      "10/10 [==============================] - 5s 468ms/step - loss: 0.3051 - accuracy: 0.8753 - binary_accuracy: 0.8753 - f1_score: 0.8767 - val_loss: 0.5611 - val_accuracy: 0.7663 - val_binary_accuracy: 0.7663 - val_f1_score: 0.7664\n"
     ]
    }
   ],
   "source": [
    "model = lstm_model.fit(x_train, y_train, epochs=20, batch_size=128, validation_data=(x_test, y_test))"
   ]
  },
  {
   "cell_type": "code",
   "execution_count": 9,
   "metadata": {},
   "outputs": [
    {
     "name": "stdout",
     "output_type": "stream",
     "text": [
      "1/3 [=========>....................] - ETA: 0s - loss: 0.5868 - accuracy: 0.7734 - binary_accuracy: 0.7734 - f1_score: 0.7642"
     ]
    },
    {
     "name": "stdout",
     "output_type": "stream",
     "text": [
      "3/3 [==============================] - 0s 87ms/step - loss: 0.5611 - accuracy: 0.7663 - binary_accuracy: 0.7663 - f1_score: 0.7664\n",
      "loss :  0.5610523223876953\n",
      "accuracy :  0.7663230299949646\n",
      "binary_accuracy :  0.7663230299949646\n",
      "f1_score :  0.7664234042167664\n",
      "\n"
     ]
    },
    {
     "ename": "",
     "evalue": "",
     "output_type": "error",
     "traceback": [
      "\u001b[1;31mThe Kernel crashed while executing code in the the current cell or a previous cell. Please review the code in the cell(s) to identify a possible cause of the failure. Click <a href='https://aka.ms/vscodeJupyterKernelCrash'>here</a> for more info. View Jupyter <a href='command:jupyter.viewOutput'>log</a> for further details."
     ]
    }
   ],
   "source": [
    "results = lstm_model.evaluate(x_test, y_test, batch_size=128)\n",
    "\n",
    "for name, value in zip(lstm_model.metrics_names, results):\n",
    "  print(name, ': ', value)\n",
    "print()"
   ]
  },
  {
   "cell_type": "code",
   "execution_count": 12,
   "metadata": {},
   "outputs": [
    {
     "ename": "",
     "evalue": "",
     "output_type": "error",
     "traceback": [
      "\u001b[1;31mThe Kernel crashed while executing code in the the current cell or a previous cell. Please review the code in the cell(s) to identify a possible cause of the failure. Click <a href='https://aka.ms/vscodeJupyterKernelCrash'>here</a> for more info. View Jupyter <a href='command:jupyter.viewOutput'>log</a> for further details."
     ]
    }
   ],
   "source": [
    "#import joblib\n",
    "\n",
    "#model_filename = '../../../models/generated-models-base-paper/offensive_lstm_embeddings_model.pkl'\n",
    "#joblib.dump(model, model_filename)"
   ]
  }
 ],
 "metadata": {
  "kernelspec": {
   "display_name": "Python 3 (ipykernel)",
   "language": "python",
   "name": "python3"
  },
  "language_info": {
   "codemirror_mode": {
    "name": "ipython",
    "version": 3
   },
   "file_extension": ".py",
   "mimetype": "text/x-python",
   "name": "python",
   "nbconvert_exporter": "python",
   "pygments_lexer": "ipython3",
   "version": "3.10.4"
  },
  "orig_nbformat": 4
 },
 "nbformat": 4,
 "nbformat_minor": 2
}
