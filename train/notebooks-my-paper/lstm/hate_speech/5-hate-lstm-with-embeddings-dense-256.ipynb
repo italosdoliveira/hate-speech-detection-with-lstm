{
 "cells": [
  {
   "cell_type": "code",
   "execution_count": 1,
   "metadata": {},
   "outputs": [
    {
     "name": "stderr",
     "output_type": "stream",
     "text": [
      "2023-10-23 23:18:37.245016: W tensorflow/stream_executor/platform/default/dso_loader.cc:64] Could not load dynamic library 'libcudart.so.11.0'; dlerror: libcudart.so.11.0: cannot open shared object file: No such file or directory\n",
      "2023-10-23 23:18:37.245053: I tensorflow/stream_executor/cuda/cudart_stub.cc:29] Ignore above cudart dlerror if you do not have a GPU set up on your machine.\n"
     ]
    }
   ],
   "source": [
    "import sys  \n",
    "import os\n",
    "import pandas as pd\n",
    "import io\n",
    "sys.path.insert(0, '../../../../scripts/')\n",
    "sys.path.insert(0, '../../../../dataset/')\n",
    "import hate_column_converter\n",
    "import embedding_reader\n",
    "import hate_column_converter\n",
    "import custom_keras_metrics\n",
    "import tensorflow as tf\n",
    "import keras.backend as K\n",
    "import os\n",
    "import time\n",
    "import gc\n",
    "import glob\n",
    "import wget\n",
    "import zipfile\n",
    "import numpy as np\n",
    "from sklearn.model_selection import train_test_split\n",
    "from keras.preprocessing.text import Tokenizer\n",
    "from keras.preprocessing.sequence import pad_sequences\n",
    "from tensorflow.keras.layers import LSTM\n",
    "from tensorflow.keras.preprocessing import text, sequence\n",
    "from keras.layers import Reshape, Flatten, Concatenate, Dropout, SpatialDropout1D\n",
    "from tensorflow.keras.optimizers import Adam\n",
    "from keras.models import Model\n",
    "from keras import backend as K\n",
    "from tensorflow.keras.layers import Layer\n",
    "from keras import initializers, regularizers, constraints, optimizers, layers\n",
    "from tensorflow.keras.utils import to_categorical\n",
    "from sklearn.preprocessing import LabelEncoder\n",
    "from keras.layers import *\n",
    "from keras.models import *\n",
    "from keras import initializers, regularizers, constraints, optimizers, layers\n",
    "from keras.initializers import *\n",
    "from keras.optimizers import *\n",
    "from keras.callbacks import *\n",
    "from keras import metrics\n",
    "from tqdm import tqdm"
   ]
  },
  {
   "cell_type": "code",
   "execution_count": null,
   "metadata": {},
   "outputs": [],
   "source": [
    "#wget.download(\"http://143.107.183.175:22980/download.php?file=embeddings/glove/glove_s300.zip\", out=\"../../../../embeddings/\")"
   ]
  },
  {
   "cell_type": "code",
   "execution_count": null,
   "metadata": {},
   "outputs": [],
   "source": [
    "#with zipfile.ZipFile(\"../../../../embeddings/glove_s300.zip\", 'r') as zip_ref:\n",
    " #   zip_ref.extractall(\"../../../../embeddings/\")"
   ]
  },
  {
   "cell_type": "code",
   "execution_count": 3,
   "metadata": {},
   "outputs": [
    {
     "name": "stderr",
     "output_type": "stream",
     "text": [
      "/workspaces/hate-speech-detection-python/train/notebooks-my-paper/lstm/hate_speech/../../../../scripts/hate_column_converter.py:8: SettingWithCopyWarning: \n",
      "A value is trying to be set on a copy of a slice from a DataFrame.\n",
      "Try using .loc[row_indexer,col_indexer] = value instead\n",
      "\n",
      "See the caveats in the documentation: https://pandas.pydata.org/pandas-docs/stable/user_guide/indexing.html#returning-a-view-versus-a-copy\n",
      "  lines_with_two_numbers_in_hate_speech[['col1', 'col2']] = lines_with_two_numbers_in_hate_speech['hate_speech'].str.split(',', expand=True)\n",
      "/workspaces/hate-speech-detection-python/train/notebooks-my-paper/lstm/hate_speech/../../../../scripts/hate_column_converter.py:8: SettingWithCopyWarning: \n",
      "A value is trying to be set on a copy of a slice from a DataFrame.\n",
      "Try using .loc[row_indexer,col_indexer] = value instead\n",
      "\n",
      "See the caveats in the documentation: https://pandas.pydata.org/pandas-docs/stable/user_guide/indexing.html#returning-a-view-versus-a-copy\n",
      "  lines_with_two_numbers_in_hate_speech[['col1', 'col2']] = lines_with_two_numbers_in_hate_speech['hate_speech'].str.split(',', expand=True)\n"
     ]
    }
   ],
   "source": [
    "MAX_LENGTH = 300\n",
    "dataframe = pd.read_csv('../../../../dataset/HateBR.csv')\n",
    "new_dataframe = hate_column_converter.convert_to_binary(dataframe)\n",
    "y = new_dataframe['hate_speech']"
   ]
  },
  {
   "cell_type": "code",
   "execution_count": 4,
   "metadata": {},
   "outputs": [],
   "source": [
    "x = new_dataframe['instagram_comments']"
   ]
  },
  {
   "cell_type": "code",
   "execution_count": 5,
   "metadata": {},
   "outputs": [],
   "source": [
    "token = Tokenizer()\n",
    "token.fit_on_texts(x)\n",
    "sequences = token.texts_to_sequences(x)\n",
    "x = pad_sequences(sequences,maxlen=MAX_LENGTH)\n",
    "vocabulary_size = len(token.word_index)+1"
   ]
  },
  {
   "cell_type": "code",
   "execution_count": 6,
   "metadata": {},
   "outputs": [
    {
     "name": "stderr",
     "output_type": "stream",
     "text": [
      "100%|██████████| 11530/11530 [00:00<00:00, 320345.55it/s]\n"
     ]
    }
   ],
   "source": [
    "embedding_vector = embedding_reader.read_glove_file()\n",
    "embedding_matrix = np.zeros((vocabulary_size,MAX_LENGTH))\n",
    "for word,i in tqdm(token.word_index.items()):\n",
    "    embedding_value = embedding_vector.get(word)\n",
    "    if embedding_value is not None:\n",
    "        embedding_matrix[i] = embedding_value"
   ]
  },
  {
   "cell_type": "code",
   "execution_count": 7,
   "metadata": {},
   "outputs": [],
   "source": [
    "x_train, x_test, y_train, y_test = train_test_split(x, y, train_size=0.8, test_size=0.2)"
   ]
  },
  {
   "cell_type": "code",
   "execution_count": 8,
   "metadata": {},
   "outputs": [
    {
     "name": "stderr",
     "output_type": "stream",
     "text": [
      "2023-10-23 23:20:49.632905: W tensorflow/stream_executor/platform/default/dso_loader.cc:64] Could not load dynamic library 'libcuda.so.1'; dlerror: libcuda.so.1: cannot open shared object file: No such file or directory\n",
      "2023-10-23 23:20:49.632958: W tensorflow/stream_executor/cuda/cuda_driver.cc:269] failed call to cuInit: UNKNOWN ERROR (303)\n",
      "2023-10-23 23:20:49.632991: I tensorflow/stream_executor/cuda/cuda_diagnostics.cc:156] kernel driver does not appear to be running on this host (codespaces-fbf4a0): /proc/driver/nvidia/version does not exist\n",
      "2023-10-23 23:20:49.633347: I tensorflow/core/platform/cpu_feature_guard.cc:151] This TensorFlow binary is optimized with oneAPI Deep Neural Network Library (oneDNN) to use the following CPU instructions in performance-critical operations:  AVX2 FMA\n",
      "To enable them in other operations, rebuild TensorFlow with the appropriate compiler flags.\n"
     ]
    }
   ],
   "source": [
    "lstm_model = Sequential()\n",
    "lstm_model.add(Embedding(vocabulary_size,MAX_LENGTH,weights=[embedding_matrix],input_length=x.shape[1],trainable=False))\n",
    "lstm_model.add(Dense(256))\n",
    "lstm_model.add(Dropout(0.25))\n",
    "lstm_model.add(LSTM(64))\n",
    "lstm_model.add(Dropout(0.5))\n",
    "lstm_model.add(Dense(1))\n",
    "lstm_model.add(Activation('sigmoid'))\n",
    "lstm_model.compile(loss='binary_crossentropy', optimizer='adam', metrics=['accuracy', 'binary_accuracy', custom_keras_metrics.f1_score])"
   ]
  },
  {
   "cell_type": "code",
   "execution_count": 9,
   "metadata": {},
   "outputs": [
    {
     "name": "stdout",
     "output_type": "stream",
     "text": [
      "Epoch 1/20\n"
     ]
    },
    {
     "name": "stdout",
     "output_type": "stream",
     "text": [
      "44/44 [==============================] - 36s 768ms/step - loss: 0.3719 - accuracy: 0.8794 - binary_accuracy: 0.8794 - f1_score: 0.0136 - val_loss: 0.3079 - val_accuracy: 0.9011 - val_binary_accuracy: 0.9011 - val_f1_score: 0.0000e+00\n",
      "Epoch 2/20\n",
      "44/44 [==============================] - 32s 738ms/step - loss: 0.3011 - accuracy: 0.8989 - binary_accuracy: 0.8989 - f1_score: 0.0781 - val_loss: 0.2668 - val_accuracy: 0.9060 - val_binary_accuracy: 0.9060 - val_f1_score: 0.0939\n",
      "Epoch 3/20\n",
      "44/44 [==============================] - 32s 733ms/step - loss: 0.2640 - accuracy: 0.9069 - binary_accuracy: 0.9069 - f1_score: 0.2680 - val_loss: 0.2292 - val_accuracy: 0.9117 - val_binary_accuracy: 0.9117 - val_f1_score: 0.2865\n",
      "Epoch 4/20\n",
      "44/44 [==============================] - 32s 732ms/step - loss: 0.2275 - accuracy: 0.9153 - binary_accuracy: 0.9153 - f1_score: 0.4345 - val_loss: 0.2100 - val_accuracy: 0.9288 - val_binary_accuracy: 0.9288 - val_f1_score: 0.5082\n",
      "Epoch 5/20\n",
      "44/44 [==============================] - 32s 730ms/step - loss: 0.2093 - accuracy: 0.9210 - binary_accuracy: 0.9210 - f1_score: 0.5140 - val_loss: 0.2048 - val_accuracy: 0.9274 - val_binary_accuracy: 0.9274 - val_f1_score: 0.5346\n",
      "Epoch 6/20\n",
      "44/44 [==============================] - 32s 726ms/step - loss: 0.1961 - accuracy: 0.9292 - binary_accuracy: 0.9292 - f1_score: 0.5676 - val_loss: 0.2220 - val_accuracy: 0.9274 - val_binary_accuracy: 0.9274 - val_f1_score: 0.5220\n",
      "Epoch 7/20\n",
      "44/44 [==============================] - 32s 725ms/step - loss: 0.1887 - accuracy: 0.9324 - binary_accuracy: 0.9324 - f1_score: 0.6055 - val_loss: 0.2070 - val_accuracy: 0.9288 - val_binary_accuracy: 0.9288 - val_f1_score: 0.5275\n",
      "Epoch 8/20\n",
      "44/44 [==============================] - 32s 731ms/step - loss: 0.1750 - accuracy: 0.9349 - binary_accuracy: 0.9349 - f1_score: 0.6245 - val_loss: 0.2200 - val_accuracy: 0.9267 - val_binary_accuracy: 0.9267 - val_f1_score: 0.5114\n",
      "Epoch 9/20\n",
      "44/44 [==============================] - 32s 725ms/step - loss: 0.1681 - accuracy: 0.9434 - binary_accuracy: 0.9434 - f1_score: 0.6708 - val_loss: 0.2105 - val_accuracy: 0.9288 - val_binary_accuracy: 0.9288 - val_f1_score: 0.5961\n",
      "Epoch 10/20\n",
      "44/44 [==============================] - 32s 727ms/step - loss: 0.1538 - accuracy: 0.9463 - binary_accuracy: 0.9463 - f1_score: 0.7003 - val_loss: 0.2107 - val_accuracy: 0.9302 - val_binary_accuracy: 0.9302 - val_f1_score: 0.6010\n",
      "Epoch 11/20\n",
      "44/44 [==============================] - 32s 724ms/step - loss: 0.1489 - accuracy: 0.9480 - binary_accuracy: 0.9480 - f1_score: 0.7100 - val_loss: 0.2204 - val_accuracy: 0.9281 - val_binary_accuracy: 0.9281 - val_f1_score: 0.5673\n",
      "Epoch 12/20\n",
      "44/44 [==============================] - 32s 729ms/step - loss: 0.1340 - accuracy: 0.9512 - binary_accuracy: 0.9512 - f1_score: 0.7324 - val_loss: 0.2411 - val_accuracy: 0.9310 - val_binary_accuracy: 0.9310 - val_f1_score: 0.5629\n",
      "Epoch 13/20\n",
      "44/44 [==============================] - 32s 727ms/step - loss: 0.1271 - accuracy: 0.9550 - binary_accuracy: 0.9550 - f1_score: 0.7547 - val_loss: 0.2287 - val_accuracy: 0.9302 - val_binary_accuracy: 0.9302 - val_f1_score: 0.6141\n",
      "Epoch 14/20\n",
      "44/44 [==============================] - 32s 728ms/step - loss: 0.1193 - accuracy: 0.9568 - binary_accuracy: 0.9568 - f1_score: 0.7535 - val_loss: 0.2519 - val_accuracy: 0.9302 - val_binary_accuracy: 0.9302 - val_f1_score: 0.5714\n",
      "Epoch 15/20\n",
      "44/44 [==============================] - 32s 723ms/step - loss: 0.1006 - accuracy: 0.9660 - binary_accuracy: 0.9660 - f1_score: 0.8154 - val_loss: 0.2481 - val_accuracy: 0.9274 - val_binary_accuracy: 0.9274 - val_f1_score: 0.5798\n",
      "Epoch 16/20\n",
      "44/44 [==============================] - 32s 727ms/step - loss: 0.0943 - accuracy: 0.9694 - binary_accuracy: 0.9694 - f1_score: 0.8370 - val_loss: 0.2519 - val_accuracy: 0.9224 - val_binary_accuracy: 0.9224 - val_f1_score: 0.5489\n",
      "Epoch 17/20\n",
      "44/44 [==============================] - 32s 726ms/step - loss: 0.0879 - accuracy: 0.9680 - binary_accuracy: 0.9680 - f1_score: 0.8309 - val_loss: 0.2820 - val_accuracy: 0.9260 - val_binary_accuracy: 0.9260 - val_f1_score: 0.5690\n",
      "Epoch 18/20\n",
      "44/44 [==============================] - 32s 725ms/step - loss: 0.0840 - accuracy: 0.9715 - binary_accuracy: 0.9715 - f1_score: 0.8502 - val_loss: 0.2827 - val_accuracy: 0.9117 - val_binary_accuracy: 0.9117 - val_f1_score: 0.5847\n",
      "Epoch 19/20\n",
      "44/44 [==============================] - 32s 722ms/step - loss: 0.0777 - accuracy: 0.9717 - binary_accuracy: 0.9717 - f1_score: 0.8556 - val_loss: 0.2938 - val_accuracy: 0.9274 - val_binary_accuracy: 0.9274 - val_f1_score: 0.5500\n",
      "Epoch 20/20\n",
      "44/44 [==============================] - 32s 727ms/step - loss: 0.0662 - accuracy: 0.9788 - binary_accuracy: 0.9788 - f1_score: 0.8832 - val_loss: 0.2934 - val_accuracy: 0.9281 - val_binary_accuracy: 0.9281 - val_f1_score: 0.5858\n"
     ]
    }
   ],
   "source": [
    "model = lstm_model.fit(x_train, y_train, epochs=20, batch_size=128, validation_data=(x_test, y_test))"
   ]
  },
  {
   "cell_type": "code",
   "execution_count": 10,
   "metadata": {},
   "outputs": [
    {
     "name": "stdout",
     "output_type": "stream",
     "text": [
      "11/11 [==============================] - 2s 221ms/step - loss: 0.2934 - accuracy: 0.9281 - binary_accuracy: 0.9281 - f1_score: 0.5858\n",
      "loss :  0.29337945580482483\n",
      "accuracy :  0.9281138777732849\n",
      "binary_accuracy :  0.9281138777732849\n",
      "f1_score :  0.5857948064804077\n",
      "\n"
     ]
    }
   ],
   "source": [
    "results = lstm_model.evaluate(x_test, y_test, batch_size=128)\n",
    "\n",
    "for name, value in zip(lstm_model.metrics_names, results):\n",
    "  print(name, ': ', value)\n",
    "print()"
   ]
  },
  {
   "cell_type": "code",
   "execution_count": null,
   "metadata": {},
   "outputs": [],
   "source": [
    "#import joblib\n",
    "\n",
    "#model_filename = '../../../models/generated-models-base-paper/offensive_lstm_embeddings_model.pkl'\n",
    "#joblib.dump(model, model_filename)"
   ]
  }
 ],
 "metadata": {
  "kernelspec": {
   "display_name": "Python 3 (ipykernel)",
   "language": "python",
   "name": "python3"
  },
  "language_info": {
   "codemirror_mode": {
    "name": "ipython",
    "version": 3
   },
   "file_extension": ".py",
   "mimetype": "text/x-python",
   "name": "python",
   "nbconvert_exporter": "python",
   "pygments_lexer": "ipython3",
   "version": "3.10.4"
  },
  "orig_nbformat": 4
 },
 "nbformat": 4,
 "nbformat_minor": 2
}
