{
 "cells": [
  {
   "cell_type": "code",
   "execution_count": 1,
   "metadata": {},
   "outputs": [
    {
     "name": "stderr",
     "output_type": "stream",
     "text": [
      "2023-10-29 01:56:40.428873: W tensorflow/stream_executor/platform/default/dso_loader.cc:64] Could not load dynamic library 'libcudart.so.11.0'; dlerror: libcudart.so.11.0: cannot open shared object file: No such file or directory\n",
      "2023-10-29 01:56:40.428907: I tensorflow/stream_executor/cuda/cudart_stub.cc:29] Ignore above cudart dlerror if you do not have a GPU set up on your machine.\n"
     ]
    }
   ],
   "source": [
    "import sys  \n",
    "import os\n",
    "import pandas as pd\n",
    "import io\n",
    "sys.path.insert(0, '../../../../scripts/')\n",
    "sys.path.insert(0, '../../../../dataset/')\n",
    "import embedding_reader\n",
    "import hate_column_converter\n",
    "import custom_keras_metrics\n",
    "import tensorflow as tf\n",
    "import keras.backend as K\n",
    "import os\n",
    "import time\n",
    "import gc\n",
    "import glob\n",
    "import wget\n",
    "import zipfile\n",
    "import numpy as np\n",
    "from sklearn.model_selection import train_test_split\n",
    "from keras.preprocessing.text import Tokenizer\n",
    "from keras.preprocessing.sequence import pad_sequences\n",
    "from tensorflow.keras.layers import LSTM\n",
    "from tensorflow.keras.preprocessing import text, sequence\n",
    "from keras.layers import Reshape, Flatten, Concatenate, Dropout, SpatialDropout1D\n",
    "from tensorflow.keras.optimizers import Adam\n",
    "from keras.models import Model\n",
    "from keras import backend as K\n",
    "from tensorflow.keras.layers import Layer\n",
    "from keras import initializers, regularizers, constraints, optimizers, layers\n",
    "from tensorflow.keras.utils import to_categorical\n",
    "from sklearn.preprocessing import LabelEncoder\n",
    "from keras.layers import *\n",
    "from keras.models import *\n",
    "from keras import initializers, regularizers, constraints, optimizers, layers\n",
    "from keras.initializers import *\n",
    "from keras.optimizers import *\n",
    "from keras.callbacks import *\n",
    "from keras import metrics\n",
    "from tqdm import tqdm"
   ]
  },
  {
   "cell_type": "code",
   "execution_count": null,
   "metadata": {},
   "outputs": [],
   "source": [
    "#wget.download(\"http://143.107.183.175:22980/download.php?file=embeddings/glove/glove_s300.zip\", out=\"../../../../embeddings/\")"
   ]
  },
  {
   "cell_type": "code",
   "execution_count": null,
   "metadata": {},
   "outputs": [],
   "source": [
    "#with zipfile.ZipFile(\"../../../../embeddings/glove_s300.zip\", 'r') as zip_ref:\n",
    " #   zip_ref.extractall(\"../../../../embeddings/\")"
   ]
  },
  {
   "cell_type": "code",
   "execution_count": 2,
   "metadata": {},
   "outputs": [
    {
     "name": "stderr",
     "output_type": "stream",
     "text": [
      "/workspaces/hate-speech-detection-python/train/notebooks-my-paper/lstm/hate_speech/../../../../scripts/hate_column_converter.py:8: SettingWithCopyWarning: \n",
      "A value is trying to be set on a copy of a slice from a DataFrame.\n",
      "Try using .loc[row_indexer,col_indexer] = value instead\n",
      "\n",
      "See the caveats in the documentation: https://pandas.pydata.org/pandas-docs/stable/user_guide/indexing.html#returning-a-view-versus-a-copy\n",
      "  lines_with_two_numbers_in_hate_speech[['col1', 'col2']] = lines_with_two_numbers_in_hate_speech['hate_speech'].str.split(',', expand=True)\n",
      "/workspaces/hate-speech-detection-python/train/notebooks-my-paper/lstm/hate_speech/../../../../scripts/hate_column_converter.py:8: SettingWithCopyWarning: \n",
      "A value is trying to be set on a copy of a slice from a DataFrame.\n",
      "Try using .loc[row_indexer,col_indexer] = value instead\n",
      "\n",
      "See the caveats in the documentation: https://pandas.pydata.org/pandas-docs/stable/user_guide/indexing.html#returning-a-view-versus-a-copy\n",
      "  lines_with_two_numbers_in_hate_speech[['col1', 'col2']] = lines_with_two_numbers_in_hate_speech['hate_speech'].str.split(',', expand=True)\n"
     ]
    }
   ],
   "source": [
    "MAX_LENGTH = 300\n",
    "dataframe = pd.read_csv('../../../../dataset/HateBR.csv')\n",
    "new_dataframe = hate_column_converter.convert_to_binary(dataframe)\n",
    "classes_zero = new_dataframe[new_dataframe['hate_speech'] == 0]\n",
    "classes_one = new_dataframe[new_dataframe['hate_speech'] == 1]\n",
    "classes_one_oversampled = classes_one.sample(len(classes_zero), replace=True)\n",
    "dataframe_oversampled = pd.concat([classes_zero, classes_one_oversampled]) \n",
    "instagram_comments = dataframe_oversampled['instagram_comments']\n",
    "y = dataframe_oversampled['hate_speech']"
   ]
  },
  {
   "cell_type": "code",
   "execution_count": 3,
   "metadata": {},
   "outputs": [],
   "source": [
    "x = dataframe_oversampled['instagram_comments']"
   ]
  },
  {
   "cell_type": "code",
   "execution_count": 4,
   "metadata": {},
   "outputs": [],
   "source": [
    "token = Tokenizer()\n",
    "token.fit_on_texts(x)\n",
    "sequences = token.texts_to_sequences(x)\n",
    "x = pad_sequences(sequences,maxlen=MAX_LENGTH)\n",
    "vocabulary_size = len(token.word_index)+1"
   ]
  },
  {
   "cell_type": "code",
   "execution_count": 5,
   "metadata": {},
   "outputs": [
    {
     "name": "stderr",
     "output_type": "stream",
     "text": [
      "100%|██████████| 11530/11530 [00:00<00:00, 373808.28it/s]\n"
     ]
    }
   ],
   "source": [
    "embedding_vector = embedding_reader.read_glove_file()\n",
    "embedding_matrix = np.zeros((vocabulary_size,MAX_LENGTH))\n",
    "for word,i in tqdm(token.word_index.items()):\n",
    "    embedding_value = embedding_vector.get(word)\n",
    "    if embedding_value is not None:\n",
    "        embedding_matrix[i] = embedding_value"
   ]
  },
  {
   "cell_type": "code",
   "execution_count": 6,
   "metadata": {},
   "outputs": [],
   "source": [
    "x_train, x_test, y_train, y_test = train_test_split(x, y, train_size=0.8, test_size=0.2)"
   ]
  },
  {
   "cell_type": "code",
   "execution_count": 7,
   "metadata": {},
   "outputs": [
    {
     "name": "stderr",
     "output_type": "stream",
     "text": [
      "2023-10-29 01:58:23.180579: W tensorflow/stream_executor/platform/default/dso_loader.cc:64] Could not load dynamic library 'libcuda.so.1'; dlerror: libcuda.so.1: cannot open shared object file: No such file or directory\n",
      "2023-10-29 01:58:23.180613: W tensorflow/stream_executor/cuda/cuda_driver.cc:269] failed call to cuInit: UNKNOWN ERROR (303)\n",
      "2023-10-29 01:58:23.180642: I tensorflow/stream_executor/cuda/cuda_diagnostics.cc:156] kernel driver does not appear to be running on this host (codespaces-fbf4a0): /proc/driver/nvidia/version does not exist\n",
      "2023-10-29 01:58:23.180844: I tensorflow/core/platform/cpu_feature_guard.cc:151] This TensorFlow binary is optimized with oneAPI Deep Neural Network Library (oneDNN) to use the following CPU instructions in performance-critical operations:  AVX2 FMA\n",
      "To enable them in other operations, rebuild TensorFlow with the appropriate compiler flags.\n",
      "2023-10-29 01:58:23.190072: W tensorflow/core/framework/cpu_allocator_impl.cc:82] Allocation of 13837200 exceeds 10% of free system memory.\n",
      "2023-10-29 01:58:23.209572: W tensorflow/core/framework/cpu_allocator_impl.cc:82] Allocation of 13837200 exceeds 10% of free system memory.\n",
      "2023-10-29 01:58:23.213546: W tensorflow/core/framework/cpu_allocator_impl.cc:82] Allocation of 13837200 exceeds 10% of free system memory.\n"
     ]
    }
   ],
   "source": [
    "lstm_model = Sequential()\n",
    "lstm_model.add(Embedding(vocabulary_size,MAX_LENGTH,weights=[embedding_matrix],input_length=x.shape[1],trainable=False))\n",
    "lstm_model.add(Dense(256))\n",
    "lstm_model.add(Dropout(0.25))\n",
    "lstm_model.add(LSTM(64))\n",
    "lstm_model.add(Dropout(0.5))\n",
    "lstm_model.add(Dense(1))\n",
    "lstm_model.add(Activation('sigmoid'))\n",
    "lstm_model.compile(loss='binary_crossentropy', optimizer='adam', metrics=['accuracy', 'binary_accuracy', custom_keras_metrics.f1_score])"
   ]
  },
  {
   "cell_type": "code",
   "execution_count": 8,
   "metadata": {},
   "outputs": [
    {
     "name": "stdout",
     "output_type": "stream",
     "text": [
      "Epoch 1/20\n"
     ]
    },
    {
     "name": "stderr",
     "output_type": "stream",
     "text": [
      "2023-10-29 01:58:32.034645: W tensorflow/core/framework/cpu_allocator_impl.cc:82] Allocation of 13837200 exceeds 10% of free system memory.\n",
      "2023-10-29 01:58:32.038982: W tensorflow/core/framework/cpu_allocator_impl.cc:82] Allocation of 46080000 exceeds 10% of free system memory.\n"
     ]
    },
    {
     "name": "stdout",
     "output_type": "stream",
     "text": [
      "79/79 [==============================] - 63s 770ms/step - loss: 0.5252 - accuracy: 0.7337 - binary_accuracy: 0.7337 - f1_score: 0.7309 - val_loss: 0.4094 - val_accuracy: 0.8143 - val_binary_accuracy: 0.8143 - val_f1_score: 0.8188\n",
      "Epoch 2/20\n",
      "79/79 [==============================] - 57s 723ms/step - loss: 0.3838 - accuracy: 0.8332 - binary_accuracy: 0.8332 - f1_score: 0.8293 - val_loss: 0.3324 - val_accuracy: 0.8492 - val_binary_accuracy: 0.8492 - val_f1_score: 0.8471\n",
      "Epoch 3/20\n",
      "79/79 [==============================] - 57s 716ms/step - loss: 0.3116 - accuracy: 0.8700 - binary_accuracy: 0.8700 - f1_score: 0.8677 - val_loss: 0.2624 - val_accuracy: 0.8968 - val_binary_accuracy: 0.8968 - val_f1_score: 0.9004\n",
      "Epoch 4/20\n",
      "79/79 [==============================] - 57s 717ms/step - loss: 0.2603 - accuracy: 0.8952 - binary_accuracy: 0.8952 - f1_score: 0.8936 - val_loss: 0.2573 - val_accuracy: 0.8921 - val_binary_accuracy: 0.8921 - val_f1_score: 0.8915\n",
      "Epoch 5/20\n",
      "79/79 [==============================] - 57s 720ms/step - loss: 0.2092 - accuracy: 0.9185 - binary_accuracy: 0.9185 - f1_score: 0.9180 - val_loss: 0.1937 - val_accuracy: 0.9210 - val_binary_accuracy: 0.9210 - val_f1_score: 0.9227\n",
      "Epoch 6/20\n",
      "79/79 [==============================] - 57s 716ms/step - loss: 0.1769 - accuracy: 0.9321 - binary_accuracy: 0.9321 - f1_score: 0.9318 - val_loss: 0.1828 - val_accuracy: 0.9310 - val_binary_accuracy: 0.9310 - val_f1_score: 0.9354\n",
      "Epoch 7/20\n",
      "79/79 [==============================] - 56s 712ms/step - loss: 0.1537 - accuracy: 0.9398 - binary_accuracy: 0.9398 - f1_score: 0.9395 - val_loss: 0.1660 - val_accuracy: 0.9349 - val_binary_accuracy: 0.9349 - val_f1_score: 0.9378\n",
      "Epoch 8/20\n",
      "79/79 [==============================] - 56s 710ms/step - loss: 0.1225 - accuracy: 0.9530 - binary_accuracy: 0.9530 - f1_score: 0.9524 - val_loss: 0.1674 - val_accuracy: 0.9345 - val_binary_accuracy: 0.9345 - val_f1_score: 0.9381\n",
      "Epoch 9/20\n",
      "79/79 [==============================] - 58s 730ms/step - loss: 0.1064 - accuracy: 0.9602 - binary_accuracy: 0.9602 - f1_score: 0.9593 - val_loss: 0.1542 - val_accuracy: 0.9389 - val_binary_accuracy: 0.9389 - val_f1_score: 0.9421\n",
      "Epoch 10/20\n",
      "79/79 [==============================] - 56s 714ms/step - loss: 0.0942 - accuracy: 0.9643 - binary_accuracy: 0.9643 - f1_score: 0.9635 - val_loss: 0.1795 - val_accuracy: 0.9361 - val_binary_accuracy: 0.9361 - val_f1_score: 0.9391\n",
      "Epoch 11/20\n",
      "79/79 [==============================] - 56s 712ms/step - loss: 0.0857 - accuracy: 0.9670 - binary_accuracy: 0.9670 - f1_score: 0.9666 - val_loss: 0.1369 - val_accuracy: 0.9496 - val_binary_accuracy: 0.9496 - val_f1_score: 0.9512\n",
      "Epoch 12/20\n",
      "79/79 [==============================] - 56s 706ms/step - loss: 0.0758 - accuracy: 0.9698 - binary_accuracy: 0.9698 - f1_score: 0.9692 - val_loss: 0.1357 - val_accuracy: 0.9536 - val_binary_accuracy: 0.9536 - val_f1_score: 0.9550\n",
      "Epoch 13/20\n",
      "79/79 [==============================] - 56s 707ms/step - loss: 0.0680 - accuracy: 0.9733 - binary_accuracy: 0.9733 - f1_score: 0.9728 - val_loss: 0.1509 - val_accuracy: 0.9484 - val_binary_accuracy: 0.9484 - val_f1_score: 0.9506\n",
      "Epoch 14/20\n",
      "79/79 [==============================] - 57s 717ms/step - loss: 0.0593 - accuracy: 0.9751 - binary_accuracy: 0.9751 - f1_score: 0.9748 - val_loss: 0.1545 - val_accuracy: 0.9444 - val_binary_accuracy: 0.9444 - val_f1_score: 0.9468\n",
      "Epoch 15/20\n",
      "79/79 [==============================] - 57s 715ms/step - loss: 0.0578 - accuracy: 0.9759 - binary_accuracy: 0.9759 - f1_score: 0.9753 - val_loss: 0.1476 - val_accuracy: 0.9500 - val_binary_accuracy: 0.9500 - val_f1_score: 0.9521\n",
      "Epoch 16/20\n",
      "79/79 [==============================] - 56s 712ms/step - loss: 0.0563 - accuracy: 0.9750 - binary_accuracy: 0.9750 - f1_score: 0.9746 - val_loss: 0.1493 - val_accuracy: 0.9536 - val_binary_accuracy: 0.9536 - val_f1_score: 0.9553\n",
      "Epoch 17/20\n",
      "79/79 [==============================] - 56s 706ms/step - loss: 0.0519 - accuracy: 0.9765 - binary_accuracy: 0.9765 - f1_score: 0.9761 - val_loss: 0.1639 - val_accuracy: 0.9508 - val_binary_accuracy: 0.9508 - val_f1_score: 0.9527\n",
      "Epoch 18/20\n",
      "79/79 [==============================] - 56s 708ms/step - loss: 0.0486 - accuracy: 0.9762 - binary_accuracy: 0.9762 - f1_score: 0.9755 - val_loss: 0.2616 - val_accuracy: 0.9325 - val_binary_accuracy: 0.9325 - val_f1_score: 0.9363\n",
      "Epoch 19/20\n",
      "79/79 [==============================] - 56s 713ms/step - loss: 0.0606 - accuracy: 0.9737 - binary_accuracy: 0.9737 - f1_score: 0.9733 - val_loss: 0.2230 - val_accuracy: 0.9401 - val_binary_accuracy: 0.9401 - val_f1_score: 0.9429\n",
      "Epoch 20/20\n",
      "79/79 [==============================] - 56s 714ms/step - loss: 0.0497 - accuracy: 0.9780 - binary_accuracy: 0.9780 - f1_score: 0.9777 - val_loss: 0.1437 - val_accuracy: 0.9528 - val_binary_accuracy: 0.9528 - val_f1_score: 0.9546\n"
     ]
    }
   ],
   "source": [
    "model = lstm_model.fit(x_train, y_train, epochs=20, batch_size=128, validation_data=(x_test, y_test))"
   ]
  },
  {
   "cell_type": "code",
   "execution_count": 9,
   "metadata": {},
   "outputs": [
    {
     "name": "stdout",
     "output_type": "stream",
     "text": [
      "20/20 [==============================] - 4s 202ms/step - loss: 0.1437 - accuracy: 0.9528 - binary_accuracy: 0.9528 - f1_score: 0.9546\n",
      "loss :  0.1436665803194046\n",
      "accuracy :  0.9527778029441833\n",
      "binary_accuracy :  0.9527778029441833\n",
      "f1_score :  0.9546330571174622\n",
      "\n"
     ]
    },
    {
     "ename": "",
     "evalue": "",
     "output_type": "error",
     "traceback": [
      "\u001b[1;31mThe Kernel crashed while executing code in the the current cell or a previous cell. Please review the code in the cell(s) to identify a possible cause of the failure. Click <a href='https://aka.ms/vscodeJupyterKernelCrash'>here</a> for more info. View Jupyter <a href='command:jupyter.viewOutput'>log</a> for further details."
     ]
    }
   ],
   "source": [
    "results = lstm_model.evaluate(x_test, y_test, batch_size=128)\n",
    "\n",
    "for name, value in zip(lstm_model.metrics_names, results):\n",
    "  print(name, ': ', value)\n",
    "print()\n"
   ]
  },
  {
   "cell_type": "code",
   "execution_count": null,
   "metadata": {},
   "outputs": [],
   "source": [
    "#import joblib\n",
    "\n",
    "#model_filename = '../../../models/generated-models-base-paper/offensive_lstm_embeddings_model.pkl'\n",
    "#joblib.dump(model, model_filename)"
   ]
  }
 ],
 "metadata": {
  "kernelspec": {
   "display_name": "Python 3 (ipykernel)",
   "language": "python",
   "name": "python3"
  },
  "language_info": {
   "codemirror_mode": {
    "name": "ipython",
    "version": 3
   },
   "file_extension": ".py",
   "mimetype": "text/x-python",
   "name": "python",
   "nbconvert_exporter": "python",
   "pygments_lexer": "ipython3",
   "version": "3.10.4"
  },
  "orig_nbformat": 4
 },
 "nbformat": 4,
 "nbformat_minor": 2
}
