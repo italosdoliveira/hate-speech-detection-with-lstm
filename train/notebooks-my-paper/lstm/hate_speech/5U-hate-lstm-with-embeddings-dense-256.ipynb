{
 "cells": [
  {
   "cell_type": "code",
   "execution_count": 1,
   "metadata": {},
   "outputs": [
    {
     "name": "stderr",
     "output_type": "stream",
     "text": [
      "2023-10-24 12:12:13.230252: W tensorflow/stream_executor/platform/default/dso_loader.cc:64] Could not load dynamic library 'libcudart.so.11.0'; dlerror: libcudart.so.11.0: cannot open shared object file: No such file or directory\n",
      "2023-10-24 12:12:13.230287: I tensorflow/stream_executor/cuda/cudart_stub.cc:29] Ignore above cudart dlerror if you do not have a GPU set up on your machine.\n"
     ]
    }
   ],
   "source": [
    "import sys  \n",
    "import os\n",
    "import pandas as pd\n",
    "import io\n",
    "sys.path.insert(0, '../../../../scripts/')\n",
    "sys.path.insert(0, '../../../../dataset/')\n",
    "import embedding_reader\n",
    "import hate_column_converter\n",
    "import custom_keras_metrics\n",
    "import tensorflow as tf\n",
    "import keras.backend as K\n",
    "import os\n",
    "import time\n",
    "import gc\n",
    "import glob\n",
    "import wget\n",
    "import zipfile\n",
    "import numpy as np\n",
    "from sklearn.model_selection import train_test_split\n",
    "from keras.preprocessing.text import Tokenizer\n",
    "from keras.preprocessing.sequence import pad_sequences\n",
    "from tensorflow.keras.layers import LSTM\n",
    "from tensorflow.keras.preprocessing import text, sequence\n",
    "from keras.layers import Reshape, Flatten, Concatenate, Dropout, SpatialDropout1D\n",
    "from tensorflow.keras.optimizers import Adam\n",
    "from keras.models import Model\n",
    "from keras import backend as K\n",
    "from tensorflow.keras.layers import Layer\n",
    "from keras import initializers, regularizers, constraints, optimizers, layers\n",
    "from tensorflow.keras.utils import to_categorical\n",
    "from sklearn.preprocessing import LabelEncoder\n",
    "from keras.layers import *\n",
    "from keras.models import *\n",
    "from keras import initializers, regularizers, constraints, optimizers, layers\n",
    "from keras.initializers import *\n",
    "from keras.optimizers import *\n",
    "from keras.callbacks import *\n",
    "from keras import metrics\n",
    "from tqdm import tqdm"
   ]
  },
  {
   "cell_type": "code",
   "execution_count": null,
   "metadata": {},
   "outputs": [],
   "source": [
    "#wget.download(\"http://143.107.183.175:22980/download.php?file=embeddings/glove/glove_s300.zip\", out=\"../../../../embeddings/\")"
   ]
  },
  {
   "cell_type": "code",
   "execution_count": null,
   "metadata": {},
   "outputs": [],
   "source": [
    "#with zipfile.ZipFile(\"../../../../embeddings/glove_s300.zip\", 'r') as zip_ref:\n",
    " #   zip_ref.extractall(\"../../../../embeddings/\")"
   ]
  },
  {
   "cell_type": "code",
   "execution_count": 2,
   "metadata": {},
   "outputs": [
    {
     "name": "stderr",
     "output_type": "stream",
     "text": [
      "/workspaces/hate-speech-detection-python/train/notebooks-my-paper/lstm/hate_speech/../../../../scripts/hate_column_converter.py:8: SettingWithCopyWarning: \n",
      "A value is trying to be set on a copy of a slice from a DataFrame.\n",
      "Try using .loc[row_indexer,col_indexer] = value instead\n",
      "\n",
      "See the caveats in the documentation: https://pandas.pydata.org/pandas-docs/stable/user_guide/indexing.html#returning-a-view-versus-a-copy\n",
      "  lines_with_two_numbers_in_hate_speech[['col1', 'col2']] = lines_with_two_numbers_in_hate_speech['hate_speech'].str.split(',', expand=True)\n",
      "/workspaces/hate-speech-detection-python/train/notebooks-my-paper/lstm/hate_speech/../../../../scripts/hate_column_converter.py:8: SettingWithCopyWarning: \n",
      "A value is trying to be set on a copy of a slice from a DataFrame.\n",
      "Try using .loc[row_indexer,col_indexer] = value instead\n",
      "\n",
      "See the caveats in the documentation: https://pandas.pydata.org/pandas-docs/stable/user_guide/indexing.html#returning-a-view-versus-a-copy\n",
      "  lines_with_two_numbers_in_hate_speech[['col1', 'col2']] = lines_with_two_numbers_in_hate_speech['hate_speech'].str.split(',', expand=True)\n"
     ]
    }
   ],
   "source": [
    "MAX_LENGTH = 300\n",
    "dataframe = pd.read_csv('../../../../dataset/HateBR.csv')\n",
    "new_dataframe = hate_column_converter.convert_to_binary(dataframe)\n",
    "classes_zero = new_dataframe[new_dataframe['hate_speech'] == 0]\n",
    "classes_one = new_dataframe[new_dataframe['hate_speech'] == 1]\n",
    "classes_zero_undersampled = classes_zero.sample(len(classes_one))\n",
    "dataframe_undersampled = pd.concat([classes_zero_undersampled, classes_one]) \n",
    "y = dataframe_undersampled['hate_speech']"
   ]
  },
  {
   "cell_type": "code",
   "execution_count": 3,
   "metadata": {},
   "outputs": [],
   "source": [
    "x = dataframe_undersampled['instagram_comments']"
   ]
  },
  {
   "cell_type": "code",
   "execution_count": 4,
   "metadata": {},
   "outputs": [],
   "source": [
    "token = Tokenizer()\n",
    "token.fit_on_texts(x)\n",
    "sequences = token.texts_to_sequences(x)\n",
    "x = pad_sequences(sequences,maxlen=MAX_LENGTH)\n",
    "vocabulary_size = len(token.word_index)+1"
   ]
  },
  {
   "cell_type": "code",
   "execution_count": 5,
   "metadata": {},
   "outputs": [
    {
     "name": "stderr",
     "output_type": "stream",
     "text": [
      "100%|██████████| 4844/4844 [00:00<00:00, 311288.97it/s]\n"
     ]
    }
   ],
   "source": [
    "embedding_vector = embedding_reader.read_glove_file()\n",
    "embedding_matrix = np.zeros((vocabulary_size,MAX_LENGTH))\n",
    "for word,i in tqdm(token.word_index.items()):\n",
    "    embedding_value = embedding_vector.get(word)\n",
    "    if embedding_value is not None:\n",
    "        embedding_matrix[i] = embedding_value"
   ]
  },
  {
   "cell_type": "code",
   "execution_count": 6,
   "metadata": {},
   "outputs": [],
   "source": [
    "x_train, x_test, y_train, y_test = train_test_split(x, y, train_size=0.8, test_size=0.2)"
   ]
  },
  {
   "cell_type": "code",
   "execution_count": 7,
   "metadata": {},
   "outputs": [
    {
     "name": "stderr",
     "output_type": "stream",
     "text": [
      "2023-10-24 12:13:41.412615: W tensorflow/stream_executor/platform/default/dso_loader.cc:64] Could not load dynamic library 'libcuda.so.1'; dlerror: libcuda.so.1: cannot open shared object file: No such file or directory\n",
      "2023-10-24 12:13:41.412677: W tensorflow/stream_executor/cuda/cuda_driver.cc:269] failed call to cuInit: UNKNOWN ERROR (303)\n",
      "2023-10-24 12:13:41.412710: I tensorflow/stream_executor/cuda/cuda_diagnostics.cc:156] kernel driver does not appear to be running on this host (codespaces-fbf4a0): /proc/driver/nvidia/version does not exist\n",
      "2023-10-24 12:13:41.412964: I tensorflow/core/platform/cpu_feature_guard.cc:151] This TensorFlow binary is optimized with oneAPI Deep Neural Network Library (oneDNN) to use the following CPU instructions in performance-critical operations:  AVX2 FMA\n",
      "To enable them in other operations, rebuild TensorFlow with the appropriate compiler flags.\n"
     ]
    }
   ],
   "source": [
    "lstm_model = Sequential()\n",
    "lstm_model.add(Embedding(vocabulary_size,MAX_LENGTH,weights=[embedding_matrix],input_length=x.shape[1],trainable=False))\n",
    "lstm_model.add(Dense(256))\n",
    "lstm_model.add(Dropout(0.25))\n",
    "lstm_model.add(LSTM(64))\n",
    "lstm_model.add(Dropout(0.5))\n",
    "lstm_model.add(Dense(1))\n",
    "lstm_model.add(Activation('sigmoid'))\n",
    "lstm_model.compile(loss='binary_crossentropy', optimizer='adam', metrics=['accuracy', 'binary_accuracy', custom_keras_metrics.f1_score])"
   ]
  },
  {
   "cell_type": "code",
   "execution_count": 8,
   "metadata": {},
   "outputs": [
    {
     "name": "stdout",
     "output_type": "stream",
     "text": [
      "Epoch 1/20\n"
     ]
    },
    {
     "name": "stderr",
     "output_type": "stream",
     "text": [
      "2023-10-24 12:13:49.151740: W tensorflow/core/framework/cpu_allocator_impl.cc:82] Allocation of 46080000 exceeds 10% of free system memory.\n",
      "2023-10-24 12:13:49.175432: W tensorflow/core/framework/cpu_allocator_impl.cc:82] Allocation of 39321600 exceeds 10% of free system memory.\n",
      "2023-10-24 12:13:49.279341: W tensorflow/core/framework/cpu_allocator_impl.cc:82] Allocation of 39321600 exceeds 10% of free system memory.\n",
      "2023-10-24 12:13:49.365730: W tensorflow/core/framework/cpu_allocator_impl.cc:82] Allocation of 39321600 exceeds 10% of free system memory.\n",
      "2023-10-24 12:13:49.532340: W tensorflow/core/framework/cpu_allocator_impl.cc:82] Allocation of 39321600 exceeds 10% of free system memory.\n"
     ]
    },
    {
     "name": "stdout",
     "output_type": "stream",
     "text": [
      "10/10 [==============================] - 10s 719ms/step - loss: 0.6735 - accuracy: 0.5744 - binary_accuracy: 0.5744 - f1_score: 0.5845 - val_loss: 0.6406 - val_accuracy: 0.6117 - val_binary_accuracy: 0.6117 - val_f1_score: 0.6174\n",
      "Epoch 2/20\n",
      "10/10 [==============================] - 7s 682ms/step - loss: 0.5832 - accuracy: 0.7111 - binary_accuracy: 0.7111 - f1_score: 0.6923 - val_loss: 0.6134 - val_accuracy: 0.6323 - val_binary_accuracy: 0.6323 - val_f1_score: 0.6717\n",
      "Epoch 3/20\n",
      "10/10 [==============================] - 7s 667ms/step - loss: 0.5154 - accuracy: 0.7635 - binary_accuracy: 0.7635 - f1_score: 0.7697 - val_loss: 0.6083 - val_accuracy: 0.6667 - val_binary_accuracy: 0.6667 - val_f1_score: 0.6464\n",
      "Epoch 4/20\n",
      "10/10 [==============================] - 7s 674ms/step - loss: 0.4944 - accuracy: 0.7644 - binary_accuracy: 0.7644 - f1_score: 0.7675 - val_loss: 0.5873 - val_accuracy: 0.6735 - val_binary_accuracy: 0.6735 - val_f1_score: 0.6788\n",
      "Epoch 5/20\n",
      "10/10 [==============================] - 7s 687ms/step - loss: 0.4549 - accuracy: 0.7859 - binary_accuracy: 0.7859 - f1_score: 0.7838 - val_loss: 0.6397 - val_accuracy: 0.6667 - val_binary_accuracy: 0.6667 - val_f1_score: 0.7074\n",
      "Epoch 6/20\n",
      "10/10 [==============================] - 7s 672ms/step - loss: 0.4693 - accuracy: 0.7739 - binary_accuracy: 0.7739 - f1_score: 0.7830 - val_loss: 0.5965 - val_accuracy: 0.6907 - val_binary_accuracy: 0.6907 - val_f1_score: 0.7438\n",
      "Epoch 7/20\n",
      "10/10 [==============================] - 7s 667ms/step - loss: 0.4274 - accuracy: 0.8040 - binary_accuracy: 0.8040 - f1_score: 0.8037 - val_loss: 0.5949 - val_accuracy: 0.6976 - val_binary_accuracy: 0.6976 - val_f1_score: 0.7378\n",
      "Epoch 8/20\n",
      "10/10 [==============================] - 7s 700ms/step - loss: 0.4103 - accuracy: 0.8169 - binary_accuracy: 0.8169 - f1_score: 0.8095 - val_loss: 0.5719 - val_accuracy: 0.7045 - val_binary_accuracy: 0.7045 - val_f1_score: 0.7171\n",
      "Epoch 9/20\n",
      "10/10 [==============================] - 7s 665ms/step - loss: 0.3800 - accuracy: 0.8349 - binary_accuracy: 0.8349 - f1_score: 0.8485 - val_loss: 0.5882 - val_accuracy: 0.7251 - val_binary_accuracy: 0.7251 - val_f1_score: 0.7267\n",
      "Epoch 10/20\n",
      "10/10 [==============================] - 7s 655ms/step - loss: 0.3649 - accuracy: 0.8435 - binary_accuracy: 0.8435 - f1_score: 0.8540 - val_loss: 0.5781 - val_accuracy: 0.7113 - val_binary_accuracy: 0.7113 - val_f1_score: 0.7411\n",
      "Epoch 11/20\n",
      "10/10 [==============================] - 7s 689ms/step - loss: 0.3411 - accuracy: 0.8624 - binary_accuracy: 0.8624 - f1_score: 0.8717 - val_loss: 0.5990 - val_accuracy: 0.7354 - val_binary_accuracy: 0.7354 - val_f1_score: 0.7683\n",
      "Epoch 12/20\n",
      "10/10 [==============================] - 7s 667ms/step - loss: 0.3502 - accuracy: 0.8495 - binary_accuracy: 0.8495 - f1_score: 0.8614 - val_loss: 0.5896 - val_accuracy: 0.7388 - val_binary_accuracy: 0.7388 - val_f1_score: 0.7698\n",
      "Epoch 13/20\n",
      "10/10 [==============================] - 7s 682ms/step - loss: 0.3168 - accuracy: 0.8693 - binary_accuracy: 0.8693 - f1_score: 0.8689 - val_loss: 0.6762 - val_accuracy: 0.7045 - val_binary_accuracy: 0.7045 - val_f1_score: 0.7543\n",
      "Epoch 14/20\n",
      "10/10 [==============================] - 7s 662ms/step - loss: 0.3219 - accuracy: 0.8598 - binary_accuracy: 0.8598 - f1_score: 0.8402 - val_loss: 0.6045 - val_accuracy: 0.7320 - val_binary_accuracy: 0.7320 - val_f1_score: 0.7687\n",
      "Epoch 15/20\n",
      "10/10 [==============================] - 7s 671ms/step - loss: 0.2951 - accuracy: 0.8805 - binary_accuracy: 0.8805 - f1_score: 0.8690 - val_loss: 0.5921 - val_accuracy: 0.7491 - val_binary_accuracy: 0.7491 - val_f1_score: 0.7774\n",
      "Epoch 16/20\n",
      "10/10 [==============================] - 7s 695ms/step - loss: 0.2784 - accuracy: 0.8934 - binary_accuracy: 0.8934 - f1_score: 0.8910 - val_loss: 0.6411 - val_accuracy: 0.7388 - val_binary_accuracy: 0.7388 - val_f1_score: 0.7562\n",
      "Epoch 17/20\n",
      "10/10 [==============================] - 7s 688ms/step - loss: 0.2516 - accuracy: 0.9028 - binary_accuracy: 0.9028 - f1_score: 0.9098 - val_loss: 0.6552 - val_accuracy: 0.7423 - val_binary_accuracy: 0.7423 - val_f1_score: 0.7694\n",
      "Epoch 18/20\n",
      "10/10 [==============================] - 7s 661ms/step - loss: 0.2454 - accuracy: 0.8994 - binary_accuracy: 0.8994 - f1_score: 0.9073 - val_loss: 0.7222 - val_accuracy: 0.7354 - val_binary_accuracy: 0.7354 - val_f1_score: 0.7682\n",
      "Epoch 19/20\n",
      "10/10 [==============================] - 7s 679ms/step - loss: 0.2265 - accuracy: 0.9106 - binary_accuracy: 0.9106 - f1_score: 0.9093 - val_loss: 0.6939 - val_accuracy: 0.7423 - val_binary_accuracy: 0.7423 - val_f1_score: 0.7690\n",
      "Epoch 20/20\n",
      "10/10 [==============================] - 7s 672ms/step - loss: 0.2050 - accuracy: 0.9218 - binary_accuracy: 0.9218 - f1_score: 0.9274 - val_loss: 0.7229 - val_accuracy: 0.7388 - val_binary_accuracy: 0.7388 - val_f1_score: 0.7674\n"
     ]
    }
   ],
   "source": [
    "model = lstm_model.fit(x_train, y_train, epochs=20, batch_size=128, validation_data=(x_test, y_test))"
   ]
  },
  {
   "cell_type": "code",
   "execution_count": 9,
   "metadata": {},
   "outputs": [
    {
     "name": "stdout",
     "output_type": "stream",
     "text": [
      "3/3 [==============================] - 1s 148ms/step - loss: 0.7229 - accuracy: 0.7388 - binary_accuracy: 0.7388 - f1_score: 0.7674\n",
      "loss :  0.722901463508606\n",
      "accuracy :  0.738831639289856\n",
      "binary_accuracy :  0.738831639289856\n",
      "f1_score :  0.7674043774604797\n",
      "\n"
     ]
    },
    {
     "ename": "",
     "evalue": "",
     "output_type": "error",
     "traceback": [
      "\u001b[1;31mThe Kernel crashed while executing code in the the current cell or a previous cell. Please review the code in the cell(s) to identify a possible cause of the failure. Click <a href='https://aka.ms/vscodeJupyterKernelCrash'>here</a> for more info. View Jupyter <a href='command:jupyter.viewOutput'>log</a> for further details."
     ]
    }
   ],
   "source": [
    "results = lstm_model.evaluate(x_test, y_test, batch_size=128)\n",
    "\n",
    "for name, value in zip(lstm_model.metrics_names, results):\n",
    "  print(name, ': ', value)\n",
    "print()"
   ]
  },
  {
   "cell_type": "code",
   "execution_count": null,
   "metadata": {},
   "outputs": [],
   "source": [
    "#import joblib\n",
    "\n",
    "#model_filename = '../../../models/generated-models-base-paper/offensive_lstm_embeddings_model.pkl'\n",
    "#joblib.dump(model, model_filename)"
   ]
  }
 ],
 "metadata": {
  "kernelspec": {
   "display_name": "Python 3 (ipykernel)",
   "language": "python",
   "name": "python3"
  },
  "language_info": {
   "codemirror_mode": {
    "name": "ipython",
    "version": 3
   },
   "file_extension": ".py",
   "mimetype": "text/x-python",
   "name": "python",
   "nbconvert_exporter": "python",
   "pygments_lexer": "ipython3",
   "version": "3.10.4"
  },
  "orig_nbformat": 4
 },
 "nbformat": 4,
 "nbformat_minor": 2
}
