{
 "cells": [
  {
   "cell_type": "code",
   "execution_count": 1,
   "metadata": {},
   "outputs": [
    {
     "name": "stderr",
     "output_type": "stream",
     "text": [
      "2023-10-23 23:33:13.151494: W tensorflow/stream_executor/platform/default/dso_loader.cc:64] Could not load dynamic library 'libcudart.so.11.0'; dlerror: libcudart.so.11.0: cannot open shared object file: No such file or directory\n",
      "2023-10-23 23:33:13.151528: I tensorflow/stream_executor/cuda/cudart_stub.cc:29] Ignore above cudart dlerror if you do not have a GPU set up on your machine.\n"
     ]
    }
   ],
   "source": [
    "import sys  \n",
    "import os\n",
    "import pandas as pd\n",
    "import io\n",
    "sys.path.insert(0, '../../../../scripts/')\n",
    "sys.path.insert(0, '../../../../dataset/')\n",
    "import hate_column_converter\n",
    "import embedding_reader\n",
    "import custom_keras_metrics\n",
    "import tensorflow as tf\n",
    "import keras.backend as K\n",
    "import os\n",
    "import time\n",
    "import gc\n",
    "import glob\n",
    "import wget\n",
    "import zipfile\n",
    "import numpy as np\n",
    "from sklearn.model_selection import train_test_split\n",
    "from keras.preprocessing.text import Tokenizer\n",
    "from keras.preprocessing.sequence import pad_sequences\n",
    "from tensorflow.keras.layers import LSTM\n",
    "from tensorflow.keras.preprocessing import text, sequence\n",
    "from keras.layers import Reshape, Flatten, Concatenate, Dropout, SpatialDropout1D\n",
    "from tensorflow.keras.optimizers import Adam\n",
    "from keras.models import Model\n",
    "from keras import backend as K\n",
    "from tensorflow.keras.layers import Layer\n",
    "from keras import initializers, regularizers, constraints, optimizers, layers\n",
    "from tensorflow.keras.utils import to_categorical\n",
    "from sklearn.preprocessing import LabelEncoder\n",
    "from keras.layers import *\n",
    "from keras.models import *\n",
    "from keras import initializers, regularizers, constraints, optimizers, layers\n",
    "from keras.initializers import *\n",
    "from keras.optimizers import *\n",
    "from keras.callbacks import *\n",
    "from keras import metrics\n",
    "from tqdm import tqdm"
   ]
  },
  {
   "cell_type": "code",
   "execution_count": 2,
   "metadata": {},
   "outputs": [],
   "source": [
    "#wget.download(\"http://143.107.183.175:22980/download.php?file=embeddings/glove/glove_s300.zip\", out=\"../../../../embeddings/\")"
   ]
  },
  {
   "cell_type": "code",
   "execution_count": 3,
   "metadata": {},
   "outputs": [],
   "source": [
    "#with zipfile.ZipFile(\"../../../../embeddings/glove_s300.zip\", 'r') as zip_ref:\n",
    " #   zip_ref.extractall(\"../../../../embeddings/\")"
   ]
  },
  {
   "cell_type": "code",
   "execution_count": 2,
   "metadata": {},
   "outputs": [
    {
     "name": "stderr",
     "output_type": "stream",
     "text": [
      "/workspaces/hate-speech-detection-python/train/notebooks-my-paper/lstm/hate_speech/../../../../scripts/hate_column_converter.py:8: SettingWithCopyWarning: \n",
      "A value is trying to be set on a copy of a slice from a DataFrame.\n",
      "Try using .loc[row_indexer,col_indexer] = value instead\n",
      "\n",
      "See the caveats in the documentation: https://pandas.pydata.org/pandas-docs/stable/user_guide/indexing.html#returning-a-view-versus-a-copy\n",
      "  lines_with_two_numbers_in_hate_speech[['col1', 'col2']] = lines_with_two_numbers_in_hate_speech['hate_speech'].str.split(',', expand=True)\n",
      "/workspaces/hate-speech-detection-python/train/notebooks-my-paper/lstm/hate_speech/../../../../scripts/hate_column_converter.py:8: SettingWithCopyWarning: \n",
      "A value is trying to be set on a copy of a slice from a DataFrame.\n",
      "Try using .loc[row_indexer,col_indexer] = value instead\n",
      "\n",
      "See the caveats in the documentation: https://pandas.pydata.org/pandas-docs/stable/user_guide/indexing.html#returning-a-view-versus-a-copy\n",
      "  lines_with_two_numbers_in_hate_speech[['col1', 'col2']] = lines_with_two_numbers_in_hate_speech['hate_speech'].str.split(',', expand=True)\n"
     ]
    }
   ],
   "source": [
    "MAX_LENGTH = 300\n",
    "dataframe = pd.read_csv('../../../../dataset/HateBR.csv')\n",
    "new_dataframe = hate_column_converter.convert_to_binary(dataframe)\n",
    "y = new_dataframe['hate_speech']"
   ]
  },
  {
   "cell_type": "code",
   "execution_count": 3,
   "metadata": {},
   "outputs": [],
   "source": [
    "x = new_dataframe['instagram_comments']"
   ]
  },
  {
   "cell_type": "code",
   "execution_count": 4,
   "metadata": {},
   "outputs": [],
   "source": [
    "token = Tokenizer()\n",
    "token.fit_on_texts(x)\n",
    "sequences = token.texts_to_sequences(x)\n",
    "x = pad_sequences(sequences,maxlen=MAX_LENGTH)\n",
    "vocabulary_size = len(token.word_index)+1"
   ]
  },
  {
   "cell_type": "code",
   "execution_count": 5,
   "metadata": {},
   "outputs": [
    {
     "name": "stderr",
     "output_type": "stream",
     "text": [
      "100%|██████████| 11530/11530 [00:00<00:00, 374682.92it/s]\n"
     ]
    }
   ],
   "source": [
    "embedding_vector = embedding_reader.read_glove_file()\n",
    "embedding_matrix = np.zeros((vocabulary_size,MAX_LENGTH))\n",
    "for word,i in tqdm(token.word_index.items()):\n",
    "    embedding_value = embedding_vector.get(word)\n",
    "    if embedding_value is not None:\n",
    "        embedding_matrix[i] = embedding_value"
   ]
  },
  {
   "cell_type": "code",
   "execution_count": 6,
   "metadata": {},
   "outputs": [],
   "source": [
    "x_train, x_test, y_train, y_test = train_test_split(x, y, train_size=0.8, test_size=0.2)"
   ]
  },
  {
   "cell_type": "code",
   "execution_count": 7,
   "metadata": {},
   "outputs": [
    {
     "name": "stderr",
     "output_type": "stream",
     "text": [
      "2023-10-23 23:35:27.220951: W tensorflow/stream_executor/platform/default/dso_loader.cc:64] Could not load dynamic library 'libcuda.so.1'; dlerror: libcuda.so.1: cannot open shared object file: No such file or directory\n",
      "2023-10-23 23:35:27.220990: W tensorflow/stream_executor/cuda/cuda_driver.cc:269] failed call to cuInit: UNKNOWN ERROR (303)\n",
      "2023-10-23 23:35:27.221019: I tensorflow/stream_executor/cuda/cuda_diagnostics.cc:156] kernel driver does not appear to be running on this host (codespaces-fbf4a0): /proc/driver/nvidia/version does not exist\n",
      "2023-10-23 23:35:27.221271: I tensorflow/core/platform/cpu_feature_guard.cc:151] This TensorFlow binary is optimized with oneAPI Deep Neural Network Library (oneDNN) to use the following CPU instructions in performance-critical operations:  AVX2 FMA\n",
      "To enable them in other operations, rebuild TensorFlow with the appropriate compiler flags.\n"
     ]
    }
   ],
   "source": [
    "lstm_model = Sequential()\n",
    "lstm_model.add(Embedding(vocabulary_size,MAX_LENGTH,weights=[embedding_matrix],input_length=x.shape[1],trainable=False))\n",
    "lstm_model.add(Dense(256))\n",
    "lstm_model.add(Dropout(0.25))\n",
    "lstm_model.add(LSTM(128))\n",
    "lstm_model.add(Dropout(0.5))\n",
    "lstm_model.add(Dense(1))\n",
    "lstm_model.add(Activation('sigmoid'))\n",
    "lstm_model.compile(loss='binary_crossentropy', optimizer='adam', metrics=['accuracy', 'binary_accuracy', custom_keras_metrics.f1_score])"
   ]
  },
  {
   "cell_type": "code",
   "execution_count": 8,
   "metadata": {},
   "outputs": [
    {
     "name": "stdout",
     "output_type": "stream",
     "text": [
      "Epoch 1/20\n"
     ]
    },
    {
     "name": "stderr",
     "output_type": "stream",
     "text": [
      "2023-10-23 23:35:32.929601: W tensorflow/core/framework/cpu_allocator_impl.cc:82] Allocation of 46080000 exceeds 10% of free system memory.\n",
      "2023-10-23 23:35:32.949238: W tensorflow/core/framework/cpu_allocator_impl.cc:82] Allocation of 39321600 exceeds 10% of free system memory.\n",
      "2023-10-23 23:35:33.058075: W tensorflow/core/framework/cpu_allocator_impl.cc:82] Allocation of 39321600 exceeds 10% of free system memory.\n",
      "2023-10-23 23:35:33.149082: W tensorflow/core/framework/cpu_allocator_impl.cc:82] Allocation of 39321600 exceeds 10% of free system memory.\n",
      "2023-10-23 23:35:33.272293: W tensorflow/core/framework/cpu_allocator_impl.cc:82] Allocation of 39321600 exceeds 10% of free system memory.\n"
     ]
    },
    {
     "name": "stdout",
     "output_type": "stream",
     "text": [
      "44/44 [==============================] - 54s 1s/step - loss: 0.3622 - accuracy: 0.8817 - binary_accuracy: 0.8817 - f1_score: 0.0239 - val_loss: 0.3177 - val_accuracy: 0.8961 - val_binary_accuracy: 0.8961 - val_f1_score: 0.0130\n",
      "Epoch 2/20\n",
      "44/44 [==============================] - 50s 1s/step - loss: 0.2715 - accuracy: 0.9018 - binary_accuracy: 0.9018 - f1_score: 0.1607 - val_loss: 0.2566 - val_accuracy: 0.9004 - val_binary_accuracy: 0.9004 - val_f1_score: 0.2821\n",
      "Epoch 3/20\n",
      "44/44 [==============================] - 50s 1s/step - loss: 0.2330 - accuracy: 0.9126 - binary_accuracy: 0.9126 - f1_score: 0.3789 - val_loss: 0.2402 - val_accuracy: 0.9146 - val_binary_accuracy: 0.9146 - val_f1_score: 0.3910\n",
      "Epoch 4/20\n",
      "44/44 [==============================] - 50s 1s/step - loss: 0.2101 - accuracy: 0.9235 - binary_accuracy: 0.9235 - f1_score: 0.5160 - val_loss: 0.2459 - val_accuracy: 0.9196 - val_binary_accuracy: 0.9196 - val_f1_score: 0.4419\n",
      "Epoch 5/20\n",
      "44/44 [==============================] - 50s 1s/step - loss: 0.2009 - accuracy: 0.9283 - binary_accuracy: 0.9283 - f1_score: 0.5664 - val_loss: 0.2248 - val_accuracy: 0.9174 - val_binary_accuracy: 0.9174 - val_f1_score: 0.5373\n",
      "Epoch 6/20\n",
      "44/44 [==============================] - 50s 1s/step - loss: 0.1820 - accuracy: 0.9340 - binary_accuracy: 0.9340 - f1_score: 0.6052 - val_loss: 0.2324 - val_accuracy: 0.9189 - val_binary_accuracy: 0.9189 - val_f1_score: 0.5115\n",
      "Epoch 7/20\n",
      "44/44 [==============================] - 50s 1s/step - loss: 0.1716 - accuracy: 0.9379 - binary_accuracy: 0.9379 - f1_score: 0.6341 - val_loss: 0.2304 - val_accuracy: 0.9253 - val_binary_accuracy: 0.9253 - val_f1_score: 0.5678\n",
      "Epoch 8/20\n",
      "44/44 [==============================] - 49s 1s/step - loss: 0.1592 - accuracy: 0.9445 - binary_accuracy: 0.9445 - f1_score: 0.6898 - val_loss: 0.2358 - val_accuracy: 0.9217 - val_binary_accuracy: 0.9217 - val_f1_score: 0.5449\n",
      "Epoch 9/20\n",
      "44/44 [==============================] - 49s 1s/step - loss: 0.1461 - accuracy: 0.9505 - binary_accuracy: 0.9505 - f1_score: 0.7124 - val_loss: 0.2453 - val_accuracy: 0.9210 - val_binary_accuracy: 0.9210 - val_f1_score: 0.5780\n",
      "Epoch 10/20\n",
      "44/44 [==============================] - 49s 1s/step - loss: 0.1387 - accuracy: 0.9512 - binary_accuracy: 0.9512 - f1_score: 0.7192 - val_loss: 0.2330 - val_accuracy: 0.9238 - val_binary_accuracy: 0.9238 - val_f1_score: 0.5490\n",
      "Epoch 11/20\n",
      "44/44 [==============================] - 49s 1s/step - loss: 0.1287 - accuracy: 0.9557 - binary_accuracy: 0.9557 - f1_score: 0.7526 - val_loss: 0.2499 - val_accuracy: 0.9203 - val_binary_accuracy: 0.9203 - val_f1_score: 0.5694\n",
      "Epoch 12/20\n",
      "44/44 [==============================] - 49s 1s/step - loss: 0.1117 - accuracy: 0.9616 - binary_accuracy: 0.9616 - f1_score: 0.7861 - val_loss: 0.2603 - val_accuracy: 0.9167 - val_binary_accuracy: 0.9167 - val_f1_score: 0.5702\n",
      "Epoch 13/20\n",
      "44/44 [==============================] - 49s 1s/step - loss: 0.1019 - accuracy: 0.9653 - binary_accuracy: 0.9653 - f1_score: 0.8065 - val_loss: 0.2859 - val_accuracy: 0.9217 - val_binary_accuracy: 0.9217 - val_f1_score: 0.5185\n",
      "Epoch 14/20\n",
      "44/44 [==============================] - 49s 1s/step - loss: 0.0958 - accuracy: 0.9665 - binary_accuracy: 0.9665 - f1_score: 0.8161 - val_loss: 0.2974 - val_accuracy: 0.9096 - val_binary_accuracy: 0.9096 - val_f1_score: 0.5707\n",
      "Epoch 15/20\n",
      "44/44 [==============================] - 50s 1s/step - loss: 0.0775 - accuracy: 0.9749 - binary_accuracy: 0.9749 - f1_score: 0.8638 - val_loss: 0.3018 - val_accuracy: 0.9231 - val_binary_accuracy: 0.9231 - val_f1_score: 0.5404\n",
      "Epoch 16/20\n",
      "44/44 [==============================] - 50s 1s/step - loss: 0.0722 - accuracy: 0.9765 - binary_accuracy: 0.9765 - f1_score: 0.8729 - val_loss: 0.3521 - val_accuracy: 0.9082 - val_binary_accuracy: 0.9082 - val_f1_score: 0.5770\n",
      "Epoch 17/20\n",
      "44/44 [==============================] - 50s 1s/step - loss: 0.0587 - accuracy: 0.9810 - binary_accuracy: 0.9810 - f1_score: 0.9011 - val_loss: 0.3224 - val_accuracy: 0.9167 - val_binary_accuracy: 0.9167 - val_f1_score: 0.5400\n",
      "Epoch 18/20\n",
      "44/44 [==============================] - 49s 1s/step - loss: 0.0515 - accuracy: 0.9845 - binary_accuracy: 0.9845 - f1_score: 0.9199 - val_loss: 0.4739 - val_accuracy: 0.8819 - val_binary_accuracy: 0.8819 - val_f1_score: 0.5406\n",
      "Epoch 19/20\n",
      "44/44 [==============================] - 50s 1s/step - loss: 0.0550 - accuracy: 0.9831 - binary_accuracy: 0.9831 - f1_score: 0.9103 - val_loss: 0.3720 - val_accuracy: 0.9146 - val_binary_accuracy: 0.9146 - val_f1_score: 0.5654\n",
      "Epoch 20/20\n",
      "44/44 [==============================] - 50s 1s/step - loss: 0.0443 - accuracy: 0.9868 - binary_accuracy: 0.9868 - f1_score: 0.9271 - val_loss: 0.4191 - val_accuracy: 0.9103 - val_binary_accuracy: 0.9103 - val_f1_score: 0.5705\n"
     ]
    }
   ],
   "source": [
    "model = lstm_model.fit(x_train, y_train, epochs=20, batch_size=128, validation_data=(x_test, y_test))"
   ]
  },
  {
   "cell_type": "code",
   "execution_count": 9,
   "metadata": {},
   "outputs": [
    {
     "name": "stdout",
     "output_type": "stream",
     "text": [
      "11/11 [==============================] - 4s 340ms/step - loss: 0.4191 - accuracy: 0.9103 - binary_accuracy: 0.9103 - f1_score: 0.5705\n",
      "loss :  0.41913336515426636\n",
      "accuracy :  0.9103202819824219\n",
      "binary_accuracy :  0.9103202819824219\n",
      "f1_score :  0.5704619884490967\n",
      "\n"
     ]
    }
   ],
   "source": [
    "results = lstm_model.evaluate(x_test, y_test, batch_size=128)\n",
    "\n",
    "for name, value in zip(lstm_model.metrics_names, results):\n",
    "  print(name, ': ', value)\n",
    "print()"
   ]
  },
  {
   "cell_type": "code",
   "execution_count": 12,
   "metadata": {},
   "outputs": [
    {
     "ename": "",
     "evalue": "",
     "output_type": "error",
     "traceback": [
      "\u001b[1;31mThe Kernel crashed while executing code in the the current cell or a previous cell. Please review the code in the cell(s) to identify a possible cause of the failure. Click <a href='https://aka.ms/vscodeJupyterKernelCrash'>here</a> for more info. View Jupyter <a href='command:jupyter.viewOutput'>log</a> for further details."
     ]
    }
   ],
   "source": [
    "#import joblib\n",
    "\n",
    "#model_filename = '../../../models/generated-models-base-paper/offensive_lstm_embeddings_model.pkl'\n",
    "#joblib.dump(model, model_filename)"
   ]
  }
 ],
 "metadata": {
  "kernelspec": {
   "display_name": "Python 3 (ipykernel)",
   "language": "python",
   "name": "python3"
  },
  "language_info": {
   "codemirror_mode": {
    "name": "ipython",
    "version": 3
   },
   "file_extension": ".py",
   "mimetype": "text/x-python",
   "name": "python",
   "nbconvert_exporter": "python",
   "pygments_lexer": "ipython3",
   "version": "3.10.4"
  },
  "orig_nbformat": 4
 },
 "nbformat": 4,
 "nbformat_minor": 2
}
