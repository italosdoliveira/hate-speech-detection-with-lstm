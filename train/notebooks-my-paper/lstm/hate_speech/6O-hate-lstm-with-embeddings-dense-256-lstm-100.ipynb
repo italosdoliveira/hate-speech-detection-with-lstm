{
 "cells": [
  {
   "cell_type": "code",
   "execution_count": 1,
   "metadata": {},
   "outputs": [
    {
     "name": "stderr",
     "output_type": "stream",
     "text": [
      "2023-10-29 01:18:30.824085: W tensorflow/stream_executor/platform/default/dso_loader.cc:64] Could not load dynamic library 'libcudart.so.11.0'; dlerror: libcudart.so.11.0: cannot open shared object file: No such file or directory\n",
      "2023-10-29 01:18:30.824117: I tensorflow/stream_executor/cuda/cudart_stub.cc:29] Ignore above cudart dlerror if you do not have a GPU set up on your machine.\n"
     ]
    }
   ],
   "source": [
    "import sys  \n",
    "import os\n",
    "import pandas as pd\n",
    "import io\n",
    "sys.path.insert(0, '../../../../scripts/')\n",
    "sys.path.insert(0, '../../../../dataset/')\n",
    "import hate_column_converter\n",
    "import embedding_reader\n",
    "import custom_keras_metrics\n",
    "import tensorflow as tf\n",
    "import keras.backend as K\n",
    "import os\n",
    "import time\n",
    "import gc\n",
    "import glob\n",
    "import wget\n",
    "import zipfile\n",
    "import numpy as np\n",
    "from sklearn.model_selection import train_test_split\n",
    "from keras.preprocessing.text import Tokenizer\n",
    "from keras.preprocessing.sequence import pad_sequences\n",
    "from tensorflow.keras.layers import LSTM\n",
    "from tensorflow.keras.preprocessing import text, sequence\n",
    "from keras.layers import Reshape, Flatten, Concatenate, Dropout, SpatialDropout1D\n",
    "from tensorflow.keras.optimizers import Adam\n",
    "from keras.models import Model\n",
    "from keras import backend as K\n",
    "from tensorflow.keras.layers import Layer\n",
    "from keras import initializers, regularizers, constraints, optimizers, layers\n",
    "from tensorflow.keras.utils import to_categorical\n",
    "from sklearn.preprocessing import LabelEncoder\n",
    "from keras.layers import *\n",
    "from keras.models import *\n",
    "from keras import initializers, regularizers, constraints, optimizers, layers\n",
    "from keras.initializers import *\n",
    "from keras.optimizers import *\n",
    "from keras.callbacks import *\n",
    "from keras import metrics\n",
    "from tqdm import tqdm"
   ]
  },
  {
   "cell_type": "code",
   "execution_count": 2,
   "metadata": {},
   "outputs": [],
   "source": [
    "#wget.download(\"http://143.107.183.175:22980/download.php?file=embeddings/glove/glove_s300.zip\", out=\"../../../../embeddings/\")"
   ]
  },
  {
   "cell_type": "code",
   "execution_count": 3,
   "metadata": {},
   "outputs": [],
   "source": [
    "#with zipfile.ZipFile(\"../../../../embeddings/glove_s300.zip\", 'r') as zip_ref:\n",
    " #   zip_ref.extractall(\"../../../../embeddings/\")"
   ]
  },
  {
   "cell_type": "code",
   "execution_count": 2,
   "metadata": {},
   "outputs": [
    {
     "name": "stderr",
     "output_type": "stream",
     "text": [
      "/workspaces/hate-speech-detection-python/train/notebooks-my-paper/lstm/hate_speech/../../../../scripts/hate_column_converter.py:8: SettingWithCopyWarning: \n",
      "A value is trying to be set on a copy of a slice from a DataFrame.\n",
      "Try using .loc[row_indexer,col_indexer] = value instead\n",
      "\n",
      "See the caveats in the documentation: https://pandas.pydata.org/pandas-docs/stable/user_guide/indexing.html#returning-a-view-versus-a-copy\n",
      "  lines_with_two_numbers_in_hate_speech[['col1', 'col2']] = lines_with_two_numbers_in_hate_speech['hate_speech'].str.split(',', expand=True)\n",
      "/workspaces/hate-speech-detection-python/train/notebooks-my-paper/lstm/hate_speech/../../../../scripts/hate_column_converter.py:8: SettingWithCopyWarning: \n",
      "A value is trying to be set on a copy of a slice from a DataFrame.\n",
      "Try using .loc[row_indexer,col_indexer] = value instead\n",
      "\n",
      "See the caveats in the documentation: https://pandas.pydata.org/pandas-docs/stable/user_guide/indexing.html#returning-a-view-versus-a-copy\n",
      "  lines_with_two_numbers_in_hate_speech[['col1', 'col2']] = lines_with_two_numbers_in_hate_speech['hate_speech'].str.split(',', expand=True)\n"
     ]
    }
   ],
   "source": [
    "MAX_LENGTH = 300\n",
    "dataframe = pd.read_csv('../../../../dataset/HateBR.csv')\n",
    "new_dataframe = hate_column_converter.convert_to_binary(dataframe)\n",
    "classes_zero = new_dataframe[new_dataframe['hate_speech'] == 0]\n",
    "classes_one = new_dataframe[new_dataframe['hate_speech'] == 1]\n",
    "classes_one_oversampled = classes_one.sample(len(classes_zero), replace=True)\n",
    "dataframe_oversampled = pd.concat([classes_zero, classes_one_oversampled]) \n",
    "instagram_comments = dataframe_oversampled['instagram_comments']\n",
    "y = dataframe_oversampled['hate_speech']"
   ]
  },
  {
   "cell_type": "code",
   "execution_count": 3,
   "metadata": {},
   "outputs": [],
   "source": [
    "x = dataframe_oversampled['instagram_comments']"
   ]
  },
  {
   "cell_type": "code",
   "execution_count": 4,
   "metadata": {},
   "outputs": [],
   "source": [
    "token = Tokenizer()\n",
    "token.fit_on_texts(x)\n",
    "sequences = token.texts_to_sequences(x)\n",
    "x = pad_sequences(sequences,maxlen=MAX_LENGTH)\n",
    "vocabulary_size = len(token.word_index)+1"
   ]
  },
  {
   "cell_type": "code",
   "execution_count": 5,
   "metadata": {},
   "outputs": [
    {
     "name": "stderr",
     "output_type": "stream",
     "text": [
      "100%|██████████| 11530/11530 [00:00<00:00, 354212.84it/s]\n"
     ]
    }
   ],
   "source": [
    "embedding_vector = embedding_reader.read_glove_file()\n",
    "embedding_matrix = np.zeros((vocabulary_size,MAX_LENGTH))\n",
    "for word,i in tqdm(token.word_index.items()):\n",
    "    embedding_value = embedding_vector.get(word)\n",
    "    if embedding_value is not None:\n",
    "        embedding_matrix[i] = embedding_value"
   ]
  },
  {
   "cell_type": "code",
   "execution_count": 6,
   "metadata": {},
   "outputs": [],
   "source": [
    "x_train, x_test, y_train, y_test = train_test_split(x, y, train_size=0.8, test_size=0.2)"
   ]
  },
  {
   "cell_type": "code",
   "execution_count": 7,
   "metadata": {},
   "outputs": [
    {
     "name": "stderr",
     "output_type": "stream",
     "text": [
      "2023-10-29 01:21:07.218603: W tensorflow/stream_executor/platform/default/dso_loader.cc:64] Could not load dynamic library 'libcuda.so.1'; dlerror: libcuda.so.1: cannot open shared object file: No such file or directory\n",
      "2023-10-29 01:21:07.218656: W tensorflow/stream_executor/cuda/cuda_driver.cc:269] failed call to cuInit: UNKNOWN ERROR (303)\n",
      "2023-10-29 01:21:07.218688: I tensorflow/stream_executor/cuda/cuda_diagnostics.cc:156] kernel driver does not appear to be running on this host (codespaces-fbf4a0): /proc/driver/nvidia/version does not exist\n",
      "2023-10-29 01:21:07.218948: I tensorflow/core/platform/cpu_feature_guard.cc:151] This TensorFlow binary is optimized with oneAPI Deep Neural Network Library (oneDNN) to use the following CPU instructions in performance-critical operations:  AVX2 FMA\n",
      "To enable them in other operations, rebuild TensorFlow with the appropriate compiler flags.\n"
     ]
    }
   ],
   "source": [
    "lstm_model = Sequential()\n",
    "lstm_model.add(Embedding(vocabulary_size,MAX_LENGTH,weights=[embedding_matrix],input_length=x.shape[1],trainable=False))\n",
    "lstm_model.add(Dense(256))\n",
    "lstm_model.add(Dropout(0.25))\n",
    "lstm_model.add(LSTM(128))\n",
    "lstm_model.add(Dropout(0.5))\n",
    "lstm_model.add(Dense(1))\n",
    "lstm_model.add(Activation('sigmoid'))\n",
    "lstm_model.compile(loss='binary_crossentropy', optimizer='adam', metrics=['accuracy', 'binary_accuracy', custom_keras_metrics.f1_score])"
   ]
  },
  {
   "cell_type": "code",
   "execution_count": 8,
   "metadata": {},
   "outputs": [
    {
     "name": "stdout",
     "output_type": "stream",
     "text": [
      "Epoch 1/20\n"
     ]
    },
    {
     "name": "stdout",
     "output_type": "stream",
     "text": [
      "79/79 [==============================] - 92s 1s/step - loss: 0.5160 - accuracy: 0.7434 - binary_accuracy: 0.7434 - f1_score: 0.7419 - val_loss: 0.4079 - val_accuracy: 0.8167 - val_binary_accuracy: 0.8167 - val_f1_score: 0.8145\n",
      "Epoch 2/20\n",
      "79/79 [==============================] - 89s 1s/step - loss: 0.3819 - accuracy: 0.8328 - binary_accuracy: 0.8328 - f1_score: 0.8306 - val_loss: 0.3254 - val_accuracy: 0.8587 - val_binary_accuracy: 0.8587 - val_f1_score: 0.8557\n",
      "Epoch 3/20\n",
      "79/79 [==============================] - 88s 1s/step - loss: 0.3111 - accuracy: 0.8644 - binary_accuracy: 0.8644 - f1_score: 0.8631 - val_loss: 0.2837 - val_accuracy: 0.8817 - val_binary_accuracy: 0.8817 - val_f1_score: 0.8836\n",
      "Epoch 4/20\n",
      "79/79 [==============================] - 94s 1s/step - loss: 0.2568 - accuracy: 0.8955 - binary_accuracy: 0.8955 - f1_score: 0.8956 - val_loss: 0.2400 - val_accuracy: 0.9048 - val_binary_accuracy: 0.9048 - val_f1_score: 0.9062\n",
      "Epoch 5/20\n",
      "79/79 [==============================] - 89s 1s/step - loss: 0.2033 - accuracy: 0.9175 - binary_accuracy: 0.9175 - f1_score: 0.9173 - val_loss: 0.1887 - val_accuracy: 0.9226 - val_binary_accuracy: 0.9226 - val_f1_score: 0.9230\n",
      "Epoch 6/20\n",
      "79/79 [==============================] - 88s 1s/step - loss: 0.1655 - accuracy: 0.9356 - binary_accuracy: 0.9356 - f1_score: 0.9357 - val_loss: 0.1589 - val_accuracy: 0.9353 - val_binary_accuracy: 0.9353 - val_f1_score: 0.9346\n",
      "Epoch 7/20\n",
      "79/79 [==============================] - 88s 1s/step - loss: 0.1264 - accuracy: 0.9513 - binary_accuracy: 0.9513 - f1_score: 0.9510 - val_loss: 0.1441 - val_accuracy: 0.9421 - val_binary_accuracy: 0.9421 - val_f1_score: 0.9411\n",
      "Epoch 8/20\n",
      "79/79 [==============================] - 89s 1s/step - loss: 0.1004 - accuracy: 0.9587 - binary_accuracy: 0.9587 - f1_score: 0.9586 - val_loss: 0.1508 - val_accuracy: 0.9321 - val_binary_accuracy: 0.9321 - val_f1_score: 0.9299\n",
      "Epoch 9/20\n",
      "79/79 [==============================] - 88s 1s/step - loss: 0.0897 - accuracy: 0.9617 - binary_accuracy: 0.9617 - f1_score: 0.9616 - val_loss: 0.1366 - val_accuracy: 0.9437 - val_binary_accuracy: 0.9437 - val_f1_score: 0.9436\n",
      "Epoch 10/20\n",
      "79/79 [==============================] - 88s 1s/step - loss: 0.0734 - accuracy: 0.9677 - binary_accuracy: 0.9677 - f1_score: 0.9677 - val_loss: 0.1434 - val_accuracy: 0.9421 - val_binary_accuracy: 0.9421 - val_f1_score: 0.9423\n",
      "Epoch 11/20\n",
      "79/79 [==============================] - 88s 1s/step - loss: 0.0666 - accuracy: 0.9711 - binary_accuracy: 0.9711 - f1_score: 0.9712 - val_loss: 0.1345 - val_accuracy: 0.9472 - val_binary_accuracy: 0.9472 - val_f1_score: 0.9483\n",
      "Epoch 12/20\n",
      "79/79 [==============================] - 88s 1s/step - loss: 0.0600 - accuracy: 0.9729 - binary_accuracy: 0.9729 - f1_score: 0.9729 - val_loss: 0.1518 - val_accuracy: 0.9468 - val_binary_accuracy: 0.9468 - val_f1_score: 0.9469\n",
      "Epoch 13/20\n",
      "79/79 [==============================] - 88s 1s/step - loss: 0.0520 - accuracy: 0.9751 - binary_accuracy: 0.9751 - f1_score: 0.9751 - val_loss: 0.1178 - val_accuracy: 0.9552 - val_binary_accuracy: 0.9552 - val_f1_score: 0.9560\n",
      "Epoch 14/20\n",
      "79/79 [==============================] - 88s 1s/step - loss: 0.0421 - accuracy: 0.9791 - binary_accuracy: 0.9791 - f1_score: 0.9790 - val_loss: 0.1168 - val_accuracy: 0.9536 - val_binary_accuracy: 0.9536 - val_f1_score: 0.9535\n",
      "Epoch 15/20\n",
      "79/79 [==============================] - 88s 1s/step - loss: 0.0416 - accuracy: 0.9771 - binary_accuracy: 0.9771 - f1_score: 0.9769 - val_loss: 0.1089 - val_accuracy: 0.9560 - val_binary_accuracy: 0.9560 - val_f1_score: 0.9560\n",
      "Epoch 16/20\n",
      "79/79 [==============================] - 88s 1s/step - loss: 0.0361 - accuracy: 0.9801 - binary_accuracy: 0.9801 - f1_score: 0.9799 - val_loss: 0.1194 - val_accuracy: 0.9587 - val_binary_accuracy: 0.9587 - val_f1_score: 0.9593\n",
      "Epoch 17/20\n",
      "79/79 [==============================] - 88s 1s/step - loss: 0.0403 - accuracy: 0.9797 - binary_accuracy: 0.9797 - f1_score: 0.9794 - val_loss: 0.1569 - val_accuracy: 0.9504 - val_binary_accuracy: 0.9504 - val_f1_score: 0.9504\n",
      "Epoch 18/20\n",
      "79/79 [==============================] - 88s 1s/step - loss: 0.0517 - accuracy: 0.9750 - binary_accuracy: 0.9750 - f1_score: 0.9747 - val_loss: 0.1458 - val_accuracy: 0.9468 - val_binary_accuracy: 0.9468 - val_f1_score: 0.9471\n",
      "Epoch 19/20\n",
      "79/79 [==============================] - 88s 1s/step - loss: 0.0647 - accuracy: 0.9694 - binary_accuracy: 0.9694 - f1_score: 0.9694 - val_loss: 0.1265 - val_accuracy: 0.9571 - val_binary_accuracy: 0.9571 - val_f1_score: 0.9568\n",
      "Epoch 20/20\n",
      "79/79 [==============================] - 88s 1s/step - loss: 0.0459 - accuracy: 0.9760 - binary_accuracy: 0.9760 - f1_score: 0.9759 - val_loss: 0.1205 - val_accuracy: 0.9575 - val_binary_accuracy: 0.9575 - val_f1_score: 0.9572\n"
     ]
    }
   ],
   "source": [
    "model = lstm_model.fit(x_train, y_train, epochs=20, batch_size=128, validation_data=(x_test, y_test))"
   ]
  },
  {
   "cell_type": "code",
   "execution_count": 9,
   "metadata": {},
   "outputs": [
    {
     "name": "stdout",
     "output_type": "stream",
     "text": [
      "20/20 [==============================] - 7s 326ms/step - loss: 0.1205 - accuracy: 0.9575 - binary_accuracy: 0.9575 - f1_score: 0.9572\n",
      "loss :  0.12048177421092987\n",
      "accuracy :  0.9575396776199341\n",
      "binary_accuracy :  0.9575396776199341\n",
      "f1_score :  0.9571552276611328\n",
      "\n"
     ]
    }
   ],
   "source": [
    "results = lstm_model.evaluate(x_test, y_test, batch_size=128)\n",
    "\n",
    "for name, value in zip(lstm_model.metrics_names, results):\n",
    "  print(name, ': ', value)\n",
    "print()"
   ]
  },
  {
   "cell_type": "code",
   "execution_count": 12,
   "metadata": {},
   "outputs": [
    {
     "ename": "",
     "evalue": "",
     "output_type": "error",
     "traceback": [
      "\u001b[1;31mThe Kernel crashed while executing code in the the current cell or a previous cell. Please review the code in the cell(s) to identify a possible cause of the failure. Click <a href='https://aka.ms/vscodeJupyterKernelCrash'>here</a> for more info. View Jupyter <a href='command:jupyter.viewOutput'>log</a> for further details."
     ]
    }
   ],
   "source": [
    "#import joblib\n",
    "\n",
    "#model_filename = '../../../models/generated-models-base-paper/offensive_lstm_embeddings_model.pkl'\n",
    "#joblib.dump(model, model_filename)"
   ]
  }
 ],
 "metadata": {
  "kernelspec": {
   "display_name": "Python 3 (ipykernel)",
   "language": "python",
   "name": "python3"
  },
  "orig_nbformat": 4
 },
 "nbformat": 4,
 "nbformat_minor": 2
}
