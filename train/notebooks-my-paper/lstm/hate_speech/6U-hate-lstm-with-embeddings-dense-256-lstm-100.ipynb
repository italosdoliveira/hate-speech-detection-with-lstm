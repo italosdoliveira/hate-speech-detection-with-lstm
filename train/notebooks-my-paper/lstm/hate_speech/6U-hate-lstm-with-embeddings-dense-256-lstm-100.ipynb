{
 "cells": [
  {
   "cell_type": "code",
   "execution_count": 1,
   "metadata": {},
   "outputs": [
    {
     "name": "stderr",
     "output_type": "stream",
     "text": [
      "2023-10-29 02:21:10.996055: W tensorflow/stream_executor/platform/default/dso_loader.cc:64] Could not load dynamic library 'libcudart.so.11.0'; dlerror: libcudart.so.11.0: cannot open shared object file: No such file or directory\n",
      "2023-10-29 02:21:10.996091: I tensorflow/stream_executor/cuda/cudart_stub.cc:29] Ignore above cudart dlerror if you do not have a GPU set up on your machine.\n"
     ]
    }
   ],
   "source": [
    "import sys  \n",
    "import os\n",
    "import pandas as pd\n",
    "import io\n",
    "sys.path.insert(0, '../../../../scripts/')\n",
    "sys.path.insert(0, '../../../../dataset/')\n",
    "import hate_column_converter\n",
    "import embedding_reader\n",
    "import custom_keras_metrics\n",
    "import tensorflow as tf\n",
    "import keras.backend as K\n",
    "import os\n",
    "import time\n",
    "import gc\n",
    "import glob\n",
    "import wget\n",
    "import zipfile\n",
    "import numpy as np\n",
    "from sklearn.model_selection import train_test_split\n",
    "from keras.preprocessing.text import Tokenizer\n",
    "from keras.preprocessing.sequence import pad_sequences\n",
    "from tensorflow.keras.layers import LSTM\n",
    "from tensorflow.keras.preprocessing import text, sequence\n",
    "from keras.layers import Reshape, Flatten, Concatenate, Dropout, SpatialDropout1D\n",
    "from tensorflow.keras.optimizers import Adam\n",
    "from keras.models import Model\n",
    "from keras import backend as K\n",
    "from tensorflow.keras.layers import Layer\n",
    "from keras import initializers, regularizers, constraints, optimizers, layers\n",
    "from tensorflow.keras.utils import to_categorical\n",
    "from sklearn.preprocessing import LabelEncoder\n",
    "from keras.layers import *\n",
    "from keras.models import *\n",
    "from keras import initializers, regularizers, constraints, optimizers, layers\n",
    "from keras.initializers import *\n",
    "from keras.optimizers import *\n",
    "from keras.callbacks import *\n",
    "from keras import metrics\n",
    "from tqdm import tqdm"
   ]
  },
  {
   "cell_type": "code",
   "execution_count": 2,
   "metadata": {},
   "outputs": [],
   "source": [
    "#wget.download(\"http://143.107.183.175:22980/download.php?file=embeddings/glove/glove_s300.zip\", out=\"../../../../embeddings/\")"
   ]
  },
  {
   "cell_type": "code",
   "execution_count": 3,
   "metadata": {},
   "outputs": [],
   "source": [
    "#with zipfile.ZipFile(\"../../../../embeddings/glove_s300.zip\", 'r') as zip_ref:\n",
    " #   zip_ref.extractall(\"../../../../embeddings/\")"
   ]
  },
  {
   "cell_type": "code",
   "execution_count": 2,
   "metadata": {},
   "outputs": [
    {
     "name": "stderr",
     "output_type": "stream",
     "text": [
      "/workspaces/hate-speech-detection-python/train/notebooks-my-paper/lstm/hate_speech/../../../../scripts/hate_column_converter.py:8: SettingWithCopyWarning: \n",
      "A value is trying to be set on a copy of a slice from a DataFrame.\n",
      "Try using .loc[row_indexer,col_indexer] = value instead\n",
      "\n",
      "See the caveats in the documentation: https://pandas.pydata.org/pandas-docs/stable/user_guide/indexing.html#returning-a-view-versus-a-copy\n",
      "  lines_with_two_numbers_in_hate_speech[['col1', 'col2']] = lines_with_two_numbers_in_hate_speech['hate_speech'].str.split(',', expand=True)\n",
      "/workspaces/hate-speech-detection-python/train/notebooks-my-paper/lstm/hate_speech/../../../../scripts/hate_column_converter.py:8: SettingWithCopyWarning: \n",
      "A value is trying to be set on a copy of a slice from a DataFrame.\n",
      "Try using .loc[row_indexer,col_indexer] = value instead\n",
      "\n",
      "See the caveats in the documentation: https://pandas.pydata.org/pandas-docs/stable/user_guide/indexing.html#returning-a-view-versus-a-copy\n",
      "  lines_with_two_numbers_in_hate_speech[['col1', 'col2']] = lines_with_two_numbers_in_hate_speech['hate_speech'].str.split(',', expand=True)\n"
     ]
    }
   ],
   "source": [
    "MAX_LENGTH = 300\n",
    "dataframe = pd.read_csv('../../../../dataset/HateBR.csv')\n",
    "new_dataframe = hate_column_converter.convert_to_binary(dataframe)\n",
    "classes_zero = new_dataframe[new_dataframe['hate_speech'] == 0]\n",
    "classes_one = new_dataframe[new_dataframe['hate_speech'] == 1]\n",
    "classes_zero_undersampled = classes_zero.sample(len(classes_one))\n",
    "dataframe_undersampled = pd.concat([classes_zero_undersampled, classes_one]) \n",
    "instagram_comments = dataframe_undersampled['instagram_comments']\n",
    "y = dataframe_undersampled['hate_speech']"
   ]
  },
  {
   "cell_type": "code",
   "execution_count": 3,
   "metadata": {},
   "outputs": [],
   "source": [
    "x = dataframe_undersampled['instagram_comments']"
   ]
  },
  {
   "cell_type": "code",
   "execution_count": 4,
   "metadata": {},
   "outputs": [],
   "source": [
    "token = Tokenizer()\n",
    "token.fit_on_texts(x)\n",
    "sequences = token.texts_to_sequences(x)\n",
    "x = pad_sequences(sequences,maxlen=MAX_LENGTH)\n",
    "vocabulary_size = len(token.word_index)+1"
   ]
  },
  {
   "cell_type": "code",
   "execution_count": 5,
   "metadata": {},
   "outputs": [
    {
     "name": "stderr",
     "output_type": "stream",
     "text": [
      "100%|██████████| 4748/4748 [00:00<00:00, 357744.36it/s]\n"
     ]
    }
   ],
   "source": [
    "embedding_vector = embedding_reader.read_glove_file()\n",
    "embedding_matrix = np.zeros((vocabulary_size,MAX_LENGTH))\n",
    "for word,i in tqdm(token.word_index.items()):\n",
    "    embedding_value = embedding_vector.get(word)\n",
    "    if embedding_value is not None:\n",
    "        embedding_matrix[i] = embedding_value"
   ]
  },
  {
   "cell_type": "code",
   "execution_count": 6,
   "metadata": {},
   "outputs": [],
   "source": [
    "x_train, x_test, y_train, y_test = train_test_split(x, y, train_size=0.8, test_size=0.2)"
   ]
  },
  {
   "cell_type": "code",
   "execution_count": 7,
   "metadata": {},
   "outputs": [
    {
     "name": "stderr",
     "output_type": "stream",
     "text": [
      "2023-10-29 02:24:09.815357: W tensorflow/stream_executor/platform/default/dso_loader.cc:64] Could not load dynamic library 'libcuda.so.1'; dlerror: libcuda.so.1: cannot open shared object file: No such file or directory\n",
      "2023-10-29 02:24:09.815388: W tensorflow/stream_executor/cuda/cuda_driver.cc:269] failed call to cuInit: UNKNOWN ERROR (303)\n",
      "2023-10-29 02:24:09.815418: I tensorflow/stream_executor/cuda/cuda_diagnostics.cc:156] kernel driver does not appear to be running on this host (codespaces-fbf4a0): /proc/driver/nvidia/version does not exist\n",
      "2023-10-29 02:24:09.815612: I tensorflow/core/platform/cpu_feature_guard.cc:151] This TensorFlow binary is optimized with oneAPI Deep Neural Network Library (oneDNN) to use the following CPU instructions in performance-critical operations:  AVX2 FMA\n",
      "To enable them in other operations, rebuild TensorFlow with the appropriate compiler flags.\n"
     ]
    }
   ],
   "source": [
    "lstm_model = Sequential()\n",
    "lstm_model.add(Embedding(vocabulary_size,MAX_LENGTH,weights=[embedding_matrix],input_length=x.shape[1],trainable=False))\n",
    "lstm_model.add(Dense(256))\n",
    "lstm_model.add(Dropout(0.25))\n",
    "lstm_model.add(LSTM(128))\n",
    "lstm_model.add(Dropout(0.5))\n",
    "lstm_model.add(Dense(1))\n",
    "lstm_model.add(Activation('sigmoid'))\n",
    "lstm_model.compile(loss='binary_crossentropy', optimizer='adam', metrics=['accuracy', 'binary_accuracy', custom_keras_metrics.f1_score])"
   ]
  },
  {
   "cell_type": "code",
   "execution_count": 8,
   "metadata": {},
   "outputs": [
    {
     "name": "stdout",
     "output_type": "stream",
     "text": [
      "Epoch 1/20\n"
     ]
    },
    {
     "name": "stderr",
     "output_type": "stream",
     "text": [
      "2023-10-29 02:24:14.239458: W tensorflow/core/framework/cpu_allocator_impl.cc:82] Allocation of 46080000 exceeds 10% of free system memory.\n",
      "2023-10-29 02:24:14.255260: W tensorflow/core/framework/cpu_allocator_impl.cc:82] Allocation of 39321600 exceeds 10% of free system memory.\n",
      "2023-10-29 02:24:14.349059: W tensorflow/core/framework/cpu_allocator_impl.cc:82] Allocation of 39321600 exceeds 10% of free system memory.\n",
      "2023-10-29 02:24:14.415400: W tensorflow/core/framework/cpu_allocator_impl.cc:82] Allocation of 39321600 exceeds 10% of free system memory.\n",
      "2023-10-29 02:24:14.498341: W tensorflow/core/framework/cpu_allocator_impl.cc:82] Allocation of 39321600 exceeds 10% of free system memory.\n"
     ]
    },
    {
     "name": "stdout",
     "output_type": "stream",
     "text": [
      "10/10 [==============================] - 14s 1s/step - loss: 0.6654 - accuracy: 0.6062 - binary_accuracy: 0.6062 - f1_score: 0.6392 - val_loss: 0.6186 - val_accuracy: 0.6804 - val_binary_accuracy: 0.6804 - val_f1_score: 0.7134\n",
      "Epoch 2/20\n",
      "10/10 [==============================] - 11s 1s/step - loss: 0.5591 - accuracy: 0.7231 - binary_accuracy: 0.7231 - f1_score: 0.6767 - val_loss: 0.6414 - val_accuracy: 0.6357 - val_binary_accuracy: 0.6357 - val_f1_score: 0.5191\n",
      "Epoch 3/20\n",
      "10/10 [==============================] - 11s 1s/step - loss: 0.5096 - accuracy: 0.7455 - binary_accuracy: 0.7455 - f1_score: 0.7132 - val_loss: 0.5721 - val_accuracy: 0.6873 - val_binary_accuracy: 0.6873 - val_f1_score: 0.6791\n",
      "Epoch 4/20\n",
      "10/10 [==============================] - 11s 1s/step - loss: 0.4954 - accuracy: 0.7549 - binary_accuracy: 0.7549 - f1_score: 0.7549 - val_loss: 0.5542 - val_accuracy: 0.7148 - val_binary_accuracy: 0.7148 - val_f1_score: 0.7280\n",
      "Epoch 5/20\n",
      "10/10 [==============================] - 11s 1s/step - loss: 0.4467 - accuracy: 0.7954 - binary_accuracy: 0.7954 - f1_score: 0.7903 - val_loss: 0.5671 - val_accuracy: 0.7182 - val_binary_accuracy: 0.7182 - val_f1_score: 0.7091\n",
      "Epoch 6/20\n",
      "10/10 [==============================] - 11s 1s/step - loss: 0.4353 - accuracy: 0.8091 - binary_accuracy: 0.8091 - f1_score: 0.7591 - val_loss: 0.5274 - val_accuracy: 0.7423 - val_binary_accuracy: 0.7423 - val_f1_score: 0.7577\n",
      "Epoch 7/20\n",
      "10/10 [==============================] - 10s 1s/step - loss: 0.4091 - accuracy: 0.8255 - binary_accuracy: 0.8255 - f1_score: 0.8366 - val_loss: 0.5559 - val_accuracy: 0.7457 - val_binary_accuracy: 0.7457 - val_f1_score: 0.7499\n",
      "Epoch 8/20\n",
      "10/10 [==============================] - 11s 1s/step - loss: 0.3757 - accuracy: 0.8340 - binary_accuracy: 0.8340 - f1_score: 0.8397 - val_loss: 0.5988 - val_accuracy: 0.7423 - val_binary_accuracy: 0.7423 - val_f1_score: 0.7614\n",
      "Epoch 9/20\n",
      "10/10 [==============================] - 11s 1s/step - loss: 0.3621 - accuracy: 0.8375 - binary_accuracy: 0.8375 - f1_score: 0.8395 - val_loss: 0.6005 - val_accuracy: 0.7388 - val_binary_accuracy: 0.7388 - val_f1_score: 0.7571\n",
      "Epoch 10/20\n",
      "10/10 [==============================] - 11s 1s/step - loss: 0.3435 - accuracy: 0.8504 - binary_accuracy: 0.8504 - f1_score: 0.8446 - val_loss: 0.5467 - val_accuracy: 0.7457 - val_binary_accuracy: 0.7457 - val_f1_score: 0.7572\n",
      "Epoch 11/20\n",
      "10/10 [==============================] - 11s 1s/step - loss: 0.3504 - accuracy: 0.8521 - binary_accuracy: 0.8521 - f1_score: 0.8095 - val_loss: 0.5638 - val_accuracy: 0.7560 - val_binary_accuracy: 0.7560 - val_f1_score: 0.7648\n",
      "Epoch 12/20\n",
      "10/10 [==============================] - 11s 1s/step - loss: 0.3152 - accuracy: 0.8659 - binary_accuracy: 0.8659 - f1_score: 0.8712 - val_loss: 0.7089 - val_accuracy: 0.7182 - val_binary_accuracy: 0.7182 - val_f1_score: 0.7380\n",
      "Epoch 13/20\n",
      "10/10 [==============================] - 11s 1s/step - loss: 0.3437 - accuracy: 0.8555 - binary_accuracy: 0.8555 - f1_score: 0.8635 - val_loss: 0.6349 - val_accuracy: 0.7320 - val_binary_accuracy: 0.7320 - val_f1_score: 0.7583\n",
      "Epoch 14/20\n",
      "10/10 [==============================] - 11s 1s/step - loss: 0.3214 - accuracy: 0.8573 - binary_accuracy: 0.8573 - f1_score: 0.8438 - val_loss: 0.5392 - val_accuracy: 0.7595 - val_binary_accuracy: 0.7595 - val_f1_score: 0.7612\n",
      "Epoch 15/20\n",
      "10/10 [==============================] - 11s 1s/step - loss: 0.2734 - accuracy: 0.8822 - binary_accuracy: 0.8822 - f1_score: 0.8665 - val_loss: 0.5814 - val_accuracy: 0.7491 - val_binary_accuracy: 0.7491 - val_f1_score: 0.7553\n",
      "Epoch 16/20\n",
      "10/10 [==============================] - 11s 1s/step - loss: 0.2483 - accuracy: 0.9020 - binary_accuracy: 0.9020 - f1_score: 0.9012 - val_loss: 0.6188 - val_accuracy: 0.7526 - val_binary_accuracy: 0.7526 - val_f1_score: 0.7604\n",
      "Epoch 17/20\n",
      "10/10 [==============================] - 10s 1s/step - loss: 0.2436 - accuracy: 0.9089 - binary_accuracy: 0.9089 - f1_score: 0.9051 - val_loss: 0.6717 - val_accuracy: 0.7457 - val_binary_accuracy: 0.7457 - val_f1_score: 0.7586\n",
      "Epoch 18/20\n",
      "10/10 [==============================] - 11s 1s/step - loss: 0.2321 - accuracy: 0.9106 - binary_accuracy: 0.9106 - f1_score: 0.9026 - val_loss: 0.7087 - val_accuracy: 0.7285 - val_binary_accuracy: 0.7285 - val_f1_score: 0.7443\n",
      "Epoch 19/20\n",
      "10/10 [==============================] - 11s 1s/step - loss: 0.2237 - accuracy: 0.9097 - binary_accuracy: 0.9097 - f1_score: 0.8812 - val_loss: 0.6763 - val_accuracy: 0.7560 - val_binary_accuracy: 0.7560 - val_f1_score: 0.7576\n",
      "Epoch 20/20\n",
      "10/10 [==============================] - 10s 1s/step - loss: 0.2268 - accuracy: 0.9003 - binary_accuracy: 0.9003 - f1_score: 0.9056 - val_loss: 0.6128 - val_accuracy: 0.7663 - val_binary_accuracy: 0.7663 - val_f1_score: 0.7606\n"
     ]
    }
   ],
   "source": [
    "model = lstm_model.fit(x_train, y_train, epochs=20, batch_size=128, validation_data=(x_test, y_test))"
   ]
  },
  {
   "cell_type": "code",
   "execution_count": 9,
   "metadata": {},
   "outputs": [
    {
     "name": "stdout",
     "output_type": "stream",
     "text": [
      "3/3 [==============================] - 1s 219ms/step - loss: 0.6128 - accuracy: 0.7663 - binary_accuracy: 0.7663 - f1_score: 0.7606\n",
      "loss :  0.6128093004226685\n",
      "accuracy :  0.7663230299949646\n",
      "binary_accuracy :  0.7663230299949646\n",
      "f1_score :  0.7605609893798828\n",
      "\n"
     ]
    }
   ],
   "source": [
    "results = lstm_model.evaluate(x_test, y_test, batch_size=128)\n",
    "\n",
    "for name, value in zip(lstm_model.metrics_names, results):\n",
    "  print(name, ': ', value)\n",
    "print()"
   ]
  },
  {
   "cell_type": "code",
   "execution_count": 12,
   "metadata": {},
   "outputs": [
    {
     "ename": "",
     "evalue": "",
     "output_type": "error",
     "traceback": [
      "\u001b[1;31mThe Kernel crashed while executing code in the the current cell or a previous cell. Please review the code in the cell(s) to identify a possible cause of the failure. Click <a href='https://aka.ms/vscodeJupyterKernelCrash'>here</a> for more info. View Jupyter <a href='command:jupyter.viewOutput'>log</a> for further details."
     ]
    }
   ],
   "source": [
    "#import joblib\n",
    "\n",
    "#model_filename = '../../../models/generated-models-base-paper/offensive_lstm_embeddings_model.pkl'\n",
    "#joblib.dump(model, model_filename)"
   ]
  }
 ],
 "metadata": {
  "kernelspec": {
   "display_name": "Python 3 (ipykernel)",
   "language": "python",
   "name": "python3"
  },
  "language_info": {
   "codemirror_mode": {
    "name": "ipython",
    "version": 3
   },
   "file_extension": ".py",
   "mimetype": "text/x-python",
   "name": "python",
   "nbconvert_exporter": "python",
   "pygments_lexer": "ipython3",
   "version": "3.10.4"
  },
  "orig_nbformat": 4
 },
 "nbformat": 4,
 "nbformat_minor": 2
}
