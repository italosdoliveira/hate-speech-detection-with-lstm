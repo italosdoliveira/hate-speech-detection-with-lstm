{
 "cells": [
  {
   "cell_type": "code",
   "execution_count": 1,
   "metadata": {},
   "outputs": [
    {
     "name": "stderr",
     "output_type": "stream",
     "text": [
      "2023-10-23 23:53:33.451586: W tensorflow/stream_executor/platform/default/dso_loader.cc:64] Could not load dynamic library 'libcudart.so.11.0'; dlerror: libcudart.so.11.0: cannot open shared object file: No such file or directory\n",
      "2023-10-23 23:53:33.451623: I tensorflow/stream_executor/cuda/cudart_stub.cc:29] Ignore above cudart dlerror if you do not have a GPU set up on your machine.\n"
     ]
    }
   ],
   "source": [
    "import sys  \n",
    "import os\n",
    "import pandas as pd\n",
    "import io\n",
    "sys.path.insert(0, '../../../../scripts/')\n",
    "sys.path.insert(0, '../../../../dataset/')\n",
    "import hate_column_converter\n",
    "import embedding_reader\n",
    "import custom_keras_metrics\n",
    "import tensorflow as tf\n",
    "import keras.backend as K\n",
    "import os\n",
    "import time\n",
    "import gc\n",
    "import glob\n",
    "import wget\n",
    "import zipfile\n",
    "import numpy as np\n",
    "from sklearn.model_selection import train_test_split\n",
    "from keras.preprocessing.text import Tokenizer\n",
    "from keras.preprocessing.sequence import pad_sequences\n",
    "from tensorflow.keras.layers import LSTM\n",
    "from tensorflow.keras.preprocessing import text, sequence\n",
    "from keras.layers import Reshape, Flatten, Concatenate, Dropout, SpatialDropout1D\n",
    "from tensorflow.keras.optimizers import Adam\n",
    "from keras.models import Model\n",
    "from keras import backend as K\n",
    "from tensorflow.keras.layers import Layer\n",
    "from keras import initializers, regularizers, constraints, optimizers, layers\n",
    "from tensorflow.keras.utils import to_categorical\n",
    "from sklearn.preprocessing import LabelEncoder\n",
    "from keras.layers import *\n",
    "from keras.models import *\n",
    "from keras import initializers, regularizers, constraints, optimizers, layers\n",
    "from keras.initializers import *\n",
    "from keras.optimizers import *\n",
    "from keras.callbacks import *\n",
    "from keras import metrics\n",
    "from tqdm import tqdm"
   ]
  },
  {
   "cell_type": "code",
   "execution_count": 2,
   "metadata": {},
   "outputs": [],
   "source": [
    "#wget.download(\"http://143.107.183.175:22980/download.php?file=embeddings/glove/glove_s300.zip\", out=\"../../../../embeddings/\")"
   ]
  },
  {
   "cell_type": "code",
   "execution_count": 3,
   "metadata": {},
   "outputs": [],
   "source": [
    "#with zipfile.ZipFile(\"../../../../embeddings/glove_s300.zip\", 'r') as zip_ref:\n",
    " #   zip_ref.extractall(\"../../../../embeddings/\")"
   ]
  },
  {
   "cell_type": "code",
   "execution_count": 2,
   "metadata": {},
   "outputs": [
    {
     "name": "stderr",
     "output_type": "stream",
     "text": [
      "/workspaces/hate-speech-detection-python/train/notebooks-my-paper/lstm/hate_speech/../../../../scripts/hate_column_converter.py:8: SettingWithCopyWarning: \n",
      "A value is trying to be set on a copy of a slice from a DataFrame.\n",
      "Try using .loc[row_indexer,col_indexer] = value instead\n",
      "\n",
      "See the caveats in the documentation: https://pandas.pydata.org/pandas-docs/stable/user_guide/indexing.html#returning-a-view-versus-a-copy\n",
      "  lines_with_two_numbers_in_hate_speech[['col1', 'col2']] = lines_with_two_numbers_in_hate_speech['hate_speech'].str.split(',', expand=True)\n",
      "/workspaces/hate-speech-detection-python/train/notebooks-my-paper/lstm/hate_speech/../../../../scripts/hate_column_converter.py:8: SettingWithCopyWarning: \n",
      "A value is trying to be set on a copy of a slice from a DataFrame.\n",
      "Try using .loc[row_indexer,col_indexer] = value instead\n",
      "\n",
      "See the caveats in the documentation: https://pandas.pydata.org/pandas-docs/stable/user_guide/indexing.html#returning-a-view-versus-a-copy\n",
      "  lines_with_two_numbers_in_hate_speech[['col1', 'col2']] = lines_with_two_numbers_in_hate_speech['hate_speech'].str.split(',', expand=True)\n"
     ]
    }
   ],
   "source": [
    "MAX_LENGTH = 300\n",
    "dataframe = pd.read_csv('../../../../dataset/HateBR.csv')\n",
    "new_dataframe = hate_column_converter.convert_to_binary(dataframe)\n",
    "y = new_dataframe['hate_speech']"
   ]
  },
  {
   "cell_type": "code",
   "execution_count": 3,
   "metadata": {},
   "outputs": [],
   "source": [
    "x = new_dataframe['instagram_comments']"
   ]
  },
  {
   "cell_type": "code",
   "execution_count": 4,
   "metadata": {},
   "outputs": [],
   "source": [
    "token = Tokenizer()\n",
    "token.fit_on_texts(x)\n",
    "sequences = token.texts_to_sequences(x)\n",
    "x = pad_sequences(sequences,maxlen=MAX_LENGTH)\n",
    "vocabulary_size = len(token.word_index)+1"
   ]
  },
  {
   "cell_type": "code",
   "execution_count": 5,
   "metadata": {},
   "outputs": [
    {
     "name": "stderr",
     "output_type": "stream",
     "text": [
      "100%|██████████| 11530/11530 [00:00<00:00, 276881.07it/s]\n"
     ]
    }
   ],
   "source": [
    "embedding_vector = embedding_reader.read_glove_file()\n",
    "embedding_matrix = np.zeros((vocabulary_size,MAX_LENGTH))\n",
    "for word,i in tqdm(token.word_index.items()):\n",
    "    embedding_value = embedding_vector.get(word)\n",
    "    if embedding_value is not None:\n",
    "        embedding_matrix[i] = embedding_value"
   ]
  },
  {
   "cell_type": "code",
   "execution_count": 6,
   "metadata": {},
   "outputs": [],
   "source": [
    "x_train, x_test, y_train, y_test = train_test_split(x, y, train_size=0.8, test_size=0.2)"
   ]
  },
  {
   "cell_type": "code",
   "execution_count": 7,
   "metadata": {},
   "outputs": [
    {
     "name": "stderr",
     "output_type": "stream",
     "text": [
      "2023-10-23 23:55:14.865596: W tensorflow/stream_executor/platform/default/dso_loader.cc:64] Could not load dynamic library 'libcuda.so.1'; dlerror: libcuda.so.1: cannot open shared object file: No such file or directory\n",
      "2023-10-23 23:55:14.865651: W tensorflow/stream_executor/cuda/cuda_driver.cc:269] failed call to cuInit: UNKNOWN ERROR (303)\n",
      "2023-10-23 23:55:14.865828: I tensorflow/stream_executor/cuda/cuda_diagnostics.cc:156] kernel driver does not appear to be running on this host (codespaces-fbf4a0): /proc/driver/nvidia/version does not exist\n",
      "2023-10-23 23:55:14.866108: I tensorflow/core/platform/cpu_feature_guard.cc:151] This TensorFlow binary is optimized with oneAPI Deep Neural Network Library (oneDNN) to use the following CPU instructions in performance-critical operations:  AVX2 FMA\n",
      "To enable them in other operations, rebuild TensorFlow with the appropriate compiler flags.\n"
     ]
    }
   ],
   "source": [
    "lstm_model = Sequential()\n",
    "lstm_model.add(Embedding(vocabulary_size,MAX_LENGTH,weights=[embedding_matrix],input_length=x.shape[1],trainable=False))\n",
    "lstm_model.add(Dense(256))\n",
    "lstm_model.add(Dropout(0.25))\n",
    "lstm_model.add(Conv1D(64, kernel_size=3, padding='same', activation='relu'))\n",
    "lstm_model.add(MaxPooling1D(pool_size=2))\n",
    "lstm_model.add(LSTM(128, return_sequences=True))\n",
    "lstm_model.add(Dropout(0.5))\n",
    "lstm_model.add(Dense(1))\n",
    "lstm_model.add(Activation('sigmoid'))\n",
    "lstm_model.compile(loss='binary_crossentropy', optimizer='adam', metrics=['accuracy', 'binary_accuracy', custom_keras_metrics.f1_score])"
   ]
  },
  {
   "cell_type": "code",
   "execution_count": 8,
   "metadata": {},
   "outputs": [
    {
     "name": "stdout",
     "output_type": "stream",
     "text": [
      "Epoch 1/20\n"
     ]
    },
    {
     "name": "stderr",
     "output_type": "stream",
     "text": [
      "2023-10-23 23:55:21.104449: W tensorflow/core/framework/cpu_allocator_impl.cc:82] Allocation of 46080000 exceeds 10% of free system memory.\n",
      "2023-10-23 23:55:21.123255: W tensorflow/core/framework/cpu_allocator_impl.cc:82] Allocation of 39321600 exceeds 10% of free system memory.\n",
      "2023-10-23 23:55:21.232697: W tensorflow/core/framework/cpu_allocator_impl.cc:82] Allocation of 39321600 exceeds 10% of free system memory.\n",
      "2023-10-23 23:55:21.296695: W tensorflow/core/framework/cpu_allocator_impl.cc:82] Allocation of 39321600 exceeds 10% of free system memory.\n",
      "2023-10-23 23:55:21.314403: W tensorflow/core/framework/cpu_allocator_impl.cc:82] Allocation of 39321600 exceeds 10% of free system memory.\n"
     ]
    },
    {
     "name": "stdout",
     "output_type": "stream",
     "text": [
      "44/44 [==============================] - 39s 833ms/step - loss: 0.3933 - accuracy: 0.8961 - binary_accuracy: 0.8961 - f1_score: 0.0054 - val_loss: 0.3329 - val_accuracy: 0.8975 - val_binary_accuracy: 0.8975 - val_f1_score: 0.0000e+00\n",
      "Epoch 2/20\n",
      "44/44 [==============================] - 35s 801ms/step - loss: 0.3382 - accuracy: 0.8963 - binary_accuracy: 0.8963 - f1_score: 0.1053 - val_loss: 0.3304 - val_accuracy: 0.8976 - val_binary_accuracy: 0.8976 - val_f1_score: 0.2365\n",
      "Epoch 3/20\n",
      "44/44 [==============================] - 34s 784ms/step - loss: 0.3359 - accuracy: 0.8965 - binary_accuracy: 0.8965 - f1_score: 0.7612 - val_loss: 0.3291 - val_accuracy: 0.8981 - val_binary_accuracy: 0.8981 - val_f1_score: 0.8834\n",
      "Epoch 4/20\n",
      "44/44 [==============================] - 34s 776ms/step - loss: 0.3345 - accuracy: 0.8970 - binary_accuracy: 0.8970 - f1_score: 0.9883 - val_loss: 0.3289 - val_accuracy: 0.8986 - val_binary_accuracy: 0.8986 - val_f1_score: 1.0598\n",
      "Epoch 5/20\n",
      "44/44 [==============================] - 34s 780ms/step - loss: 0.3334 - accuracy: 0.8973 - binary_accuracy: 0.8973 - f1_score: 1.0679 - val_loss: 0.3280 - val_accuracy: 0.8985 - val_binary_accuracy: 0.8985 - val_f1_score: 0.9941\n",
      "Epoch 6/20\n",
      "44/44 [==============================] - 34s 778ms/step - loss: 0.3322 - accuracy: 0.8978 - binary_accuracy: 0.8978 - f1_score: 1.1713 - val_loss: 0.3280 - val_accuracy: 0.8983 - val_binary_accuracy: 0.8983 - val_f1_score: 0.9945\n",
      "Epoch 7/20\n",
      "44/44 [==============================] - 34s 774ms/step - loss: 0.3324 - accuracy: 0.8978 - binary_accuracy: 0.8978 - f1_score: 1.1815 - val_loss: 0.3280 - val_accuracy: 0.8983 - val_binary_accuracy: 0.8983 - val_f1_score: 0.9405\n",
      "Epoch 8/20\n",
      "44/44 [==============================] - 34s 772ms/step - loss: 0.3306 - accuracy: 0.8981 - binary_accuracy: 0.8981 - f1_score: 1.2386 - val_loss: 0.3276 - val_accuracy: 0.8986 - val_binary_accuracy: 0.8986 - val_f1_score: 1.0372\n",
      "Epoch 9/20\n",
      "44/44 [==============================] - 34s 781ms/step - loss: 0.3299 - accuracy: 0.8984 - binary_accuracy: 0.8984 - f1_score: 1.2987 - val_loss: 0.3281 - val_accuracy: 0.8985 - val_binary_accuracy: 0.8985 - val_f1_score: 1.0199\n",
      "Epoch 10/20\n",
      "44/44 [==============================] - 34s 774ms/step - loss: 0.3319 - accuracy: 0.8979 - binary_accuracy: 0.8979 - f1_score: 1.1794 - val_loss: 0.3283 - val_accuracy: 0.8981 - val_binary_accuracy: 0.8981 - val_f1_score: 0.8700\n",
      "Epoch 11/20\n",
      "44/44 [==============================] - 34s 777ms/step - loss: 0.3302 - accuracy: 0.8982 - binary_accuracy: 0.8982 - f1_score: 1.2503 - val_loss: 0.3274 - val_accuracy: 0.8987 - val_binary_accuracy: 0.8987 - val_f1_score: 1.0527\n",
      "Epoch 12/20\n",
      "44/44 [==============================] - 34s 778ms/step - loss: 0.3298 - accuracy: 0.8988 - binary_accuracy: 0.8988 - f1_score: 1.3793 - val_loss: 0.3319 - val_accuracy: 0.8985 - val_binary_accuracy: 0.8985 - val_f1_score: 0.9798\n",
      "Epoch 13/20\n",
      "44/44 [==============================] - 34s 771ms/step - loss: 0.3302 - accuracy: 0.8987 - binary_accuracy: 0.8987 - f1_score: 1.3881 - val_loss: 0.3284 - val_accuracy: 0.8986 - val_binary_accuracy: 0.8986 - val_f1_score: 1.0211\n",
      "Epoch 14/20\n",
      "44/44 [==============================] - 34s 774ms/step - loss: 0.3289 - accuracy: 0.8991 - binary_accuracy: 0.8991 - f1_score: 1.4464 - val_loss: 0.3287 - val_accuracy: 0.8987 - val_binary_accuracy: 0.8987 - val_f1_score: 1.0694\n",
      "Epoch 15/20\n",
      "44/44 [==============================] - 34s 770ms/step - loss: 0.3273 - accuracy: 0.8992 - binary_accuracy: 0.8992 - f1_score: 1.4668 - val_loss: 0.3284 - val_accuracy: 0.8986 - val_binary_accuracy: 0.8986 - val_f1_score: 1.0484\n",
      "Epoch 16/20\n",
      "44/44 [==============================] - 34s 773ms/step - loss: 0.3271 - accuracy: 0.8995 - binary_accuracy: 0.8995 - f1_score: 1.5006 - val_loss: 0.3335 - val_accuracy: 0.8979 - val_binary_accuracy: 0.8979 - val_f1_score: 0.8784\n",
      "Epoch 17/20\n",
      "44/44 [==============================] - 34s 774ms/step - loss: 0.3266 - accuracy: 0.8995 - binary_accuracy: 0.8995 - f1_score: 1.4954 - val_loss: 0.3297 - val_accuracy: 0.8983 - val_binary_accuracy: 0.8983 - val_f1_score: 0.9628\n",
      "Epoch 18/20\n",
      "44/44 [==============================] - 34s 767ms/step - loss: 0.3264 - accuracy: 0.8995 - binary_accuracy: 0.8995 - f1_score: 1.5041 - val_loss: 0.3321 - val_accuracy: 0.8978 - val_binary_accuracy: 0.8978 - val_f1_score: 0.8638\n",
      "Epoch 19/20\n",
      "44/44 [==============================] - 34s 774ms/step - loss: 0.3273 - accuracy: 0.8991 - binary_accuracy: 0.8991 - f1_score: 1.4128 - val_loss: 0.3303 - val_accuracy: 0.8981 - val_binary_accuracy: 0.8981 - val_f1_score: 0.8575\n",
      "Epoch 20/20\n",
      "44/44 [==============================] - 34s 765ms/step - loss: 0.3279 - accuracy: 0.8991 - binary_accuracy: 0.8991 - f1_score: 1.3867 - val_loss: 0.3391 - val_accuracy: 0.8963 - val_binary_accuracy: 0.8963 - val_f1_score: 0.7254\n"
     ]
    }
   ],
   "source": [
    "model = lstm_model.fit(x_train, y_train, epochs=20, batch_size=128, validation_data=(x_test, y_test))"
   ]
  },
  {
   "cell_type": "code",
   "execution_count": 10,
   "metadata": {},
   "outputs": [
    {
     "name": "stdout",
     "output_type": "stream",
     "text": [
      " 1/11 [=>............................] - ETA: 1s - loss: 0.2948 - accuracy: 0.9136 - binary_accuracy: 0.9136 - f1_score: 0.7368"
     ]
    },
    {
     "name": "stdout",
     "output_type": "stream",
     "text": [
      "11/11 [==============================] - 2s 188ms/step - loss: 0.3207 - accuracy: 0.9028 - binary_accuracy: 0.9028 - f1_score: 0.8879\n",
      "loss :  0.3207317292690277\n",
      "accuracy :  0.9027521014213562\n",
      "binary_accuracy :  0.9027521014213562\n",
      "f1_score :  0.8879051208496094\n",
      "\n"
     ]
    }
   ],
   "source": [
    "results = lstm_model.evaluate(x_test, y_test, batch_size=128)\n",
    "\n",
    "for name, value in zip(lstm_model.metrics_names, results):\n",
    "  print(name, ': ', value)\n",
    "print()"
   ]
  },
  {
   "cell_type": "code",
   "execution_count": 12,
   "metadata": {},
   "outputs": [],
   "source": [
    "#import joblib\n",
    "\n",
    "#model_filename = '../../../models/generated-models-base-paper/offensive_lstm_embeddings_model.pkl'\n",
    "#joblib.dump(model, model_filename)"
   ]
  }
 ],
 "metadata": {
  "kernelspec": {
   "display_name": "Python 3 (ipykernel)",
   "language": "python",
   "name": "python3"
  },
  "orig_nbformat": 4
 },
 "nbformat": 4,
 "nbformat_minor": 2
}
