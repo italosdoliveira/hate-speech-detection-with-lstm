{
 "cells": [
  {
   "cell_type": "code",
   "execution_count": 1,
   "metadata": {},
   "outputs": [
    {
     "name": "stderr",
     "output_type": "stream",
     "text": [
      "2023-10-29 16:33:06.163802: W tensorflow/stream_executor/platform/default/dso_loader.cc:64] Could not load dynamic library 'libcudart.so.11.0'; dlerror: libcudart.so.11.0: cannot open shared object file: No such file or directory\n",
      "2023-10-29 16:33:06.163841: I tensorflow/stream_executor/cuda/cudart_stub.cc:29] Ignore above cudart dlerror if you do not have a GPU set up on your machine.\n"
     ]
    }
   ],
   "source": [
    "import sys  \n",
    "import os\n",
    "import pandas as pd\n",
    "import io\n",
    "sys.path.insert(0, '../../../../scripts/')\n",
    "sys.path.insert(0, '../../../../dataset/')\n",
    "import hate_column_converter\n",
    "import embedding_reader\n",
    "import custom_keras_metrics\n",
    "import tensorflow as tf\n",
    "import keras.backend as K\n",
    "import os\n",
    "import time\n",
    "import gc\n",
    "import glob\n",
    "import wget\n",
    "import zipfile\n",
    "import numpy as np\n",
    "from sklearn.model_selection import train_test_split\n",
    "from keras.preprocessing.text import Tokenizer\n",
    "from keras.preprocessing.sequence import pad_sequences\n",
    "from tensorflow.keras.layers import LSTM\n",
    "from tensorflow.keras.preprocessing import text, sequence\n",
    "from keras.layers import Reshape, Flatten, Concatenate, Dropout, SpatialDropout1D\n",
    "from tensorflow.keras.optimizers import Adam\n",
    "from keras.models import Model\n",
    "from keras import backend as K\n",
    "from tensorflow.keras.layers import Layer\n",
    "from keras import initializers, regularizers, constraints, optimizers, layers\n",
    "from tensorflow.keras.utils import to_categorical\n",
    "from sklearn.preprocessing import LabelEncoder\n",
    "from keras.layers import *\n",
    "from keras.models import *\n",
    "from keras import initializers, regularizers, constraints, optimizers, layers\n",
    "from keras.initializers import *\n",
    "from keras.optimizers import *\n",
    "from keras.callbacks import *\n",
    "from keras import metrics\n",
    "from tqdm import tqdm"
   ]
  },
  {
   "cell_type": "code",
   "execution_count": 2,
   "metadata": {},
   "outputs": [],
   "source": [
    "#wget.download(\"http://143.107.183.175:22980/download.php?file=embeddings/glove/glove_s300.zip\", out=\"../../../../embeddings/\")"
   ]
  },
  {
   "cell_type": "code",
   "execution_count": 3,
   "metadata": {},
   "outputs": [],
   "source": [
    "#with zipfile.ZipFile(\"../../../../embeddings/glove_s300.zip\", 'r') as zip_ref:\n",
    " #   zip_ref.extractall(\"../../../../embeddings/\")"
   ]
  },
  {
   "cell_type": "code",
   "execution_count": 2,
   "metadata": {},
   "outputs": [
    {
     "name": "stderr",
     "output_type": "stream",
     "text": [
      "/workspaces/hate-speech-detection-python/train/notebooks-my-paper/lstm/hate_speech/../../../../scripts/hate_column_converter.py:8: SettingWithCopyWarning: \n",
      "A value is trying to be set on a copy of a slice from a DataFrame.\n",
      "Try using .loc[row_indexer,col_indexer] = value instead\n",
      "\n",
      "See the caveats in the documentation: https://pandas.pydata.org/pandas-docs/stable/user_guide/indexing.html#returning-a-view-versus-a-copy\n",
      "  lines_with_two_numbers_in_hate_speech[['col1', 'col2']] = lines_with_two_numbers_in_hate_speech['hate_speech'].str.split(',', expand=True)\n",
      "/workspaces/hate-speech-detection-python/train/notebooks-my-paper/lstm/hate_speech/../../../../scripts/hate_column_converter.py:8: SettingWithCopyWarning: \n",
      "A value is trying to be set on a copy of a slice from a DataFrame.\n",
      "Try using .loc[row_indexer,col_indexer] = value instead\n",
      "\n",
      "See the caveats in the documentation: https://pandas.pydata.org/pandas-docs/stable/user_guide/indexing.html#returning-a-view-versus-a-copy\n",
      "  lines_with_two_numbers_in_hate_speech[['col1', 'col2']] = lines_with_two_numbers_in_hate_speech['hate_speech'].str.split(',', expand=True)\n"
     ]
    }
   ],
   "source": [
    "MAX_LENGTH = 300\n",
    "dataframe = pd.read_csv('../../../../dataset/HateBR.csv')\n",
    "new_dataframe = hate_column_converter.convert_to_binary(dataframe)\n",
    "classes_zero = new_dataframe[new_dataframe['hate_speech'] == 0]\n",
    "classes_one = new_dataframe[new_dataframe['hate_speech'] == 1]\n",
    "classes_one_oversampled = classes_one.sample(len(classes_zero), replace=True)\n",
    "dataframe_oversampled = pd.concat([classes_zero, classes_one_oversampled]) \n",
    "instagram_comments = dataframe_oversampled['instagram_comments']\n",
    "y = dataframe_oversampled['hate_speech']"
   ]
  },
  {
   "cell_type": "code",
   "execution_count": 3,
   "metadata": {},
   "outputs": [],
   "source": [
    "x = dataframe_oversampled['instagram_comments']"
   ]
  },
  {
   "cell_type": "code",
   "execution_count": 4,
   "metadata": {},
   "outputs": [],
   "source": [
    "token = Tokenizer()\n",
    "token.fit_on_texts(x)\n",
    "sequences = token.texts_to_sequences(x)\n",
    "x = pad_sequences(sequences,maxlen=MAX_LENGTH)\n",
    "vocabulary_size = len(token.word_index)+1"
   ]
  },
  {
   "cell_type": "code",
   "execution_count": 5,
   "metadata": {},
   "outputs": [
    {
     "name": "stderr",
     "output_type": "stream",
     "text": [
      "100%|██████████| 11530/11530 [00:00<00:00, 195051.65it/s]\n"
     ]
    }
   ],
   "source": [
    "embedding_vector = embedding_reader.read_glove_file()\n",
    "embedding_matrix = np.zeros((vocabulary_size,MAX_LENGTH))\n",
    "for word,i in tqdm(token.word_index.items()):\n",
    "    embedding_value = embedding_vector.get(word)\n",
    "    if embedding_value is not None:\n",
    "        embedding_matrix[i] = embedding_value"
   ]
  },
  {
   "cell_type": "code",
   "execution_count": 6,
   "metadata": {},
   "outputs": [],
   "source": [
    "x_train, x_test, y_train, y_test = train_test_split(x, y, train_size=0.8, test_size=0.2)"
   ]
  },
  {
   "cell_type": "code",
   "execution_count": 7,
   "metadata": {},
   "outputs": [
    {
     "name": "stderr",
     "output_type": "stream",
     "text": [
      "2023-10-29 16:34:46.845122: W tensorflow/stream_executor/platform/default/dso_loader.cc:64] Could not load dynamic library 'libcuda.so.1'; dlerror: libcuda.so.1: cannot open shared object file: No such file or directory\n",
      "2023-10-29 16:34:46.845168: W tensorflow/stream_executor/cuda/cuda_driver.cc:269] failed call to cuInit: UNKNOWN ERROR (303)\n",
      "2023-10-29 16:34:46.845198: I tensorflow/stream_executor/cuda/cuda_diagnostics.cc:156] kernel driver does not appear to be running on this host (codespaces-fbf4a0): /proc/driver/nvidia/version does not exist\n",
      "2023-10-29 16:34:46.870259: I tensorflow/core/platform/cpu_feature_guard.cc:151] This TensorFlow binary is optimized with oneAPI Deep Neural Network Library (oneDNN) to use the following CPU instructions in performance-critical operations:  AVX2 FMA\n",
      "To enable them in other operations, rebuild TensorFlow with the appropriate compiler flags.\n"
     ]
    }
   ],
   "source": [
    "lstm_model = Sequential()\n",
    "lstm_model.add(Embedding(vocabulary_size,MAX_LENGTH,weights=[embedding_matrix],input_length=x.shape[1],trainable=False))\n",
    "lstm_model.add(Dense(256))\n",
    "lstm_model.add(Dropout(0.25))\n",
    "lstm_model.add(Conv1D(64, kernel_size=3, padding='same', activation='relu'))\n",
    "lstm_model.add(MaxPooling1D(pool_size=2))\n",
    "lstm_model.add(LSTM(128, return_sequences=True))\n",
    "lstm_model.add(Dropout(0.5))\n",
    "lstm_model.add(Dense(1))\n",
    "lstm_model.add(Activation('sigmoid'))\n",
    "lstm_model.compile(loss='binary_crossentropy', optimizer='adam', metrics=['accuracy', 'binary_accuracy', custom_keras_metrics.f1_score])"
   ]
  },
  {
   "cell_type": "code",
   "execution_count": 8,
   "metadata": {},
   "outputs": [
    {
     "name": "stdout",
     "output_type": "stream",
     "text": [
      "Epoch 1/20\n"
     ]
    },
    {
     "name": "stderr",
     "output_type": "stream",
     "text": [
      "2023-10-29 16:34:54.317750: W tensorflow/core/framework/cpu_allocator_impl.cc:82] Allocation of 46080000 exceeds 10% of free system memory.\n",
      "2023-10-29 16:34:54.352394: W tensorflow/core/framework/cpu_allocator_impl.cc:82] Allocation of 39321600 exceeds 10% of free system memory.\n",
      "2023-10-29 16:34:54.730797: W tensorflow/core/framework/cpu_allocator_impl.cc:82] Allocation of 39321600 exceeds 10% of free system memory.\n",
      "2023-10-29 16:34:54.807839: W tensorflow/core/framework/cpu_allocator_impl.cc:82] Allocation of 39321600 exceeds 10% of free system memory.\n",
      "2023-10-29 16:34:54.828029: W tensorflow/core/framework/cpu_allocator_impl.cc:82] Allocation of 39321600 exceeds 10% of free system memory.\n"
     ]
    },
    {
     "name": "stdout",
     "output_type": "stream",
     "text": [
      "79/79 [==============================] - 66s 791ms/step - loss: 0.6893 - accuracy: 0.5077 - binary_accuracy: 0.5077 - f1_score: 1.0935 - val_loss: 0.6853 - val_accuracy: 0.5210 - val_binary_accuracy: 0.5210 - val_f1_score: 1.3533\n",
      "Epoch 2/20\n",
      "79/79 [==============================] - 61s 767ms/step - loss: 0.6843 - accuracy: 0.5030 - binary_accuracy: 0.5030 - f1_score: 1.2644 - val_loss: 0.6827 - val_accuracy: 0.5236 - val_binary_accuracy: 0.5236 - val_f1_score: 1.4160\n",
      "Epoch 3/20\n",
      "79/79 [==============================] - 61s 768ms/step - loss: 0.6796 - accuracy: 0.5168 - binary_accuracy: 0.5168 - f1_score: 1.4265 - val_loss: 0.6789 - val_accuracy: 0.5056 - val_binary_accuracy: 0.5056 - val_f1_score: 0.9971\n",
      "Epoch 4/20\n",
      "79/79 [==============================] - 60s 764ms/step - loss: 0.6791 - accuracy: 0.5142 - binary_accuracy: 0.5142 - f1_score: 1.2558 - val_loss: 0.6777 - val_accuracy: 0.5062 - val_binary_accuracy: 0.5062 - val_f1_score: 0.9978\n",
      "Epoch 5/20\n",
      "79/79 [==============================] - 60s 766ms/step - loss: 0.6749 - accuracy: 0.5099 - binary_accuracy: 0.5099 - f1_score: 1.1283 - val_loss: 0.6770 - val_accuracy: 0.5273 - val_binary_accuracy: 0.5273 - val_f1_score: 1.5022\n",
      "Epoch 6/20\n",
      "79/79 [==============================] - 60s 763ms/step - loss: 0.6713 - accuracy: 0.5208 - binary_accuracy: 0.5208 - f1_score: 1.4527 - val_loss: 0.6744 - val_accuracy: 0.5277 - val_binary_accuracy: 0.5277 - val_f1_score: 1.1775\n",
      "Epoch 7/20\n",
      "79/79 [==============================] - 60s 764ms/step - loss: 0.6689 - accuracy: 0.5192 - binary_accuracy: 0.5192 - f1_score: 1.3228 - val_loss: 0.6705 - val_accuracy: 0.5109 - val_binary_accuracy: 0.5109 - val_f1_score: 1.0027\n",
      "Epoch 8/20\n",
      "79/79 [==============================] - 60s 765ms/step - loss: 0.6727 - accuracy: 0.5179 - binary_accuracy: 0.5179 - f1_score: 1.3923 - val_loss: 0.6716 - val_accuracy: 0.5294 - val_binary_accuracy: 0.5294 - val_f1_score: 1.5853\n",
      "Epoch 9/20\n",
      "79/79 [==============================] - 61s 766ms/step - loss: 0.6675 - accuracy: 0.5267 - binary_accuracy: 0.5267 - f1_score: 1.5484 - val_loss: 0.6725 - val_accuracy: 0.5102 - val_binary_accuracy: 0.5102 - val_f1_score: 1.0018\n",
      "Epoch 10/20\n",
      "79/79 [==============================] - 61s 767ms/step - loss: 0.6670 - accuracy: 0.5174 - binary_accuracy: 0.5174 - f1_score: 1.1376 - val_loss: 0.6731 - val_accuracy: 0.5296 - val_binary_accuracy: 0.5296 - val_f1_score: 1.5525\n",
      "Epoch 11/20\n",
      "79/79 [==============================] - 60s 763ms/step - loss: 0.6665 - accuracy: 0.5253 - binary_accuracy: 0.5253 - f1_score: 1.6217 - val_loss: 0.6696 - val_accuracy: 0.5110 - val_binary_accuracy: 0.5110 - val_f1_score: 1.0026\n",
      "Epoch 12/20\n",
      "79/79 [==============================] - 60s 767ms/step - loss: 0.6645 - accuracy: 0.5261 - binary_accuracy: 0.5261 - f1_score: 1.3348 - val_loss: 0.6700 - val_accuracy: 0.5312 - val_binary_accuracy: 0.5312 - val_f1_score: 1.6069\n",
      "Epoch 13/20\n",
      "79/79 [==============================] - 60s 765ms/step - loss: 0.6645 - accuracy: 0.5200 - binary_accuracy: 0.5200 - f1_score: 1.3699 - val_loss: 0.6688 - val_accuracy: 0.5309 - val_binary_accuracy: 0.5309 - val_f1_score: 1.6337\n",
      "Epoch 14/20\n",
      "79/79 [==============================] - 60s 763ms/step - loss: 0.6640 - accuracy: 0.5230 - binary_accuracy: 0.5230 - f1_score: 1.4074 - val_loss: 0.6719 - val_accuracy: 0.5311 - val_binary_accuracy: 0.5311 - val_f1_score: 1.6014\n",
      "Epoch 15/20\n",
      "79/79 [==============================] - 60s 766ms/step - loss: 0.6646 - accuracy: 0.5261 - binary_accuracy: 0.5261 - f1_score: 1.6289 - val_loss: 0.6716 - val_accuracy: 0.5173 - val_binary_accuracy: 0.5173 - val_f1_score: 1.0164\n",
      "Epoch 16/20\n",
      "79/79 [==============================] - 61s 768ms/step - loss: 0.6670 - accuracy: 0.5228 - binary_accuracy: 0.5228 - f1_score: 1.1487 - val_loss: 0.6690 - val_accuracy: 0.5314 - val_binary_accuracy: 0.5314 - val_f1_score: 1.6440\n",
      "Epoch 17/20\n",
      "79/79 [==============================] - 60s 765ms/step - loss: 0.6638 - accuracy: 0.5247 - binary_accuracy: 0.5247 - f1_score: 1.5101 - val_loss: 0.6680 - val_accuracy: 0.5316 - val_binary_accuracy: 0.5316 - val_f1_score: 1.6314\n",
      "Epoch 18/20\n",
      "79/79 [==============================] - 60s 762ms/step - loss: 0.6628 - accuracy: 0.5263 - binary_accuracy: 0.5263 - f1_score: 1.1866 - val_loss: 0.6701 - val_accuracy: 0.5318 - val_binary_accuracy: 0.5318 - val_f1_score: 1.6376\n",
      "Epoch 19/20\n",
      "79/79 [==============================] - 60s 764ms/step - loss: 0.6627 - accuracy: 0.5253 - binary_accuracy: 0.5253 - f1_score: 1.5288 - val_loss: 0.6681 - val_accuracy: 0.5323 - val_binary_accuracy: 0.5323 - val_f1_score: 1.6593\n",
      "Epoch 20/20\n",
      "79/79 [==============================] - 60s 765ms/step - loss: 0.6623 - accuracy: 0.5273 - binary_accuracy: 0.5273 - f1_score: 1.6620 - val_loss: 0.6701 - val_accuracy: 0.5321 - val_binary_accuracy: 0.5321 - val_f1_score: 1.6368\n"
     ]
    }
   ],
   "source": [
    "model = lstm_model.fit(x_train, y_train, epochs=20, batch_size=128, validation_data=(x_test, y_test))"
   ]
  },
  {
   "cell_type": "code",
   "execution_count": 9,
   "metadata": {},
   "outputs": [
    {
     "name": "stdout",
     "output_type": "stream",
     "text": [
      "20/20 [==============================] - 4s 214ms/step - loss: 0.6701 - accuracy: 0.5321 - binary_accuracy: 0.5321 - f1_score: 1.6368\n",
      "loss :  0.6700500249862671\n",
      "accuracy :  0.5321242809295654\n",
      "binary_accuracy :  0.5321242809295654\n",
      "f1_score :  1.636847734451294\n",
      "\n"
     ]
    }
   ],
   "source": [
    "results = lstm_model.evaluate(x_test, y_test, batch_size=128)\n",
    "\n",
    "for name, value in zip(lstm_model.metrics_names, results):\n",
    "  print(name, ': ', value)\n",
    "print()"
   ]
  },
  {
   "cell_type": "code",
   "execution_count": 12,
   "metadata": {},
   "outputs": [],
   "source": [
    "#import joblib\n",
    "\n",
    "#model_filename = '../../../models/generated-models-base-paper/offensive_lstm_embeddings_model.pkl'\n",
    "#joblib.dump(model, model_filename)"
   ]
  }
 ],
 "metadata": {
  "kernelspec": {
   "display_name": "Python 3 (ipykernel)",
   "language": "python",
   "name": "python3"
  },
  "orig_nbformat": 4
 },
 "nbformat": 4,
 "nbformat_minor": 2
}
