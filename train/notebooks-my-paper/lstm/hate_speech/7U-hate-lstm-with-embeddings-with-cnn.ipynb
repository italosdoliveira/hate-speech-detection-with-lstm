{
 "cells": [
  {
   "cell_type": "code",
   "execution_count": 1,
   "metadata": {},
   "outputs": [
    {
     "name": "stderr",
     "output_type": "stream",
     "text": [
      "2023-11-12 18:10:47.450200: W tensorflow/stream_executor/platform/default/dso_loader.cc:64] Could not load dynamic library 'libcudart.so.11.0'; dlerror: libcudart.so.11.0: cannot open shared object file: No such file or directory\n",
      "2023-11-12 18:10:47.450243: I tensorflow/stream_executor/cuda/cudart_stub.cc:29] Ignore above cudart dlerror if you do not have a GPU set up on your machine.\n"
     ]
    }
   ],
   "source": [
    "import sys  \n",
    "import os\n",
    "import pandas as pd\n",
    "import io\n",
    "sys.path.insert(0, '../../../../scripts/')\n",
    "sys.path.insert(0, '../../../../dataset/')\n",
    "import hate_column_converter\n",
    "import embedding_reader\n",
    "import custom_keras_metrics\n",
    "import tensorflow as tf\n",
    "import keras.backend as K\n",
    "import os\n",
    "import time\n",
    "import gc\n",
    "import glob\n",
    "import wget\n",
    "import zipfile\n",
    "import numpy as np\n",
    "from sklearn.model_selection import train_test_split\n",
    "from keras.preprocessing.text import Tokenizer\n",
    "from keras.preprocessing.sequence import pad_sequences\n",
    "from tensorflow.keras.layers import LSTM\n",
    "from tensorflow.keras.preprocessing import text, sequence\n",
    "from keras.layers import Reshape, Flatten, Concatenate, Dropout, SpatialDropout1D\n",
    "from tensorflow.keras.optimizers import Adam\n",
    "from keras.models import Model\n",
    "from keras import backend as K\n",
    "from tensorflow.keras.layers import Layer\n",
    "from keras import initializers, regularizers, constraints, optimizers, layers\n",
    "from tensorflow.keras.utils import to_categorical\n",
    "from sklearn.preprocessing import LabelEncoder\n",
    "from keras.layers import *\n",
    "from keras.models import *\n",
    "from keras import initializers, regularizers, constraints, optimizers, layers\n",
    "from keras.initializers import *\n",
    "from keras.optimizers import *\n",
    "from keras.callbacks import *\n",
    "from keras import metrics\n",
    "from tqdm import tqdm"
   ]
  },
  {
   "cell_type": "code",
   "execution_count": null,
   "metadata": {},
   "outputs": [],
   "source": [
    "#wget.download(\"http://143.107.183.175:22980/download.php?file=embeddings/glove/glove_s300.zip\", out=\"../../../../embeddings/\")"
   ]
  },
  {
   "cell_type": "code",
   "execution_count": null,
   "metadata": {},
   "outputs": [],
   "source": [
    "#with zipfile.ZipFile(\"../../../../embeddings/glove_s300.zip\", 'r') as zip_ref:\n",
    " #   zip_ref.extractall(\"../../../../embeddings/\")"
   ]
  },
  {
   "cell_type": "code",
   "execution_count": 2,
   "metadata": {},
   "outputs": [
    {
     "name": "stderr",
     "output_type": "stream",
     "text": [
      "/workspaces/hate-speech-detection-python/train/notebooks-my-paper/lstm/hate_speech/../../../../scripts/hate_column_converter.py:8: SettingWithCopyWarning: \n",
      "A value is trying to be set on a copy of a slice from a DataFrame.\n",
      "Try using .loc[row_indexer,col_indexer] = value instead\n",
      "\n",
      "See the caveats in the documentation: https://pandas.pydata.org/pandas-docs/stable/user_guide/indexing.html#returning-a-view-versus-a-copy\n",
      "  lines_with_two_numbers_in_hate_speech[['col1', 'col2']] = lines_with_two_numbers_in_hate_speech['hate_speech'].str.split(',', expand=True)\n",
      "/workspaces/hate-speech-detection-python/train/notebooks-my-paper/lstm/hate_speech/../../../../scripts/hate_column_converter.py:8: SettingWithCopyWarning: \n",
      "A value is trying to be set on a copy of a slice from a DataFrame.\n",
      "Try using .loc[row_indexer,col_indexer] = value instead\n",
      "\n",
      "See the caveats in the documentation: https://pandas.pydata.org/pandas-docs/stable/user_guide/indexing.html#returning-a-view-versus-a-copy\n",
      "  lines_with_two_numbers_in_hate_speech[['col1', 'col2']] = lines_with_two_numbers_in_hate_speech['hate_speech'].str.split(',', expand=True)\n"
     ]
    }
   ],
   "source": [
    "MAX_LENGTH = 300\n",
    "dataframe = pd.read_csv('../../../../dataset/HateBR.csv')\n",
    "new_dataframe = hate_column_converter.convert_to_binary(dataframe)\n",
    "classes_zero = new_dataframe[new_dataframe['hate_speech'] == 0]\n",
    "classes_one = new_dataframe[new_dataframe['hate_speech'] == 1]\n",
    "classes_zero_undersampled = classes_zero.sample(len(classes_one))\n",
    "dataframe_undersampled = pd.concat([classes_zero_undersampled, classes_one]) \n",
    "instagram_comments = dataframe_undersampled['instagram_comments']\n",
    "y = dataframe_undersampled['hate_speech']"
   ]
  },
  {
   "cell_type": "code",
   "execution_count": 3,
   "metadata": {},
   "outputs": [],
   "source": [
    "x = dataframe_undersampled['instagram_comments']"
   ]
  },
  {
   "cell_type": "code",
   "execution_count": 4,
   "metadata": {},
   "outputs": [],
   "source": [
    "token = Tokenizer()\n",
    "token.fit_on_texts(x)\n",
    "sequences = token.texts_to_sequences(x)\n",
    "x = pad_sequences(sequences,maxlen=MAX_LENGTH)\n",
    "vocabulary_size = len(token.word_index)+1"
   ]
  },
  {
   "cell_type": "code",
   "execution_count": 5,
   "metadata": {},
   "outputs": [
    {
     "name": "stderr",
     "output_type": "stream",
     "text": [
      "100%|██████████| 4867/4867 [00:00<00:00, 386659.30it/s]\n"
     ]
    }
   ],
   "source": [
    "embedding_vector = embedding_reader.read_glove_file()\n",
    "embedding_matrix = np.zeros((vocabulary_size,MAX_LENGTH))\n",
    "for word,i in tqdm(token.word_index.items()):\n",
    "    embedding_value = embedding_vector.get(word)\n",
    "    if embedding_value is not None:\n",
    "        embedding_matrix[i] = embedding_value"
   ]
  },
  {
   "cell_type": "code",
   "execution_count": 6,
   "metadata": {},
   "outputs": [],
   "source": [
    "x_train, x_test, y_train, y_test = train_test_split(x, y, train_size=0.8, test_size=0.2)"
   ]
  },
  {
   "cell_type": "code",
   "execution_count": 9,
   "metadata": {},
   "outputs": [],
   "source": [
    "lstm_model = Sequential()\n",
    "lstm_model.add(Embedding(vocabulary_size,MAX_LENGTH,weights=[embedding_matrix],input_length=x.shape[1],trainable=False))\n",
    "lstm_model.add(Dense(256))\n",
    "lstm_model.add(Dropout(0.25))\n",
    "lstm_model.add(Conv1D(64, kernel_size=3, padding='same', activation='relu'))\n",
    "lstm_model.add(MaxPooling1D(pool_size=2))\n",
    "lstm_model.add(LSTM(128, return_sequences=True))\n",
    "lstm_model.add(Dropout(0.5))\n",
    "lstm_model.add(Dense(1))\n",
    "lstm_model.add(Activation('sigmoid'))\n",
    "lstm_model.compile(loss='binary_crossentropy', optimizer='adam', metrics=['accuracy', 'binary_accuracy', custom_keras_metrics.f1_score])"
   ]
  },
  {
   "cell_type": "code",
   "execution_count": 10,
   "metadata": {},
   "outputs": [
    {
     "name": "stdout",
     "output_type": "stream",
     "text": [
      "Epoch 1/20\n"
     ]
    },
    {
     "name": "stderr",
     "output_type": "stream",
     "text": [
      "2023-11-12 18:12:52.148168: W tensorflow/core/framework/cpu_allocator_impl.cc:82] Allocation of 46080000 exceeds 10% of free system memory.\n",
      "2023-11-12 18:12:52.195936: W tensorflow/core/framework/cpu_allocator_impl.cc:82] Allocation of 39321600 exceeds 10% of free system memory.\n",
      "2023-11-12 18:12:52.562960: W tensorflow/core/framework/cpu_allocator_impl.cc:82] Allocation of 39321600 exceeds 10% of free system memory.\n",
      "2023-11-12 18:12:52.636997: W tensorflow/core/framework/cpu_allocator_impl.cc:82] Allocation of 39321600 exceeds 10% of free system memory.\n",
      "2023-11-12 18:12:52.657510: W tensorflow/core/framework/cpu_allocator_impl.cc:82] Allocation of 39321600 exceeds 10% of free system memory.\n"
     ]
    },
    {
     "name": "stdout",
     "output_type": "stream",
     "text": [
      "10/10 [==============================] - 12s 843ms/step - loss: 0.6930 - accuracy: 0.5113 - binary_accuracy: 0.5113 - val_loss: 0.6919 - val_accuracy: 0.5011 - val_binary_accuracy: 0.5011\n",
      "Epoch 2/20\n",
      "10/10 [==============================] - 8s 765ms/step - loss: 0.6916 - accuracy: 0.5134 - binary_accuracy: 0.5134 - val_loss: 0.6906 - val_accuracy: 0.5007 - val_binary_accuracy: 0.5007\n",
      "Epoch 3/20\n",
      "10/10 [==============================] - 7s 710ms/step - loss: 0.6910 - accuracy: 0.5131 - binary_accuracy: 0.5131 - val_loss: 0.6910 - val_accuracy: 0.5022 - val_binary_accuracy: 0.5022\n",
      "Epoch 4/20\n",
      "10/10 [==============================] - 7s 702ms/step - loss: 0.6904 - accuracy: 0.5159 - binary_accuracy: 0.5159 - val_loss: 0.6901 - val_accuracy: 0.5022 - val_binary_accuracy: 0.5022\n",
      "Epoch 5/20\n",
      "10/10 [==============================] - 7s 722ms/step - loss: 0.6883 - accuracy: 0.5159 - binary_accuracy: 0.5159 - val_loss: 0.6887 - val_accuracy: 0.5031 - val_binary_accuracy: 0.5031\n",
      "Epoch 6/20\n",
      "10/10 [==============================] - 7s 710ms/step - loss: 0.6867 - accuracy: 0.5178 - binary_accuracy: 0.5178 - val_loss: 0.6899 - val_accuracy: 0.5007 - val_binary_accuracy: 0.5007\n",
      "Epoch 7/20\n",
      "10/10 [==============================] - 7s 714ms/step - loss: 0.6860 - accuracy: 0.5108 - binary_accuracy: 0.5108 - val_loss: 0.6900 - val_accuracy: 0.5123 - val_binary_accuracy: 0.5123\n",
      "Epoch 8/20\n",
      "10/10 [==============================] - 7s 708ms/step - loss: 0.6861 - accuracy: 0.5029 - binary_accuracy: 0.5029 - val_loss: 0.6883 - val_accuracy: 0.5145 - val_binary_accuracy: 0.5145\n",
      "Epoch 9/20\n",
      "10/10 [==============================] - 7s 720ms/step - loss: 0.6835 - accuracy: 0.5049 - binary_accuracy: 0.5049 - val_loss: 0.6893 - val_accuracy: 0.5153 - val_binary_accuracy: 0.5153\n",
      "Epoch 10/20\n",
      "10/10 [==============================] - 7s 685ms/step - loss: 0.6817 - accuracy: 0.4973 - binary_accuracy: 0.4973 - val_loss: 0.6913 - val_accuracy: 0.5041 - val_binary_accuracy: 0.5041\n",
      "Epoch 11/20\n",
      "10/10 [==============================] - 7s 708ms/step - loss: 0.6804 - accuracy: 0.5003 - binary_accuracy: 0.5003 - val_loss: 0.6904 - val_accuracy: 0.5140 - val_binary_accuracy: 0.5140\n",
      "Epoch 12/20\n",
      "10/10 [==============================] - 7s 700ms/step - loss: 0.6804 - accuracy: 0.5067 - binary_accuracy: 0.5067 - val_loss: 0.6946 - val_accuracy: 0.5111 - val_binary_accuracy: 0.5111\n",
      "Epoch 13/20\n",
      "10/10 [==============================] - 7s 700ms/step - loss: 0.6775 - accuracy: 0.5078 - binary_accuracy: 0.5078 - val_loss: 0.6950 - val_accuracy: 0.5131 - val_binary_accuracy: 0.5131\n",
      "Epoch 14/20\n",
      "10/10 [==============================] - 7s 706ms/step - loss: 0.6767 - accuracy: 0.5005 - binary_accuracy: 0.5005 - val_loss: 0.6967 - val_accuracy: 0.5003 - val_binary_accuracy: 0.5003\n",
      "Epoch 15/20\n",
      "10/10 [==============================] - 7s 714ms/step - loss: 0.6763 - accuracy: 0.4873 - binary_accuracy: 0.4873 - val_loss: 0.6977 - val_accuracy: 0.5125 - val_binary_accuracy: 0.5125\n",
      "Epoch 16/20\n",
      "10/10 [==============================] - 7s 686ms/step - loss: 0.6749 - accuracy: 0.5102 - binary_accuracy: 0.5102 - val_loss: 0.7033 - val_accuracy: 0.5131 - val_binary_accuracy: 0.5131\n",
      "Epoch 17/20\n",
      "10/10 [==============================] - 7s 705ms/step - loss: 0.6729 - accuracy: 0.5120 - binary_accuracy: 0.5120 - val_loss: 0.7065 - val_accuracy: 0.5026 - val_binary_accuracy: 0.5026\n",
      "Epoch 18/20\n",
      "10/10 [==============================] - 7s 715ms/step - loss: 0.6725 - accuracy: 0.5269 - binary_accuracy: 0.5269 - val_loss: 0.7121 - val_accuracy: 0.5023 - val_binary_accuracy: 0.5023\n",
      "Epoch 19/20\n",
      "10/10 [==============================] - 7s 702ms/step - loss: 0.6717 - accuracy: 0.5271 - binary_accuracy: 0.5271 - val_loss: 0.7107 - val_accuracy: 0.5028 - val_binary_accuracy: 0.5028\n",
      "Epoch 20/20\n",
      "10/10 [==============================] - 7s 723ms/step - loss: 0.6703 - accuracy: 0.5277 - binary_accuracy: 0.5277 - val_loss: 0.7103 - val_accuracy: 0.5018 - val_binary_accuracy: 0.5018\n"
     ]
    }
   ],
   "source": [
    "model = lstm_model.fit(x_train, y_train, epochs=20, batch_size=128, validation_data=(x_test, y_test))"
   ]
  },
  {
   "cell_type": "code",
   "execution_count": null,
   "metadata": {},
   "outputs": [],
   "source": [
    "results = lstm_model.evaluate(x_test, y_test, batch_size=128)\n",
    "\n",
    "for name, value in zip(lstm_model.metrics_names, results):\n",
    "  print(name, ': ', value)\n",
    "print()"
   ]
  },
  {
   "cell_type": "code",
   "execution_count": null,
   "metadata": {},
   "outputs": [],
   "source": [
    "#import joblib\n",
    "\n",
    "#model_filename = '../../../models/generated-models-base-paper/offensive_lstm_embeddings_model.pkl'\n",
    "#joblib.dump(model, model_filename)"
   ]
  }
 ],
 "metadata": {
  "kernelspec": {
   "display_name": "Python 3 (ipykernel)",
   "language": "python",
   "name": "python3"
  },
  "language_info": {
   "codemirror_mode": {
    "name": "ipython",
    "version": 3
   },
   "file_extension": ".py",
   "mimetype": "text/x-python",
   "name": "python",
   "nbconvert_exporter": "python",
   "pygments_lexer": "ipython3",
   "version": "3.10.4"
  },
  "orig_nbformat": 4
 },
 "nbformat": 4,
 "nbformat_minor": 2
}
