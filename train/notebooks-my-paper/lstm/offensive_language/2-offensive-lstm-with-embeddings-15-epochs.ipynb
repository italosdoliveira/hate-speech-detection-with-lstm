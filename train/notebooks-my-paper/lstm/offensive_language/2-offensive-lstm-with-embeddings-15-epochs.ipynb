{
 "cells": [
  {
   "cell_type": "code",
   "execution_count": 1,
   "metadata": {},
   "outputs": [
    {
     "name": "stderr",
     "output_type": "stream",
     "text": [
      "2023-10-23 00:01:22.313045: W tensorflow/stream_executor/platform/default/dso_loader.cc:64] Could not load dynamic library 'libcudart.so.11.0'; dlerror: libcudart.so.11.0: cannot open shared object file: No such file or directory\n",
      "2023-10-23 00:01:22.313084: I tensorflow/stream_executor/cuda/cudart_stub.cc:29] Ignore above cudart dlerror if you do not have a GPU set up on your machine.\n"
     ]
    }
   ],
   "source": [
    "import sys  \n",
    "import os\n",
    "import pandas as pd\n",
    "import io\n",
    "sys.path.insert(0, '../../../../scripts/')\n",
    "sys.path.insert(0, '../../../../dataset/')\n",
    "import embedding_reader\n",
    "import custom_keras_metrics\n",
    "import tensorflow as tf\n",
    "import keras.backend as K\n",
    "import os\n",
    "import time\n",
    "import gc\n",
    "import glob\n",
    "import wget\n",
    "import zipfile\n",
    "import numpy as np\n",
    "from sklearn.model_selection import train_test_split\n",
    "from keras.preprocessing.text import Tokenizer\n",
    "from keras.preprocessing.sequence import pad_sequences\n",
    "from tensorflow.keras.layers import LSTM\n",
    "from tensorflow.keras.preprocessing import text, sequence\n",
    "from keras.layers import Reshape, Flatten, Concatenate, Dropout, SpatialDropout1D\n",
    "from tensorflow.keras.optimizers import Adam\n",
    "from keras.models import Model\n",
    "from keras import backend as K\n",
    "from tensorflow.keras.layers import Layer\n",
    "from keras import initializers, regularizers, constraints, optimizers, layers\n",
    "from tensorflow.keras.utils import to_categorical\n",
    "from sklearn.preprocessing import LabelEncoder\n",
    "from keras.layers import *\n",
    "from keras.models import *\n",
    "from keras import initializers, regularizers, constraints, optimizers, layers\n",
    "from keras.initializers import *\n",
    "from keras.optimizers import *\n",
    "from keras.callbacks import *\n",
    "from keras import metrics\n",
    "from tqdm import tqdm"
   ]
  },
  {
   "cell_type": "code",
   "execution_count": 2,
   "metadata": {},
   "outputs": [],
   "source": [
    "#wget.download(\"http://143.107.183.175:22980/download.php?file=embeddings/glove/glove_s300.zip\", out=\"../../../../embeddings/\")"
   ]
  },
  {
   "cell_type": "code",
   "execution_count": 3,
   "metadata": {},
   "outputs": [],
   "source": [
    "#with zipfile.ZipFile(\"../../../../embeddings/glove_s300.zip\", 'r') as zip_ref:\n",
    "    #zip_ref.extractall(\"../../../../embeddings/\")"
   ]
  },
  {
   "cell_type": "code",
   "execution_count": 2,
   "metadata": {},
   "outputs": [],
   "source": [
    "MAX_LENGTH = 300\n",
    "dataframe = pd.read_csv('../../../../dataset/HateBR.csv')\n",
    "y = dataframe['offensive_language']"
   ]
  },
  {
   "cell_type": "code",
   "execution_count": 3,
   "metadata": {},
   "outputs": [],
   "source": [
    "x = dataframe['instagram_comments']"
   ]
  },
  {
   "cell_type": "code",
   "execution_count": 4,
   "metadata": {},
   "outputs": [],
   "source": [
    "token = Tokenizer()\n",
    "token.fit_on_texts(x)\n",
    "sequences = token.texts_to_sequences(x)\n",
    "x = pad_sequences(sequences,maxlen=MAX_LENGTH)\n",
    "vocabulary_size = len(token.word_index)+1"
   ]
  },
  {
   "cell_type": "code",
   "execution_count": 5,
   "metadata": {},
   "outputs": [
    {
     "name": "stderr",
     "output_type": "stream",
     "text": [
      "100%|██████████| 11530/11530 [00:00<00:00, 362160.10it/s]\n"
     ]
    }
   ],
   "source": [
    "embedding_vector = embedding_reader.read_glove_file()\n",
    "embedding_matrix = np.zeros((vocabulary_size,MAX_LENGTH))\n",
    "for word,i in tqdm(token.word_index.items()):\n",
    "    embedding_value = embedding_vector.get(word)\n",
    "    if embedding_value is not None:\n",
    "        embedding_matrix[i] = embedding_value"
   ]
  },
  {
   "cell_type": "code",
   "execution_count": 6,
   "metadata": {},
   "outputs": [],
   "source": [
    "x_train, x_test, y_train, y_test = train_test_split(x, y, train_size=0.8, test_size=0.2)"
   ]
  },
  {
   "cell_type": "code",
   "execution_count": 7,
   "metadata": {},
   "outputs": [
    {
     "name": "stderr",
     "output_type": "stream",
     "text": [
      "2023-10-23 00:04:04.057457: W tensorflow/stream_executor/platform/default/dso_loader.cc:64] Could not load dynamic library 'libcuda.so.1'; dlerror: libcuda.so.1: cannot open shared object file: No such file or directory\n",
      "2023-10-23 00:04:04.057508: W tensorflow/stream_executor/cuda/cuda_driver.cc:269] failed call to cuInit: UNKNOWN ERROR (303)\n",
      "2023-10-23 00:04:04.057538: I tensorflow/stream_executor/cuda/cuda_diagnostics.cc:156] kernel driver does not appear to be running on this host (codespaces-fbf4a0): /proc/driver/nvidia/version does not exist\n",
      "2023-10-23 00:04:04.057863: I tensorflow/core/platform/cpu_feature_guard.cc:151] This TensorFlow binary is optimized with oneAPI Deep Neural Network Library (oneDNN) to use the following CPU instructions in performance-critical operations:  AVX2 FMA\n",
      "To enable them in other operations, rebuild TensorFlow with the appropriate compiler flags.\n"
     ]
    }
   ],
   "source": [
    "lstm_model = Sequential()\n",
    "lstm_model.add(Embedding(vocabulary_size,MAX_LENGTH,weights=[embedding_matrix],input_length=x.shape[1],trainable=False))\n",
    "lstm_model.add(Dropout(0.25))\n",
    "lstm_model.add(LSTM(64))\n",
    "lstm_model.add(Dropout(0.5))\n",
    "lstm_model.add(Dense(1))\n",
    "lstm_model.add(Activation('sigmoid'))\n",
    "lstm_model.compile(loss='binary_crossentropy', optimizer='adam', metrics=['accuracy', 'binary_accuracy', custom_keras_metrics.f1_score])"
   ]
  },
  {
   "cell_type": "code",
   "execution_count": 8,
   "metadata": {},
   "outputs": [
    {
     "name": "stdout",
     "output_type": "stream",
     "text": [
      "Epoch 1/15\n"
     ]
    },
    {
     "name": "stderr",
     "output_type": "stream",
     "text": [
      "2023-10-23 00:04:07.939556: W tensorflow/core/framework/cpu_allocator_impl.cc:82] Allocation of 46080000 exceeds 10% of free system memory.\n",
      "2023-10-23 00:04:07.958483: W tensorflow/core/framework/cpu_allocator_impl.cc:82] Allocation of 46080000 exceeds 10% of free system memory.\n",
      "2023-10-23 00:04:08.036189: W tensorflow/core/framework/cpu_allocator_impl.cc:82] Allocation of 46080000 exceeds 10% of free system memory.\n",
      "2023-10-23 00:04:08.135931: W tensorflow/core/framework/cpu_allocator_impl.cc:82] Allocation of 46080000 exceeds 10% of free system memory.\n"
     ]
    },
    {
     "name": "stdout",
     "output_type": "stream",
     "text": [
      " 1/44 [..............................] - ETA: 1:32 - loss: 0.6748 - accuracy: 0.5703 - binary_accuracy: 0.5703 - f1_score: 0.5926"
     ]
    },
    {
     "name": "stderr",
     "output_type": "stream",
     "text": [
      "2023-10-23 00:04:08.638313: W tensorflow/core/framework/cpu_allocator_impl.cc:82] Allocation of 46080000 exceeds 10% of free system memory.\n"
     ]
    },
    {
     "name": "stdout",
     "output_type": "stream",
     "text": [
      "44/44 [==============================] - 25s 541ms/step - loss: 0.5842 - accuracy: 0.7023 - binary_accuracy: 0.7023 - f1_score: 0.7116 - val_loss: 0.4650 - val_accuracy: 0.7993 - val_binary_accuracy: 0.7993 - val_f1_score: 0.7942\n",
      "Epoch 2/15\n",
      "44/44 [==============================] - 24s 541ms/step - loss: 0.4356 - accuracy: 0.8052 - binary_accuracy: 0.8052 - f1_score: 0.8035 - val_loss: 0.3833 - val_accuracy: 0.8336 - val_binary_accuracy: 0.8336 - val_f1_score: 0.8216\n",
      "Epoch 3/15\n",
      "44/44 [==============================] - 24s 538ms/step - loss: 0.3855 - accuracy: 0.8291 - binary_accuracy: 0.8291 - f1_score: 0.8272 - val_loss: 0.3594 - val_accuracy: 0.8443 - val_binary_accuracy: 0.8443 - val_f1_score: 0.8368\n",
      "Epoch 4/15\n",
      "44/44 [==============================] - 23s 534ms/step - loss: 0.3617 - accuracy: 0.8370 - binary_accuracy: 0.8370 - f1_score: 0.8314 - val_loss: 0.3684 - val_accuracy: 0.8300 - val_binary_accuracy: 0.8300 - val_f1_score: 0.8308\n",
      "Epoch 5/15\n",
      "44/44 [==============================] - 23s 516ms/step - loss: 0.3387 - accuracy: 0.8473 - binary_accuracy: 0.8473 - f1_score: 0.8446 - val_loss: 0.3360 - val_accuracy: 0.8564 - val_binary_accuracy: 0.8564 - val_f1_score: 0.8407\n",
      "Epoch 6/15\n",
      "44/44 [==============================] - 22s 505ms/step - loss: 0.3243 - accuracy: 0.8537 - binary_accuracy: 0.8537 - f1_score: 0.8520 - val_loss: 0.3242 - val_accuracy: 0.8600 - val_binary_accuracy: 0.8600 - val_f1_score: 0.8460\n",
      "Epoch 7/15\n",
      "44/44 [==============================] - 21s 479ms/step - loss: 0.3129 - accuracy: 0.8582 - binary_accuracy: 0.8582 - f1_score: 0.8543 - val_loss: 0.3196 - val_accuracy: 0.8607 - val_binary_accuracy: 0.8607 - val_f1_score: 0.8492\n",
      "Epoch 8/15\n",
      "44/44 [==============================] - 21s 483ms/step - loss: 0.2925 - accuracy: 0.8698 - binary_accuracy: 0.8698 - f1_score: 0.8680 - val_loss: 0.3195 - val_accuracy: 0.8686 - val_binary_accuracy: 0.8686 - val_f1_score: 0.8580\n",
      "Epoch 9/15\n",
      "44/44 [==============================] - 21s 481ms/step - loss: 0.2785 - accuracy: 0.8729 - binary_accuracy: 0.8729 - f1_score: 0.8696 - val_loss: 0.3104 - val_accuracy: 0.8650 - val_binary_accuracy: 0.8650 - val_f1_score: 0.8556\n",
      "Epoch 10/15\n",
      "44/44 [==============================] - 21s 480ms/step - loss: 0.2619 - accuracy: 0.8848 - binary_accuracy: 0.8848 - f1_score: 0.8841 - val_loss: 0.3325 - val_accuracy: 0.8571 - val_binary_accuracy: 0.8571 - val_f1_score: 0.8439\n",
      "Epoch 11/15\n",
      "44/44 [==============================] - 21s 482ms/step - loss: 0.2622 - accuracy: 0.8823 - binary_accuracy: 0.8823 - f1_score: 0.8804 - val_loss: 0.3202 - val_accuracy: 0.8700 - val_binary_accuracy: 0.8700 - val_f1_score: 0.8633\n",
      "Epoch 12/15\n",
      "44/44 [==============================] - 21s 482ms/step - loss: 0.2393 - accuracy: 0.8971 - binary_accuracy: 0.8971 - f1_score: 0.8975 - val_loss: 0.3277 - val_accuracy: 0.8621 - val_binary_accuracy: 0.8621 - val_f1_score: 0.8513\n",
      "Epoch 13/15\n",
      "44/44 [==============================] - 21s 483ms/step - loss: 0.2373 - accuracy: 0.8943 - binary_accuracy: 0.8943 - f1_score: 0.8933 - val_loss: 0.3169 - val_accuracy: 0.8657 - val_binary_accuracy: 0.8657 - val_f1_score: 0.8555\n",
      "Epoch 14/15\n",
      "44/44 [==============================] - 22s 503ms/step - loss: 0.2206 - accuracy: 0.9043 - binary_accuracy: 0.9043 - f1_score: 0.9035 - val_loss: 0.3230 - val_accuracy: 0.8671 - val_binary_accuracy: 0.8671 - val_f1_score: 0.8649\n",
      "Epoch 15/15\n",
      "44/44 [==============================] - 22s 491ms/step - loss: 0.2092 - accuracy: 0.9073 - binary_accuracy: 0.9073 - f1_score: 0.9064 - val_loss: 0.3485 - val_accuracy: 0.8621 - val_binary_accuracy: 0.8621 - val_f1_score: 0.8555\n"
     ]
    }
   ],
   "source": [
    "model = lstm_model.fit(x_train, y_train, epochs=15, batch_size=128, validation_data=(x_test, y_test))"
   ]
  },
  {
   "cell_type": "code",
   "execution_count": 9,
   "metadata": {},
   "outputs": [
    {
     "name": "stdout",
     "output_type": "stream",
     "text": [
      " 1/11 [=>............................] - ETA: 1s - loss: 0.2602 - accuracy: 0.8906 - binary_accuracy: 0.8906 - f1_score: 0.8906"
     ]
    },
    {
     "name": "stdout",
     "output_type": "stream",
     "text": [
      "11/11 [==============================] - 2s 168ms/step - loss: 0.3485 - accuracy: 0.8621 - binary_accuracy: 0.8621 - f1_score: 0.8555\n",
      "loss :  0.3484896123409271\n",
      "accuracy :  0.8621428608894348\n",
      "binary_accuracy :  0.8621428608894348\n",
      "f1_score :  0.8554824590682983\n",
      "\n"
     ]
    },
    {
     "ename": "",
     "evalue": "",
     "output_type": "error",
     "traceback": [
      "\u001b[1;31mThe Kernel crashed while executing code in the the current cell or a previous cell. Please review the code in the cell(s) to identify a possible cause of the failure. Click <a href='https://aka.ms/vscodeJupyterKernelCrash'>here</a> for more info. View Jupyter <a href='command:jupyter.viewOutput'>log</a> for further details."
     ]
    }
   ],
   "source": [
    "results = lstm_model.evaluate(x_test, y_test, batch_size=128)\n",
    "\n",
    "for name, value in zip(lstm_model.metrics_names, results):\n",
    "  print(name, ': ', value)\n",
    "print()"
   ]
  },
  {
   "cell_type": "code",
   "execution_count": 12,
   "metadata": {},
   "outputs": [
    {
     "ename": "",
     "evalue": "",
     "output_type": "error",
     "traceback": [
      "\u001b[1;31mThe Kernel crashed while executing code in the the current cell or a previous cell. Please review the code in the cell(s) to identify a possible cause of the failure. Click <a href='https://aka.ms/vscodeJupyterKernelCrash'>here</a> for more info. View Jupyter <a href='command:jupyter.viewOutput'>log</a> for further details."
     ]
    }
   ],
   "source": [
    "#import joblib\n",
    "\n",
    "#model_filename = '../../../models/generated-models-base-paper/offensive_lstm_embeddings_model.pkl'\n",
    "#joblib.dump(model, model_filename)"
   ]
  }
 ],
 "metadata": {
  "kernelspec": {
   "display_name": "Python 3 (ipykernel)",
   "language": "python",
   "name": "python3"
  },
  "language_info": {
   "codemirror_mode": {
    "name": "ipython",
    "version": 3
   },
   "file_extension": ".py",
   "mimetype": "text/x-python",
   "name": "python",
   "nbconvert_exporter": "python",
   "pygments_lexer": "ipython3",
   "version": "3.10.4"
  },
  "orig_nbformat": 4
 },
 "nbformat": 4,
 "nbformat_minor": 2
}
