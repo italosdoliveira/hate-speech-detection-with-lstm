{
 "cells": [
  {
   "cell_type": "code",
   "execution_count": 1,
   "metadata": {},
   "outputs": [
    {
     "name": "stderr",
     "output_type": "stream",
     "text": [
      "2023-10-23 00:10:08.579126: W tensorflow/stream_executor/platform/default/dso_loader.cc:64] Could not load dynamic library 'libcudart.so.11.0'; dlerror: libcudart.so.11.0: cannot open shared object file: No such file or directory\n",
      "2023-10-23 00:10:08.579161: I tensorflow/stream_executor/cuda/cudart_stub.cc:29] Ignore above cudart dlerror if you do not have a GPU set up on your machine.\n"
     ]
    }
   ],
   "source": [
    "import sys  \n",
    "import os\n",
    "import pandas as pd\n",
    "import io\n",
    "sys.path.insert(0, '../../../../scripts/')\n",
    "sys.path.insert(0, '../../../../dataset/')\n",
    "import embedding_reader\n",
    "import custom_keras_metrics\n",
    "import tensorflow as tf\n",
    "import keras.backend as K\n",
    "import os\n",
    "import time\n",
    "import gc\n",
    "import glob\n",
    "import wget\n",
    "import zipfile\n",
    "import numpy as np\n",
    "from sklearn.model_selection import train_test_split\n",
    "from keras.preprocessing.text import Tokenizer\n",
    "from keras.preprocessing.sequence import pad_sequences\n",
    "from tensorflow.keras.layers import LSTM\n",
    "from tensorflow.keras.preprocessing import text, sequence\n",
    "from keras.layers import Reshape, Flatten, Concatenate, Dropout, SpatialDropout1D\n",
    "from tensorflow.keras.optimizers import Adam\n",
    "from keras.models import Model\n",
    "from keras import backend as K\n",
    "from tensorflow.keras.layers import Layer\n",
    "from keras import initializers, regularizers, constraints, optimizers, layers\n",
    "from tensorflow.keras.utils import to_categorical\n",
    "from sklearn.preprocessing import LabelEncoder\n",
    "from keras.layers import *\n",
    "from keras.models import *\n",
    "from keras import initializers, regularizers, constraints, optimizers, layers\n",
    "from keras.initializers import *\n",
    "from keras.optimizers import *\n",
    "from keras.callbacks import *\n",
    "from keras import metrics\n",
    "from tqdm import tqdm"
   ]
  },
  {
   "cell_type": "code",
   "execution_count": 2,
   "metadata": {},
   "outputs": [],
   "source": [
    "#wget.download(\"http://143.107.183.175:22980/download.php?file=embeddings/glove/glove_s300.zip\", out=\"../../../../embeddings/\")"
   ]
  },
  {
   "cell_type": "code",
   "execution_count": 3,
   "metadata": {},
   "outputs": [],
   "source": [
    "#with zipfile.ZipFile(\"../../../../embeddings/glove_s300.zip\", 'r') as zip_ref:\n",
    "    #zip_ref.extractall(\"../../../../embeddings/\")"
   ]
  },
  {
   "cell_type": "code",
   "execution_count": 2,
   "metadata": {},
   "outputs": [],
   "source": [
    "MAX_LENGTH = 300\n",
    "dataframe = pd.read_csv('../../../../dataset/HateBR.csv')\n",
    "y = dataframe['offensive_language']"
   ]
  },
  {
   "cell_type": "code",
   "execution_count": 3,
   "metadata": {},
   "outputs": [],
   "source": [
    "x = dataframe['instagram_comments']"
   ]
  },
  {
   "cell_type": "code",
   "execution_count": 4,
   "metadata": {},
   "outputs": [],
   "source": [
    "token = Tokenizer()\n",
    "token.fit_on_texts(x)\n",
    "sequences = token.texts_to_sequences(x)\n",
    "x = pad_sequences(sequences,maxlen=MAX_LENGTH)\n",
    "vocabulary_size = len(token.word_index)+1"
   ]
  },
  {
   "cell_type": "code",
   "execution_count": 5,
   "metadata": {},
   "outputs": [
    {
     "name": "stderr",
     "output_type": "stream",
     "text": [
      "100%|██████████| 11530/11530 [00:00<00:00, 288135.21it/s]\n"
     ]
    }
   ],
   "source": [
    "embedding_vector = embedding_reader.read_glove_file()\n",
    "embedding_matrix = np.zeros((vocabulary_size,MAX_LENGTH))\n",
    "for word,i in tqdm(token.word_index.items()):\n",
    "    embedding_value = embedding_vector.get(word)\n",
    "    if embedding_value is not None:\n",
    "        embedding_matrix[i] = embedding_value"
   ]
  },
  {
   "cell_type": "code",
   "execution_count": 6,
   "metadata": {},
   "outputs": [],
   "source": [
    "x_train, x_test, y_train, y_test = train_test_split(x, y, train_size=0.8, test_size=0.2)"
   ]
  },
  {
   "cell_type": "code",
   "execution_count": 7,
   "metadata": {},
   "outputs": [
    {
     "name": "stderr",
     "output_type": "stream",
     "text": [
      "2023-10-23 00:11:43.814497: W tensorflow/stream_executor/platform/default/dso_loader.cc:64] Could not load dynamic library 'libcuda.so.1'; dlerror: libcuda.so.1: cannot open shared object file: No such file or directory\n",
      "2023-10-23 00:11:43.814541: W tensorflow/stream_executor/cuda/cuda_driver.cc:269] failed call to cuInit: UNKNOWN ERROR (303)\n",
      "2023-10-23 00:11:43.814572: I tensorflow/stream_executor/cuda/cuda_diagnostics.cc:156] kernel driver does not appear to be running on this host (codespaces-fbf4a0): /proc/driver/nvidia/version does not exist\n",
      "2023-10-23 00:11:43.814896: I tensorflow/core/platform/cpu_feature_guard.cc:151] This TensorFlow binary is optimized with oneAPI Deep Neural Network Library (oneDNN) to use the following CPU instructions in performance-critical operations:  AVX2 FMA\n",
      "To enable them in other operations, rebuild TensorFlow with the appropriate compiler flags.\n"
     ]
    }
   ],
   "source": [
    "lstm_model = Sequential()\n",
    "lstm_model.add(Embedding(vocabulary_size,MAX_LENGTH,weights=[embedding_matrix],input_length=x.shape[1],trainable=False))\n",
    "lstm_model.add(Dropout(0.25))\n",
    "lstm_model.add(LSTM(64))\n",
    "lstm_model.add(Dropout(0.5))\n",
    "lstm_model.add(Dense(1))\n",
    "lstm_model.add(Activation('sigmoid'))\n",
    "lstm_model.compile(loss='binary_crossentropy', optimizer='adam', metrics=['accuracy', 'binary_accuracy', custom_keras_metrics.f1_score])"
   ]
  },
  {
   "cell_type": "code",
   "execution_count": 8,
   "metadata": {},
   "outputs": [
    {
     "name": "stdout",
     "output_type": "stream",
     "text": [
      "Epoch 1/20\n"
     ]
    },
    {
     "name": "stdout",
     "output_type": "stream",
     "text": [
      "44/44 [==============================] - 23s 490ms/step - loss: 0.5663 - accuracy: 0.7109 - binary_accuracy: 0.7109 - f1_score: 0.7079 - val_loss: 0.4877 - val_accuracy: 0.7850 - val_binary_accuracy: 0.7850 - val_f1_score: 0.8019\n",
      "Epoch 2/20\n",
      "44/44 [==============================] - 21s 482ms/step - loss: 0.4369 - accuracy: 0.8075 - binary_accuracy: 0.8075 - f1_score: 0.8030 - val_loss: 0.3890 - val_accuracy: 0.8450 - val_binary_accuracy: 0.8450 - val_f1_score: 0.8314\n",
      "Epoch 3/20\n",
      "44/44 [==============================] - 21s 483ms/step - loss: 0.3901 - accuracy: 0.8313 - binary_accuracy: 0.8313 - f1_score: 0.8273 - val_loss: 0.3586 - val_accuracy: 0.8571 - val_binary_accuracy: 0.8571 - val_f1_score: 0.8525\n",
      "Epoch 4/20\n",
      "44/44 [==============================] - 21s 478ms/step - loss: 0.3555 - accuracy: 0.8389 - binary_accuracy: 0.8389 - f1_score: 0.8344 - val_loss: 0.3458 - val_accuracy: 0.8593 - val_binary_accuracy: 0.8593 - val_f1_score: 0.8520\n",
      "Epoch 5/20\n",
      "44/44 [==============================] - 21s 482ms/step - loss: 0.3429 - accuracy: 0.8448 - binary_accuracy: 0.8448 - f1_score: 0.8401 - val_loss: 0.3413 - val_accuracy: 0.8571 - val_binary_accuracy: 0.8571 - val_f1_score: 0.8559\n",
      "Epoch 6/20\n",
      "44/44 [==============================] - 21s 476ms/step - loss: 0.3210 - accuracy: 0.8561 - binary_accuracy: 0.8561 - f1_score: 0.8509 - val_loss: 0.3416 - val_accuracy: 0.8579 - val_binary_accuracy: 0.8579 - val_f1_score: 0.8472\n",
      "Epoch 7/20\n",
      "44/44 [==============================] - 21s 484ms/step - loss: 0.3062 - accuracy: 0.8618 - binary_accuracy: 0.8618 - f1_score: 0.8587 - val_loss: 0.3353 - val_accuracy: 0.8614 - val_binary_accuracy: 0.8614 - val_f1_score: 0.8584\n",
      "Epoch 8/20\n",
      "44/44 [==============================] - 21s 482ms/step - loss: 0.2867 - accuracy: 0.8737 - binary_accuracy: 0.8737 - f1_score: 0.8706 - val_loss: 0.3319 - val_accuracy: 0.8629 - val_binary_accuracy: 0.8629 - val_f1_score: 0.8555\n",
      "Epoch 9/20\n",
      "44/44 [==============================] - 21s 489ms/step - loss: 0.2855 - accuracy: 0.8682 - binary_accuracy: 0.8682 - f1_score: 0.8646 - val_loss: 0.3349 - val_accuracy: 0.8614 - val_binary_accuracy: 0.8614 - val_f1_score: 0.8498\n",
      "Epoch 10/20\n",
      "44/44 [==============================] - 21s 488ms/step - loss: 0.2663 - accuracy: 0.8805 - binary_accuracy: 0.8805 - f1_score: 0.8777 - val_loss: 0.3268 - val_accuracy: 0.8571 - val_binary_accuracy: 0.8571 - val_f1_score: 0.8474\n",
      "Epoch 11/20\n",
      "44/44 [==============================] - 21s 482ms/step - loss: 0.2566 - accuracy: 0.8884 - binary_accuracy: 0.8884 - f1_score: 0.8864 - val_loss: 0.3254 - val_accuracy: 0.8586 - val_binary_accuracy: 0.8586 - val_f1_score: 0.8544\n",
      "Epoch 12/20\n",
      "44/44 [==============================] - 21s 481ms/step - loss: 0.2415 - accuracy: 0.8905 - binary_accuracy: 0.8905 - f1_score: 0.8890 - val_loss: 0.3258 - val_accuracy: 0.8686 - val_binary_accuracy: 0.8686 - val_f1_score: 0.8655\n",
      "Epoch 13/20\n",
      "44/44 [==============================] - 21s 482ms/step - loss: 0.2374 - accuracy: 0.8945 - binary_accuracy: 0.8945 - f1_score: 0.8942 - val_loss: 0.3153 - val_accuracy: 0.8621 - val_binary_accuracy: 0.8621 - val_f1_score: 0.8567\n",
      "Epoch 14/20\n",
      "44/44 [==============================] - 21s 482ms/step - loss: 0.2396 - accuracy: 0.8904 - binary_accuracy: 0.8904 - f1_score: 0.8874 - val_loss: 0.3238 - val_accuracy: 0.8600 - val_binary_accuracy: 0.8600 - val_f1_score: 0.8546\n",
      "Epoch 15/20\n",
      "44/44 [==============================] - 21s 484ms/step - loss: 0.2236 - accuracy: 0.8982 - binary_accuracy: 0.8982 - f1_score: 0.8955 - val_loss: 0.3306 - val_accuracy: 0.8600 - val_binary_accuracy: 0.8600 - val_f1_score: 0.8572\n",
      "Epoch 16/20\n",
      "44/44 [==============================] - 21s 485ms/step - loss: 0.2151 - accuracy: 0.9013 - binary_accuracy: 0.9013 - f1_score: 0.8987 - val_loss: 0.3284 - val_accuracy: 0.8600 - val_binary_accuracy: 0.8600 - val_f1_score: 0.8524\n",
      "Epoch 17/20\n",
      "44/44 [==============================] - 22s 491ms/step - loss: 0.2015 - accuracy: 0.9100 - binary_accuracy: 0.9100 - f1_score: 0.9075 - val_loss: 0.3737 - val_accuracy: 0.8464 - val_binary_accuracy: 0.8464 - val_f1_score: 0.8472\n",
      "Epoch 18/20\n",
      "44/44 [==============================] - 21s 480ms/step - loss: 0.1983 - accuracy: 0.9111 - binary_accuracy: 0.9111 - f1_score: 0.9097 - val_loss: 0.3451 - val_accuracy: 0.8714 - val_binary_accuracy: 0.8714 - val_f1_score: 0.8692\n",
      "Epoch 19/20\n",
      "44/44 [==============================] - 21s 481ms/step - loss: 0.1856 - accuracy: 0.9198 - binary_accuracy: 0.9198 - f1_score: 0.9200 - val_loss: 0.3632 - val_accuracy: 0.8671 - val_binary_accuracy: 0.8671 - val_f1_score: 0.8655\n",
      "Epoch 20/20\n",
      "44/44 [==============================] - 21s 484ms/step - loss: 0.1746 - accuracy: 0.9216 - binary_accuracy: 0.9216 - f1_score: 0.9208 - val_loss: 0.3437 - val_accuracy: 0.8671 - val_binary_accuracy: 0.8671 - val_f1_score: 0.8677\n"
     ]
    }
   ],
   "source": [
    "model = lstm_model.fit(x_train, y_train, epochs=20, batch_size=128, validation_data=(x_test, y_test))"
   ]
  },
  {
   "cell_type": "code",
   "execution_count": 9,
   "metadata": {},
   "outputs": [
    {
     "name": "stdout",
     "output_type": "stream",
     "text": [
      " 1/11 [=>............................] - ETA: 1s - loss: 0.2398 - accuracy: 0.8906 - binary_accuracy: 0.8906 - f1_score: 0.9000"
     ]
    },
    {
     "name": "stdout",
     "output_type": "stream",
     "text": [
      "11/11 [==============================] - 2s 155ms/step - loss: 0.3437 - accuracy: 0.8671 - binary_accuracy: 0.8671 - f1_score: 0.8677\n",
      "loss :  0.34367650747299194\n",
      "accuracy :  0.8671428561210632\n",
      "binary_accuracy :  0.8671428561210632\n",
      "f1_score :  0.8676944375038147\n",
      "\n"
     ]
    }
   ],
   "source": [
    "results = lstm_model.evaluate(x_test, y_test, batch_size=128)\n",
    "\n",
    "for name, value in zip(lstm_model.metrics_names, results):\n",
    "  print(name, ': ', value)\n",
    "print()"
   ]
  },
  {
   "cell_type": "code",
   "execution_count": 12,
   "metadata": {},
   "outputs": [
    {
     "ename": "",
     "evalue": "",
     "output_type": "error",
     "traceback": [
      "\u001b[1;31mThe Kernel crashed while executing code in the the current cell or a previous cell. Please review the code in the cell(s) to identify a possible cause of the failure. Click <a href='https://aka.ms/vscodeJupyterKernelCrash'>here</a> for more info. View Jupyter <a href='command:jupyter.viewOutput'>log</a> for further details."
     ]
    }
   ],
   "source": [
    "#import joblib\n",
    "\n",
    "#model_filename = '../../../models/generated-models-base-paper/offensive_lstm_embeddings_model.pkl'\n",
    "#joblib.dump(model, model_filename)"
   ]
  }
 ],
 "metadata": {
  "kernelspec": {
   "display_name": "Python 3 (ipykernel)",
   "language": "python",
   "name": "python3"
  },
  "language_info": {
   "codemirror_mode": {
    "name": "ipython",
    "version": 3
   },
   "file_extension": ".py",
   "mimetype": "text/x-python",
   "name": "python",
   "nbconvert_exporter": "python",
   "pygments_lexer": "ipython3",
   "version": "3.10.4"
  },
  "orig_nbformat": 4
 },
 "nbformat": 4,
 "nbformat_minor": 2
}
