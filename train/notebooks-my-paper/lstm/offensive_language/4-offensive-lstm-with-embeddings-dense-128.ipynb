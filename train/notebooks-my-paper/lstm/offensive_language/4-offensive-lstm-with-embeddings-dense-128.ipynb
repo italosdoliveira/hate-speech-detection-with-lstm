{
 "cells": [
  {
   "cell_type": "code",
   "execution_count": 1,
   "metadata": {},
   "outputs": [
    {
     "name": "stderr",
     "output_type": "stream",
     "text": [
      "2023-10-23 00:19:39.914732: W tensorflow/stream_executor/platform/default/dso_loader.cc:64] Could not load dynamic library 'libcudart.so.11.0'; dlerror: libcudart.so.11.0: cannot open shared object file: No such file or directory\n",
      "2023-10-23 00:19:39.914770: I tensorflow/stream_executor/cuda/cudart_stub.cc:29] Ignore above cudart dlerror if you do not have a GPU set up on your machine.\n"
     ]
    }
   ],
   "source": [
    "import sys  \n",
    "import os\n",
    "import pandas as pd\n",
    "import io\n",
    "sys.path.insert(0, '../../../../scripts/')\n",
    "sys.path.insert(0, '../../../../dataset/')\n",
    "import embedding_reader\n",
    "import custom_keras_metrics\n",
    "import tensorflow as tf\n",
    "import keras.backend as K\n",
    "import os\n",
    "import time\n",
    "import gc\n",
    "import glob\n",
    "import wget\n",
    "import zipfile\n",
    "import numpy as np\n",
    "from sklearn.model_selection import train_test_split\n",
    "from keras.preprocessing.text import Tokenizer\n",
    "from keras.preprocessing.sequence import pad_sequences\n",
    "from tensorflow.keras.layers import LSTM\n",
    "from tensorflow.keras.preprocessing import text, sequence\n",
    "from keras.layers import Reshape, Flatten, Concatenate, Dropout, SpatialDropout1D\n",
    "from tensorflow.keras.optimizers import Adam\n",
    "from keras.models import Model\n",
    "from keras import backend as K\n",
    "from tensorflow.keras.layers import Layer\n",
    "from keras import initializers, regularizers, constraints, optimizers, layers\n",
    "from tensorflow.keras.utils import to_categorical\n",
    "from sklearn.preprocessing import LabelEncoder\n",
    "from keras.layers import *\n",
    "from keras.models import *\n",
    "from keras import initializers, regularizers, constraints, optimizers, layers\n",
    "from keras.initializers import *\n",
    "from keras.optimizers import *\n",
    "from keras.callbacks import *\n",
    "from keras import metrics\n",
    "from tqdm import tqdm"
   ]
  },
  {
   "cell_type": "code",
   "execution_count": 2,
   "metadata": {},
   "outputs": [],
   "source": [
    "#wget.download(\"http://143.107.183.175:22980/download.php?file=embeddings/glove/glove_s300.zip\", out=\"../../../../embeddings/\")"
   ]
  },
  {
   "cell_type": "code",
   "execution_count": 3,
   "metadata": {},
   "outputs": [],
   "source": [
    "#with zipfile.ZipFile(\"../../../../embeddings/glove_s300.zip\", 'r') as zip_ref:\n",
    " #   zip_ref.extractall(\"../../../../embeddings/\")"
   ]
  },
  {
   "cell_type": "code",
   "execution_count": 2,
   "metadata": {},
   "outputs": [],
   "source": [
    "MAX_LENGTH = 300\n",
    "dataframe = pd.read_csv('../../../../dataset/HateBR.csv')\n",
    "y = dataframe['offensive_language']"
   ]
  },
  {
   "cell_type": "code",
   "execution_count": 3,
   "metadata": {},
   "outputs": [],
   "source": [
    "x = dataframe['instagram_comments']"
   ]
  },
  {
   "cell_type": "code",
   "execution_count": 4,
   "metadata": {},
   "outputs": [],
   "source": [
    "token = Tokenizer()\n",
    "token.fit_on_texts(x)\n",
    "sequences = token.texts_to_sequences(x)\n",
    "x = pad_sequences(sequences,maxlen=MAX_LENGTH)\n",
    "vocabulary_size = len(token.word_index)+1"
   ]
  },
  {
   "cell_type": "code",
   "execution_count": 5,
   "metadata": {},
   "outputs": [
    {
     "name": "stderr",
     "output_type": "stream",
     "text": [
      "100%|██████████| 11530/11530 [00:00<00:00, 369221.98it/s]\n"
     ]
    }
   ],
   "source": [
    "embedding_vector = embedding_reader.read_glove_file()\n",
    "embedding_matrix = np.zeros((vocabulary_size,MAX_LENGTH))\n",
    "for word,i in tqdm(token.word_index.items()):\n",
    "    embedding_value = embedding_vector.get(word)\n",
    "    if embedding_value is not None:\n",
    "        embedding_matrix[i] = embedding_value"
   ]
  },
  {
   "cell_type": "code",
   "execution_count": 6,
   "metadata": {},
   "outputs": [],
   "source": [
    "x_train, x_test, y_train, y_test = train_test_split(x, y, train_size=0.8, test_size=0.2)"
   ]
  },
  {
   "cell_type": "code",
   "execution_count": 7,
   "metadata": {},
   "outputs": [
    {
     "name": "stderr",
     "output_type": "stream",
     "text": [
      "2023-10-23 00:21:01.584521: W tensorflow/stream_executor/platform/default/dso_loader.cc:64] Could not load dynamic library 'libcuda.so.1'; dlerror: libcuda.so.1: cannot open shared object file: No such file or directory\n",
      "2023-10-23 00:21:01.584556: W tensorflow/stream_executor/cuda/cuda_driver.cc:269] failed call to cuInit: UNKNOWN ERROR (303)\n",
      "2023-10-23 00:21:01.584587: I tensorflow/stream_executor/cuda/cuda_diagnostics.cc:156] kernel driver does not appear to be running on this host (codespaces-fbf4a0): /proc/driver/nvidia/version does not exist\n",
      "2023-10-23 00:21:01.584836: I tensorflow/core/platform/cpu_feature_guard.cc:151] This TensorFlow binary is optimized with oneAPI Deep Neural Network Library (oneDNN) to use the following CPU instructions in performance-critical operations:  AVX2 FMA\n",
      "To enable them in other operations, rebuild TensorFlow with the appropriate compiler flags.\n"
     ]
    }
   ],
   "source": [
    "lstm_model = Sequential()\n",
    "lstm_model.add(Embedding(vocabulary_size,MAX_LENGTH,weights=[embedding_matrix],input_length=x.shape[1],trainable=False))\n",
    "lstm_model.add(Dense(128))\n",
    "lstm_model.add(Dropout(0.25))\n",
    "lstm_model.add(LSTM(64))\n",
    "lstm_model.add(Dropout(0.5))\n",
    "lstm_model.add(Dense(1))\n",
    "lstm_model.add(Activation('sigmoid'))\n",
    "lstm_model.compile(loss='binary_crossentropy', optimizer='adam', metrics=['accuracy', 'binary_accuracy', custom_keras_metrics.f1_score])"
   ]
  },
  {
   "cell_type": "code",
   "execution_count": 8,
   "metadata": {},
   "outputs": [
    {
     "name": "stdout",
     "output_type": "stream",
     "text": [
      "Epoch 1/20\n"
     ]
    },
    {
     "name": "stdout",
     "output_type": "stream",
     "text": [
      "44/44 [==============================] - 24s 497ms/step - loss: 0.5357 - accuracy: 0.7362 - binary_accuracy: 0.7362 - f1_score: 0.7325 - val_loss: 0.3886 - val_accuracy: 0.8321 - val_binary_accuracy: 0.8321 - val_f1_score: 0.8244\n",
      "Epoch 2/20\n",
      "44/44 [==============================] - 21s 490ms/step - loss: 0.3833 - accuracy: 0.8289 - binary_accuracy: 0.8289 - f1_score: 0.8240 - val_loss: 0.3582 - val_accuracy: 0.8343 - val_binary_accuracy: 0.8343 - val_f1_score: 0.8200\n",
      "Epoch 3/20\n",
      "44/44 [==============================] - 22s 493ms/step - loss: 0.3408 - accuracy: 0.8452 - binary_accuracy: 0.8452 - f1_score: 0.8404 - val_loss: 0.3370 - val_accuracy: 0.8500 - val_binary_accuracy: 0.8500 - val_f1_score: 0.8439\n",
      "Epoch 4/20\n",
      "44/44 [==============================] - 21s 489ms/step - loss: 0.3176 - accuracy: 0.8605 - binary_accuracy: 0.8605 - f1_score: 0.8566 - val_loss: 0.3360 - val_accuracy: 0.8450 - val_binary_accuracy: 0.8450 - val_f1_score: 0.8451\n",
      "Epoch 5/20\n",
      "44/44 [==============================] - 21s 487ms/step - loss: 0.3016 - accuracy: 0.8657 - binary_accuracy: 0.8657 - f1_score: 0.8621 - val_loss: 0.3349 - val_accuracy: 0.8436 - val_binary_accuracy: 0.8436 - val_f1_score: 0.8455\n",
      "Epoch 6/20\n",
      "44/44 [==============================] - 21s 482ms/step - loss: 0.2858 - accuracy: 0.8720 - binary_accuracy: 0.8720 - f1_score: 0.8678 - val_loss: 0.3237 - val_accuracy: 0.8550 - val_binary_accuracy: 0.8550 - val_f1_score: 0.8527\n",
      "Epoch 7/20\n",
      "44/44 [==============================] - 21s 487ms/step - loss: 0.2712 - accuracy: 0.8759 - binary_accuracy: 0.8759 - f1_score: 0.8731 - val_loss: 0.3361 - val_accuracy: 0.8436 - val_binary_accuracy: 0.8436 - val_f1_score: 0.8466\n",
      "Epoch 8/20\n",
      "44/44 [==============================] - 21s 481ms/step - loss: 0.2639 - accuracy: 0.8809 - binary_accuracy: 0.8809 - f1_score: 0.8769 - val_loss: 0.3207 - val_accuracy: 0.8721 - val_binary_accuracy: 0.8721 - val_f1_score: 0.8709\n",
      "Epoch 9/20\n",
      "44/44 [==============================] - 22s 490ms/step - loss: 0.2464 - accuracy: 0.8911 - binary_accuracy: 0.8911 - f1_score: 0.8891 - val_loss: 0.3207 - val_accuracy: 0.8657 - val_binary_accuracy: 0.8657 - val_f1_score: 0.8693\n",
      "Epoch 10/20\n",
      "44/44 [==============================] - 21s 487ms/step - loss: 0.2390 - accuracy: 0.8945 - binary_accuracy: 0.8945 - f1_score: 0.8944 - val_loss: 0.3324 - val_accuracy: 0.8629 - val_binary_accuracy: 0.8629 - val_f1_score: 0.8657\n",
      "Epoch 11/20\n",
      "44/44 [==============================] - 22s 490ms/step - loss: 0.2281 - accuracy: 0.9055 - binary_accuracy: 0.9055 - f1_score: 0.9039 - val_loss: 0.3385 - val_accuracy: 0.8671 - val_binary_accuracy: 0.8671 - val_f1_score: 0.8644\n",
      "Epoch 12/20\n",
      "44/44 [==============================] - 21s 489ms/step - loss: 0.2178 - accuracy: 0.9075 - binary_accuracy: 0.9075 - f1_score: 0.9068 - val_loss: 0.3361 - val_accuracy: 0.8443 - val_binary_accuracy: 0.8443 - val_f1_score: 0.8389\n",
      "Epoch 13/20\n",
      "44/44 [==============================] - 22s 490ms/step - loss: 0.1985 - accuracy: 0.9170 - binary_accuracy: 0.9170 - f1_score: 0.9159 - val_loss: 0.3528 - val_accuracy: 0.8586 - val_binary_accuracy: 0.8586 - val_f1_score: 0.8641\n",
      "Epoch 14/20\n",
      "44/44 [==============================] - 22s 490ms/step - loss: 0.1980 - accuracy: 0.9139 - binary_accuracy: 0.9139 - f1_score: 0.9133 - val_loss: 0.3497 - val_accuracy: 0.8657 - val_binary_accuracy: 0.8657 - val_f1_score: 0.8646\n",
      "Epoch 15/20\n",
      "44/44 [==============================] - 22s 487ms/step - loss: 0.1784 - accuracy: 0.9237 - binary_accuracy: 0.9237 - f1_score: 0.9237 - val_loss: 0.3760 - val_accuracy: 0.8629 - val_binary_accuracy: 0.8629 - val_f1_score: 0.8646\n",
      "Epoch 16/20\n",
      "44/44 [==============================] - 21s 488ms/step - loss: 0.1704 - accuracy: 0.9295 - binary_accuracy: 0.9295 - f1_score: 0.9291 - val_loss: 0.3768 - val_accuracy: 0.8593 - val_binary_accuracy: 0.8593 - val_f1_score: 0.8611\n",
      "Epoch 17/20\n",
      "44/44 [==============================] - 21s 486ms/step - loss: 0.1651 - accuracy: 0.9316 - binary_accuracy: 0.9316 - f1_score: 0.9313 - val_loss: 0.3820 - val_accuracy: 0.8414 - val_binary_accuracy: 0.8414 - val_f1_score: 0.8409\n",
      "Epoch 18/20\n",
      "44/44 [==============================] - 21s 485ms/step - loss: 0.1629 - accuracy: 0.9343 - binary_accuracy: 0.9343 - f1_score: 0.9337 - val_loss: 0.3877 - val_accuracy: 0.8557 - val_binary_accuracy: 0.8557 - val_f1_score: 0.8626\n",
      "Epoch 19/20\n",
      "44/44 [==============================] - 21s 486ms/step - loss: 0.1446 - accuracy: 0.9391 - binary_accuracy: 0.9391 - f1_score: 0.9390 - val_loss: 0.4015 - val_accuracy: 0.8557 - val_binary_accuracy: 0.8557 - val_f1_score: 0.8586\n",
      "Epoch 20/20\n",
      "44/44 [==============================] - 21s 482ms/step - loss: 0.1337 - accuracy: 0.9436 - binary_accuracy: 0.9436 - f1_score: 0.9431 - val_loss: 0.4104 - val_accuracy: 0.8486 - val_binary_accuracy: 0.8486 - val_f1_score: 0.8543\n"
     ]
    }
   ],
   "source": [
    "model = lstm_model.fit(x_train, y_train, epochs=20, batch_size=128, validation_data=(x_test, y_test))"
   ]
  },
  {
   "cell_type": "code",
   "execution_count": 9,
   "metadata": {},
   "outputs": [
    {
     "name": "stdout",
     "output_type": "stream",
     "text": [
      " 1/11 [=>............................] - ETA: 1s - loss: 0.4207 - accuracy: 0.8516 - binary_accuracy: 0.8516 - f1_score: 0.8613"
     ]
    },
    {
     "name": "stdout",
     "output_type": "stream",
     "text": [
      "11/11 [==============================] - 2s 142ms/step - loss: 0.4104 - accuracy: 0.8486 - binary_accuracy: 0.8486 - f1_score: 0.8543\n",
      "loss :  0.41037580370903015\n",
      "accuracy :  0.8485714197158813\n",
      "binary_accuracy :  0.8485714197158813\n",
      "f1_score :  0.8543195128440857\n",
      "\n"
     ]
    },
    {
     "ename": "",
     "evalue": "",
     "output_type": "error",
     "traceback": [
      "\u001b[1;31mThe Kernel crashed while executing code in the the current cell or a previous cell. Please review the code in the cell(s) to identify a possible cause of the failure. Click <a href='https://aka.ms/vscodeJupyterKernelCrash'>here</a> for more info. View Jupyter <a href='command:jupyter.viewOutput'>log</a> for further details."
     ]
    }
   ],
   "source": [
    "results = lstm_model.evaluate(x_test, y_test, batch_size=128)\n",
    "\n",
    "for name, value in zip(lstm_model.metrics_names, results):\n",
    "  print(name, ': ', value)\n",
    "print()"
   ]
  },
  {
   "cell_type": "code",
   "execution_count": 12,
   "metadata": {},
   "outputs": [
    {
     "ename": "",
     "evalue": "",
     "output_type": "error",
     "traceback": [
      "\u001b[1;31mThe Kernel crashed while executing code in the the current cell or a previous cell. Please review the code in the cell(s) to identify a possible cause of the failure. Click <a href='https://aka.ms/vscodeJupyterKernelCrash'>here</a> for more info. View Jupyter <a href='command:jupyter.viewOutput'>log</a> for further details."
     ]
    }
   ],
   "source": [
    "#import joblib\n",
    "\n",
    "#model_filename = '../../../models/generated-models-base-paper/offensive_lstm_embeddings_model.pkl'\n",
    "#joblib.dump(model, model_filename)"
   ]
  }
 ],
 "metadata": {
  "kernelspec": {
   "display_name": "Python 3 (ipykernel)",
   "language": "python",
   "name": "python3"
  },
  "language_info": {
   "codemirror_mode": {
    "name": "ipython",
    "version": 3
   },
   "file_extension": ".py",
   "mimetype": "text/x-python",
   "name": "python",
   "nbconvert_exporter": "python",
   "pygments_lexer": "ipython3",
   "version": "3.10.4"
  },
  "orig_nbformat": 4
 },
 "nbformat": 4,
 "nbformat_minor": 2
}
