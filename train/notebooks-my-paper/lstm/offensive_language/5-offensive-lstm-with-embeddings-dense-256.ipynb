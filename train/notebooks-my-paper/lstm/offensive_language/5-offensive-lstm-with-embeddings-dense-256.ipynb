{
 "cells": [
  {
   "cell_type": "code",
   "execution_count": 1,
   "metadata": {},
   "outputs": [
    {
     "name": "stderr",
     "output_type": "stream",
     "text": [
      "2023-10-23 00:31:11.394037: W tensorflow/stream_executor/platform/default/dso_loader.cc:64] Could not load dynamic library 'libcudart.so.11.0'; dlerror: libcudart.so.11.0: cannot open shared object file: No such file or directory\n",
      "2023-10-23 00:31:11.394092: I tensorflow/stream_executor/cuda/cudart_stub.cc:29] Ignore above cudart dlerror if you do not have a GPU set up on your machine.\n"
     ]
    }
   ],
   "source": [
    "import sys  \n",
    "import os\n",
    "import pandas as pd\n",
    "import io\n",
    "sys.path.insert(0, '../../../../scripts/')\n",
    "sys.path.insert(0, '../../../../dataset/')\n",
    "import embedding_reader\n",
    "import custom_keras_metrics\n",
    "import tensorflow as tf\n",
    "import keras.backend as K\n",
    "import os\n",
    "import time\n",
    "import gc\n",
    "import glob\n",
    "import wget\n",
    "import zipfile\n",
    "import numpy as np\n",
    "from sklearn.model_selection import train_test_split\n",
    "from keras.preprocessing.text import Tokenizer\n",
    "from keras.preprocessing.sequence import pad_sequences\n",
    "from tensorflow.keras.layers import LSTM\n",
    "from tensorflow.keras.preprocessing import text, sequence\n",
    "from keras.layers import Reshape, Flatten, Concatenate, Dropout, SpatialDropout1D\n",
    "from tensorflow.keras.optimizers import Adam\n",
    "from keras.models import Model\n",
    "from keras import backend as K\n",
    "from tensorflow.keras.layers import Layer\n",
    "from keras import initializers, regularizers, constraints, optimizers, layers\n",
    "from tensorflow.keras.utils import to_categorical\n",
    "from sklearn.preprocessing import LabelEncoder\n",
    "from keras.layers import *\n",
    "from keras.models import *\n",
    "from keras import initializers, regularizers, constraints, optimizers, layers\n",
    "from keras.initializers import *\n",
    "from keras.optimizers import *\n",
    "from keras.callbacks import *\n",
    "from keras import metrics\n",
    "from tqdm import tqdm"
   ]
  },
  {
   "cell_type": "code",
   "execution_count": 2,
   "metadata": {},
   "outputs": [],
   "source": [
    "#wget.download(\"http://143.107.183.175:22980/download.php?file=embeddings/glove/glove_s300.zip\", out=\"../../../../embeddings/\")"
   ]
  },
  {
   "cell_type": "code",
   "execution_count": 3,
   "metadata": {},
   "outputs": [],
   "source": [
    "#with zipfile.ZipFile(\"../../../../embeddings/glove_s300.zip\", 'r') as zip_ref:\n",
    " #   zip_ref.extractall(\"../../../../embeddings/\")"
   ]
  },
  {
   "cell_type": "code",
   "execution_count": 2,
   "metadata": {},
   "outputs": [],
   "source": [
    "MAX_LENGTH = 300\n",
    "dataframe = pd.read_csv('../../../../dataset/HateBR.csv')\n",
    "y = dataframe['offensive_language']"
   ]
  },
  {
   "cell_type": "code",
   "execution_count": 3,
   "metadata": {},
   "outputs": [],
   "source": [
    "x = dataframe['instagram_comments']"
   ]
  },
  {
   "cell_type": "code",
   "execution_count": 4,
   "metadata": {},
   "outputs": [],
   "source": [
    "token = Tokenizer()\n",
    "token.fit_on_texts(x)\n",
    "sequences = token.texts_to_sequences(x)\n",
    "x = pad_sequences(sequences,maxlen=MAX_LENGTH)\n",
    "vocabulary_size = len(token.word_index)+1"
   ]
  },
  {
   "cell_type": "code",
   "execution_count": 5,
   "metadata": {},
   "outputs": [
    {
     "name": "stderr",
     "output_type": "stream",
     "text": [
      "100%|██████████| 11530/11530 [00:00<00:00, 275867.07it/s]\n"
     ]
    }
   ],
   "source": [
    "embedding_vector = embedding_reader.read_glove_file()\n",
    "embedding_matrix = np.zeros((vocabulary_size,MAX_LENGTH))\n",
    "for word,i in tqdm(token.word_index.items()):\n",
    "    embedding_value = embedding_vector.get(word)\n",
    "    if embedding_value is not None:\n",
    "        embedding_matrix[i] = embedding_value"
   ]
  },
  {
   "cell_type": "code",
   "execution_count": 6,
   "metadata": {},
   "outputs": [],
   "source": [
    "x_train, x_test, y_train, y_test = train_test_split(x, y, train_size=0.8, test_size=0.2)"
   ]
  },
  {
   "cell_type": "code",
   "execution_count": 7,
   "metadata": {},
   "outputs": [
    {
     "name": "stderr",
     "output_type": "stream",
     "text": [
      "2023-10-23 00:32:26.720877: W tensorflow/stream_executor/platform/default/dso_loader.cc:64] Could not load dynamic library 'libcuda.so.1'; dlerror: libcuda.so.1: cannot open shared object file: No such file or directory\n",
      "2023-10-23 00:32:26.720936: W tensorflow/stream_executor/cuda/cuda_driver.cc:269] failed call to cuInit: UNKNOWN ERROR (303)\n",
      "2023-10-23 00:32:26.720973: I tensorflow/stream_executor/cuda/cuda_diagnostics.cc:156] kernel driver does not appear to be running on this host (codespaces-fbf4a0): /proc/driver/nvidia/version does not exist\n",
      "2023-10-23 00:32:26.721342: I tensorflow/core/platform/cpu_feature_guard.cc:151] This TensorFlow binary is optimized with oneAPI Deep Neural Network Library (oneDNN) to use the following CPU instructions in performance-critical operations:  AVX2 FMA\n",
      "To enable them in other operations, rebuild TensorFlow with the appropriate compiler flags.\n"
     ]
    }
   ],
   "source": [
    "lstm_model = Sequential()\n",
    "lstm_model.add(Embedding(vocabulary_size,MAX_LENGTH,weights=[embedding_matrix],input_length=x.shape[1],trainable=False))\n",
    "lstm_model.add(Dense(256))\n",
    "lstm_model.add(Dropout(0.25))\n",
    "lstm_model.add(LSTM(64))\n",
    "lstm_model.add(Dropout(0.5))\n",
    "lstm_model.add(Dense(1))\n",
    "lstm_model.add(Activation('sigmoid'))\n",
    "lstm_model.compile(loss='binary_crossentropy', optimizer='adam', metrics=['accuracy', 'binary_accuracy', custom_keras_metrics.f1_score])"
   ]
  },
  {
   "cell_type": "code",
   "execution_count": 8,
   "metadata": {},
   "outputs": [
    {
     "name": "stdout",
     "output_type": "stream",
     "text": [
      "Epoch 1/20\n"
     ]
    },
    {
     "name": "stdout",
     "output_type": "stream",
     "text": [
      "44/44 [==============================] - 38s 819ms/step - loss: 0.5385 - accuracy: 0.7143 - binary_accuracy: 0.7143 - f1_score: 0.6916 - val_loss: 0.3577 - val_accuracy: 0.8457 - val_binary_accuracy: 0.8457 - val_f1_score: 0.8422\n",
      "Epoch 2/20\n",
      "44/44 [==============================] - 35s 792ms/step - loss: 0.3877 - accuracy: 0.8234 - binary_accuracy: 0.8234 - f1_score: 0.8185 - val_loss: 0.2968 - val_accuracy: 0.8707 - val_binary_accuracy: 0.8707 - val_f1_score: 0.8658\n",
      "Epoch 3/20\n",
      "44/44 [==============================] - 34s 773ms/step - loss: 0.3326 - accuracy: 0.8554 - binary_accuracy: 0.8554 - f1_score: 0.8504 - val_loss: 0.2808 - val_accuracy: 0.8764 - val_binary_accuracy: 0.8764 - val_f1_score: 0.8664\n",
      "Epoch 4/20\n",
      "44/44 [==============================] - 33s 749ms/step - loss: 0.3075 - accuracy: 0.8595 - binary_accuracy: 0.8595 - f1_score: 0.8557 - val_loss: 0.2742 - val_accuracy: 0.8707 - val_binary_accuracy: 0.8707 - val_f1_score: 0.8640\n",
      "Epoch 5/20\n",
      "44/44 [==============================] - 33s 757ms/step - loss: 0.2893 - accuracy: 0.8707 - binary_accuracy: 0.8707 - f1_score: 0.8686 - val_loss: 0.2813 - val_accuracy: 0.8736 - val_binary_accuracy: 0.8736 - val_f1_score: 0.8591\n",
      "Epoch 6/20\n",
      "44/44 [==============================] - 33s 755ms/step - loss: 0.2741 - accuracy: 0.8789 - binary_accuracy: 0.8789 - f1_score: 0.8775 - val_loss: 0.2675 - val_accuracy: 0.8750 - val_binary_accuracy: 0.8750 - val_f1_score: 0.8696\n",
      "Epoch 7/20\n",
      "44/44 [==============================] - 33s 762ms/step - loss: 0.2514 - accuracy: 0.8871 - binary_accuracy: 0.8871 - f1_score: 0.8860 - val_loss: 0.2713 - val_accuracy: 0.8721 - val_binary_accuracy: 0.8721 - val_f1_score: 0.8666\n",
      "Epoch 8/20\n",
      "44/44 [==============================] - 33s 758ms/step - loss: 0.2418 - accuracy: 0.8932 - binary_accuracy: 0.8932 - f1_score: 0.8926 - val_loss: 0.2673 - val_accuracy: 0.8814 - val_binary_accuracy: 0.8814 - val_f1_score: 0.8762\n",
      "Epoch 9/20\n",
      "44/44 [==============================] - 33s 751ms/step - loss: 0.2161 - accuracy: 0.9111 - binary_accuracy: 0.9111 - f1_score: 0.9110 - val_loss: 0.2686 - val_accuracy: 0.8793 - val_binary_accuracy: 0.8793 - val_f1_score: 0.8726\n",
      "Epoch 10/20\n",
      "44/44 [==============================] - 33s 757ms/step - loss: 0.2074 - accuracy: 0.9136 - binary_accuracy: 0.9136 - f1_score: 0.9131 - val_loss: 0.2769 - val_accuracy: 0.8729 - val_binary_accuracy: 0.8729 - val_f1_score: 0.8735\n",
      "Epoch 11/20\n",
      "44/44 [==============================] - 34s 783ms/step - loss: 0.1952 - accuracy: 0.9166 - binary_accuracy: 0.9166 - f1_score: 0.9158 - val_loss: 0.2772 - val_accuracy: 0.8793 - val_binary_accuracy: 0.8793 - val_f1_score: 0.8751\n",
      "Epoch 12/20\n",
      "44/44 [==============================] - 32s 735ms/step - loss: 0.1716 - accuracy: 0.9314 - binary_accuracy: 0.9314 - f1_score: 0.9317 - val_loss: 0.2916 - val_accuracy: 0.8671 - val_binary_accuracy: 0.8671 - val_f1_score: 0.8641\n",
      "Epoch 13/20\n",
      "44/44 [==============================] - 33s 751ms/step - loss: 0.1637 - accuracy: 0.9332 - binary_accuracy: 0.9332 - f1_score: 0.9331 - val_loss: 0.2883 - val_accuracy: 0.8786 - val_binary_accuracy: 0.8786 - val_f1_score: 0.8718\n",
      "Epoch 14/20\n",
      "44/44 [==============================] - 34s 767ms/step - loss: 0.1540 - accuracy: 0.9355 - binary_accuracy: 0.9355 - f1_score: 0.9359 - val_loss: 0.3158 - val_accuracy: 0.8636 - val_binary_accuracy: 0.8636 - val_f1_score: 0.8661\n",
      "Epoch 15/20\n",
      "44/44 [==============================] - 33s 760ms/step - loss: 0.1371 - accuracy: 0.9459 - binary_accuracy: 0.9459 - f1_score: 0.9462 - val_loss: 0.3246 - val_accuracy: 0.8743 - val_binary_accuracy: 0.8743 - val_f1_score: 0.8713\n",
      "Epoch 16/20\n",
      "44/44 [==============================] - 32s 735ms/step - loss: 0.1351 - accuracy: 0.9466 - binary_accuracy: 0.9466 - f1_score: 0.9471 - val_loss: 0.3392 - val_accuracy: 0.8750 - val_binary_accuracy: 0.8750 - val_f1_score: 0.8674\n",
      "Epoch 17/20\n",
      "44/44 [==============================] - 32s 727ms/step - loss: 0.1201 - accuracy: 0.9520 - binary_accuracy: 0.9520 - f1_score: 0.9525 - val_loss: 0.3400 - val_accuracy: 0.8771 - val_binary_accuracy: 0.8771 - val_f1_score: 0.8716\n",
      "Epoch 18/20\n",
      "44/44 [==============================] - 33s 745ms/step - loss: 0.1141 - accuracy: 0.9518 - binary_accuracy: 0.9518 - f1_score: 0.9516 - val_loss: 0.3416 - val_accuracy: 0.8736 - val_binary_accuracy: 0.8736 - val_f1_score: 0.8727\n",
      "Epoch 19/20\n",
      "44/44 [==============================] - 33s 755ms/step - loss: 0.1118 - accuracy: 0.9550 - binary_accuracy: 0.9550 - f1_score: 0.9554 - val_loss: 0.3679 - val_accuracy: 0.8707 - val_binary_accuracy: 0.8707 - val_f1_score: 0.8714\n",
      "Epoch 20/20\n",
      "44/44 [==============================] - 34s 770ms/step - loss: 0.1030 - accuracy: 0.9579 - binary_accuracy: 0.9579 - f1_score: 0.9582 - val_loss: 0.3532 - val_accuracy: 0.8764 - val_binary_accuracy: 0.8764 - val_f1_score: 0.8688\n"
     ]
    }
   ],
   "source": [
    "model = lstm_model.fit(x_train, y_train, epochs=20, batch_size=128, validation_data=(x_test, y_test))"
   ]
  },
  {
   "cell_type": "code",
   "execution_count": 9,
   "metadata": {},
   "outputs": [
    {
     "name": "stdout",
     "output_type": "stream",
     "text": [
      "11/11 [==============================] - 2s 217ms/step - loss: 0.3532 - accuracy: 0.8764 - binary_accuracy: 0.8764 - f1_score: 0.8688\n",
      "loss :  0.3532206118106842\n",
      "accuracy :  0.8764285445213318\n",
      "binary_accuracy :  0.8764285445213318\n",
      "f1_score :  0.8688020706176758\n",
      "\n"
     ]
    },
    {
     "ename": "",
     "evalue": "",
     "output_type": "error",
     "traceback": [
      "\u001b[1;31mThe Kernel crashed while executing code in the the current cell or a previous cell. Please review the code in the cell(s) to identify a possible cause of the failure. Click <a href='https://aka.ms/vscodeJupyterKernelCrash'>here</a> for more info. View Jupyter <a href='command:jupyter.viewOutput'>log</a> for further details."
     ]
    }
   ],
   "source": [
    "results = lstm_model.evaluate(x_test, y_test, batch_size=128)\n",
    "\n",
    "for name, value in zip(lstm_model.metrics_names, results):\n",
    "  print(name, ': ', value)\n",
    "print()"
   ]
  },
  {
   "cell_type": "code",
   "execution_count": 12,
   "metadata": {},
   "outputs": [
    {
     "ename": "",
     "evalue": "",
     "output_type": "error",
     "traceback": [
      "\u001b[1;31mThe Kernel crashed while executing code in the the current cell or a previous cell. Please review the code in the cell(s) to identify a possible cause of the failure. Click <a href='https://aka.ms/vscodeJupyterKernelCrash'>here</a> for more info. View Jupyter <a href='command:jupyter.viewOutput'>log</a> for further details."
     ]
    }
   ],
   "source": [
    "#import joblib\n",
    "\n",
    "#model_filename = '../../../models/generated-models-base-paper/offensive_lstm_embeddings_model.pkl'\n",
    "#joblib.dump(model, model_filename)"
   ]
  }
 ],
 "metadata": {
  "kernelspec": {
   "display_name": "Python 3 (ipykernel)",
   "language": "python",
   "name": "python3"
  },
  "orig_nbformat": 4
 },
 "nbformat": 4,
 "nbformat_minor": 2
}
