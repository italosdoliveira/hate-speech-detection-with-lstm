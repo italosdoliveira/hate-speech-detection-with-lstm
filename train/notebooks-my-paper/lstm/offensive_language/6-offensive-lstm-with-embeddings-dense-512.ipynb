{
 "cells": [
  {
   "cell_type": "code",
   "execution_count": 1,
   "metadata": {},
   "outputs": [
    {
     "name": "stderr",
     "output_type": "stream",
     "text": [
      "2023-10-23 00:46:03.754933: W tensorflow/stream_executor/platform/default/dso_loader.cc:64] Could not load dynamic library 'libcudart.so.11.0'; dlerror: libcudart.so.11.0: cannot open shared object file: No such file or directory\n",
      "2023-10-23 00:46:03.754968: I tensorflow/stream_executor/cuda/cudart_stub.cc:29] Ignore above cudart dlerror if you do not have a GPU set up on your machine.\n"
     ]
    }
   ],
   "source": [
    "import sys  \n",
    "import os\n",
    "import pandas as pd\n",
    "import io\n",
    "sys.path.insert(0, '../../../../scripts/')\n",
    "sys.path.insert(0, '../../../../dataset/')\n",
    "import embedding_reader\n",
    "import custom_keras_metrics\n",
    "import tensorflow as tf\n",
    "import keras.backend as K\n",
    "import os\n",
    "import time\n",
    "import gc\n",
    "import glob\n",
    "import wget\n",
    "import zipfile\n",
    "import numpy as np\n",
    "from sklearn.model_selection import train_test_split\n",
    "from keras.preprocessing.text import Tokenizer\n",
    "from keras.preprocessing.sequence import pad_sequences\n",
    "from tensorflow.keras.layers import LSTM\n",
    "from tensorflow.keras.preprocessing import text, sequence\n",
    "from keras.layers import Reshape, Flatten, Concatenate, Dropout, SpatialDropout1D\n",
    "from tensorflow.keras.optimizers import Adam\n",
    "from keras.models import Model\n",
    "from keras import backend as K\n",
    "from tensorflow.keras.layers import Layer\n",
    "from keras import initializers, regularizers, constraints, optimizers, layers\n",
    "from tensorflow.keras.utils import to_categorical\n",
    "from sklearn.preprocessing import LabelEncoder\n",
    "from keras.layers import *\n",
    "from keras.models import *\n",
    "from keras import initializers, regularizers, constraints, optimizers, layers\n",
    "from keras.initializers import *\n",
    "from keras.optimizers import *\n",
    "from keras.callbacks import *\n",
    "from keras import metrics\n",
    "from tqdm import tqdm"
   ]
  },
  {
   "cell_type": "code",
   "execution_count": 2,
   "metadata": {},
   "outputs": [],
   "source": [
    "#wget.download(\"http://143.107.183.175:22980/download.php?file=embeddings/glove/glove_s300.zip\", out=\"../../../../embeddings/\")"
   ]
  },
  {
   "cell_type": "code",
   "execution_count": 3,
   "metadata": {},
   "outputs": [],
   "source": [
    "#with zipfile.ZipFile(\"../../../../embeddings/glove_s300.zip\", 'r') as zip_ref:\n",
    " #   zip_ref.extractall(\"../../../../embeddings/\")"
   ]
  },
  {
   "cell_type": "code",
   "execution_count": 2,
   "metadata": {},
   "outputs": [],
   "source": [
    "MAX_LENGTH = 300\n",
    "dataframe = pd.read_csv('../../../../dataset/HateBR.csv')\n",
    "y = dataframe['offensive_language']"
   ]
  },
  {
   "cell_type": "code",
   "execution_count": 3,
   "metadata": {},
   "outputs": [],
   "source": [
    "x = dataframe['instagram_comments']"
   ]
  },
  {
   "cell_type": "code",
   "execution_count": 4,
   "metadata": {},
   "outputs": [],
   "source": [
    "token = Tokenizer()\n",
    "token.fit_on_texts(x)\n",
    "sequences = token.texts_to_sequences(x)\n",
    "x = pad_sequences(sequences,maxlen=MAX_LENGTH)\n",
    "vocabulary_size = len(token.word_index)+1"
   ]
  },
  {
   "cell_type": "code",
   "execution_count": 5,
   "metadata": {},
   "outputs": [
    {
     "name": "stderr",
     "output_type": "stream",
     "text": [
      "100%|██████████| 11530/11530 [00:00<00:00, 384410.08it/s]\n"
     ]
    }
   ],
   "source": [
    "embedding_vector = embedding_reader.read_glove_file()\n",
    "embedding_matrix = np.zeros((vocabulary_size,MAX_LENGTH))\n",
    "for word,i in tqdm(token.word_index.items()):\n",
    "    embedding_value = embedding_vector.get(word)\n",
    "    if embedding_value is not None:\n",
    "        embedding_matrix[i] = embedding_value"
   ]
  },
  {
   "cell_type": "code",
   "execution_count": 6,
   "metadata": {},
   "outputs": [],
   "source": [
    "x_train, x_test, y_train, y_test = train_test_split(x, y, train_size=0.8, test_size=0.2)"
   ]
  },
  {
   "cell_type": "code",
   "execution_count": 7,
   "metadata": {},
   "outputs": [
    {
     "name": "stderr",
     "output_type": "stream",
     "text": [
      "2023-10-23 00:47:24.057785: W tensorflow/stream_executor/platform/default/dso_loader.cc:64] Could not load dynamic library 'libcuda.so.1'; dlerror: libcuda.so.1: cannot open shared object file: No such file or directory\n",
      "2023-10-23 00:47:24.073273: W tensorflow/stream_executor/cuda/cuda_driver.cc:269] failed call to cuInit: UNKNOWN ERROR (303)\n",
      "2023-10-23 00:47:24.073319: I tensorflow/stream_executor/cuda/cuda_diagnostics.cc:156] kernel driver does not appear to be running on this host (codespaces-fbf4a0): /proc/driver/nvidia/version does not exist\n",
      "2023-10-23 00:47:24.087544: I tensorflow/core/platform/cpu_feature_guard.cc:151] This TensorFlow binary is optimized with oneAPI Deep Neural Network Library (oneDNN) to use the following CPU instructions in performance-critical operations:  AVX2 FMA\n",
      "To enable them in other operations, rebuild TensorFlow with the appropriate compiler flags.\n"
     ]
    }
   ],
   "source": [
    "lstm_model = Sequential()\n",
    "lstm_model.add(Embedding(vocabulary_size,MAX_LENGTH,weights=[embedding_matrix],input_length=x.shape[1],trainable=False))\n",
    "lstm_model.add(Dense(512))\n",
    "lstm_model.add(Dropout(0.25))\n",
    "lstm_model.add(LSTM(64))\n",
    "lstm_model.add(Dropout(0.5))\n",
    "lstm_model.add(Dense(1))\n",
    "lstm_model.add(Activation('sigmoid'))\n",
    "lstm_model.compile(loss='binary_crossentropy', optimizer='adam', metrics=['accuracy', 'binary_accuracy', custom_keras_metrics.f1_score])"
   ]
  },
  {
   "cell_type": "code",
   "execution_count": 8,
   "metadata": {},
   "outputs": [
    {
     "name": "stdout",
     "output_type": "stream",
     "text": [
      "Epoch 1/20\n"
     ]
    },
    {
     "name": "stderr",
     "output_type": "stream",
     "text": [
      "2023-10-23 00:47:32.026224: W tensorflow/core/framework/cpu_allocator_impl.cc:82] Allocation of 46080000 exceeds 10% of free system memory.\n",
      "2023-10-23 00:47:32.045897: W tensorflow/core/framework/cpu_allocator_impl.cc:82] Allocation of 78643200 exceeds 10% of free system memory.\n",
      "2023-10-23 00:47:32.212432: W tensorflow/core/framework/cpu_allocator_impl.cc:82] Allocation of 78643200 exceeds 10% of free system memory.\n",
      "2023-10-23 00:47:32.324149: W tensorflow/core/framework/cpu_allocator_impl.cc:82] Allocation of 19660800 exceeds 10% of free system memory.\n",
      "2023-10-23 00:47:32.346913: W tensorflow/core/framework/cpu_allocator_impl.cc:82] Allocation of 78643200 exceeds 10% of free system memory.\n"
     ]
    },
    {
     "name": "stdout",
     "output_type": "stream",
     "text": [
      "44/44 [==============================] - 58s 1s/step - loss: 0.4846 - accuracy: 0.7641 - binary_accuracy: 0.7641 - f1_score: 0.7553 - val_loss: 0.3581 - val_accuracy: 0.8457 - val_binary_accuracy: 0.8457 - val_f1_score: 0.8532\n",
      "Epoch 2/20\n",
      "44/44 [==============================] - 53s 1s/step - loss: 0.3486 - accuracy: 0.8461 - binary_accuracy: 0.8461 - f1_score: 0.8391 - val_loss: 0.3161 - val_accuracy: 0.8607 - val_binary_accuracy: 0.8607 - val_f1_score: 0.8591\n",
      "Epoch 3/20\n",
      "44/44 [==============================] - 53s 1s/step - loss: 0.3138 - accuracy: 0.8566 - binary_accuracy: 0.8566 - f1_score: 0.8492 - val_loss: 0.3263 - val_accuracy: 0.8614 - val_binary_accuracy: 0.8614 - val_f1_score: 0.8715\n",
      "Epoch 4/20\n",
      "44/44 [==============================] - 54s 1s/step - loss: 0.2851 - accuracy: 0.8720 - binary_accuracy: 0.8720 - f1_score: 0.8685 - val_loss: 0.3030 - val_accuracy: 0.8636 - val_binary_accuracy: 0.8636 - val_f1_score: 0.8668\n",
      "Epoch 5/20\n",
      "44/44 [==============================] - 54s 1s/step - loss: 0.2651 - accuracy: 0.8807 - binary_accuracy: 0.8807 - f1_score: 0.8763 - val_loss: 0.2895 - val_accuracy: 0.8736 - val_binary_accuracy: 0.8736 - val_f1_score: 0.8773\n",
      "Epoch 6/20\n",
      "44/44 [==============================] - 53s 1s/step - loss: 0.2368 - accuracy: 0.8991 - binary_accuracy: 0.8991 - f1_score: 0.8969 - val_loss: 0.2986 - val_accuracy: 0.8664 - val_binary_accuracy: 0.8664 - val_f1_score: 0.8732\n",
      "Epoch 7/20\n",
      "44/44 [==============================] - 53s 1s/step - loss: 0.2151 - accuracy: 0.9082 - binary_accuracy: 0.9082 - f1_score: 0.9058 - val_loss: 0.3054 - val_accuracy: 0.8736 - val_binary_accuracy: 0.8736 - val_f1_score: 0.8803\n",
      "Epoch 8/20\n",
      "44/44 [==============================] - 53s 1s/step - loss: 0.2021 - accuracy: 0.9162 - binary_accuracy: 0.9162 - f1_score: 0.9153 - val_loss: 0.3162 - val_accuracy: 0.8679 - val_binary_accuracy: 0.8679 - val_f1_score: 0.8740\n",
      "Epoch 9/20\n",
      "44/44 [==============================] - 55s 1s/step - loss: 0.1764 - accuracy: 0.9234 - binary_accuracy: 0.9234 - f1_score: 0.9220 - val_loss: 0.3256 - val_accuracy: 0.8679 - val_binary_accuracy: 0.8679 - val_f1_score: 0.8774\n",
      "Epoch 10/20\n",
      "44/44 [==============================] - 55s 1s/step - loss: 0.1601 - accuracy: 0.9343 - binary_accuracy: 0.9343 - f1_score: 0.9337 - val_loss: 0.3424 - val_accuracy: 0.8643 - val_binary_accuracy: 0.8643 - val_f1_score: 0.8694\n",
      "Epoch 11/20\n",
      "44/44 [==============================] - 56s 1s/step - loss: 0.1461 - accuracy: 0.9438 - binary_accuracy: 0.9438 - f1_score: 0.9428 - val_loss: 0.3467 - val_accuracy: 0.8679 - val_binary_accuracy: 0.8679 - val_f1_score: 0.8743\n",
      "Epoch 12/20\n",
      "44/44 [==============================] - 53s 1s/step - loss: 0.1306 - accuracy: 0.9488 - binary_accuracy: 0.9488 - f1_score: 0.9482 - val_loss: 0.3884 - val_accuracy: 0.8636 - val_binary_accuracy: 0.8636 - val_f1_score: 0.8661\n",
      "Epoch 13/20\n",
      "44/44 [==============================] - 53s 1s/step - loss: 0.1228 - accuracy: 0.9495 - binary_accuracy: 0.9495 - f1_score: 0.9484 - val_loss: 0.3992 - val_accuracy: 0.8593 - val_binary_accuracy: 0.8593 - val_f1_score: 0.8624\n",
      "Epoch 14/20\n",
      "44/44 [==============================] - 53s 1s/step - loss: 0.1051 - accuracy: 0.9598 - binary_accuracy: 0.9598 - f1_score: 0.9595 - val_loss: 0.4325 - val_accuracy: 0.8621 - val_binary_accuracy: 0.8621 - val_f1_score: 0.8651\n",
      "Epoch 15/20\n",
      "44/44 [==============================] - 53s 1s/step - loss: 0.0923 - accuracy: 0.9646 - binary_accuracy: 0.9646 - f1_score: 0.9648 - val_loss: 0.4233 - val_accuracy: 0.8671 - val_binary_accuracy: 0.8671 - val_f1_score: 0.8725\n",
      "Epoch 16/20\n",
      "44/44 [==============================] - 53s 1s/step - loss: 0.0844 - accuracy: 0.9680 - binary_accuracy: 0.9680 - f1_score: 0.9676 - val_loss: 0.4774 - val_accuracy: 0.8550 - val_binary_accuracy: 0.8550 - val_f1_score: 0.8614\n",
      "Epoch 17/20\n",
      "44/44 [==============================] - 53s 1s/step - loss: 0.0761 - accuracy: 0.9705 - binary_accuracy: 0.9705 - f1_score: 0.9700 - val_loss: 0.4771 - val_accuracy: 0.8600 - val_binary_accuracy: 0.8600 - val_f1_score: 0.8626\n",
      "Epoch 18/20\n",
      "44/44 [==============================] - 53s 1s/step - loss: 0.0895 - accuracy: 0.9639 - binary_accuracy: 0.9639 - f1_score: 0.9636 - val_loss: 0.4622 - val_accuracy: 0.8579 - val_binary_accuracy: 0.8579 - val_f1_score: 0.8622\n",
      "Epoch 19/20\n",
      "44/44 [==============================] - 53s 1s/step - loss: 0.0781 - accuracy: 0.9686 - binary_accuracy: 0.9686 - f1_score: 0.9682 - val_loss: 0.4978 - val_accuracy: 0.8600 - val_binary_accuracy: 0.8600 - val_f1_score: 0.8679\n",
      "Epoch 20/20\n",
      "44/44 [==============================] - 53s 1s/step - loss: 0.0701 - accuracy: 0.9732 - binary_accuracy: 0.9732 - f1_score: 0.9730 - val_loss: 0.5202 - val_accuracy: 0.8579 - val_binary_accuracy: 0.8579 - val_f1_score: 0.8626\n"
     ]
    }
   ],
   "source": [
    "model = lstm_model.fit(x_train, y_train, epochs=20, batch_size=128, validation_data=(x_test, y_test))"
   ]
  },
  {
   "cell_type": "code",
   "execution_count": 9,
   "metadata": {},
   "outputs": [
    {
     "name": "stdout",
     "output_type": "stream",
     "text": [
      "11/11 [==============================] - 4s 319ms/step - loss: 0.5202 - accuracy: 0.8579 - binary_accuracy: 0.8579 - f1_score: 0.8626\n",
      "loss :  0.5201711058616638\n",
      "accuracy :  0.8578571677207947\n",
      "binary_accuracy :  0.8578571677207947\n",
      "f1_score :  0.8626469969749451\n",
      "\n"
     ]
    },
    {
     "ename": "",
     "evalue": "",
     "output_type": "error",
     "traceback": [
      "\u001b[1;31mThe Kernel crashed while executing code in the the current cell or a previous cell. Please review the code in the cell(s) to identify a possible cause of the failure. Click <a href='https://aka.ms/vscodeJupyterKernelCrash'>here</a> for more info. View Jupyter <a href='command:jupyter.viewOutput'>log</a> for further details."
     ]
    }
   ],
   "source": [
    "results = lstm_model.evaluate(x_test, y_test, batch_size=128)\n",
    "\n",
    "for name, value in zip(lstm_model.metrics_names, results):\n",
    "  print(name, ': ', value)\n",
    "print()"
   ]
  },
  {
   "cell_type": "code",
   "execution_count": 12,
   "metadata": {},
   "outputs": [
    {
     "ename": "",
     "evalue": "",
     "output_type": "error",
     "traceback": [
      "\u001b[1;31mThe Kernel crashed while executing code in the the current cell or a previous cell. Please review the code in the cell(s) to identify a possible cause of the failure. Click <a href='https://aka.ms/vscodeJupyterKernelCrash'>here</a> for more info. View Jupyter <a href='command:jupyter.viewOutput'>log</a> for further details."
     ]
    }
   ],
   "source": [
    "#import joblib\n",
    "\n",
    "#model_filename = '../../../models/generated-models-base-paper/offensive_lstm_embeddings_model.pkl'\n",
    "#joblib.dump(model, model_filename)"
   ]
  }
 ],
 "metadata": {
  "kernelspec": {
   "display_name": "Python 3 (ipykernel)",
   "language": "python",
   "name": "python3"
  },
  "orig_nbformat": 4
 },
 "nbformat": 4,
 "nbformat_minor": 2
}
