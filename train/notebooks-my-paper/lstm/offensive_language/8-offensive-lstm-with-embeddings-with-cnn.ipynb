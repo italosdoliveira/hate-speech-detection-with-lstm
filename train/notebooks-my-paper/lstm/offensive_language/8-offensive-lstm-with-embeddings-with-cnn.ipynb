{
 "cells": [
  {
   "cell_type": "code",
   "execution_count": 1,
   "metadata": {},
   "outputs": [
    {
     "name": "stderr",
     "output_type": "stream",
     "text": [
      "2023-10-23 11:26:56.739688: W tensorflow/stream_executor/platform/default/dso_loader.cc:64] Could not load dynamic library 'libcudart.so.11.0'; dlerror: libcudart.so.11.0: cannot open shared object file: No such file or directory\n",
      "2023-10-23 11:26:56.739727: I tensorflow/stream_executor/cuda/cudart_stub.cc:29] Ignore above cudart dlerror if you do not have a GPU set up on your machine.\n"
     ]
    }
   ],
   "source": [
    "import sys  \n",
    "import os\n",
    "import pandas as pd\n",
    "import io\n",
    "sys.path.insert(0, '../../../../scripts/')\n",
    "sys.path.insert(0, '../../../../dataset/')\n",
    "import embedding_reader\n",
    "import custom_keras_metrics\n",
    "import tensorflow as tf\n",
    "import keras.backend as K\n",
    "import os\n",
    "import time\n",
    "import gc\n",
    "import glob\n",
    "import wget\n",
    "import zipfile\n",
    "import numpy as np\n",
    "from sklearn.model_selection import train_test_split\n",
    "from keras.preprocessing.text import Tokenizer\n",
    "from keras.preprocessing.sequence import pad_sequences\n",
    "from tensorflow.keras.layers import LSTM\n",
    "from tensorflow.keras.preprocessing import text, sequence\n",
    "from keras.layers import Reshape, Flatten, Concatenate, Dropout, SpatialDropout1D\n",
    "from tensorflow.keras.optimizers import Adam\n",
    "from keras.models import Model\n",
    "from keras import backend as K\n",
    "from tensorflow.keras.layers import Layer\n",
    "from keras import initializers, regularizers, constraints, optimizers, layers\n",
    "from tensorflow.keras.utils import to_categorical\n",
    "from sklearn.preprocessing import LabelEncoder\n",
    "from keras.layers import *\n",
    "from keras.models import *\n",
    "from keras import initializers, regularizers, constraints, optimizers, layers\n",
    "from keras.initializers import *\n",
    "from keras.optimizers import *\n",
    "from keras.callbacks import *\n",
    "from keras import metrics\n",
    "from tqdm import tqdm"
   ]
  },
  {
   "cell_type": "code",
   "execution_count": 2,
   "metadata": {},
   "outputs": [],
   "source": [
    "#wget.download(\"http://143.107.183.175:22980/download.php?file=embeddings/glove/glove_s300.zip\", out=\"../../../../embeddings/\")"
   ]
  },
  {
   "cell_type": "code",
   "execution_count": 3,
   "metadata": {},
   "outputs": [],
   "source": [
    "#with zipfile.ZipFile(\"../../../../embeddings/glove_s300.zip\", 'r') as zip_ref:\n",
    " #   zip_ref.extractall(\"../../../../embeddings/\")"
   ]
  },
  {
   "cell_type": "code",
   "execution_count": 2,
   "metadata": {},
   "outputs": [],
   "source": [
    "MAX_LENGTH = 300\n",
    "dataframe = pd.read_csv('../../../../dataset/HateBR.csv')\n",
    "y = dataframe['offensive_language']"
   ]
  },
  {
   "cell_type": "code",
   "execution_count": 3,
   "metadata": {},
   "outputs": [],
   "source": [
    "x = dataframe['instagram_comments']"
   ]
  },
  {
   "cell_type": "code",
   "execution_count": 4,
   "metadata": {},
   "outputs": [],
   "source": [
    "token = Tokenizer()\n",
    "token.fit_on_texts(x)\n",
    "sequences = token.texts_to_sequences(x)\n",
    "x = pad_sequences(sequences,maxlen=MAX_LENGTH)\n",
    "vocabulary_size = len(token.word_index)+1"
   ]
  },
  {
   "cell_type": "code",
   "execution_count": 5,
   "metadata": {},
   "outputs": [
    {
     "name": "stderr",
     "output_type": "stream",
     "text": [
      "100%|██████████| 11530/11530 [00:00<00:00, 405669.99it/s]\n"
     ]
    }
   ],
   "source": [
    "embedding_vector = embedding_reader.read_glove_file()\n",
    "embedding_matrix = np.zeros((vocabulary_size,MAX_LENGTH))\n",
    "for word,i in tqdm(token.word_index.items()):\n",
    "    embedding_value = embedding_vector.get(word)\n",
    "    if embedding_value is not None:\n",
    "        embedding_matrix[i] = embedding_value"
   ]
  },
  {
   "cell_type": "code",
   "execution_count": 6,
   "metadata": {},
   "outputs": [],
   "source": [
    "x_train, x_test, y_train, y_test = train_test_split(x, y, train_size=0.8, test_size=0.2)"
   ]
  },
  {
   "cell_type": "code",
   "execution_count": 7,
   "metadata": {},
   "outputs": [
    {
     "name": "stderr",
     "output_type": "stream",
     "text": [
      "2023-10-23 11:29:06.040897: W tensorflow/stream_executor/platform/default/dso_loader.cc:64] Could not load dynamic library 'libcuda.so.1'; dlerror: libcuda.so.1: cannot open shared object file: No such file or directory\n",
      "2023-10-23 11:29:06.040941: W tensorflow/stream_executor/cuda/cuda_driver.cc:269] failed call to cuInit: UNKNOWN ERROR (303)\n",
      "2023-10-23 11:29:06.040970: I tensorflow/stream_executor/cuda/cuda_diagnostics.cc:156] kernel driver does not appear to be running on this host (codespaces-fbf4a0): /proc/driver/nvidia/version does not exist\n",
      "2023-10-23 11:29:06.098989: I tensorflow/core/platform/cpu_feature_guard.cc:151] This TensorFlow binary is optimized with oneAPI Deep Neural Network Library (oneDNN) to use the following CPU instructions in performance-critical operations:  AVX2 FMA\n",
      "To enable them in other operations, rebuild TensorFlow with the appropriate compiler flags.\n"
     ]
    }
   ],
   "source": [
    "lstm_model = Sequential()\n",
    "lstm_model.add(Embedding(vocabulary_size,MAX_LENGTH,weights=[embedding_matrix],input_length=x.shape[1],trainable=False))\n",
    "lstm_model.add(Dense(256))\n",
    "lstm_model.add(Dropout(0.25))\n",
    "lstm_model.add(Conv1D(64, kernel_size=3, padding='same', activation='relu'))\n",
    "lstm_model.add(MaxPooling1D(pool_size=2))\n",
    "lstm_model.add(LSTM(128, return_sequences=True))\n",
    "lstm_model.add(Dropout(0.5))\n",
    "lstm_model.add(Dense(1))\n",
    "lstm_model.add(Activation('sigmoid'))\n",
    "lstm_model.compile(loss='binary_crossentropy', optimizer='adam', metrics=['accuracy', 'binary_accuracy', custom_keras_metrics.f1_score])"
   ]
  },
  {
   "cell_type": "code",
   "execution_count": 8,
   "metadata": {},
   "outputs": [
    {
     "name": "stdout",
     "output_type": "stream",
     "text": [
      "Epoch 1/20\n"
     ]
    },
    {
     "name": "stderr",
     "output_type": "stream",
     "text": [
      "2023-10-23 11:29:14.142340: W tensorflow/core/framework/cpu_allocator_impl.cc:82] Allocation of 46080000 exceeds 10% of free system memory.\n",
      "2023-10-23 11:29:14.168038: W tensorflow/core/framework/cpu_allocator_impl.cc:82] Allocation of 39321600 exceeds 10% of free system memory.\n",
      "2023-10-23 11:29:14.581169: W tensorflow/core/framework/cpu_allocator_impl.cc:82] Allocation of 39321600 exceeds 10% of free system memory.\n",
      "2023-10-23 11:29:14.660316: W tensorflow/core/framework/cpu_allocator_impl.cc:82] Allocation of 39321600 exceeds 10% of free system memory.\n",
      "2023-10-23 11:29:14.678458: W tensorflow/core/framework/cpu_allocator_impl.cc:82] Allocation of 39321600 exceeds 10% of free system memory.\n"
     ]
    },
    {
     "name": "stdout",
     "output_type": "stream",
     "text": [
      "44/44 [==============================] - 40s 818ms/step - loss: 0.6917 - accuracy: 0.5055 - binary_accuracy: 0.5055 - f1_score: 1.0224 - val_loss: 0.6884 - val_accuracy: 0.4881 - val_binary_accuracy: 0.4881 - val_f1_score: 0.9646\n",
      "Epoch 2/20\n",
      "44/44 [==============================] - 34s 782ms/step - loss: 0.6864 - accuracy: 0.5006 - binary_accuracy: 0.5006 - f1_score: 1.0277 - val_loss: 0.6854 - val_accuracy: 0.4899 - val_binary_accuracy: 0.4899 - val_f1_score: 0.9665\n",
      "Epoch 3/20\n",
      "44/44 [==============================] - 34s 779ms/step - loss: 0.6844 - accuracy: 0.5075 - binary_accuracy: 0.5075 - f1_score: 1.0253 - val_loss: 0.6854 - val_accuracy: 0.4897 - val_binary_accuracy: 0.4897 - val_f1_score: 0.9661\n",
      "Epoch 4/20\n",
      "44/44 [==============================] - 34s 769ms/step - loss: 0.6833 - accuracy: 0.5075 - binary_accuracy: 0.5075 - f1_score: 1.0506 - val_loss: 0.6840 - val_accuracy: 0.4903 - val_binary_accuracy: 0.4903 - val_f1_score: 0.9669\n",
      "Epoch 5/20\n",
      "44/44 [==============================] - 34s 768ms/step - loss: 0.6817 - accuracy: 0.5206 - binary_accuracy: 0.5206 - f1_score: 1.0272 - val_loss: 0.6850 - val_accuracy: 0.5302 - val_binary_accuracy: 0.5302 - val_f1_score: 1.2227\n",
      "Epoch 6/20\n",
      "44/44 [==============================] - 34s 771ms/step - loss: 0.6825 - accuracy: 0.5045 - binary_accuracy: 0.5045 - f1_score: 1.1689 - val_loss: 0.6839 - val_accuracy: 0.5311 - val_binary_accuracy: 0.5311 - val_f1_score: 1.2110\n",
      "Epoch 7/20\n",
      "44/44 [==============================] - 34s 765ms/step - loss: 0.6798 - accuracy: 0.5158 - binary_accuracy: 0.5158 - f1_score: 1.0487 - val_loss: 0.6863 - val_accuracy: 0.4896 - val_binary_accuracy: 0.4896 - val_f1_score: 0.9662\n",
      "Epoch 8/20\n",
      "44/44 [==============================] - 34s 773ms/step - loss: 0.6789 - accuracy: 0.5103 - binary_accuracy: 0.5103 - f1_score: 1.0273 - val_loss: 0.6869 - val_accuracy: 0.4893 - val_binary_accuracy: 0.4893 - val_f1_score: 0.9660\n",
      "Epoch 9/20\n",
      "44/44 [==============================] - 34s 768ms/step - loss: 0.6790 - accuracy: 0.5100 - binary_accuracy: 0.5100 - f1_score: 1.0363 - val_loss: 0.6842 - val_accuracy: 0.5312 - val_binary_accuracy: 0.5312 - val_f1_score: 1.2328\n",
      "Epoch 10/20\n",
      "44/44 [==============================] - 34s 772ms/step - loss: 0.6782 - accuracy: 0.5115 - binary_accuracy: 0.5115 - f1_score: 1.1652 - val_loss: 0.6878 - val_accuracy: 0.4889 - val_binary_accuracy: 0.4889 - val_f1_score: 0.9656\n",
      "Epoch 11/20\n",
      "44/44 [==============================] - 34s 770ms/step - loss: 0.6761 - accuracy: 0.5150 - binary_accuracy: 0.5150 - f1_score: 1.0749 - val_loss: 0.6905 - val_accuracy: 0.5311 - val_binary_accuracy: 0.5311 - val_f1_score: 1.2480\n",
      "Epoch 12/20\n",
      "44/44 [==============================] - 34s 769ms/step - loss: 0.6751 - accuracy: 0.5109 - binary_accuracy: 0.5109 - f1_score: 1.1193 - val_loss: 0.6928 - val_accuracy: 0.5269 - val_binary_accuracy: 0.5269 - val_f1_score: 1.0261\n",
      "Epoch 13/20\n",
      "44/44 [==============================] - 34s 768ms/step - loss: 0.6757 - accuracy: 0.5149 - binary_accuracy: 0.5149 - f1_score: 1.0460 - val_loss: 0.6899 - val_accuracy: 0.4897 - val_binary_accuracy: 0.4897 - val_f1_score: 0.9662\n",
      "Epoch 14/20\n",
      "44/44 [==============================] - 34s 769ms/step - loss: 0.6763 - accuracy: 0.5167 - binary_accuracy: 0.5167 - f1_score: 1.0215 - val_loss: 0.6893 - val_accuracy: 0.4893 - val_binary_accuracy: 0.4893 - val_f1_score: 0.9659\n",
      "Epoch 15/20\n",
      "44/44 [==============================] - 34s 771ms/step - loss: 0.6747 - accuracy: 0.5195 - binary_accuracy: 0.5195 - f1_score: 1.0214 - val_loss: 0.6894 - val_accuracy: 0.4894 - val_binary_accuracy: 0.4894 - val_f1_score: 0.9660\n",
      "Epoch 16/20\n",
      "44/44 [==============================] - 34s 764ms/step - loss: 0.6743 - accuracy: 0.5140 - binary_accuracy: 0.5140 - f1_score: 1.0267 - val_loss: 0.6946 - val_accuracy: 0.4897 - val_binary_accuracy: 0.4897 - val_f1_score: 0.9663\n",
      "Epoch 17/20\n",
      "44/44 [==============================] - 34s 775ms/step - loss: 0.6733 - accuracy: 0.5195 - binary_accuracy: 0.5195 - f1_score: 1.0235 - val_loss: 0.6951 - val_accuracy: 0.4896 - val_binary_accuracy: 0.4896 - val_f1_score: 0.9662\n",
      "Epoch 18/20\n",
      "44/44 [==============================] - 34s 768ms/step - loss: 0.6723 - accuracy: 0.5188 - binary_accuracy: 0.5188 - f1_score: 1.0241 - val_loss: 0.7000 - val_accuracy: 0.4896 - val_binary_accuracy: 0.4896 - val_f1_score: 0.9662\n",
      "Epoch 19/20\n",
      "44/44 [==============================] - 34s 768ms/step - loss: 0.6719 - accuracy: 0.5226 - binary_accuracy: 0.5226 - f1_score: 1.0243 - val_loss: 0.7030 - val_accuracy: 0.5251 - val_binary_accuracy: 0.5251 - val_f1_score: 1.0112\n",
      "Epoch 20/20\n",
      "44/44 [==============================] - 34s 765ms/step - loss: 0.6717 - accuracy: 0.5139 - binary_accuracy: 0.5139 - f1_score: 1.1183 - val_loss: 0.7037 - val_accuracy: 0.4956 - val_binary_accuracy: 0.4956 - val_f1_score: 0.9682\n"
     ]
    }
   ],
   "source": [
    "model = lstm_model.fit(x_train, y_train, epochs=20, batch_size=128, validation_data=(x_test, y_test))"
   ]
  },
  {
   "cell_type": "code",
   "execution_count": 9,
   "metadata": {},
   "outputs": [
    {
     "name": "stdout",
     "output_type": "stream",
     "text": [
      " 1/11 [=>............................] - ETA: 2s - loss: 0.6937 - accuracy: 0.4793 - binary_accuracy: 0.4793 - f1_score: 0.9172"
     ]
    },
    {
     "name": "stdout",
     "output_type": "stream",
     "text": [
      "11/11 [==============================] - 2s 216ms/step - loss: 0.7037 - accuracy: 0.4956 - binary_accuracy: 0.4956 - f1_score: 0.9682\n",
      "loss :  0.7036906480789185\n",
      "accuracy :  0.49558091163635254\n",
      "binary_accuracy :  0.49558091163635254\n",
      "f1_score :  0.9682325720787048\n",
      "\n"
     ]
    }
   ],
   "source": [
    "results = lstm_model.evaluate(x_test, y_test, batch_size=128)\n",
    "\n",
    "for name, value in zip(lstm_model.metrics_names, results):\n",
    "  print(name, ': ', value)\n",
    "print()"
   ]
  },
  {
   "cell_type": "code",
   "execution_count": 12,
   "metadata": {},
   "outputs": [],
   "source": [
    "#import joblib\n",
    "\n",
    "#model_filename = '../../../models/generated-models-base-paper/offensive_lstm_embeddings_model.pkl'\n",
    "#joblib.dump(model, model_filename)"
   ]
  }
 ],
 "metadata": {
  "kernelspec": {
   "display_name": "Python 3 (ipykernel)",
   "language": "python",
   "name": "python3"
  },
  "language_info": {
   "codemirror_mode": {
    "name": "ipython",
    "version": 3
   },
   "file_extension": ".py",
   "mimetype": "text/x-python",
   "name": "python",
   "nbconvert_exporter": "python",
   "pygments_lexer": "ipython3",
   "version": "3.10.4"
  },
  "orig_nbformat": 4
 },
 "nbformat": 4,
 "nbformat_minor": 2
}
